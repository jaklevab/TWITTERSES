{
 "cells": [
  {
   "cell_type": "code",
   "execution_count": 3,
   "metadata": {},
   "outputs": [],
   "source": [
    "# Lib Imports\n",
    "import pandas as pd\n",
    "import pickle\n",
    "import unidecode,re\n",
    "from sklearn.feature_extraction.text import CountVectorizer\n",
    "from nltk.corpus import stopwords\n",
    "\n",
    "# Data Import\n",
    "fsys=\"/warehouse/COMPLEXNET/jlevyabi/ml_soc_econ/data_files/UKSOC_rep/tweets/lampos_dataset/\"\n",
    "data_tweets=pd.read_csv(fsys+\"all_lampos_users.csv\",error_bad_lines=False,header=0,sep=\";\")\n",
    "data_income=pd.read_csv(fsys+\"income_dataset/users-income\",header=0,sep=\" \")\n",
    "\n",
    "usr_text=(data_tweets.dropna(how=\"any\").drop([\"tweet_id\",\"tweet_date\"],axis=1).groupby(\n",
    "    'user_id',squeeze=True,)['tweet_text'].apply(lambda x: \"%s\" % ' '.join(x))).to_frame()\n",
    "usr_text.reset_index(inplace=True)\n",
    "nbt=(data_tweets.dropna(how=\"any\").drop([\"tweet_id\",\"tweet_date\"],axis=1).groupby(\n",
    "    'user_id',squeeze=True,)['tweet_text'].apply(lambda x: len(x))).to_frame().values\n",
    "usr_text[\"nb_tweets\"]=[y[0] for y in nbt]\n",
    "data_lampos=pd.merge(usr_text,data_income,on=\"user_id\")\n",
    "\n",
    "\n",
    "#N-Gram vectorizer\n",
    "french_stopwords = list(set(stopwords.words('french')))\n",
    "eng_stopwords = list(set(stopwords.words('english')))\n",
    "\n",
    "#Tweet Information: N-grams\n",
    "n_grams_tweet_vect=CountVectorizer(stop_words=french_stopwords+eng_stopwords,\n",
    "                                 max_features=1000,ngram_range=(1,2),\n",
    "                                lowercase=True)\n",
    "\n",
    "mat_n_grams_tweet=n_grams_tweet_vect.fit_transform(list(data_lampos.tweet_text.values)).todense()\n",
    "\n",
    "\n",
    "#Tweet Information: Topics\n",
    "#import numpy as np\n",
    "#mat_topics_tweet=np.vstack([np.hstack(sample.as_matrix()).reshape((1,100))\n",
    "#                            for it,sample in (usr_text[[\"cfd_100\",]].iterrows())])\n",
    "\n",
    "# All non-SES info\n",
    "data_matrix=mat_n_grams_tweet#np.hstack([mat_n_grams_tweet,mat_topics_tweet])\n",
    "\n",
    "# Final Synthesis\n",
    "data_lampos[\"fts\"]=[row for row in data_matrix.tolist()]\n",
    "\n",
    "# Feature and Target Set preparation\n",
    "min_val=100\n",
    "ses_text_insee=data_lampos[data_lampos.nb_tweets>min_val]\n",
    "import numpy as np\n",
    "mat_info=np.vstack([np.hstack(sample.as_matrix()).reshape((1,len(ses_text_insee.iloc[0][\"fts\"])))\n",
    "                            for it,sample in (ses_text_insee[[\"fts\",]].iterrows())])\n"
   ]
  },
  {
   "cell_type": "markdown",
   "metadata": {},
   "source": [
    "__SEE IF IMPROVEMENT WITH TOPIC VECTOR TO ASSESS SANITY OF CFD FUNCITION__"
   ]
  },
  {
   "cell_type": "code",
   "execution_count": 4,
   "metadata": {},
   "outputs": [
    {
     "data": {
      "text/html": [
       "<div>\n",
       "<style scoped>\n",
       "    .dataframe tbody tr th:only-of-type {\n",
       "        vertical-align: middle;\n",
       "    }\n",
       "\n",
       "    .dataframe tbody tr th {\n",
       "        vertical-align: top;\n",
       "    }\n",
       "\n",
       "    .dataframe thead th {\n",
       "        text-align: right;\n",
       "    }\n",
       "</style>\n",
       "<table border=\"1\" class=\"dataframe\">\n",
       "  <thead>\n",
       "    <tr style=\"text-align: right;\">\n",
       "      <th></th>\n",
       "      <th>user_id</th>\n",
       "      <th>tweet_text</th>\n",
       "      <th>nb_tweets</th>\n",
       "      <th>mean_income</th>\n",
       "      <th>fts</th>\n",
       "    </tr>\n",
       "  </thead>\n",
       "  <tbody>\n",
       "    <tr>\n",
       "      <th>0</th>\n",
       "      <td>1103</td>\n",
       "      <td>trendy i want to quit email it sucks why was 1...</td>\n",
       "      <td>1610</td>\n",
       "      <td>40848</td>\n",
       "      <td>[5, 8, 13, 7, 19, 11, 5, 3, 3, 3, 0, 0, 1, 9, ...</td>\n",
       "    </tr>\n",
       "    <tr>\n",
       "      <th>1</th>\n",
       "      <td>8273</td>\n",
       "      <td>trash can tile reflection even tho i m a stron...</td>\n",
       "      <td>2570</td>\n",
       "      <td>42800</td>\n",
       "      <td>[2, 4, 21, 5, 3, 9, 3, 6, 9, 5, 3, 2, 1, 6, 0,...</td>\n",
       "    </tr>\n",
       "    <tr>\n",
       "      <th>2</th>\n",
       "      <td>9269</td>\n",
       "      <td>congrats on joining lots of smart folks there ...</td>\n",
       "      <td>1140</td>\n",
       "      <td>40848</td>\n",
       "      <td>[0, 12, 14, 7, 2, 5, 2, 0, 4, 0, 1, 7, 3, 4, 1...</td>\n",
       "    </tr>\n",
       "    <tr>\n",
       "      <th>3</th>\n",
       "      <td>10571</td>\n",
       "      <td>done at what point is a 1 hr 45 min phone call...</td>\n",
       "      <td>1647</td>\n",
       "      <td>10325</td>\n",
       "      <td>[2, 3, 17, 1, 2, 4, 1, 1, 4, 0, 1, 1, 3, 0, 0,...</td>\n",
       "    </tr>\n",
       "    <tr>\n",
       "      <th>4</th>\n",
       "      <td>12496</td>\n",
       "      <td>there are definitely worse places to have a me...</td>\n",
       "      <td>2224</td>\n",
       "      <td>18986</td>\n",
       "      <td>[0, 0, 8, 6, 6, 2, 2, 2, 4, 3, 2, 3, 0, 5, 0, ...</td>\n",
       "    </tr>\n",
       "  </tbody>\n",
       "</table>\n",
       "</div>"
      ],
      "text/plain": [
       "   user_id                                         tweet_text  nb_tweets  \\\n",
       "0     1103  trendy i want to quit email it sucks why was 1...       1610   \n",
       "1     8273  trash can tile reflection even tho i m a stron...       2570   \n",
       "2     9269  congrats on joining lots of smart folks there ...       1140   \n",
       "3    10571  done at what point is a 1 hr 45 min phone call...       1647   \n",
       "4    12496  there are definitely worse places to have a me...       2224   \n",
       "\n",
       "   mean_income                                                fts  \n",
       "0        40848  [5, 8, 13, 7, 19, 11, 5, 3, 3, 3, 0, 0, 1, 9, ...  \n",
       "1        42800  [2, 4, 21, 5, 3, 9, 3, 6, 9, 5, 3, 2, 1, 6, 0,...  \n",
       "2        40848  [0, 12, 14, 7, 2, 5, 2, 0, 4, 0, 1, 7, 3, 4, 1...  \n",
       "3        10325  [2, 3, 17, 1, 2, 4, 1, 1, 4, 0, 1, 1, 3, 0, 0,...  \n",
       "4        18986  [0, 0, 8, 6, 6, 2, 2, 2, 4, 3, 2, 3, 0, 5, 0, ...  "
      ]
     },
     "execution_count": 4,
     "metadata": {},
     "output_type": "execute_result"
    }
   ],
   "source": [
    "data_lampos.head()"
   ]
  },
  {
   "cell_type": "code",
   "execution_count": 5,
   "metadata": {
    "scrolled": true
   },
   "outputs": [
    {
     "name": "stderr",
     "output_type": "stream",
     "text": [
      "/home/jlevyabi/anaconda3/lib/python3.6/site-packages/sklearn/utils/validation.py:475: DataConversionWarning: Data with input dtype int64 was converted to float64 by StandardScaler.\n",
      "  warnings.warn(msg, DataConversionWarning)\n"
     ]
    }
   ],
   "source": [
    "# Final Preprocessing\n",
    "from sklearn.preprocessing import StandardScaler\n",
    "X = StandardScaler().fit_transform(mat_info)\n",
    "medin=np.median(ses_text_insee.mean_income[~np.isnan(ses_text_insee.mean_income)])\n",
    "ses_iris_class_try=np.array(ses_text_insee.mean_income>medin).astype(np.int)# 2 class"
   ]
  },
  {
   "cell_type": "code",
   "execution_count": 10,
   "metadata": {},
   "outputs": [
    {
     "name": "stdout",
     "output_type": "stream",
     "text": [
      "2-Classification accuracy for Nearest Neighbors:  0.642140\n",
      "2-Classification accuracy for Linear SVM:  0.668896\n",
      "2-Classification accuracy for RBF SVM:  0.498328\n",
      "2-Classification accuracy for Random Forest:  0.637124\n",
      "2-Classification accuracy for Neural Net:  0.673913\n",
      "2-Classification accuracy for AdaBoost:  0.715719\n"
     ]
    }
   ],
   "source": [
    "# Prediction of SES from Ling Fts\n",
    "from sklearn.model_selection import train_test_split\n",
    "from sklearn.preprocessing import StandardScaler\n",
    "from sklearn.neural_network import MLPClassifier\n",
    "from sklearn.neighbors import KNeighborsClassifier\n",
    "from sklearn.svm import SVC\n",
    "from sklearn.gaussian_process import GaussianProcessClassifier\n",
    "from sklearn.gaussian_process.kernels import RBF\n",
    "from sklearn.tree import DecisionTreeClassifier\n",
    "from sklearn.ensemble import RandomForestClassifier, AdaBoostClassifier\n",
    "from sklearn.naive_bayes import GaussianNB\n",
    "from sklearn.metrics import classification_report\n",
    "\n",
    "names = [\"Nearest Neighbors\", \"Linear SVM\", \"RBF SVM\", \n",
    "         \"Random Forest\", \"Neural Net\", \"AdaBoost\"]\n",
    "\n",
    "classifiers = [\n",
    "    KNeighborsClassifier(3),\n",
    "    SVC(kernel=\"linear\", C=0.025),\n",
    "    SVC(gamma=2, C=1),\n",
    "    RandomForestClassifier(max_depth=5, n_estimators=10, max_features=1),\n",
    "    MLPClassifier(alpha=1),\n",
    "    AdaBoostClassifier()]\n",
    "\n",
    "X_train, X_test, y_train, y_test = train_test_split(X, ses_iris_class_try,test_size=.2, random_state=42)\n",
    "clf_arrs=[]\n",
    "for name, clf in zip(names, classifiers):\n",
    "    clf.fit(X_train, y_train)\n",
    "    clf_arrs.append(clf)\n",
    "    score = clf.score(X_test, y_test)\n",
    "    print (\"2-Classification accuracy for %s:  %f\"%(name,score))"
   ]
  },
  {
   "cell_type": "code",
   "execution_count": 11,
   "metadata": {
    "scrolled": true
   },
   "outputs": [
    {
     "name": "stdout",
     "output_type": "stream",
     "text": [
      "             precision    recall  f1-score   support\n",
      "\n",
      "          0       0.70      0.76      0.73       298\n",
      "          1       0.74      0.67      0.70       300\n",
      "\n",
      "avg / total       0.72      0.72      0.72       598\n",
      "\n"
     ]
    }
   ],
   "source": [
    "print(classification_report(y_test,clf.predict(X_test)))"
   ]
  },
  {
   "cell_type": "code",
   "execution_count": 13,
   "metadata": {},
   "outputs": [
    {
     "data": {
      "image/png": "[encoded data removed]",
      "text/plain": [
       "<matplotlib.figure.Figure at 0x7f3e1743c550>"
      ]
     },
     "metadata": {},
     "output_type": "display_data"
    }
   ],
   "source": [
    "best_clf=-1\n",
    "import matplotlib.pyplot as plt\n",
    "plt.hist(clf_arrs[best_clf].predict_proba(X_test)[:,1],rwidth=0.8);"
   ]
  },
  {
   "cell_type": "code",
   "execution_count": null,
   "metadata": {},
   "outputs": [],
   "source": [
    "clf_arrs."
   ]
  },
  {
   "cell_type": "code",
   "execution_count": 40,
   "metadata": {},
   "outputs": [
    {
     "name": "stdout",
     "output_type": "stream",
     "text": [
      "\u001b[5m\u001b[7m\u001b[31mHello, World!\u001b[0m\n",
      "\u001b[41m\u001b[32mHello, World!\u001b[0m\n",
      "\u001b[46m\u001b[31mHello, World!\u001b[0m\n",
      "\u001b[46m\u001b[31mHello, Universe!\u001b[0m\n",
      "\u001b[35m0\u001b[0m \u001b[35m1\u001b[0m \u001b[35m2\u001b[0m \u001b[35m3\u001b[0m \u001b[35m4\u001b[0m \u001b[35m5\u001b[0m \u001b[35m6\u001b[0m \u001b[35m7\u001b[0m \u001b[35m8\u001b[0m \u001b[35m9\u001b[0m "
     ]
    },
    {
     "name": "stderr",
     "output_type": "stream",
     "text": [
      "\u001b[1m\u001b[31mAttention!\u001b[0m\n"
     ]
    }
   ],
   "source": [
    "import sys\n",
    "from termcolor import colored, cprint\n",
    "\n",
    "text = colored('Hello, World!', 'red', attrs=['reverse', 'blink'])\n",
    "print(text)\n",
    "cprint('Hello, World!', 'green', 'on_red')\n",
    "\n",
    "print_red_on_cyan = lambda x: cprint(x, 'red', 'on_cyan')\n",
    "print_red_on_cyan('Hello, World!')\n",
    "print_red_on_cyan('Hello, Universe!')\n",
    "\n",
    "for i in range(10):\n",
    "    cprint(i, 'magenta', end=' ')\n",
    "\n",
    "cprint(\"Attention!\", 'red', attrs=['bold'], file=sys.stderr)"
   ]
  },
  {
   "cell_type": "code",
   "execution_count": 45,
   "metadata": {},
   "outputs": [
    {
     "data": {
      "text/plain": [
       "'\\x1b[5m\\x1b[7m\\x1b[31mHello, World!\\x1b[0m'"
      ]
     },
     "execution_count": 45,
     "metadata": {},
     "output_type": "execute_result"
    }
   ],
   "source": [
    "text.format()"
   ]
  },
  {
   "cell_type": "code",
   "execution_count": 42,
   "metadata": {},
   "outputs": [],
   "source": [
    "colored?"
   ]
  },
  {
   "cell_type": "code",
   "execution_count": 18,
   "metadata": {},
   "outputs": [
    {
     "name": "stdout",
     "output_type": "stream",
     "text": [
      "48\n"
     ]
    },
    {
     "data": {
      "image/png": "[encoded data removed]",
      "text/plain": [
       "<matplotlib.figure.Figure at 0x7f3e43349358>"
      ]
     },
     "metadata": {},
     "output_type": "display_data"
    }
   ],
   "source": [
    "plt.bar(range(len(clf_arrs[best_clf].feature_importances_)),clf_arrs[best_clf].feature_importances_);\n",
    "print(np.sum(clf_arrs[best_clf].feature_importances_>0))"
   ]
  },
  {
   "cell_type": "code",
   "execution_count": 38,
   "metadata": {
    "scrolled": true
   },
   "outputs": [
    {
     "name": "stdout",
     "output_type": "stream",
     "text": [
      "['want', 'days', 'services', 'talk', 'may', 'question', 'facebook', 'money', 'president', 'government', 'need', 'wanted', 'saying', '100', 'family', 'okay', 'felt', 'dead', 'end', 'court', 'episode', 'called', 'fight', 'chicken', 'hi', 'bit', 'busy', '50', 'true', 'birthday', 'cheers', 'woman', 'air', 'vote', 'automatically', 'trip', 'weather', 'lol', 'heard', 'star', 'met', 'eye', 'cant', 'college', 'act', 'mr', '2016', 'giveaway']\n"
     ]
    }
   ],
   "source": [
    "print([list(n_grams_tweet_vect.vocabulary_.keys())[x] \n",
    "       for x in np.where(clf_arrs[best_clf].feature_importances_>0)[0].tolist()])"
   ]
  },
  {
   "cell_type": "code",
   "execution_count": null,
   "metadata": {},
   "outputs": [],
   "source": []
  },
  {
   "cell_type": "code",
   "execution_count": null,
   "metadata": {},
   "outputs": [],
   "source": []
  }
 ],
 "metadata": {
  "kernelspec": {
   "display_name": "Python 3",
   "language": "python",
   "name": "python3"
  },
  "language_info": {
   "codemirror_mode": {
    "name": "ipython",
    "version": 3
   },
   "file_extension": ".py",
   "mimetype": "text/x-python",
   "name": "python",
   "nbconvert_exporter": "python",
   "pygments_lexer": "ipython3",
   "version": "3.6.0"
  },
  "toc": {
   "base_numbering": 1,
   "nav_menu": {},
   "number_sections": true,
   "sideBar": true,
   "skip_h1_title": false,
   "title_cell": "Table of Contents",
   "title_sidebar": "Contents",
   "toc_cell": false,
   "toc_position": {},
   "toc_section_display": true,
   "toc_window_display": false
  }
 },
 "nbformat": 4,
 "nbformat_minor": 2
}
