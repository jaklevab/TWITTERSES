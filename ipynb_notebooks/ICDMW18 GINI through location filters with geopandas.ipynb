{
 "cells": [
  {
   "cell_type": "markdown",
   "metadata": {},
   "source": [
    "# Imports"
   ]
  },
  {
   "cell_type": "code",
   "execution_count": 1,
   "metadata": {},
   "outputs": [
    {
     "name": "stdout",
     "output_type": "stream",
     "text": [
      "Reminder: Not running filters based on users.db\n"
     ]
    }
   ],
   "source": [
    "import pandas as pd\n",
    "import numpy as np\n",
    "import sys\n",
    "sys.path.append('/warehouse/COMPLEXNET/jlevyabi/TWITTERSES/ml_soc_econ/data_files/UKSOC_rep/')\n",
    "from helpers_locs_to_home import time_2_date\n",
    "from collections import Counter\n",
    "\n",
    "import matplotlib.pyplot as plt\n",
    "import matplotlib\n",
    "import matplotlib.ticker as tkr\n",
    "from shapely.geometry import Point\n",
    "from shapely.geometry.polygon import Polygon\n",
    "from sklearn.model_selection import train_test_split\n",
    "\n",
    "from sklearn.preprocessing import StandardScaler\n",
    "from sklearn.datasets import make_moons, make_circles, make_classification\n",
    "from sklearn.neural_network import MLPClassifier\n",
    "from sklearn.neighbors import KNeighborsClassifier\n",
    "from sklearn.svm import SVC\n",
    "from sklearn.gaussian_process import GaussianProcessClassifier\n",
    "from sklearn.gaussian_process.kernels import RBF\n",
    "from sklearn.tree import DecisionTreeClassifier\n",
    "from sklearn.ensemble import RandomForestClassifier, AdaBoostClassifier\n",
    "from sklearn.naive_bayes import GaussianNB\n",
    "from sklearn.discriminant_analysis import QuadraticDiscriminantAnalysis\n",
    "from sklearn.metrics import classification_report\n",
    "\n",
    "import pickle\n",
    "import re;pat = re.compile(r'''(-*\\d+\\.\\d+ -*\\d+\\.\\d+);*''');new_geo=[]\n",
    "import warnings\n",
    "import seaborn as sns\n",
    "\n",
    "import geopandas as gpd\n",
    "from geopandas import GeoDataFrame\n",
    "from geopandas import sjoin"
   ]
  },
  {
   "cell_type": "markdown",
   "metadata": {},
   "source": [
    "## New Stuff"
   ]
  },
  {
   "cell_type": "code",
   "execution_count": 2,
   "metadata": {},
   "outputs": [
    {
     "data": {
      "application/vnd.jupyter.widget-view+json": {
       "model_id": "b8dc58b4ed85478a85df47679b0b1cb0",
       "version_major": 2,
       "version_minor": 0
      },
      "text/plain": [
       "A Jupyter Widget"
      ]
     },
     "metadata": {},
     "output_type": "display_data"
    },
    {
     "name": "stdout",
     "output_type": "stream",
     "text": [
      "\n",
      "Number of geolocated tweets during 2014-2015... 2601875 geolocations\n",
      "Number of geolocated tweets during 2014-2015 in France... 2218611 geolocations\n"
     ]
    }
   ],
   "source": [
    "dgeo=pd.read_csv(header=None,sep=\"\\t\",filepath_or_buffer=\"/warehouse/COMPLEXNET/jlevyabi/TWITTERSES/ml_soc_econ/data_files/2014-2015_locs.txt\")\n",
    "dgeo.columns=[\"usr\",\"time\",\"lat\",\"lon\",\"text\"]\n",
    "fechas,days,hours,minutes,seconds,years,months=time_2_date(dgeo.time)\n",
    "dgeo['day']=days;dgeo['hour']=hours;dgeo['min']=minutes;dgeo['sec']=seconds\n",
    "dgeo['year']=years;dgeo['month']=months;dgeo['fecha']=fechas\n",
    "dgeo=dgeo.drop(labels=\"time\",axis=1)\n",
    "print(\"Number of geolocated tweets during 2014-2015... %d geolocations\"%dgeo.shape[0])\n",
    "france=Polygon([[-4.9658203125,42.3585439175],[8.4375,42.3585439175],\n",
    "                [8.4375,51.2344073516],[-4.9658203125,51.2344073516],[-4.9658203125,42.3585439175]])\n",
    "locs=[Point((lon,lat)) for lon,lat in zip(dgeo.lon,dgeo.lat)]\n",
    "dgeo_france=dgeo[[france.contains(geo_pt) for geo_pt in locs]]\n",
    "print(\"Number of geolocated tweets during 2014-2015 in France... %d geolocations\"%dgeo_france.shape[0])"
   ]
  },
  {
   "cell_type": "code",
   "execution_count": 3,
   "metadata": {},
   "outputs": [
    {
     "data": {
      "application/vnd.jupyter.widget-view+json": {
       "model_id": "c785682e52704bb8b39da6200c744393",
       "version_major": 2,
       "version_minor": 0
      },
      "text/plain": [
       "A Jupyter Widget"
      ]
     },
     "metadata": {},
     "output_type": "display_data"
    },
    {
     "name": "stdout",
     "output_type": "stream",
     "text": [
      "\n"
     ]
    }
   ],
   "source": [
    "from tqdm import tqdm_notebook as tqdmn\n",
    "import geopandas as gpd\n",
    "dgeo_france[\"geometry\"]=[Point(x.lon,x.lat) for it,x in tqdmn(dgeo_france[[\"lon\",\"lat\"]].iterrows())]\n",
    "dgeo_france=gpd.GeoDataFrame(dgeo_france)"
   ]
  },
  {
   "cell_type": "code",
   "execution_count": 4,
   "metadata": {
    "collapsed": true
   },
   "outputs": [],
   "source": [
    "def naive_most_freq(geopandas_usr):\n",
    "    geopandas_usr=geopandas_usr.reset_index().drop(\"index\",axis=1)\n",
    "    polys_visited=[\"(%.3f,%.3f)\"%(x[0],x[1]) for x in geopandas_usr[[\"lat\",\"lon\"]].values]\n",
    "    selected=Counter(polys_visited).most_common(1)[0][0]\n",
    "    idx_mode=polys_visited.index(selected)\n",
    "    return idx_mode,geopandas_usr.iloc[idx_mode][\"geometry\"]\n",
    "\n",
    "def go_through_home_candidates(dic_gpd,select_home_loc):\n",
    "    dic_exam={}\n",
    "    for usr,gpd in tqdmn(dic_gpd.items()):\n",
    "        idx,loc=select_home_loc(gpd)\n",
    "        if idx is None:\n",
    "            continue\n",
    "        dic_exam.setdefault(usr,gpd.iloc[idx])\n",
    "    return dic_exam\n",
    "\n",
    "def get_gini_for_userset(user_ses_dic):\n",
    "    home_most_freq_all=go_through_home_candidates(user_ses_dic,naive_most_freq)\n",
    "    dic_all_users_insee={usr:{\"suppl_info\":home_most_freq_all[usr]} \n",
    "                         for usr in (home_most_freq_all.keys()) }\n",
    "    #\n",
    "    usr2ses=pd.DataFrame([[k,v[\"suppl_info\"][\"geometry\"]]\n",
    "                          for k,v in dic_all_users_insee.items()],\n",
    "                         columns=[\"usr\",\"geometry\"]).dropna(how=\"any\")\n",
    "    return usr2ses"
   ]
  },
  {
   "cell_type": "code",
   "execution_count": 5,
   "metadata": {},
   "outputs": [
    {
     "data": {
      "application/vnd.jupyter.widget-view+json": {
       "model_id": "3a56de05046846349eb98fb97be6f700",
       "version_major": 2,
       "version_minor": 0
      },
      "text/plain": [
       "A Jupyter Widget"
      ]
     },
     "metadata": {},
     "output_type": "display_data"
    },
    {
     "name": "stdout",
     "output_type": "stream",
     "text": [
      "\n"
     ]
    },
    {
     "data": {
      "application/vnd.jupyter.widget-view+json": {
       "model_id": "9f72fbbd798647848aa277c91efe47b6",
       "version_major": 2,
       "version_minor": 0
      },
      "text/plain": [
       "A Jupyter Widget"
      ]
     },
     "metadata": {},
     "output_type": "display_data"
    },
    {
     "name": "stdout",
     "output_type": "stream",
     "text": [
      "\n"
     ]
    },
    {
     "data": {
      "application/vnd.jupyter.widget-view+json": {
       "model_id": "b260081e6eaa4194a7fc67eddaba77ad",
       "version_major": 2,
       "version_minor": 0
      },
      "text/plain": [
       "A Jupyter Widget"
      ]
     },
     "metadata": {},
     "output_type": "display_data"
    },
    {
     "name": "stdout",
     "output_type": "stream",
     "text": [
      "\n"
     ]
    }
   ],
   "source": [
    "geo_usrs={}\n",
    "for it,row in tqdmn(dgeo_france.iterrows()):\n",
    "    geo_usrs.setdefault(row.usr,[])\n",
    "    geo_usrs[row.usr].append(row)\n",
    "\n",
    "for usr,val in tqdmn(geo_usrs.items()):\n",
    "    geo_usrs[usr]=pd.DataFrame(val,columns=list(dgeo_france.columns))\n",
    "\n",
    "from datetime import datetime\n",
    "usr2ses_ori=get_gini_for_userset(geo_usrs)#[[\"year\",\"month\",\"fecha\",\"hour\",\"minu\",\"sec\"]]"
   ]
  },
  {
   "cell_type": "code",
   "execution_count": 7,
   "metadata": {},
   "outputs": [],
   "source": [
    "usr2ses_ori=GeoDataFrame(usr2ses_ori)\n",
    "usr2ses_ori.crs={'init': 'epsg:4326'}\n",
    "from tqdm import tqdm as tqdmn\n",
    "geo_file=\"/warehouse/COMPLEXNET/jlevyabi/TWITTERSES/geoloc/france-geojson/communes.geojson\"\n",
    "df_arro = gpd.read_file(geo_file)\n",
    "df_arro.crs={'init': 'epsg:4326'}"
   ]
  },
  {
   "cell_type": "code",
   "execution_count": 8,
   "metadata": {},
   "outputs": [
    {
     "name": "stdout",
     "output_type": "stream",
     "text": [
      "aight\n"
     ]
    }
   ],
   "source": [
    "print(\"aight\")\n",
    "geo_usr2ses_ori=sjoin(usr2ses_ori,df_arro, how=\"inner\", op='within')"
   ]
  },
  {
   "cell_type": "code",
   "execution_count": 11,
   "metadata": {},
   "outputs": [
    {
     "data": {
      "text/html": [
       "<div>\n",
       "<style scoped>\n",
       "    .dataframe tbody tr th:only-of-type {\n",
       "        vertical-align: middle;\n",
       "    }\n",
       "\n",
       "    .dataframe tbody tr th {\n",
       "        vertical-align: top;\n",
       "    }\n",
       "\n",
       "    .dataframe thead th {\n",
       "        text-align: right;\n",
       "    }\n",
       "</style>\n",
       "<table border=\"1\" class=\"dataframe\">\n",
       "  <thead>\n",
       "    <tr style=\"text-align: right;\">\n",
       "      <th></th>\n",
       "      <th>Codes</th>\n",
       "      <th>nb_usrs</th>\n",
       "    </tr>\n",
       "  </thead>\n",
       "  <tbody>\n",
       "    <tr>\n",
       "      <th>0</th>\n",
       "      <td>75101</td>\n",
       "      <td>6372</td>\n",
       "    </tr>\n",
       "    <tr>\n",
       "      <th>1</th>\n",
       "      <td>59350</td>\n",
       "      <td>1014</td>\n",
       "    </tr>\n",
       "    <tr>\n",
       "      <th>2</th>\n",
       "      <td>31555</td>\n",
       "      <td>954</td>\n",
       "    </tr>\n",
       "    <tr>\n",
       "      <th>3</th>\n",
       "      <td>69382</td>\n",
       "      <td>828</td>\n",
       "    </tr>\n",
       "    <tr>\n",
       "      <th>4</th>\n",
       "      <td>06088</td>\n",
       "      <td>737</td>\n",
       "    </tr>\n",
       "  </tbody>\n",
       "</table>\n",
       "</div>"
      ],
      "text/plain": [
       "   Codes  nb_usrs\n",
       "0  75101     6372\n",
       "1  59350     1014\n",
       "2  31555      954\n",
       "3  69382      828\n",
       "4  06088      737"
      ]
     },
     "execution_count": 11,
     "metadata": {},
     "output_type": "execute_result"
    }
   ],
   "source": [
    "geo_arr_ori=(geo_usr2ses_ori.code.value_counts()).to_frame()\n",
    "geo_arr_ori.reset_index(inplace=True)\n",
    "geo_arr_ori.columns=['Codes','nb_usrs']\n",
    "geo_arr_ori.head()"
   ]
  },
  {
   "cell_type": "code",
   "execution_count": 15,
   "metadata": {},
   "outputs": [
    {
     "data": {
      "text/html": [
       "<div>\n",
       "<style scoped>\n",
       "    .dataframe tbody tr th:only-of-type {\n",
       "        vertical-align: middle;\n",
       "    }\n",
       "\n",
       "    .dataframe tbody tr th {\n",
       "        vertical-align: top;\n",
       "    }\n",
       "\n",
       "    .dataframe thead th {\n",
       "        text-align: right;\n",
       "    }\n",
       "</style>\n",
       "<table border=\"1\" class=\"dataframe\">\n",
       "  <thead>\n",
       "    <tr style=\"text-align: right;\">\n",
       "      <th></th>\n",
       "      <th>Code région</th>\n",
       "      <th>Nom de la région</th>\n",
       "      <th>Code département</th>\n",
       "      <th>Code arrondissement</th>\n",
       "      <th>Code canton</th>\n",
       "      <th>Code commune</th>\n",
       "      <th>Nom de la commune</th>\n",
       "      <th>Population municipale</th>\n",
       "      <th>Population comptée à part</th>\n",
       "      <th>Population totale</th>\n",
       "      <th>Codes</th>\n",
       "    </tr>\n",
       "  </thead>\n",
       "  <tbody>\n",
       "    <tr>\n",
       "      <th>0</th>\n",
       "      <td>82</td>\n",
       "      <td>Rhône-Alpes</td>\n",
       "      <td>01</td>\n",
       "      <td>2</td>\n",
       "      <td>08</td>\n",
       "      <td>001</td>\n",
       "      <td>L' Abergement-Clémenciat</td>\n",
       "      <td>767.0</td>\n",
       "      <td>13.0</td>\n",
       "      <td>780.0</td>\n",
       "      <td>01001</td>\n",
       "    </tr>\n",
       "    <tr>\n",
       "      <th>1</th>\n",
       "      <td>82</td>\n",
       "      <td>Rhône-Alpes</td>\n",
       "      <td>01</td>\n",
       "      <td>1</td>\n",
       "      <td>01</td>\n",
       "      <td>002</td>\n",
       "      <td>L' Abergement-de-Varey</td>\n",
       "      <td>236.0</td>\n",
       "      <td>4.0</td>\n",
       "      <td>240.0</td>\n",
       "      <td>01002</td>\n",
       "    </tr>\n",
       "    <tr>\n",
       "      <th>2</th>\n",
       "      <td>82</td>\n",
       "      <td>Rhône-Alpes</td>\n",
       "      <td>01</td>\n",
       "      <td>1</td>\n",
       "      <td>01</td>\n",
       "      <td>004</td>\n",
       "      <td>Ambérieu-en-Bugey</td>\n",
       "      <td>14359.0</td>\n",
       "      <td>529.0</td>\n",
       "      <td>14888.0</td>\n",
       "      <td>01004</td>\n",
       "    </tr>\n",
       "    <tr>\n",
       "      <th>3</th>\n",
       "      <td>82</td>\n",
       "      <td>Rhône-Alpes</td>\n",
       "      <td>01</td>\n",
       "      <td>2</td>\n",
       "      <td>22</td>\n",
       "      <td>005</td>\n",
       "      <td>Ambérieux-en-Dombes</td>\n",
       "      <td>1635.0</td>\n",
       "      <td>31.0</td>\n",
       "      <td>1666.0</td>\n",
       "      <td>01005</td>\n",
       "    </tr>\n",
       "    <tr>\n",
       "      <th>4</th>\n",
       "      <td>82</td>\n",
       "      <td>Rhône-Alpes</td>\n",
       "      <td>01</td>\n",
       "      <td>1</td>\n",
       "      <td>04</td>\n",
       "      <td>006</td>\n",
       "      <td>Ambléon</td>\n",
       "      <td>108.0</td>\n",
       "      <td>6.0</td>\n",
       "      <td>114.0</td>\n",
       "      <td>01006</td>\n",
       "    </tr>\n",
       "  </tbody>\n",
       "</table>\n",
       "</div>"
      ],
      "text/plain": [
       "  Code région Nom de la région Code département Code arrondissement  \\\n",
       "0          82      Rhône-Alpes               01                   2   \n",
       "1          82      Rhône-Alpes               01                   1   \n",
       "2          82      Rhône-Alpes               01                   1   \n",
       "3          82      Rhône-Alpes               01                   2   \n",
       "4          82      Rhône-Alpes               01                   1   \n",
       "\n",
       "  Code canton Code commune         Nom de la commune  Population municipale  \\\n",
       "0          08          001  L' Abergement-Clémenciat                  767.0   \n",
       "1          01          002    L' Abergement-de-Varey                  236.0   \n",
       "2          01          004         Ambérieu-en-Bugey                14359.0   \n",
       "3          22          005       Ambérieux-en-Dombes                 1635.0   \n",
       "4          04          006                   Ambléon                  108.0   \n",
       "\n",
       "   Population comptée à part  Population totale  Codes  \n",
       "0                       13.0              780.0  01001  \n",
       "1                        4.0              240.0  01002  \n",
       "2                      529.0            14888.0  01004  \n",
       "3                       31.0             1666.0  01005  \n",
       "4                        6.0              114.0  01006  "
      ]
     },
     "execution_count": 15,
     "metadata": {},
     "output_type": "execute_result"
    }
   ],
   "source": [
    "import xlrd\n",
    "path = \"/warehouse/COMPLEXNET/jlevyabi/TWITTERSES/geoloc/france-geojson/ensemble.xls\"\n",
    "workbook = xlrd.open_workbook(path)\n",
    "worksheet = workbook.sheet_by_name(\"Communes\")\n",
    "offset = 6\n",
    "\n",
    "rows = []\n",
    "for i, row in enumerate(range(worksheet.nrows)):\n",
    "    if i <= offset:  # (Optionally) skip headers\n",
    "        continue\n",
    "    r = []\n",
    "    for j, col in enumerate(range(worksheet.ncols)):\n",
    "        r.append(worksheet.cell_value(i, j))\n",
    "    rows.append(r)\n",
    "\n",
    "    \n",
    "d_exc=pd.DataFrame(rows[1:],columns=rows[0])\n",
    "d_exc['Codes']=[u+'%03d'%int(v) for u,v in zip(d_exc['Code département'],d_exc['Code commune'])]\n",
    "d_exc.head()"
   ]
  },
  {
   "cell_type": "code",
   "execution_count": 16,
   "metadata": {},
   "outputs": [
    {
     "data": {
      "text/html": [
       "<div>\n",
       "<style scoped>\n",
       "    .dataframe tbody tr th:only-of-type {\n",
       "        vertical-align: middle;\n",
       "    }\n",
       "\n",
       "    .dataframe tbody tr th {\n",
       "        vertical-align: top;\n",
       "    }\n",
       "\n",
       "    .dataframe thead th {\n",
       "        text-align: right;\n",
       "    }\n",
       "</style>\n",
       "<table border=\"1\" class=\"dataframe\">\n",
       "  <thead>\n",
       "    <tr style=\"text-align: right;\">\n",
       "      <th></th>\n",
       "      <th>Codes</th>\n",
       "      <th>Population totale</th>\n",
       "      <th>nb_usrs</th>\n",
       "    </tr>\n",
       "  </thead>\n",
       "  <tbody>\n",
       "    <tr>\n",
       "      <th>0</th>\n",
       "      <td>01004</td>\n",
       "      <td>14888.0</td>\n",
       "      <td>6</td>\n",
       "    </tr>\n",
       "    <tr>\n",
       "      <th>1</th>\n",
       "      <td>01005</td>\n",
       "      <td>1666.0</td>\n",
       "      <td>1</td>\n",
       "    </tr>\n",
       "    <tr>\n",
       "      <th>2</th>\n",
       "      <td>01010</td>\n",
       "      <td>1127.0</td>\n",
       "      <td>1</td>\n",
       "    </tr>\n",
       "    <tr>\n",
       "      <th>3</th>\n",
       "      <td>01014</td>\n",
       "      <td>3534.0</td>\n",
       "      <td>4</td>\n",
       "    </tr>\n",
       "    <tr>\n",
       "      <th>4</th>\n",
       "      <td>01017</td>\n",
       "      <td>430.0</td>\n",
       "      <td>1</td>\n",
       "    </tr>\n",
       "  </tbody>\n",
       "</table>\n",
       "</div>"
      ],
      "text/plain": [
       "   Codes  Population totale  nb_usrs\n",
       "0  01004            14888.0        6\n",
       "1  01005             1666.0        1\n",
       "2  01010             1127.0        1\n",
       "3  01014             3534.0        4\n",
       "4  01017              430.0        1"
      ]
     },
     "execution_count": 16,
     "metadata": {},
     "output_type": "execute_result"
    }
   ],
   "source": [
    "d_insee=d_exc[['Codes','Population totale']]\n",
    "#d_insee['Population totale']=(d_insee['Population totale']+0.0)/sum(d_insee['Population totale'])\n",
    "d_corr=pd.merge(d_insee,geo_arr_ori,on='Codes')\n",
    "d_corr.head()\n"
   ]
  },
  {
   "cell_type": "code",
   "execution_count": 17,
   "metadata": {},
   "outputs": [
    {
     "data": {
      "image/png": "[encoded data removed]",
      "text/plain": [
       "<Figure size 432x288 with 1 Axes>"
      ]
     },
     "metadata": {},
     "output_type": "display_data"
    }
   ],
   "source": [
    "import seaborn as sns\n",
    "import numpy as np\n",
    "import scipy.stats as st\n",
    "sns.regplot(np.log(d_corr['Population totale']),np.log(d_corr['nb_usrs']))\n",
    "rsquare = st.pearsonr(np.log(d_corr['Population totale']),np.log(d_corr['nb_usrs']))[0]**2\n",
    "plt.annotate(\"$R^2=%.2f$\"%round(rsquare,2), xy=(0.1, 0.9), xycoords='axes fraction')\n",
    "plt.ylabel('Arr Geolocated usrs data')\n",
    "plt.xlabel('Arr Census data')\n",
    "plt.show()"
   ]
  },
  {
   "cell_type": "code",
   "execution_count": null,
   "metadata": {
    "collapsed": true
   },
   "outputs": [],
   "source": [
    "import geopandas as gpd\n",
    "from shapely.geometry import Point\n",
    "from shapely.geometry.polygon import Polygon\n",
    "df = gpd.read_file(geo_file)\n",
    "codes=[];names=[]\n",
    "for point in tqdmn(usr2ses_ori.geometry):\n",
    "    indi=list(map(lambda poly:poly.contains(point),df.geometry))\n",
    "    res_code,res_name=(df.code[indi],df.nom[indi])\n",
    "    if len(res_code)==0:\n",
    "        code,name=(None,None)\n",
    "    else:\n",
    "        code,name=(list(res_code.to_dict().values())[0],list(res_name.to_dict().values())[0])\n",
    "    codes.append(code);names.append(name)\n",
    "\n",
    "\n",
    "usr2ses_ori['Codes']=codes\n",
    "usr2ses_ori['Names']=names\n",
    "\n",
    "import xlrd\n",
    "path = \"/warehouse/COMPLEXNET/jlevyabi/TWITTERSES/geoloc/france-geojson/ensemble.xls\"\n",
    "workbook = xlrd.open_workbook(path)\n",
    "worksheet = workbook.sheet_by_name(\"Communes\")\n",
    "offset = 6\n",
    "\n",
    "rows = []\n",
    "for i, row in enumerate(range(worksheet.nrows)):\n",
    "    if i <= offset:  # (Optionally) skip headers\n",
    "        continue\n",
    "    r = []\n",
    "    for j, col in enumerate(range(worksheet.ncols)):\n",
    "        r.append(worksheet.cell_value(i, j))\n",
    "    rows.append(r)\n",
    "\n",
    "    \n",
    "d_exc=pd.DataFrame(rows[1:],columns=rows[0])\n",
    "d_exc['Codes']=[u+'%03d'%int(v) for u,v in zip(d_exc['Code département'],d_exc['Code commune'])]\n",
    "d_exc.head()\n",
    "\n",
    "geo_arr_ori=(usr2ses_ori.Codes.value_counts()).to_frame()\n",
    "geo_arr_ori.reset_index(inplace=True)\n",
    "geo_arr_ori.columns=['Codes','nb_usrs']\n",
    "geo_arr_ori.head()\n",
    "\n",
    "d_insee=d_exc[['Codes','Population totale']]\n",
    "#d_insee['Population totale']=(d_insee['Population totale']+0.0)/sum(d_insee['Population totale'])\n",
    "d_corr=pd.merge(d_insee,geo_arr_ori,on='Codes')\n",
    "d_corr.head()\n",
    "\n",
    "import numpy as np\n",
    "import scipy.stats as st\n",
    "rsquare = st.pearsonr(np.log(d_corr['Population totale']),np.log(d_corr['nb_usrs']))[0]**2\n",
    "print(rsquare)"
   ]
  },
  {
   "cell_type": "code",
   "execution_count": null,
   "metadata": {
    "collapsed": true
   },
   "outputs": [],
   "source": []
  },
  {
   "cell_type": "code",
   "execution_count": null,
   "metadata": {
    "collapsed": true
   },
   "outputs": [],
   "source": []
  },
  {
   "cell_type": "code",
   "execution_count": null,
   "metadata": {
    "collapsed": true
   },
   "outputs": [],
   "source": []
  },
  {
   "cell_type": "code",
   "execution_count": null,
   "metadata": {
    "collapsed": true
   },
   "outputs": [],
   "source": []
  },
  {
   "cell_type": "code",
   "execution_count": null,
   "metadata": {
    "collapsed": true
   },
   "outputs": [],
   "source": []
  },
  {
   "cell_type": "code",
   "execution_count": null,
   "metadata": {
    "collapsed": true
   },
   "outputs": [],
   "source": []
  },
  {
   "cell_type": "code",
   "execution_count": null,
   "metadata": {
    "collapsed": true
   },
   "outputs": [],
   "source": []
  },
  {
   "cell_type": "code",
   "execution_count": null,
   "metadata": {
    "collapsed": true
   },
   "outputs": [],
   "source": []
  },
  {
   "cell_type": "code",
   "execution_count": 6,
   "metadata": {},
   "outputs": [
    {
     "name": "stdout",
     "output_type": "stream",
     "text": [
      "arro done\n"
     ]
    }
   ],
   "source": [
    "import xlrd,json\n",
    "def extract_xls_file(path,sheet_name,offset):\n",
    "    workbook = xlrd.open_workbook(path)\n",
    "    worksheet = workbook.sheet_by_name(sheet_name)\n",
    "    rows = []\n",
    "    for i, row in (enumerate(range(worksheet.nrows))):\n",
    "        if i <= offset:  # (Optionally) skip headers\n",
    "            continue\n",
    "        r = []\n",
    "        for j, col in enumerate(range(worksheet.ncols)):\n",
    "            r.append(worksheet.cell_value(i, j))\n",
    "        rows.append(r)\n",
    "    return(pd.DataFrame(rows[1:],columns=rows[0]))\n",
    "\n",
    "f0=\"/warehouse/COMPLEXNET/jlevyabi/TWITTERSES/geoloc/iris_opendata/RFDM2010IRI.xls\"\n",
    "d_exc=extract_xls_file(f0,\"Distribution_Ménages\",5)\n",
    "\n",
    "\n",
    "f2=\"/warehouse/COMPLEXNET/jlevyabi/TWITTERSES/geoloc/iris_opendata/BASE_TD_FILO_DEC_IRIS_2013.xls\"\n",
    "d_filo_dec_iris=extract_xls_file(f2,\"IRIS_DEC\",4)\n",
    "\n",
    "import geopandas as gpd\n",
    "geo_file=\"/warehouse/COMPLEXNET/jlevyabi/TWITTERSES/geoloc/iris_opendata/shapefile_iris/contours-iris-2016.geojson\"\n",
    "with open(geo_file) as f:\n",
    "    arro_data=json.load(f)\n",
    "\n",
    "print(\"arro done\")\n",
    "df = gpd.read_file(geo_file)\n",
    "codes=[];names=[]\n",
    "france=Polygon([[-4.9658203125,42.3585439175],[8.4375,42.3585439175],\n",
    "                [8.4375,51.2344073516],[-4.9658203125,51.2344073516],[-4.9658203125,42.3585439175]])\n",
    "\n",
    "d_iris=df[[france.contains(geo_pt) if geo_pt else False for geo_pt in (df.geometry)]]\n",
    "d_iris['IRIS']=d_iris.code_iris\n",
    "dec_pop_iris=pd.merge(d_iris, d_exc, on='IRIS')\n",
    "dec_income_iris=pd.merge(d_iris, d_filo_dec_iris, on='IRIS')"
   ]
  },
  {
   "cell_type": "code",
   "execution_count": 16,
   "metadata": {},
   "outputs": [
    {
     "data": {
      "text/plain": [
       "('(48.946,2.491)', 1)"
      ]
     },
     "execution_count": 16,
     "metadata": {},
     "output_type": "execute_result"
    }
   ],
   "source": []
  },
  {
   "cell_type": "code",
   "execution_count": 21,
   "metadata": {},
   "outputs": [
    {
     "data": {
      "text/html": [
       "<div>\n",
       "<style scoped>\n",
       "    .dataframe tbody tr th:only-of-type {\n",
       "        vertical-align: middle;\n",
       "    }\n",
       "\n",
       "    .dataframe tbody tr th {\n",
       "        vertical-align: top;\n",
       "    }\n",
       "\n",
       "    .dataframe thead th {\n",
       "        text-align: right;\n",
       "    }\n",
       "</style>\n",
       "<table border=\"1\" class=\"dataframe\">\n",
       "  <thead>\n",
       "    <tr style=\"text-align: right;\">\n",
       "      <th></th>\n",
       "      <th>usr</th>\n",
       "      <th>lat</th>\n",
       "      <th>lon</th>\n",
       "      <th>text</th>\n",
       "      <th>day</th>\n",
       "      <th>hour</th>\n",
       "      <th>min</th>\n",
       "      <th>sec</th>\n",
       "      <th>year</th>\n",
       "      <th>month</th>\n",
       "      <th>fecha</th>\n",
       "      <th>geometry</th>\n",
       "    </tr>\n",
       "  </thead>\n",
       "  <tbody>\n",
       "    <tr>\n",
       "      <th>0</th>\n",
       "      <td>2296639897</td>\n",
       "      <td>48.945839</td>\n",
       "      <td>2.491264</td>\n",
       "      <td>#JPNGRE 3-0 pr le #JPN</td>\n",
       "      <td>3</td>\n",
       "      <td>15</td>\n",
       "      <td>44</td>\n",
       "      <td>3</td>\n",
       "      <td>2014</td>\n",
       "      <td>06</td>\n",
       "      <td>19</td>\n",
       "      <td>POINT (2.4912635419 48.9458390389)</td>\n",
       "    </tr>\n",
       "    <tr>\n",
       "      <th>1</th>\n",
       "      <td>360954534</td>\n",
       "      <td>49.303493</td>\n",
       "      <td>5.863804</td>\n",
       "      <td>Mon père a une nouvelle lubie, m'appeler \"ma p...</td>\n",
       "      <td>3</td>\n",
       "      <td>15</td>\n",
       "      <td>44</td>\n",
       "      <td>3</td>\n",
       "      <td>2014</td>\n",
       "      <td>06</td>\n",
       "      <td>19</td>\n",
       "      <td>POINT (5.863804 49.303493)</td>\n",
       "    </tr>\n",
       "    <tr>\n",
       "      <th>2</th>\n",
       "      <td>190311280</td>\n",
       "      <td>43.552704</td>\n",
       "      <td>7.023194</td>\n",
       "      <td>C'est la fête 💶💶💶</td>\n",
       "      <td>3</td>\n",
       "      <td>15</td>\n",
       "      <td>44</td>\n",
       "      <td>3</td>\n",
       "      <td>2014</td>\n",
       "      <td>06</td>\n",
       "      <td>19</td>\n",
       "      <td>POINT (7.023194 43.552704)</td>\n",
       "    </tr>\n",
       "    <tr>\n",
       "      <th>3</th>\n",
       "      <td>1498428090</td>\n",
       "      <td>48.673666</td>\n",
       "      <td>2.289129</td>\n",
       "      <td>Putain je viens de me brûler la langue 🙊🙊🙊🙊</td>\n",
       "      <td>3</td>\n",
       "      <td>15</td>\n",
       "      <td>44</td>\n",
       "      <td>4</td>\n",
       "      <td>2014</td>\n",
       "      <td>06</td>\n",
       "      <td>19</td>\n",
       "      <td>POINT (2.289129 48.673666)</td>\n",
       "    </tr>\n",
       "    <tr>\n",
       "      <th>4</th>\n",
       "      <td>289953393</td>\n",
       "      <td>48.865732</td>\n",
       "      <td>2.386827</td>\n",
       "      <td>#tweetlocalisation Denfert Rochereau</td>\n",
       "      <td>3</td>\n",
       "      <td>15</td>\n",
       "      <td>44</td>\n",
       "      <td>4</td>\n",
       "      <td>2014</td>\n",
       "      <td>06</td>\n",
       "      <td>19</td>\n",
       "      <td>POINT (2.386827 48.865732)</td>\n",
       "    </tr>\n",
       "  </tbody>\n",
       "</table>\n",
       "</div>"
      ],
      "text/plain": [
       "          usr        lat       lon  \\\n",
       "0  2296639897  48.945839  2.491264   \n",
       "1   360954534  49.303493  5.863804   \n",
       "2   190311280  43.552704  7.023194   \n",
       "3  1498428090  48.673666  2.289129   \n",
       "4   289953393  48.865732  2.386827   \n",
       "\n",
       "                                                text  day  hour  min  sec  \\\n",
       "0                             #JPNGRE 3-0 pr le #JPN    3    15   44    3   \n",
       "1  Mon père a une nouvelle lubie, m'appeler \"ma p...    3    15   44    3   \n",
       "2                                  C'est la fête 💶💶💶    3    15   44    3   \n",
       "3        Putain je viens de me brûler la langue 🙊🙊🙊🙊    3    15   44    4   \n",
       "4               #tweetlocalisation Denfert Rochereau    3    15   44    4   \n",
       "\n",
       "   year month fecha                            geometry  \n",
       "0  2014    06    19  POINT (2.4912635419 48.9458390389)  \n",
       "1  2014    06    19          POINT (5.863804 49.303493)  \n",
       "2  2014    06    19          POINT (7.023194 43.552704)  \n",
       "3  2014    06    19          POINT (2.289129 48.673666)  \n",
       "4  2014    06    19          POINT (2.386827 48.865732)  "
      ]
     },
     "execution_count": 21,
     "metadata": {},
     "output_type": "execute_result"
    }
   ],
   "source": [
    "dgeo_france.head().reset_index().drop(\"index\",axis=1)"
   ]
  },
  {
   "cell_type": "code",
   "execution_count": 25,
   "metadata": {
    "collapsed": true
   },
   "outputs": [],
   "source": [
    "def naive_most_freq(geopandas_usr):\n",
    "    geopandas_usr=geopandas_usr.reset_index().drop(\"index\",axis=1)\n",
    "    polys_visited=[\"(%.3f,%.3f)\"%(x[0],x[1]) for x in geopandas_usr[[\"lat\",\"lon\"]].values]\n",
    "    selected=Counter(polys_visited).most_common(1)[0][0]\n",
    "    idx_mode=polys_visited.index(selected)\n",
    "    return idx_mode,geopandas_usr.iloc[idx_mode][\"geometry\"]\n",
    "\n",
    "def go_through_home_candidates(dic_gpd,select_home_loc):\n",
    "    dic_exam={}\n",
    "    for usr,gpd in tqdmn(dic_gpd.items()):\n",
    "        idx,loc=select_home_loc(gpd)\n",
    "        if idx is None:\n",
    "            continue\n",
    "        dic_exam.setdefault(usr,gpd.iloc[idx])\n",
    "    return dic_exam\n",
    "\n",
    "def get_gini_for_userset(user_ses_dic):\n",
    "    home_most_freq_all=go_through_home_candidates(user_ses_dic,naive_most_freq)\n",
    "    dic_all_users_insee={usr:{\"suppl_info\":home_most_freq_all[usr]} \n",
    "                         for usr in (home_most_freq_all.keys()) }\n",
    "    #\n",
    "    usr2ses=pd.DataFrame([[k,v[\"suppl_info\"][\"geometry\"],v[\"suppl_info\"][\"DEC_D113\"],\n",
    "                           v[\"suppl_info\"][\"DEC_MED13\"],v[\"suppl_info\"][\"DEC_D913\"],v[\"suppl_info\"][\"DEC_GI13\"]]\n",
    "                          for k,v in dic_all_users_insee.items()],\n",
    "                         columns=[\"usr\",\"geom\",\"insee_iris_lowe\",\n",
    "                                  \"insee_iris_med\",\"insee_iris_sup\",\"gini\"]).dropna(how=\"any\")\n",
    "    return usr2ses"
   ]
  },
  {
   "cell_type": "code",
   "execution_count": 23,
   "metadata": {
    "collapsed": true
   },
   "outputs": [],
   "source": [
    "from geopandas import sjoin\n",
    "usrs_with_iris_income = sjoin(dgeo_france, dec_income_iris, how=\"inner\", op='within')"
   ]
  },
  {
   "cell_type": "code",
   "execution_count": 26,
   "metadata": {},
   "outputs": [
    {
     "data": {
      "application/vnd.jupyter.widget-view+json": {
       "model_id": "7ec83a748f1747598b5138ebe6e718c4",
       "version_major": 2,
       "version_minor": 0
      },
      "text/plain": [
       "A Jupyter Widget"
      ]
     },
     "metadata": {},
     "output_type": "display_data"
    },
    {
     "name": "stdout",
     "output_type": "stream",
     "text": [
      "\n"
     ]
    }
   ],
   "source": [
    "from tqdm import tqdm\n",
    "\n",
    "usrs_with_iris_info_dic={}\n",
    "for it,row in tqdmn(usrs_with_iris_income.iterrows()):\n",
    "    usrs_with_iris_info_dic.setdefault(row.usr,[])\n",
    "    usrs_with_iris_info_dic[row.usr].append(row)\n",
    "\n",
    "for usr,val in tqdmn(usrs_with_iris_info_dic.items()):\n",
    "    usrs_with_iris_info_dic[usr]=pd.DataFrame(val,columns=list(usrs_with_iris_income.columns))\n",
    "    \n",
    "from datetime import datetime\n",
    "ori_usr2ses_ori=get_gini_for_userset(usrs_with_iris_info_dic)#[[\"year\",\"month\",\"fecha\",\"hour\",\"minu\",\"sec\"]]"
   ]
  },
  {
   "cell_type": "code",
   "execution_count": 36,
   "metadata": {},
   "outputs": [
    {
     "data": {
      "text/plain": [
       "[('POINT (3.07158865 50.62897405)', 500),\n",
       " ('POINT (1.4329006 43.60075845)', 469),\n",
       " ('POINT (5.40527395 43.29430915)', 459),\n",
       " ('POINT (-0.58622995 44.86373785)', 422),\n",
       " ('POINT (-1.56073945 47.2381615)', 403),\n",
       " ('POINT (3.8742675 43.61039585)', 340),\n",
       " ('POINT (7.76220805 48.5693064)', 310),\n",
       " ('POINT (7.25302235 43.70302075)', 281),\n",
       " ('POINT (-1.6883315 48.11577645)', 273),\n",
       " ('POINT (-0.37195855 49.1846344)', 217)]"
      ]
     },
     "execution_count": 36,
     "metadata": {},
     "output_type": "execute_result"
    }
   ],
   "source": [
    "Counter(ori_usr2ses_ori.geom.astype(str)).most_common(10)"
   ]
  },
  {
   "cell_type": "code",
   "execution_count": 29,
   "metadata": {},
   "outputs": [
    {
     "data": {
      "text/plain": [
       "0.3736658082656559"
      ]
     },
     "execution_count": 29,
     "metadata": {},
     "output_type": "execute_result"
    }
   ],
   "source": [
    "np.average(ori_usr2ses_ori.gini)"
   ]
  },
  {
   "cell_type": "code",
   "execution_count": 48,
   "metadata": {
    "collapsed": true
   },
   "outputs": [],
   "source": [
    "ori_usr2ses_ori[\"geometry\"]=ori_usr2ses_ori.geom"
   ]
  },
  {
   "cell_type": "code",
   "execution_count": 49,
   "metadata": {
    "collapsed": true
   },
   "outputs": [],
   "source": [
    "usrs_with_iris_pop_income = sjoin(GeoDataFrame(ori_usr2ses_ori), dec_pop_iris, how=\"inner\", op='within')"
   ]
  },
  {
   "cell_type": "code",
   "execution_count": 30,
   "metadata": {},
   "outputs": [
    {
     "data": {
      "text/html": [
       "<div>\n",
       "<style scoped>\n",
       "    .dataframe tbody tr th:only-of-type {\n",
       "        vertical-align: middle;\n",
       "    }\n",
       "\n",
       "    .dataframe tbody tr th {\n",
       "        vertical-align: top;\n",
       "    }\n",
       "\n",
       "    .dataframe thead th {\n",
       "        text-align: right;\n",
       "    }\n",
       "</style>\n",
       "<table border=\"1\" class=\"dataframe\">\n",
       "  <thead>\n",
       "    <tr style=\"text-align: right;\">\n",
       "      <th></th>\n",
       "      <th>usr</th>\n",
       "      <th>geom</th>\n",
       "      <th>insee_iris_lowe</th>\n",
       "      <th>insee_iris_med</th>\n",
       "      <th>insee_iris_sup</th>\n",
       "      <th>gini</th>\n",
       "    </tr>\n",
       "  </thead>\n",
       "  <tbody>\n",
       "    <tr>\n",
       "      <th>0</th>\n",
       "      <td>2296639897</td>\n",
       "      <td>POINT (1.215625 49.272943)</td>\n",
       "      <td>350.0</td>\n",
       "      <td>8590.0</td>\n",
       "      <td>22398.0</td>\n",
       "      <td>0.448699</td>\n",
       "    </tr>\n",
       "    <tr>\n",
       "      <th>1</th>\n",
       "      <td>1230244579</td>\n",
       "      <td>POINT (2.4912635419 48.9458390389)</td>\n",
       "      <td>5752.0</td>\n",
       "      <td>18000.0</td>\n",
       "      <td>33576.0</td>\n",
       "      <td>0.328834</td>\n",
       "    </tr>\n",
       "    <tr>\n",
       "      <th>2</th>\n",
       "      <td>2209176489</td>\n",
       "      <td>POINT (2.419187 48.987652)</td>\n",
       "      <td>5948.0</td>\n",
       "      <td>18202.0</td>\n",
       "      <td>34742.0</td>\n",
       "      <td>0.347300</td>\n",
       "    </tr>\n",
       "    <tr>\n",
       "      <th>3</th>\n",
       "      <td>14184499</td>\n",
       "      <td>POINT (2.4912635419 48.9458390389)</td>\n",
       "      <td>5752.0</td>\n",
       "      <td>18000.0</td>\n",
       "      <td>33576.0</td>\n",
       "      <td>0.328834</td>\n",
       "    </tr>\n",
       "    <tr>\n",
       "      <th>4</th>\n",
       "      <td>187926568</td>\n",
       "      <td>POINT (2.4912635419 48.9458390389)</td>\n",
       "      <td>5752.0</td>\n",
       "      <td>18000.0</td>\n",
       "      <td>33576.0</td>\n",
       "      <td>0.328834</td>\n",
       "    </tr>\n",
       "  </tbody>\n",
       "</table>\n",
       "</div>"
      ],
      "text/plain": [
       "          usr                                geom  insee_iris_lowe  \\\n",
       "0  2296639897          POINT (1.215625 49.272943)            350.0   \n",
       "1  1230244579  POINT (2.4912635419 48.9458390389)           5752.0   \n",
       "2  2209176489          POINT (2.419187 48.987652)           5948.0   \n",
       "3    14184499  POINT (2.4912635419 48.9458390389)           5752.0   \n",
       "4   187926568  POINT (2.4912635419 48.9458390389)           5752.0   \n",
       "\n",
       "   insee_iris_med  insee_iris_sup      gini  \n",
       "0          8590.0         22398.0  0.448699  \n",
       "1         18000.0         33576.0  0.328834  \n",
       "2         18202.0         34742.0  0.347300  \n",
       "3         18000.0         33576.0  0.328834  \n",
       "4         18000.0         33576.0  0.328834  "
      ]
     },
     "execution_count": 30,
     "metadata": {},
     "output_type": "execute_result"
    }
   ],
   "source": [
    "ori_usr2ses_ori.head()"
   ]
  },
  {
   "cell_type": "code",
   "execution_count": 51,
   "metadata": {},
   "outputs": [
    {
     "data": {
      "text/html": [
       "<div>\n",
       "<style scoped>\n",
       "    .dataframe tbody tr th:only-of-type {\n",
       "        vertical-align: middle;\n",
       "    }\n",
       "\n",
       "    .dataframe tbody tr th {\n",
       "        vertical-align: top;\n",
       "    }\n",
       "\n",
       "    .dataframe thead th {\n",
       "        text-align: right;\n",
       "    }\n",
       "</style>\n",
       "<table border=\"1\" class=\"dataframe\">\n",
       "  <thead>\n",
       "    <tr style=\"text-align: right;\">\n",
       "      <th></th>\n",
       "      <th>usr</th>\n",
       "      <th>geom</th>\n",
       "      <th>insee_iris_lowe</th>\n",
       "      <th>insee_iris_med</th>\n",
       "      <th>insee_iris_sup</th>\n",
       "      <th>gini</th>\n",
       "      <th>geometry</th>\n",
       "      <th>index_right</th>\n",
       "      <th>iris</th>\n",
       "      <th>nom_iris</th>\n",
       "      <th>...</th>\n",
       "      <th>RFMD110</th>\n",
       "      <th>RFMD210</th>\n",
       "      <th>RFMD310</th>\n",
       "      <th>RFMD410</th>\n",
       "      <th>RFMD610</th>\n",
       "      <th>RFMD710</th>\n",
       "      <th>RFMD810</th>\n",
       "      <th>RFMD910</th>\n",
       "      <th>RFMRD10</th>\n",
       "      <th>RFMET10</th>\n",
       "    </tr>\n",
       "  </thead>\n",
       "  <tbody>\n",
       "    <tr>\n",
       "      <th>0</th>\n",
       "      <td>2296639897</td>\n",
       "      <td>POINT (1.215625 49.272943)</td>\n",
       "      <td>350.0</td>\n",
       "      <td>8590.0</td>\n",
       "      <td>22398.0</td>\n",
       "      <td>0.448699</td>\n",
       "      <td>POINT (1.215625 49.272943)</td>\n",
       "      <td>6161</td>\n",
       "      <td>0103</td>\n",
       "      <td>Est</td>\n",
       "      <td>...</td>\n",
       "      <td>2110</td>\n",
       "      <td>7973.5</td>\n",
       "      <td>11613</td>\n",
       "      <td>14659</td>\n",
       "      <td>21095</td>\n",
       "      <td>25737</td>\n",
       "      <td>30931</td>\n",
       "      <td>41620</td>\n",
       "      <td>19.7</td>\n",
       "      <td>16466.5</td>\n",
       "    </tr>\n",
       "    <tr>\n",
       "      <th>31645</th>\n",
       "      <td>447074518</td>\n",
       "      <td>POINT (1.21669 49.273052)</td>\n",
       "      <td>350.0</td>\n",
       "      <td>8590.0</td>\n",
       "      <td>22398.0</td>\n",
       "      <td>0.448699</td>\n",
       "      <td>POINT (1.21669 49.273052)</td>\n",
       "      <td>6161</td>\n",
       "      <td>0103</td>\n",
       "      <td>Est</td>\n",
       "      <td>...</td>\n",
       "      <td>2110</td>\n",
       "      <td>7973.5</td>\n",
       "      <td>11613</td>\n",
       "      <td>14659</td>\n",
       "      <td>21095</td>\n",
       "      <td>25737</td>\n",
       "      <td>30931</td>\n",
       "      <td>41620</td>\n",
       "      <td>19.7</td>\n",
       "      <td>16466.5</td>\n",
       "    </tr>\n",
       "    <tr>\n",
       "      <th>31646</th>\n",
       "      <td>114030711</td>\n",
       "      <td>POINT (1.223511 49.27529699999999)</td>\n",
       "      <td>350.0</td>\n",
       "      <td>8590.0</td>\n",
       "      <td>22398.0</td>\n",
       "      <td>0.448699</td>\n",
       "      <td>POINT (1.223511 49.27529699999999)</td>\n",
       "      <td>6161</td>\n",
       "      <td>0103</td>\n",
       "      <td>Est</td>\n",
       "      <td>...</td>\n",
       "      <td>2110</td>\n",
       "      <td>7973.5</td>\n",
       "      <td>11613</td>\n",
       "      <td>14659</td>\n",
       "      <td>21095</td>\n",
       "      <td>25737</td>\n",
       "      <td>30931</td>\n",
       "      <td>41620</td>\n",
       "      <td>19.7</td>\n",
       "      <td>16466.5</td>\n",
       "    </tr>\n",
       "    <tr>\n",
       "      <th>31647</th>\n",
       "      <td>1699519292</td>\n",
       "      <td>POINT (1.217572 49.269158)</td>\n",
       "      <td>350.0</td>\n",
       "      <td>8590.0</td>\n",
       "      <td>22398.0</td>\n",
       "      <td>0.448699</td>\n",
       "      <td>POINT (1.217572 49.269158)</td>\n",
       "      <td>6161</td>\n",
       "      <td>0103</td>\n",
       "      <td>Est</td>\n",
       "      <td>...</td>\n",
       "      <td>2110</td>\n",
       "      <td>7973.5</td>\n",
       "      <td>11613</td>\n",
       "      <td>14659</td>\n",
       "      <td>21095</td>\n",
       "      <td>25737</td>\n",
       "      <td>30931</td>\n",
       "      <td>41620</td>\n",
       "      <td>19.7</td>\n",
       "      <td>16466.5</td>\n",
       "    </tr>\n",
       "    <tr>\n",
       "      <th>31648</th>\n",
       "      <td>1036012754</td>\n",
       "      <td>POINT (1.217658 49.270082)</td>\n",
       "      <td>350.0</td>\n",
       "      <td>8590.0</td>\n",
       "      <td>22398.0</td>\n",
       "      <td>0.448699</td>\n",
       "      <td>POINT (1.217658 49.270082)</td>\n",
       "      <td>6161</td>\n",
       "      <td>0103</td>\n",
       "      <td>Est</td>\n",
       "      <td>...</td>\n",
       "      <td>2110</td>\n",
       "      <td>7973.5</td>\n",
       "      <td>11613</td>\n",
       "      <td>14659</td>\n",
       "      <td>21095</td>\n",
       "      <td>25737</td>\n",
       "      <td>30931</td>\n",
       "      <td>41620</td>\n",
       "      <td>19.7</td>\n",
       "      <td>16466.5</td>\n",
       "    </tr>\n",
       "  </tbody>\n",
       "</table>\n",
       "<p>5 rows × 42 columns</p>\n",
       "</div>"
      ],
      "text/plain": [
       "              usr                                geom  insee_iris_lowe  \\\n",
       "0      2296639897          POINT (1.215625 49.272943)            350.0   \n",
       "31645   447074518           POINT (1.21669 49.273052)            350.0   \n",
       "31646   114030711  POINT (1.223511 49.27529699999999)            350.0   \n",
       "31647  1699519292          POINT (1.217572 49.269158)            350.0   \n",
       "31648  1036012754          POINT (1.217658 49.270082)            350.0   \n",
       "\n",
       "       insee_iris_med  insee_iris_sup      gini  \\\n",
       "0              8590.0         22398.0  0.448699   \n",
       "31645          8590.0         22398.0  0.448699   \n",
       "31646          8590.0         22398.0  0.448699   \n",
       "31647          8590.0         22398.0  0.448699   \n",
       "31648          8590.0         22398.0  0.448699   \n",
       "\n",
       "                                 geometry  index_right  iris nom_iris  \\\n",
       "0              POINT (1.215625 49.272943)         6161  0103      Est   \n",
       "31645           POINT (1.21669 49.273052)         6161  0103      Est   \n",
       "31646  POINT (1.223511 49.27529699999999)         6161  0103      Est   \n",
       "31647          POINT (1.217572 49.269158)         6161  0103      Est   \n",
       "31648          POINT (1.217658 49.270082)         6161  0103      Est   \n",
       "\n",
       "        ...    RFMD110 RFMD210 RFMD310  RFMD410 RFMD610 RFMD710 RFMD810  \\\n",
       "0       ...       2110  7973.5   11613    14659   21095   25737   30931   \n",
       "31645   ...       2110  7973.5   11613    14659   21095   25737   30931   \n",
       "31646   ...       2110  7973.5   11613    14659   21095   25737   30931   \n",
       "31647   ...       2110  7973.5   11613    14659   21095   25737   30931   \n",
       "31648   ...       2110  7973.5   11613    14659   21095   25737   30931   \n",
       "\n",
       "      RFMD910 RFMRD10  RFMET10  \n",
       "0       41620    19.7  16466.5  \n",
       "31645   41620    19.7  16466.5  \n",
       "31646   41620    19.7  16466.5  \n",
       "31647   41620    19.7  16466.5  \n",
       "31648   41620    19.7  16466.5  \n",
       "\n",
       "[5 rows x 42 columns]"
      ]
     },
     "execution_count": 51,
     "metadata": {},
     "output_type": "execute_result"
    }
   ],
   "source": [
    "usrs_with_iris_pop_income.agg(\"\")"
   ]
  },
  {
   "cell_type": "code",
   "execution_count": 30,
   "metadata": {
    "scrolled": true
   },
   "outputs": [
    {
     "data": {
      "text/plain": [
       "0.37354592047664126"
      ]
     },
     "execution_count": 30,
     "metadata": {},
     "output_type": "execute_result"
    }
   ],
   "source": [
    "np.average(ori_usr2ses_ori.gini)"
   ]
  },
  {
   "cell_type": "code",
   "execution_count": 42,
   "metadata": {},
   "outputs": [
    {
     "data": {
      "text/html": [
       "<div>\n",
       "<style scoped>\n",
       "    .dataframe tbody tr th:only-of-type {\n",
       "        vertical-align: middle;\n",
       "    }\n",
       "\n",
       "    .dataframe tbody tr th {\n",
       "        vertical-align: top;\n",
       "    }\n",
       "\n",
       "    .dataframe thead th {\n",
       "        text-align: right;\n",
       "    }\n",
       "</style>\n",
       "<table border=\"1\" class=\"dataframe\">\n",
       "  <thead>\n",
       "    <tr style=\"text-align: right;\">\n",
       "      <th></th>\n",
       "      <th>usr</th>\n",
       "      <th>lat</th>\n",
       "      <th>lon</th>\n",
       "      <th>text</th>\n",
       "      <th>day</th>\n",
       "      <th>hour</th>\n",
       "      <th>min</th>\n",
       "      <th>sec</th>\n",
       "      <th>year</th>\n",
       "      <th>month</th>\n",
       "      <th>fecha</th>\n",
       "      <th>geometry</th>\n",
       "    </tr>\n",
       "  </thead>\n",
       "  <tbody>\n",
       "    <tr>\n",
       "      <th>1</th>\n",
       "      <td>2296639897</td>\n",
       "      <td>48.945839</td>\n",
       "      <td>2.491264</td>\n",
       "      <td>#JPNGRE 3-0 pr le #JPN</td>\n",
       "      <td>3</td>\n",
       "      <td>15</td>\n",
       "      <td>44</td>\n",
       "      <td>3</td>\n",
       "      <td>2014</td>\n",
       "      <td>06</td>\n",
       "      <td>19</td>\n",
       "      <td>POINT (2.4912635419 48.9458390389)</td>\n",
       "    </tr>\n",
       "    <tr>\n",
       "      <th>2</th>\n",
       "      <td>360954534</td>\n",
       "      <td>49.303493</td>\n",
       "      <td>5.863804</td>\n",
       "      <td>Mon père a une nouvelle lubie, m'appeler \"ma p...</td>\n",
       "      <td>3</td>\n",
       "      <td>15</td>\n",
       "      <td>44</td>\n",
       "      <td>3</td>\n",
       "      <td>2014</td>\n",
       "      <td>06</td>\n",
       "      <td>19</td>\n",
       "      <td>POINT (5.863804 49.303493)</td>\n",
       "    </tr>\n",
       "    <tr>\n",
       "      <th>3</th>\n",
       "      <td>190311280</td>\n",
       "      <td>43.552704</td>\n",
       "      <td>7.023194</td>\n",
       "      <td>C'est la fête 💶💶💶</td>\n",
       "      <td>3</td>\n",
       "      <td>15</td>\n",
       "      <td>44</td>\n",
       "      <td>3</td>\n",
       "      <td>2014</td>\n",
       "      <td>06</td>\n",
       "      <td>19</td>\n",
       "      <td>POINT (7.023194 43.552704)</td>\n",
       "    </tr>\n",
       "    <tr>\n",
       "      <th>4</th>\n",
       "      <td>1498428090</td>\n",
       "      <td>48.673666</td>\n",
       "      <td>2.289129</td>\n",
       "      <td>Putain je viens de me brûler la langue 🙊🙊🙊🙊</td>\n",
       "      <td>3</td>\n",
       "      <td>15</td>\n",
       "      <td>44</td>\n",
       "      <td>4</td>\n",
       "      <td>2014</td>\n",
       "      <td>06</td>\n",
       "      <td>19</td>\n",
       "      <td>POINT (2.289129 48.673666)</td>\n",
       "    </tr>\n",
       "    <tr>\n",
       "      <th>5</th>\n",
       "      <td>289953393</td>\n",
       "      <td>48.865732</td>\n",
       "      <td>2.386827</td>\n",
       "      <td>#tweetlocalisation Denfert Rochereau</td>\n",
       "      <td>3</td>\n",
       "      <td>15</td>\n",
       "      <td>44</td>\n",
       "      <td>4</td>\n",
       "      <td>2014</td>\n",
       "      <td>06</td>\n",
       "      <td>19</td>\n",
       "      <td>POINT (2.386827 48.865732)</td>\n",
       "    </tr>\n",
       "  </tbody>\n",
       "</table>\n",
       "</div>"
      ],
      "text/plain": [
       "          usr        lat       lon  \\\n",
       "1  2296639897  48.945839  2.491264   \n",
       "2   360954534  49.303493  5.863804   \n",
       "3   190311280  43.552704  7.023194   \n",
       "4  1498428090  48.673666  2.289129   \n",
       "5   289953393  48.865732  2.386827   \n",
       "\n",
       "                                                text  day  hour  min  sec  \\\n",
       "1                             #JPNGRE 3-0 pr le #JPN    3    15   44    3   \n",
       "2  Mon père a une nouvelle lubie, m'appeler \"ma p...    3    15   44    3   \n",
       "3                                  C'est la fête 💶💶💶    3    15   44    3   \n",
       "4        Putain je viens de me brûler la langue 🙊🙊🙊🙊    3    15   44    4   \n",
       "5               #tweetlocalisation Denfert Rochereau    3    15   44    4   \n",
       "\n",
       "   year month fecha                            geometry  \n",
       "1  2014    06    19  POINT (2.4912635419 48.9458390389)  \n",
       "2  2014    06    19          POINT (5.863804 49.303493)  \n",
       "3  2014    06    19          POINT (7.023194 43.552704)  \n",
       "4  2014    06    19          POINT (2.289129 48.673666)  \n",
       "5  2014    06    19          POINT (2.386827 48.865732)  "
      ]
     },
     "execution_count": 42,
     "metadata": {},
     "output_type": "execute_result"
    }
   ],
   "source": [
    "dgeo_france.head()"
   ]
  },
  {
   "cell_type": "code",
   "execution_count": 39,
   "metadata": {},
   "outputs": [
    {
     "data": {
      "text/plain": [
       "[]"
      ]
     },
     "execution_count": 39,
     "metadata": {},
     "output_type": "execute_result"
    }
   ],
   "source": [
    "Counter(ori_usr2ses_ori.geom.astype(str)).most_common(10)"
   ]
  },
  {
   "cell_type": "code",
   "execution_count": 64,
   "metadata": {},
   "outputs": [
    {
     "data": {
      "text/plain": [
       "(12630,)"
      ]
     },
     "execution_count": 64,
     "metadata": {},
     "output_type": "execute_result"
    }
   ],
   "source": [
    "dec_pop_iris[\"IRIS\"].shape"
   ]
  },
  {
   "cell_type": "code",
   "execution_count": 66,
   "metadata": {
    "collapsed": true
   },
   "outputs": [],
   "source": [
    "x=pd.merge(usrs_with_iris_pop_income.groupby(\"IRIS\")[\"usr\"].agg(\"count\").reset_index(),dec_pop_iris,on=\"IRIS\")"
   ]
  },
  {
   "cell_type": "code",
   "execution_count": 86,
   "metadata": {},
   "outputs": [
    {
     "ename": "TypeError",
     "evalue": "only integer scalar arrays can be converted to a scalar index",
     "output_type": "error",
     "traceback": [
      "\u001b[0;31m---------------------------------------------------------------------------\u001b[0m",
      "\u001b[0;31mTypeError\u001b[0m                                 Traceback (most recent call last)",
      "\u001b[0;32m<ipython-input-86-255c9e422144>\u001b[0m in \u001b[0;36m<module>\u001b[0;34m()\u001b[0m\n\u001b[0;32m----> 1\u001b[0;31m \u001b[0mnp\u001b[0m\u001b[0;34m.\u001b[0m\u001b[0msum\u001b[0m\u001b[0;34m(\u001b[0m\u001b[0mpop_iris\u001b[0m\u001b[0;34m[\u001b[0m\u001b[0;34m~\u001b[0m\u001b[0mnp\u001b[0m\u001b[0;34m.\u001b[0m\u001b[0misnan\u001b[0m\u001b[0;34m(\u001b[0m\u001b[0mpop_iris\u001b[0m\u001b[0;34m)\u001b[0m\u001b[0;34m]\u001b[0m\u001b[0;34m)\u001b[0m\u001b[0;34m\u001b[0m\u001b[0m\n\u001b[0m",
      "\u001b[0;31mTypeError\u001b[0m: only integer scalar arrays can be converted to a scalar index"
     ]
    }
   ],
   "source": [
    "np.sum(pop_iris[~np.isnan()])"
   ]
  },
  {
   "cell_type": "markdown",
   "metadata": {
    "heading_collapsed": true
   },
   "source": [
    "## Old Stuff"
   ]
  },
  {
   "cell_type": "code",
   "execution_count": null,
   "metadata": {
    "collapsed": true,
    "hidden": true
   },
   "outputs": [],
   "source": [
    "\n",
    "#####################                RAW DATA             #########################\n",
    "\n",
    "##### Profiles\n",
    "data_prof_14=pd.read_csv(\n",
    "    \"/warehouse/COMPLEXNET/jlevyabi/TWITTERSES/ml_soc_econ/data_files/UKSOC_rep/icdm18/issues/icdm_geousers_profile_14.txt\",\n",
    "    sep=\"\\t\",header=-1,\n",
    "    names=[\"id\",\"time\",\"lat\",\"lon\",\"geo_pt\",\"service\",\"profile\",\"follows\",\"friends\",\n",
    "                                     \"nb urls\",\"loc_name\",\"geo_type\"],\n",
    "    index_col=False)\n",
    "\n",
    "fechas,days,hours,minutes,seconds,years,months=time_2_date(data_prof_14.time)\n",
    "data_prof_14['day']=days;data_prof_14['hour']=hours\n",
    "data_prof_14['min']=minutes;data_prof_14['sec']=seconds\n",
    "data_prof_14['year']=years;data_prof_14['month']=months\n",
    "data_prof_14['fecha']=fechas\n",
    "\n",
    "##### Users in France\n",
    "france=Polygon([[-4.9658203125,42.3585439175],[8.4375,42.3585439175],\n",
    "                [8.4375,51.2344073516],[-4.9658203125,51.2344073516],\n",
    "                [-4.9658203125,42.3585439175]])\n",
    "locs_prof=[Point((float(lon),float(lat))) \n",
    "           for lon,lat in zip(data_prof_14.lon,data_prof_14.lat)]\n",
    "\n",
    "dgeo_prof_france_14=data_prof_14[[france.contains(geo_pt) for geo_pt in locs_prof]]\n",
    "print(\"Number of geolocated tweets during 2014-2015... %d geolocations\"%\n",
    "      dgeo_prof_france_14.shape[0])\n",
    "print(\"Number of geolocated tweets during 2014-2015 in France... %d geolocations\"%\n",
    "      dgeo_prof_france_14.shape[0])\n",
    "\n",
    "dgeo_prof_france_14[\"geometry\"]=[Point(x.lon,x.lat) for it,x in tqdmn(dgeo_prof_france_14[[\"lon\",\"lat\"]].iterrows())]\n",
    "dgeo_prof_france_14=GeoDataFrame(dgeo_prof_france_14)\n",
    "dgeo_prof_france_14.crs = {'init': 'epsg:4326'}\n",
    "\n",
    "##### Text of geolocated users\n",
    "usr_tweet_text=pd.read_csv(\n",
    "    \"/warehouse/COMPLEXNET/jlevyabi/TWITTERSES/ml_soc_econ/data_files/UKSOC_rep/tweets/all_geolocated_users.csv\",\n",
    "    sep=';',header=0,\n",
    ")\n",
    "\n",
    "##### Fake Locations\n",
    "nb_rep_thresh=10\n",
    "pre_fake_locs=pd.read_csv(\"/warehouse/COMPLEXNET/jlevyabi/TWITTERSES/geoloc/txt_files/fake_locs.txt\",names=[\"pre\"])\n",
    "fake_locs=[]\n",
    "for x in pre_fake_locs.pre:\n",
    "    try:\n",
    "        lat,lon=float(x.split(\"-\")[0]),float(x.split(\"-\")[-1])\n",
    "    except:\n",
    "        continue\n",
    "    if len(x)==3:fake_locs.append(str((lat,-lon)))\n",
    "    else: fake_locs.append(str((lat,lon)))\n",
    "\n",
    "dec_prec=3\n",
    "fake_locs=list(set(fake_locs))\n",
    "pre_fake=Counter([(round(x[0],dec_prec),round(x[1],dec_prec))\n",
    "                  for x in  dgeo_prof_france_14[[\"lat\",\"lon\"]].values])\n",
    "set_toher_fakes=set([x for x in pre_fake if pre_fake[x]>nb_rep_thresh])"
   ]
  },
  {
   "cell_type": "code",
   "execution_count": 8,
   "metadata": {
    "hidden": true
   },
   "outputs": [
    {
     "name": "stdout",
     "output_type": "stream",
     "text": [
      "arro done\n"
     ]
    }
   ],
   "source": [
    "import xlrd,json\n",
    "def extract_xls_file(path,sheet_name,offset):\n",
    "    workbook = xlrd.open_workbook(path)\n",
    "    worksheet = workbook.sheet_by_name(sheet_name)\n",
    "    rows = []\n",
    "    for i, row in (enumerate(range(worksheet.nrows))):\n",
    "        if i <= offset:  # (Optionally) skip headers\n",
    "            continue\n",
    "        r = []\n",
    "        for j, col in enumerate(range(worksheet.ncols)):\n",
    "            r.append(worksheet.cell_value(i, j))\n",
    "        rows.append(r)\n",
    "    return(pd.DataFrame(rows[1:],columns=rows[0]))\n",
    "\n",
    "\n",
    "f2=\"/warehouse/COMPLEXNET/jlevyabi/TWITTERSES/geoloc/iris_opendata/BASE_TD_FILO_DEC_IRIS_2013.xls\"\n",
    "d_filo_dec_iris=extract_xls_file(f2,\"IRIS_DEC\",4)\n",
    "\n",
    "import geopandas as gpd\n",
    "geo_file=\"/warehouse/COMPLEXNET/jlevyabi/TWITTERSES/geoloc/iris_opendata/shapefile_iris/contours-iris-2016.geojson\"\n",
    "with open(geo_file) as f:\n",
    "    arro_data=json.load(f)\n",
    "\n",
    "print(\"arro done\")\n",
    "df = gpd.read_file(geo_file)\n",
    "codes=[];names=[]\n",
    "france=Polygon([[-4.9658203125,42.3585439175],[8.4375,42.3585439175],\n",
    "                [8.4375,51.2344073516],[-4.9658203125,51.2344073516],[-4.9658203125,42.3585439175]])\n",
    "\n",
    "d_iris=df[[france.contains(geo_pt) if geo_pt else False for geo_pt in (df.geometry)]]\n",
    "d_iris['IRIS']=d_iris.code_iris\n",
    "dec_income_iris=pd.merge(d_iris, d_filo_dec_iris, on='IRIS')"
   ]
  },
  {
   "cell_type": "code",
   "execution_count": 9,
   "metadata": {
    "collapsed": true,
    "hidden": true
   },
   "outputs": [],
   "source": [
    "from geopandas import sjoin\n",
    "usrs_with_iris_income = sjoin(dgeo_prof_france_14, dec_income_iris,how=\"inner\", op='within')"
   ]
  },
  {
   "cell_type": "code",
   "execution_count": 34,
   "metadata": {
    "hidden": true
   },
   "outputs": [
    {
     "data": {
      "application/vnd.jupyter.widget-view+json": {
       "model_id": "e779d52b0c574222afd1573082872a51",
       "version_major": 2,
       "version_minor": 0
      },
      "text/plain": [
       "A Jupyter Widget"
      ]
     },
     "metadata": {},
     "output_type": "display_data"
    },
    {
     "name": "stdout",
     "output_type": "stream",
     "text": [
      "\n"
     ]
    },
    {
     "data": {
      "application/vnd.jupyter.widget-view+json": {
       "model_id": "0e8539f930c746d9b13ee0e747582395",
       "version_major": 2,
       "version_minor": 0
      },
      "text/plain": [
       "A Jupyter Widget"
      ]
     },
     "metadata": {},
     "output_type": "display_data"
    },
    {
     "name": "stdout",
     "output_type": "stream",
     "text": [
      "\n"
     ]
    },
    {
     "data": {
      "application/vnd.jupyter.widget-view+json": {
       "model_id": "e56a3335b40740089e2737fda6473ad5",
       "version_major": 2,
       "version_minor": 0
      },
      "text/plain": [
       "A Jupyter Widget"
      ]
     },
     "metadata": {},
     "output_type": "display_data"
    },
    {
     "name": "stdout",
     "output_type": "stream",
     "text": [
      "\n"
     ]
    }
   ],
   "source": [
    "ori_usrs_with_SES_info_dic={}\n",
    "for it,row in tqdmn(usrs_with_iris_income.iterrows()):\n",
    "    ori_usrs_with_SES_info_dic.setdefault(row.id,[])\n",
    "    ori_usrs_with_SES_info_dic[row.id].append(row)\n",
    "\n",
    "for usr,val in tqdmn(ori_usrs_with_SES_info_dic.items()):\n",
    "    ori_usrs_with_SES_info_dic[usr]=pd.DataFrame(val,columns=list(usrs_with_iris_income.columns))\n",
    "inter={}\n",
    "for k,v in tqdmn(ori_usrs_with_SES_info_dic.items()):\n",
    "    v=v.rename(index=str, columns={\"min\": \"minu\",\"nb urls\":\"text\"})\n",
    "    inter[k]=v\n",
    "\n",
    "ori_usrs_with_SES_info_dic=inter\n",
    "del inter"
   ]
  },
  {
   "cell_type": "code",
   "execution_count": null,
   "metadata": {
    "collapsed": true,
    "hidden": true
   },
   "outputs": [],
   "source": []
  },
  {
   "cell_type": "markdown",
   "metadata": {
    "heading_collapsed": true
   },
   "source": [
    "# Load Relevant Data"
   ]
  },
  {
   "cell_type": "code",
   "execution_count": 9,
   "metadata": {
    "hidden": true
   },
   "outputs": [
    {
     "data": {
      "application/vnd.jupyter.widget-view+json": {
       "model_id": "7989be101f9a415f8910a0cbd48ef953",
       "version_major": 2,
       "version_minor": 0
      },
      "text/html": [
       "<p>Failed to display Jupyter Widget of type <code>HBox</code>.</p>\n",
       "<p>\n",
       "  If you're reading this message in the Jupyter Notebook or JupyterLab Notebook, it may mean\n",
       "  that the widgets JavaScript is still loading. If this message persists, it\n",
       "  likely means that the widgets JavaScript library is either not installed or\n",
       "  not enabled. See the <a href=\"https://ipywidgets.readthedocs.io/en/stable/user_install.html\">Jupyter\n",
       "  Widgets Documentation</a> for setup instructions.\n",
       "</p>\n",
       "<p>\n",
       "  If you're reading this message in another frontend (for example, a static\n",
       "  rendering on GitHub or <a href=\"https://nbviewer.jupyter.org/\">NBViewer</a>),\n",
       "  it may mean that your frontend doesn't currently support widgets.\n",
       "</p>\n"
      ],
      "text/plain": [
       "HBox(children=(IntProgress(value=0, max=127614), HTML(value='')))"
      ]
     },
     "metadata": {},
     "output_type": "display_data"
    },
    {
     "name": "stdout",
     "output_type": "stream",
     "text": [
      "\n"
     ]
    }
   ],
   "source": [
    "import pickle\n",
    "usrs_with_SES_info_dic=pickle.load(open(\"/warehouse/COMPLEXNET/jlevyabi/TWITTERSES/ml_soc_econ/usrs_with_SES_info_dic.p\",\n",
    "                                        \"rb\"))\n",
    "inter={}\n",
    "for k,v in tqdmn(usrs_with_SES_info_dic.items()):\n",
    "    v=v.rename(index=str, columns={\"min\": \"minu\",\"nb urls\":\"text\"})\n",
    "    inter[k]=v\n",
    "\n",
    "usrs_with_SES_info_dic=inter\n",
    "del inter"
   ]
  },
  {
   "cell_type": "code",
   "execution_count": 10,
   "metadata": {
    "collapsed": true,
    "hidden": true
   },
   "outputs": [],
   "source": [
    "dec_prec=5\n",
    "nb_rep_thresh=10\n",
    "pre_fake_locs=pd.read_csv(\"/warehouse/COMPLEXNET/jlevyabi/TWITTERSES/geoloc/txt_files/fake_locs.txt\",\n",
    "                          names=[\"pre\"])\n",
    "fake_locs=[]\n",
    "for x in pre_fake_locs.pre:\n",
    "    try:\n",
    "        lat,lon=round(float(x.split(\"-\")[0]),dec_prec),round(float(x.split(\"-\")[-1]),dec_prec)\n",
    "    except:\n",
    "        continue\n",
    "    if len(x)==3:\n",
    "        fake_locs.append(str((round(lat,dec_prec),-round(lon,dec_prec))))\n",
    "    else:\n",
    "        fake_locs.append(str((round(lat,dec_prec),round(lon,dec_prec))))\n",
    "\n",
    "set_toher_fakes=list(set(fake_locs))"
   ]
  },
  {
   "cell_type": "markdown",
   "metadata": {},
   "source": [
    "# Filters"
   ]
  },
  {
   "cell_type": "markdown",
   "metadata": {},
   "source": [
    "__why getting good results without the filters?__"
   ]
  },
  {
   "cell_type": "code",
   "execution_count": 11,
   "metadata": {},
   "outputs": [
    {
     "data": {
      "application/vnd.jupyter.widget-view+json": {
       "model_id": "71c7bb5c8ec94d348f1cf15604807d54",
       "version_major": 2,
       "version_minor": 0
      },
      "text/html": [
       "<p>Failed to display Jupyter Widget of type <code>HBox</code>.</p>\n",
       "<p>\n",
       "  If you're reading this message in the Jupyter Notebook or JupyterLab Notebook, it may mean\n",
       "  that the widgets JavaScript is still loading. If this message persists, it\n",
       "  likely means that the widgets JavaScript library is either not installed or\n",
       "  not enabled. See the <a href=\"https://ipywidgets.readthedocs.io/en/stable/user_install.html\">Jupyter\n",
       "  Widgets Documentation</a> for setup instructions.\n",
       "</p>\n",
       "<p>\n",
       "  If you're reading this message in another frontend (for example, a static\n",
       "  rendering on GitHub or <a href=\"https://nbviewer.jupyter.org/\">NBViewer</a>),\n",
       "  it may mean that your frontend doesn't currently support widgets.\n",
       "</p>\n"
      ],
      "text/plain": [
       "HBox(children=(IntProgress(value=0, max=127614), HTML(value='')))"
      ]
     },
     "metadata": {},
     "output_type": "display_data"
    },
    {
     "name": "stdout",
     "output_type": "stream",
     "text": [
      "\n"
     ]
    },
    {
     "data": {
      "application/vnd.jupyter.widget-view+json": {
       "model_id": "278fe25e11794d15a2f91fa2a8b565ed",
       "version_major": 2,
       "version_minor": 0
      },
      "text/html": [
       "<p>Failed to display Jupyter Widget of type <code>HBox</code>.</p>\n",
       "<p>\n",
       "  If you're reading this message in the Jupyter Notebook or JupyterLab Notebook, it may mean\n",
       "  that the widgets JavaScript is still loading. If this message persists, it\n",
       "  likely means that the widgets JavaScript library is either not installed or\n",
       "  not enabled. See the <a href=\"https://ipywidgets.readthedocs.io/en/stable/user_install.html\">Jupyter\n",
       "  Widgets Documentation</a> for setup instructions.\n",
       "</p>\n",
       "<p>\n",
       "  If you're reading this message in another frontend (for example, a static\n",
       "  rendering on GitHub or <a href=\"https://nbviewer.jupyter.org/\">NBViewer</a>),\n",
       "  it may mean that your frontend doesn't currently support widgets.\n",
       "</p>\n"
      ],
      "text/plain": [
       "HBox(children=(IntProgress(value=0, max=53787), HTML(value='')))"
      ]
     },
     "metadata": {},
     "output_type": "display_data"
    },
    {
     "name": "stdout",
     "output_type": "stream",
     "text": [
      "\n",
      "Number of users before filtering... 127614\n",
      "Users going too fast... 0\n",
      "Users too variable ... 1099\n",
      "Weather bots ... 818\n",
      "Real users with more than 5 locations ...53787\n",
      "Users posting 2 consecutive tweets in less than 2 secs  ... 13814\n",
      "Users with too many followers/friends ... 0\n",
      "Final nb of users  39973\n"
     ]
    }
   ],
   "source": [
    "max_km_var=10\n",
    "max_km_per_h=120\n",
    "nb_mini_locs=5\n",
    "nb_min_crazy=20\n",
    "thresh_rate=3\n",
    "\n",
    "dic_locs_reals,d_locs_fast,d_locs_vars,dic_mar,dic_dist,dic_speed,pre_home=fast_get_repr_location(\n",
    "    dic_locs=usrs_with_SES_info_dic,\n",
    "    max_km_var=max_km_var,\n",
    "    max_km_per_h=max_km_per_h,\n",
    "    nb_mini_locs=nb_mini_locs,\n",
    "    nb_min_crazy=nb_min_crazy)\n",
    "\n",
    "#new_dic_real,activ_static_usrs=remove_active_static_usrs(dic_real=dic_locs_reals,pandas_version=0)\n",
    "new_dic_real_normal_activ,hyper_active_usrs=remove_hyperactive_usrs(dic_locs_reals,pandas_version=0,thresh_rate=thresh_rate)\n",
    "new_dic_real_normal_social,hyper_social_usrs_home=remove_hyper_social_usrs(dic_real=new_dic_real_normal_activ)\n",
    "\n",
    "print(\"Number of users before filtering... %d\"%len(usrs_with_SES_info_dic.keys()))\n",
    "print(\"Users going too fast... %d\"%len(d_locs_fast))\n",
    "print(\"Users too variable ... %d\"%len(d_locs_vars))\n",
    "print(\"Weather bots ... %d\"%len(dic_mar))\n",
    "print(\"Real users with more than %d locations ...%d\"%(nb_mini_locs,len(dic_locs_reals)))\n",
    "print(\"Users posting 2 consecutive tweets in less than 2 secs  ... %d\"%len(hyper_active_usrs))\n",
    "print(\"Users with too many followers/friends ... %d\"%len(hyper_social_usrs_home))\n",
    "print(\"Final nb of users  %d\"%len(new_dic_real_normal_social))"
   ]
  },
  {
   "cell_type": "code",
   "execution_count": null,
   "metadata": {
    "collapsed": true
   },
   "outputs": [],
   "source": []
  },
  {
   "cell_type": "code",
   "execution_count": null,
   "metadata": {
    "collapsed": true
   },
   "outputs": [],
   "source": []
  },
  {
   "cell_type": "code",
   "execution_count": 52,
   "metadata": {},
   "outputs": [
    {
     "data": {
      "application/vnd.jupyter.widget-view+json": {
       "model_id": "484de2a2a8df4bcebf417fb19ef6fb86",
       "version_major": 2,
       "version_minor": 0
      },
      "text/plain": [
       "A Jupyter Widget"
      ]
     },
     "metadata": {},
     "output_type": "display_data"
    },
    {
     "name": "stdout",
     "output_type": "stream",
     "text": [
      "\n"
     ]
    }
   ],
   "source": [
    "from datetime import datetime\n",
    "ori_usr2ses_ori=get_gini_for_userset(ori_usrs_with_SES_info_dic)#[[\"year\",\"month\",\"fecha\",\"hour\",\"minu\",\"sec\"]]"
   ]
  },
  {
   "cell_type": "code",
   "execution_count": 55,
   "metadata": {},
   "outputs": [
    {
     "data": {
      "text/plain": [
       "0.3727800190426334"
      ]
     },
     "execution_count": 55,
     "metadata": {},
     "output_type": "execute_result"
    }
   ],
   "source": [
    "np.average(ori_usr2ses_ori.gini)"
   ]
  },
  {
   "cell_type": "code",
   "execution_count": null,
   "metadata": {
    "collapsed": true
   },
   "outputs": [],
   "source": [
    "np.average(ori_usr2ses_ori.DEC_GI13)"
   ]
  },
  {
   "cell_type": "code",
   "execution_count": null,
   "metadata": {
    "collapsed": true
   },
   "outputs": [],
   "source": [
    "usr2ses_ori=get_gini_for_userset(usrs_with_SES_info_dic)\n",
    "usr2ses_locs_reals=get_gini_for_userset(dic_locs_reals)\n",
    "usr2ses_normal_activ=get_gini_for_userset(new_dic_real_normal_activ)\n",
    "usr2ses_real_normal_social=get_gini_for_userset(new_dic_real_normal_social)\n",
    "usr2ses_final=get_gini_for_userset(new_dic_real_normal_social,min_t=5,min_d=1)"
   ]
  },
  {
   "cell_type": "code",
   "execution_count": 56,
   "metadata": {},
   "outputs": [
    {
     "data": {
      "image/png": "[encoded data removed]",
      "text/plain": [
       "<matplotlib.figure.Figure at 0x7ff80eb24ac8>"
      ]
     },
     "metadata": {},
     "output_type": "display_data"
    }
   ],
   "source": [
    "f_income_all_homes,cpf_income_all_homes=yannick_plots(usr2ses_final.insee_iris_med)\n",
    "import matplotlib.pyplot as plt\n",
    "import seaborn as sns\n",
    "# Log-Log Income Distribution\n",
    "plt.figure(figsize=(8,6))\n",
    "sns.set(font_scale=1.3)\n",
    "sns.set_style('white')\n",
    "\n",
    "# Cumulative Income Distribution\n",
    "plt.plot(f_income_all_homes,cpf_income_all_homes,\"red\")\n",
    "plt.plot([0,1],[0,1],\"k--\")\n",
    "plt.xlabel(r\"$f$\");\n",
    "plt.ylabel(r\"$C_P(f)$\");\n",
    "plt.text(x=0.1,y=0.9,\n",
    "         s=\"GINI %.3f\"%(gini(f_income_all_homes,cpf_income_all_homes)));\n",
    "plt.show()"
   ]
  },
  {
   "cell_type": "code",
   "execution_count": null,
   "metadata": {
    "collapsed": true
   },
   "outputs": [],
   "source": [
    "Counter([(x.lat,x.lon) for x in usr2ses_ori[\"geom\"].values]).most_common()"
   ]
  },
  {
   "cell_type": "code",
   "execution_count": null,
   "metadata": {
    "collapsed": true
   },
   "outputs": [],
   "source": []
  },
  {
   "cell_type": "code",
   "execution_count": null,
   "metadata": {
    "collapsed": true
   },
   "outputs": [],
   "source": [
    "homogeneous_usrs=np.array([bool(np.all(np.array([x,y,z,t]))) or bool(1-np.all(np.array([x,y,z,t]) )) \n",
    "                  for x,y,z,t in zip(ses_insee_class,ses_iris_class_lowe,ses_iris_class_med,ses_iris_class_sup)])"
   ]
  },
  {
   "cell_type": "code",
   "execution_count": null,
   "metadata": {
    "collapsed": true
   },
   "outputs": [],
   "source": []
  },
  {
   "cell_type": "markdown",
   "metadata": {},
   "source": [
    "# Helpers"
   ]
  },
  {
   "cell_type": "markdown",
   "metadata": {},
   "source": [
    "## Location Helpers"
   ]
  },
  {
   "cell_type": "code",
   "execution_count": 9,
   "metadata": {
    "collapsed": true
   },
   "outputs": [],
   "source": [
    "uk = '+proj=tmerc +lat_0=49 +lon_0=-2 +k=0.9996012717 \\\n",
    "+x_0=400000 +y_0=-100000 +ellps=airy \\\n",
    "+towgs84=446.448,-125.157,542.06,0.15,0.247,0.842,-20.489 +units=m +no_defs'\n",
    "from pyproj import transform,Proj\n",
    "\n",
    "def proj_arr(points,proj_to):\n",
    "    inproj = Proj(init='epsg:4326')\n",
    "    outproj = Proj(proj_to)\n",
    "    func = lambda x: transform(inproj,outproj,x[1],x[0])\n",
    "    return np.array(list(map(func, points)))\n",
    "\n",
    "def take_most_frequent_thresh(geopandas_usr,min_times=5,min_days=1):\n",
    "    polys_visited=list(geopandas_usr.IRIS)\n",
    "    time_of_visit=[datetime(int(row.year),int(row.month),int(row.fecha),\n",
    "                            int(row.hour),int(row[\"min\"]),int(row.sec))\n",
    "                   for it,row in geopandas_usr.iterrows()]\n",
    "    locat_mode=Counter(polys_visited).most_common(1)[0][0]\n",
    "    nb_times=Counter(polys_visited).most_common(1)[0][1]\n",
    "    inter_idx=np.where([x==locat_mode for x in polys_visited])[0].tolist()\n",
    "    time_diff=[time_of_visit[i] for i in inter_idx]\n",
    "    if nb_times>=min_times and (max(time_diff)-min(time_diff)).days>=min_days:\n",
    "        idx_mode=polys_visited.index(locat_mode)\n",
    "        return idx_mode,geopandas_usr.iloc[idx_mode][\"geometry\"]\n",
    "    else:\n",
    "        return None,None\n",
    "\n",
    "def get_check_in_rate_margin_most_freq(geopandas_usr):\n",
    "    polys_visited=list(geopandas_usr.idINSPIRE)\n",
    "    inter=Counter(polys_visited).most_common(2)\n",
    "    if len(inter)<2:\n",
    "        return None,None,None,None,None\n",
    "    locat_mode,sec_locat_mode=inter\n",
    "    idx_mode,idx_mode_sec=polys_visited.index(locat_mode[0]),polys_visited.index(sec_locat_mode[0])\n",
    "    return (idx_mode,geopandas_usr.iloc[idx_mode][[\"lat\",\"lon\"]],\n",
    "            idx_mode_sec,geopandas_usr.iloc[idx_mode_sec][[\"lat\",\"lon\"]],\n",
    "           ((locat_mode[1]+0.0-sec_locat_mode[1])/(sec_locat_mode[1]+locat_mode[1])))\n",
    "\n",
    "def take_most_frequent_night_thresh(geopandas_usr,start=21,stop=6) :\n",
    "    polys_visited=(geopandas_usr.idINSPIRE)\n",
    "    polys_visited_night=polys_visited[(geopandas_usr.hour>=start)|(geopandas_usr.hour<stop)]\n",
    "    if len(polys_visited_night)==0:\n",
    "        return None,None\n",
    "    locat_mode=Counter(polys_visited_night).most_common(1)[0][0]\n",
    "    idx_mode=list(polys_visited).index(locat_mode)\n",
    "    return idx_mode,geopandas_usr.iloc[idx_mode][[\"lat\",\"lon\"]]\n",
    "\n",
    "def get_distance_matrix(geopandas_usr):\n",
    "    x = np.array(geopandas_usr[[\"lat\",\"lon\"]]).astype(float).tolist()\n",
    "    y=proj_arr(x,uk)\n",
    "    ztree = cKDTree(y)\n",
    "    z = ztree.sparse_distance_matrix(ztree,1e6,p=2).todense()\n",
    "    return z\n",
    "\n",
    "def distance_to_home(geopandas_usr,select_home_loc,args):\n",
    "    idx,loc=select_home_loc(geopandas_usr,*args)\n",
    "    if idx is None:\n",
    "        return None,None,None\n",
    "    mat_dist=get_distance_matrix(geopandas_usr)\n",
    "    return mat_dist[idx,:].tolist()[0],list(geopandas_usr.day),list(geopandas_usr.hour)\n",
    "\n",
    "def go_through_home_candidates(dic_gpd,select_home_loc):\n",
    "    dic_exam={}\n",
    "    for usr,gpd in tqdmn(dic_gpd.items()):\n",
    "        idx,loc=select_home_loc(gpd)\n",
    "        if idx is None:\n",
    "            continue\n",
    "        dic_exam.setdefault(usr,gpd.iloc[idx])\n",
    "    return dic_exam\n",
    "\n",
    "def go_through_geol_users(dic_gpd,select_home_loc,args,outlier_lim=6e4):\n",
    "    dic_per_day={k:np.zeros(24) for k in range(7)}\n",
    "    dic_nb_per_day={k:np.zeros(24) for k in range(7)}\n",
    "    dic_exam={}\n",
    "    loss=[]\n",
    "    for usr,gpd in tqdmn(dic_gpd.items()):\n",
    "        dic_exam.setdefault(usr,[])\n",
    "        dists,days,hours=distance_to_home(gpd,select_home_loc,args)\n",
    "        new_dists=np.array(dists)\n",
    "        if dists is None:\n",
    "            continue\n",
    "        loss.append(1-(np.sum([new_dists<outlier_lim])+0.0)/len(dists) )\n",
    "        dists=new_dists[new_dists<outlier_lim]\n",
    "        for dist,day,hour in zip(dists,days,hours):\n",
    "            dic_exam[usr].append(dist)\n",
    "            dic_per_day[day][hour]+=dist\n",
    "            dic_nb_per_day[day][hour]+=1\n",
    "    dic_day={}\n",
    "    for k,v in dic_per_day.items():\n",
    "        dic_day[k]=(v/dic_nb_per_day[k])/100\n",
    "    return dic_day,dic_exam,loss"
   ]
  },
  {
   "cell_type": "markdown",
   "metadata": {
    "heading_collapsed": true
   },
   "source": [
    "## Cython: Redefine \"polygon contains point\" function from shapely"
   ]
  },
  {
   "cell_type": "markdown",
   "metadata": {
    "hidden": true
   },
   "source": [
    "Redefine \"polygon contains point\" function from shapely"
   ]
  },
  {
   "cell_type": "code",
   "execution_count": null,
   "metadata": {
    "collapsed": true,
    "hidden": true
   },
   "outputs": [],
   "source": [
    "%load_ext cython"
   ]
  },
  {
   "cell_type": "code",
   "execution_count": null,
   "metadata": {
    "collapsed": true,
    "hidden": true
   },
   "outputs": [],
   "source": [
    "%%cython -l geos_c -L/home/jlevyabi/seacabo/geoanaconda/anaconda3/lib -I/home/jlevyabi/seacabo/geoanaconda/anaconda3/include -a\n",
    "\n",
    "import cython\n",
    "cimport cpython.array\n",
    "\n",
    "import numpy as np\n",
    "cimport numpy as np\n",
    "\n",
    "cdef extern from \"geos_c.h\":\n",
    "    ctypedef void *GEOSContextHandle_t\n",
    "    ctypedef struct GEOSGeometry\n",
    "    char GEOSContains_r(GEOSContextHandle_t, const GEOSGeometry*, const GEOSGeometry*) nogil\n",
    "    \n",
    "cdef GEOSContextHandle_t get_geos_context_handle():\n",
    "    # Note: This requires that lgeos is defined, so needs to be imported as:\n",
    "    from shapely.geos import lgeos\n",
    "    cdef np.uintp_t handle = lgeos.geos_handle\n",
    "    return <GEOSContextHandle_t>handle\n",
    "\n",
    "\n",
    "@cython.boundscheck(False)\n",
    "@cython.wraparound(False)\n",
    "def contains_cy_insee(np.int64_t[:] array_usrs, np.int64_t[:]array_insee ):\n",
    "    \n",
    "    cdef Py_ssize_t idx\n",
    "    cdef unsigned int n = array_usrs.size\n",
    "    cdef unsigned int n_geo = array_insee.size\n",
    "    cdef np.ndarray[np.uint8_t, ndim=2, cast=True] result = np.empty([n,n_geo],dtype=np.uint8)\n",
    "\n",
    "    cdef GEOSContextHandle_t geos_handle\n",
    "    cdef GEOSGeometry *geom1\n",
    "    cdef GEOSGeometry *geom2\n",
    "    cdef np.uintp_t geos_geom_usrs\n",
    "    cdef np.uintp_t geos_geom_insee\n",
    "\n",
    "    geos_h = get_geos_context_handle()\n",
    "    for idx in xrange(n):\n",
    "        for idx_geos in xrange(n_geo):\n",
    "            geos_geom_usrs = array_usrs[idx]\n",
    "            geom2 = <GEOSGeometry *>geos_geom_usrs\n",
    "            geos_geom_insee = array_insee[idx_geos]\n",
    "            geom1 = <GEOSGeometry *> geos_geom_insee\n",
    "            \n",
    "            # Put the result of whether the point is \"contained\" by the\n",
    "            # prepared geometry into the result array. \n",
    "            result[idx][idx_geos] = <np.uint8_t> GEOSContains_r(geos_h, geom1, geom2)\n",
    "            #GEOSGeom_destroy_r(geos_h, geom2)\n",
    "\n",
    "    return result.view(dtype=np.bool)"
   ]
  },
  {
   "cell_type": "code",
   "execution_count": null,
   "metadata": {
    "collapsed": true,
    "hidden": true
   },
   "outputs": [],
   "source": [
    "def my_pt2poly(usr_df,country_dic,set_keys):\n",
    "    usr_info=[];prec=2;step=10**(-prec);vals=[-step,0,step]\n",
    "    test=[]\n",
    "    map_prec = lambda x: str(round(x,prec))\n",
    "    for it,usr in tqdmn(usr_df.iterrows()):\n",
    "        us_posx,us_posy=usr.geometry.centroid.bounds[:2]  \n",
    "        usr_geom=usr.geometry._geom\n",
    "        keys=(set([(map_prec(us_posy+yval),map_prec(us_posx+xval))\n",
    "              for xval in vals for yval in vals])).intersection(set_keys)\n",
    "        pre_df_of_concern=[country_dic[key]\n",
    "                       for key in keys if country_dic[key].shape[0]>0]\n",
    "        df_of_concern=[y._geom \n",
    "                       for x in pre_df_of_concern for y in x.geometry]\n",
    "        df_ilocs_concern=[y\n",
    "                       for x in pre_df_of_concern for y in x[\"Unnamed: 0\"]]\n",
    "        if len(df_of_concern)==0:\n",
    "            test.append(None)\n",
    "            continue\n",
    "        #insee_to_check = pd.concat(df_of_concern)\n",
    "        geom_to_check = df_of_concern#np.array([x._geom for x in (insee_to_check.geometry)])\n",
    "        assignments=(contains_cy_insee(np.array([usr_geom]), np.array(geom_to_check)))\n",
    "        to_check=np.where(assignments)\n",
    "        _,poly=to_check\n",
    "        if len(poly)==0:\n",
    "            test.append(None)\n",
    "        else:\n",
    "            test.append(df_ilocs_concern[poly[0]])\n",
    "    return test"
   ]
  },
  {
   "cell_type": "code",
   "execution_count": null,
   "metadata": {
    "collapsed": true,
    "hidden": true
   },
   "outputs": [],
   "source": []
  }
 ],
 "metadata": {
  "kernelspec": {
   "display_name": "Python 3",
   "language": "python",
   "name": "python3"
  },
  "language_info": {
   "codemirror_mode": {
    "name": "ipython",
    "version": 3
   },
   "file_extension": ".py",
   "mimetype": "text/x-python",
   "name": "python",
   "nbconvert_exporter": "python",
   "pygments_lexer": "ipython3",
   "version": "3.6.5"
  },
  "toc": {
   "base_numbering": 1,
   "nav_menu": {
    "height": "183px",
    "width": "557px"
   },
   "number_sections": true,
   "sideBar": true,
   "skip_h1_title": false,
   "title_cell": "Table of Contents",
   "title_sidebar": "Contents",
   "toc_cell": false,
   "toc_position": {},
   "toc_section_display": true,
   "toc_window_display": false
  }
 },
 "nbformat": 4,
 "nbformat_minor": 2
}
