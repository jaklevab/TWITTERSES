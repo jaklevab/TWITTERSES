{
 "cells": [
  {
   "cell_type": "code",
   "execution_count": null,
   "metadata": {},
   "outputs": [],
   "source": [
    "### import pandas as pd\n",
    "from geopandas import GeoDataFrame\n",
    "import pickle\n",
    "from tqdm import tqdm\n",
    "import matplotlib.pyplot as plt\n",
    "import geopandas as gpd\n",
    "from shapely.geometry import Point\n",
    "from shapely.geometry.polygon import Polygon\n",
    "import warnings\n",
    "import helpers_ses_prediction as hsp\n",
    "%reload_ext autoreload\n",
    "%autoreload 2\n",
    "import sys\n",
    "sys.path.append('/datastore/complexnet/jlevyabi/network_representation/python_scripts/')\n",
    "import helpers_ses_prediction as hsp\n",
    "from geopandas import sjoin"
   ]
  },
  {
   "cell_type": "code",
   "execution_count": 3,
   "metadata": {
    "scrolled": false
   },
   "outputs": [
    {
     "name": "stderr",
     "output_type": "stream",
     "text": [
      "100%|██████████| 83414/83414 [00:00<00:00, 483247.80it/s]\n"
     ]
    }
   ],
   "source": [
    "f=open(\"/datastore/complexnet/jlevyabi/ml_soc_econ/data_files/UKSOC_rep/linkedin/\"+\n",
    "       \"linkedin_data/linkedin_usrs_profile_unique.txt\",\"r\")\n",
    "data=[]\n",
    "not_data=[]\n",
    "\n",
    "for line in tqdm(f.readlines()):\n",
    "    info=line.split(\"\\t\")\n",
    "    if len(info)<2 or \"http\" not in line or \"linkedin.com/in/\" not in line:\n",
    "        not_data.append(line)\n",
    "        continue\n",
    "    foo_indexes = [x for x in info if \"linkedin.com/in/\" in x]\n",
    "    data.append((info[0],info[1],foo_indexes[0].replace(\"\\n\",\"\")))\n",
    "    \n",
    "data_linked_accounts=pd.DataFrame(data,columns=[\"usr\",\"username\",\"account\"])\n",
    "what_happened=pd.DataFrame(not_data,columns=[\"string\"])\n",
    "data_linked_accounts.to_csv(\n",
    "    \"/datastore/complexnet/jlevyabi/ml_soc_econ/data_files/UKSOC_rep/linkedin/twitter_linked_accounts.csv\",sep=\"\\t\")"
   ]
  },
  {
   "cell_type": "code",
   "execution_count": 4,
   "metadata": {},
   "outputs": [
    {
     "name": "stderr",
     "output_type": "stream",
     "text": [
      "100%|██████████| 15954/15954 [01:56<00:00, 137.06it/s]\n"
     ]
    }
   ],
   "source": [
    "dgeo=pd.read_csv(header=None,sep=\"\\t\",\n",
    "                 filepath_or_buffer=\"/datastore/complexnet/jlevyabi/geoloc/txt_files/2014-2015_locs.txt\",\n",
    "                names=[\"usr\",\"time\",\"lat\",\"lon\"])\n",
    "dgeo[\"usr\"]=[int(x) for x in dgeo.usr]\n",
    "geo_usrs=list(set(dgeo.usr))\n",
    "dic_geo_linked=data_linked_accounts[[x in geo_usrs for x in tqdm(data_linked_accounts.usr)]]"
   ]
  },
  {
   "cell_type": "code",
   "execution_count": null,
   "metadata": {},
   "outputs": [],
   "source": [
    "import pandas as pd\n",
    "linkedin=pd.read_csv(\n",
    "    \"/datastore/complexnet/jlevyabi/ml_soc_econ/data_files/UKSOC_rep/linkedin/linkedin_data/full_linked_info.csv\")"
   ]
  },
  {
   "cell_type": "code",
   "execution_count": 12,
   "metadata": {},
   "outputs": [
    {
     "ename": "NameError",
     "evalue": "name 'a' is not defined",
     "output_type": "error",
     "traceback": [
      "\u001b[0;31m---------------------------------------------------------------------------\u001b[0m",
      "\u001b[0;31mNameError\u001b[0m                                 Traceback (most recent call last)",
      "\u001b[0;32m<ipython-input-12-3f786850e387>\u001b[0m in \u001b[0;36m<module>\u001b[0;34m()\u001b[0m\n\u001b[0;32m----> 1\u001b[0;31m \u001b[0ma\u001b[0m\u001b[0;34m\u001b[0m\u001b[0m\n\u001b[0m",
      "\u001b[0;31mNameError\u001b[0m: name 'a' is not defined"
     ]
    }
   ],
   "source": [
    "a"
   ]
  },
  {
   "cell_type": "code",
   "execution_count": 6,
   "metadata": {
    "scrolled": false
   },
   "outputs": [
    {
     "data": {
      "text/plain": [
       "431"
      ]
     },
     "execution_count": 6,
     "metadata": {},
     "output_type": "execute_result"
    }
   ],
   "source": [
    "len(set(geo_usrs).intersection(set(linkedin.twitter_id)))"
   ]
  },
  {
   "cell_type": "code",
   "execution_count": 11,
   "metadata": {},
   "outputs": [
    {
     "data": {
      "text/html": [
       "<div>\n",
       "<style scoped>\n",
       "    .dataframe tbody tr th:only-of-type {\n",
       "        vertical-align: middle;\n",
       "    }\n",
       "\n",
       "    .dataframe tbody tr th {\n",
       "        vertical-align: top;\n",
       "    }\n",
       "\n",
       "    .dataframe thead th {\n",
       "        text-align: right;\n",
       "    }\n",
       "</style>\n",
       "<table border=\"1\" class=\"dataframe\">\n",
       "  <thead>\n",
       "    <tr style=\"text-align: right;\">\n",
       "      <th></th>\n",
       "      <th>usr</th>\n",
       "      <th>lat</th>\n",
       "      <th>lon</th>\n",
       "      <th>day</th>\n",
       "      <th>hour</th>\n",
       "      <th>minu</th>\n",
       "      <th>sec</th>\n",
       "      <th>year</th>\n",
       "      <th>month</th>\n",
       "      <th>fecha</th>\n",
       "      <th>...</th>\n",
       "      <th>ind_age7</th>\n",
       "      <th>i_age7</th>\n",
       "      <th>ind_age8</th>\n",
       "      <th>i_age8</th>\n",
       "      <th>ind_srf</th>\n",
       "      <th>nbcar_y</th>\n",
       "      <th>geometry.1</th>\n",
       "      <th>income</th>\n",
       "      <th>owner_ratio</th>\n",
       "      <th>density</th>\n",
       "    </tr>\n",
       "  </thead>\n",
       "  <tbody>\n",
       "    <tr>\n",
       "      <th>0</th>\n",
       "      <td>1263741576</td>\n",
       "      <td>49.223577</td>\n",
       "      <td>6.057225</td>\n",
       "      <td>3</td>\n",
       "      <td>20</td>\n",
       "      <td>11</td>\n",
       "      <td>1</td>\n",
       "      <td>2014</td>\n",
       "      <td>6</td>\n",
       "      <td>19</td>\n",
       "      <td>...</td>\n",
       "      <td>NaN</td>\n",
       "      <td>NaN</td>\n",
       "      <td>NaN</td>\n",
       "      <td>NaN</td>\n",
       "      <td>NaN</td>\n",
       "      <td>NaN</td>\n",
       "      <td>NaN</td>\n",
       "      <td>NaN</td>\n",
       "      <td>NaN</td>\n",
       "      <td>NaN</td>\n",
       "    </tr>\n",
       "  </tbody>\n",
       "</table>\n",
       "<p>1 rows × 44 columns</p>\n",
       "</div>"
      ],
      "text/plain": [
       "          usr        lat       lon  day  hour  minu  sec  year  month  fecha  \\\n",
       "0  1263741576  49.223577  6.057225    3    20    11    1  2014      6     19   \n",
       "\n",
       "    ...    ind_age7  i_age7 ind_age8 i_age8 ind_srf  nbcar_y  geometry.1  \\\n",
       "0   ...         NaN     NaN      NaN    NaN     NaN      NaN         NaN   \n",
       "\n",
       "   income  owner_ratio  density  \n",
       "0     NaN          NaN      NaN  \n",
       "\n",
       "[1 rows x 44 columns]"
      ]
     },
     "execution_count": 11,
     "metadata": {},
     "output_type": "execute_result"
    }
   ],
   "source": [
    "df_final=pd.read_csv(\"/datastore/complexnet/jlevyabi/geoloc/locs_gt5_nb_locs_users_no_weekend_insee.csv\",sep=\";\")\n",
    "df_final.drop(\"income\",axis=1,inplace=True)\n",
    "df_final[\"income\"]=df_final[\"ind_srf\"]/df_final[\"ind_r\"]\n",
    "df_final[\"owner_ratio\"]=df_final[\"men_prop\"]/df_final[\"ind_r\"]\n",
    "df_final[\"density\"]=df_final[\"ind_r\"]/(0.04*df_final[\"nbcar_x\"])\n",
    "df_final.drop([\"income.1\",\"Unnamed: 0\",\"nbcar_x\"],axis=1,inplace=True)\n",
    "df_final.head(1)"
   ]
  },
  {
   "cell_type": "code",
   "execution_count": null,
   "metadata": {},
   "outputs": [],
   "source": [
    "dic_insee_linked=pd.merge(data_linked_accounts,dic_insee_avg,on=\"usr\",how=\"inner\")"
   ]
  },
  {
   "cell_type": "code",
   "execution_count": null,
   "metadata": {},
   "outputs": [],
   "source": [
    "data_linkedin_not_void=pd.read_csv(\"~/seacabo/data_files/salary_databases/linkedin_prof_jdn.csv\",sep=\"\\t\",header=0)\n",
    "data_linkedin_not_void.head()"
   ]
  },
  {
   "cell_type": "code",
   "execution_count": 18,
   "metadata": {},
   "outputs": [
    {
     "data": {
      "image/png": "[encoded data removed]",
      "text/plain": [
       "<matplotlib.figure.Figure at 0x7fe0e08a5780>"
      ]
     },
     "metadata": {},
     "output_type": "display_data"
    }
   ],
   "source": [
    "import matplotlib.pyplot as plt\n",
    "data_linkedin_not_void[data_linkedin_not_void.salary_0<12000][\"salary_0\"].hist(bins=5)\n",
    "plt.show()"
   ]
  },
  {
   "cell_type": "code",
   "execution_count": 2,
   "metadata": {},
   "outputs": [],
   "source": [
    "import logging\n",
    "import pandas as pd\n",
    "import numpy as np\n",
    "from tqdm import tqdm_notebook as tqdm\n",
    "from collections import Counter\n",
    "from unidecode import unidecode as decod\n",
    "from gensim.utils import simple_preprocess\n",
    "import re\n",
    "from gensim import corpora, models\n",
    "import gensim"
   ]
  },
  {
   "cell_type": "code",
   "execution_count": 3,
   "metadata": {},
   "outputs": [
    {
     "name": "stderr",
     "output_type": "stream",
     "text": [
      "/home/jlevyabi/anaconda3/lib/python3.6/site-packages/IPython/core/interactiveshell.py:2728: DtypeWarning: Columns (31,61) have mixed types. Specify dtype option on import or set low_memory=False.\n",
      "  interactivity=interactivity, compiler=compiler, result=result)\n"
     ]
    }
   ],
   "source": [
    "df_final=pd.read_csv(\"/datastore/complexnet/jlevyabi/ml_soc_econ/data_files/UKSOC_rep/linkedin/linkedin_data/linkedin_usrs.csv\")"
   ]
  },
  {
   "cell_type": "code",
   "execution_count": 4,
   "metadata": {},
   "outputs": [
    {
     "data": {
      "application/vnd.jupyter.widget-view+json": {
       "model_id": "c7095a90c72e420099f0dc67f85d8cce",
       "version_major": 2,
       "version_minor": 0
      },
      "text/html": [
       "<p>Failed to display Jupyter Widget of type <code>HBox</code>.</p>\n",
       "<p>\n",
       "  If you're reading this message in the Jupyter Notebook or JupyterLab Notebook, it may mean\n",
       "  that the widgets JavaScript is still loading. If this message persists, it\n",
       "  likely means that the widgets JavaScript library is either not installed or\n",
       "  not enabled. See the <a href=\"https://ipywidgets.readthedocs.io/en/stable/user_install.html\">Jupyter\n",
       "  Widgets Documentation</a> for setup instructions.\n",
       "</p>\n",
       "<p>\n",
       "  If you're reading this message in another frontend (for example, a static\n",
       "  rendering on GitHub or <a href=\"https://nbviewer.jupyter.org/\">NBViewer</a>),\n",
       "  it may mean that your frontend doesn't currently support widgets.\n",
       "</p>\n"
      ],
      "text/plain": [
       "HBox(children=(IntProgress(value=1, bar_style='info', max=1), HTML(value='')))"
      ]
     },
     "metadata": {},
     "output_type": "display_data"
    },
    {
     "name": "stdout",
     "output_type": "stream",
     "text": [
      "\n"
     ]
    }
   ],
   "source": [
    "df_skills=[]\n",
    "skills=[]\n",
    "\n",
    "marker=\"####\"\n",
    "for it,row in tqdm(df_final.iterrows()):\n",
    "    pre_all_skills=row.Skills\n",
    "    if len(pre_all_skills)==0 or pre_all_skills=='\"':\n",
    "        continue\n",
    "    usr_skills=[]\n",
    "    inter=re.split(',|: ',pre_all_skills)\n",
    "    control=re.split(',|: ',pre_all_skills)[:]\n",
    "    boola=0\n",
    "    for indx in range(len(inter)-1):\n",
    "        if not(inter[indx].isdigit()) and not(inter[indx+1].isdigit()):\n",
    "            start=indx\n",
    "            nex=indx+1\n",
    "            while not(inter[nex].isdigit()) and nex<len(inter)-1:\n",
    "                nex+=1\n",
    "            inter[indx]=\" \".join(inter[indx:nex])\n",
    "            for ind in range(indx+1,nex):\n",
    "                inter[ind]=marker\n",
    "            boola=1\n",
    "    pre_pre_final=[x.replace('\"','') for x in inter if marker not in x]\n",
    "    if pre_pre_final[0]==' ':\n",
    "        del pre_pre_final[0]\n",
    "    if pre_pre_final[-1]==' ':\n",
    "        del pre_pre_final[-1]\n",
    "    for indx in range(len(pre_pre_final)-1): \n",
    "        if not(pre_pre_final[indx].isdigit()) and not(pre_pre_final[indx+1].isdigit()):\n",
    "            pre_pre_final[(indx+1):(indx+1)]=['0']\n",
    "    pre_final=[]\n",
    "    for new_indx in range(0,len(pre_pre_final),2):\n",
    "        pre_final.append((decod(pre_pre_final[new_indx].lower()),\n",
    "                          int(pre_pre_final[new_indx+1])))\n",
    "    df=pd.DataFrame(pre_final,columns=[\"Skill\",\"Upvotes\"])\n",
    "    df_skills.append(df)\n",
    "\n",
    "skills=[[skill for skill in df.Skill] for df in df_skills ]\n",
    "upvotes=[[upv for upv in df.Upvotes] for df in df_skills ]\n"
   ]
  },
  {
   "cell_type": "code",
   "execution_count": 5,
   "metadata": {},
   "outputs": [],
   "source": [
    "skill2int={skill:it for it,skill in enumerate(set([y for x in skills for y in x]))}"
   ]
  },
  {
   "cell_type": "code",
   "execution_count": 6,
   "metadata": {},
   "outputs": [],
   "source": [
    "mat=np.zeros((len(skills),len(skill2int)))\n",
    "it=0\n",
    "for usr_skills,usr_upvotes in zip(skills,upvotes):\n",
    "    for skill,upvote in zip(usr_skills,usr_upvotes):\n",
    "        mat[it,skill2int[skill]]=upvote\n",
    "    it+=1"
   ]
  },
  {
   "cell_type": "code",
   "execution_count": 7,
   "metadata": {},
   "outputs": [],
   "source": [
    "from sklearn.decomposition import NMF, LatentDirichletAllocation\n",
    "\n",
    "n_samples = 2000\n",
    "n_topics = 20\n",
    "n_top_words = 20\n",
    "nmf = NMF(n_components=n_topics, random_state=1,\n",
    "          alpha=.1, l1_ratio=.5).fit(mat)\n"
   ]
  },
  {
   "cell_type": "code",
   "execution_count": 8,
   "metadata": {
    "scrolled": false
   },
   "outputs": [
    {
     "name": "stdout",
     "output_type": "stream",
     "text": [
      "[[0.00000000e+00 0.00000000e+00 0.00000000e+00 ... 3.46904216e-04\n",
      "  0.00000000e+00 0.00000000e+00]\n",
      " [0.00000000e+00 0.00000000e+00 0.00000000e+00 ... 0.00000000e+00\n",
      "  2.00636097e-01 0.00000000e+00]\n",
      " [0.00000000e+00 0.00000000e+00 0.00000000e+00 ... 8.07309721e-05\n",
      "  1.18225238e-04 3.11162338e-07]\n",
      " ...\n",
      " [0.00000000e+00 0.00000000e+00 0.00000000e+00 ... 4.81987507e-05\n",
      "  1.37848397e-03 0.00000000e+00]\n",
      " [0.00000000e+00 0.00000000e+00 0.00000000e+00 ... 1.81017535e-05\n",
      "  4.66646971e-03 0.00000000e+00]\n",
      " [0.00000000e+00 0.00000000e+00 0.00000000e+00 ... 4.64202638e-05\n",
      "  5.63488015e-02 0.00000000e+00]]\n"
     ]
    }
   ],
   "source": [
    "W = nmf.fit_transform(mat);\n",
    "H = nmf.components_;\n",
    "nR = np.dot(W,H)\n",
    "print (nR)\n"
   ]
  },
  {
   "cell_type": "code",
   "execution_count": 12,
   "metadata": {},
   "outputs": [
    {
     "data": {
      "text/plain": [
       "(20, 12678)"
      ]
     },
     "execution_count": 12,
     "metadata": {},
     "output_type": "execute_result"
    }
   ],
   "source": [
    "(nmf.components_).shape"
   ]
  },
  {
   "cell_type": "code",
   "execution_count": 10,
   "metadata": {},
   "outputs": [],
   "source": [
    "def print_top_words(model, feature_names, n_top_words):\n",
    "    for topic_idx, topic in enumerate(model.components_):\n",
    "        print(\"Topic #%d:\" % topic_idx)\n",
    "        print(\" \".join([feature_names[i]\n",
    "                        for i in topic.argsort()[:-n_top_words - 1:-1]]))\n",
    "    print()\n"
   ]
  },
  {
   "cell_type": "code",
   "execution_count": 11,
   "metadata": {},
   "outputs": [
    {
     "name": "stdout",
     "output_type": "stream",
     "text": [
      "Topic #0:\n",
      " social media marketing   project management   sales management   business development   marketing communications   human resources   sales  marketing strategy   talent management   communication   sales process   business intelligence   event management   talent acquisition   marketing management   management consulting   business process   business planning   sales operations   business \n",
      "Topic #1:\n",
      " management   change management   team management  change management   strategie   marketing   developpement commercial   gestion d'equipe   strategie commerciale   project management   leadership   gestion de projet   consulting  telecommunications   outsourcing   it strategy   integration   human resources   sourcing   formation \n",
      "Topic #2:\n",
      " marketing digital   reseaux sociaux   marketing en ligne   strategie numerique   social media   community management   web marketing  digital strategy   gestion des communautes   web 2.0   linkedin   strategie   strategie marketing   blogging   seo   social networking   marketing social   publicite en ligne   e-business   digital media \n",
      "Topic #3:\n",
      " entrepreneuriat   entrepreneurship   marketing   strategie commerciale   formation   strategie   strategie marketing   coaching   leadership   marketing en ligne   consulting   reseaux sociaux   training   vente   executive coaching   gestion de projet   formation en ligne   management   marketing internet   coaching de dirigeants \n",
      "Topic #4:\n",
      "management   marketing   strategie commerciale   strategie   gestion de projet   change management   negociations   strategie marketing   entrepreneuriat   developpement commercial   business strategy   project management   new business development   public relations   immobilier   leadership   marketing strategy   negociation de contrat   vente   entrepreneurship \n",
      "Topic #5:\n",
      " cloud computing   saas   solution selling   pre-sales   enterprise software   business development   telecommunications   crm   go-to-market strategy   business intelligence   product management  crm   sales   business alliances   product marketing  saas   sales management   unified communications   team management   data center \n",
      "Topic #6:\n",
      " product management   marketing strategy   product marketing   business development   strategie marketing   marketing   social media marketing   strategic partnerships   crm   salesforce.com   seo   entrepreneurship   marketing digital   product development   b2b   developpement commercial   growth hacking   sales operations   international business   market research \n",
      "Topic #7:\n",
      " marketing strategy   marketing   sales   new business development   leadership   key account management   business development   project management   negotiation   competitive analysis   business intelligence   b2b   market analysis   business strategy   marketing management   product marketing   management   start-ups   account management   product launch \n",
      "Topic #8:\n",
      " entrepreneurship   start-ups   business strategy   business development  strategy   mergers & acquisitions   finance   corporate finance   strategic partnerships   business planning   management   digital media   management consulting   new media   venture capital   digital strategy   change management   due diligence   telecommunications   budgets \n",
      "Topic #9:\n",
      " gestion de projet   formation   community management   consulting   coaching   twitter   reseaux sociaux   training   facebook   linkedin   conferencier   animateur   formateur  formation reseaux sociaux   formation medias sociaux   formation relation client   formation vente   coaching de vente   contenus reseaux sociaux   angers \n",
      "Topic #10:\n",
      " consulting   crm  strategy   management consulting   project management   business development   business strategy   program management   business intelligence   team leadership   strategic planning   business analysis   analysis   business process   iot   design thinking   startup development   blue ocean leadership   digital innovation   business capabilities \n",
      "Topic #11:\n",
      "business intelligence   enterprise software   big data   data integration   etl   saas   data warehousing   partner management   pre-sales   data mining   account management   analytics   databases   international sales   olap   informatique decisionnelle   integration   business objects   hadoop   consulting \n",
      "Topic #12:\n",
      " e-commerce   e-business   crm   seo  entrepreneurship  digital strategy   sem   digital marketing  mobile devices   online marketing   facebook   marketing digital  digital marketing   start-ups   entrepreneuriat   web marketing   email marketing   mobile devices   b2b   online advertising \n",
      "Topic #13:\n",
      " java   javascript   java enterprise edition   spring   scrum   gwt   mind mapping   android   css   angularjs   hibernate   cloud computing   open source   html   consulting   linux   maven   agile methodologies   mongodb   software development \n",
      "Topic #14:\n",
      "e-commerce   seo   e-business   web 2.0   mobile devices   marketing digital   online marketing   digital strategy   digital marketing   web marketing   sem   web project management   marketing en ligne   crm   user experience   business development   project management   web analytics   marketing   strategie marketing \n",
      "Topic #15:\n",
      " reseaux sociaux   communication marketing   gestion de projet   strategie marketing   relations publiques   microsoft office  marketing   communication   marketing   francais   marketing communications   anglais   social media   adobe photoshop   gestion d'evenement   public relations   marketing strategy   marketing social   microsoft excel  reseaux sociaux \n",
      "Topic #16:\n",
      " strategy   business development   business strategy   leadership  entrepreneurship   marketing strategy   new business development   project management   start-ups   product marketing   telecommunications   public relations   marketing   product management   entrepreneurship   mobile devices  start-ups   social media   social networking   strategic partnerships \n",
      "Topic #17:\n",
      " online marketing   sem   web analytics   online advertising   social media marketing   web marketing   seo   google analytics   marketing en ligne   affiliate marketing   strategy  digital marketing   blogging   social media  lead generation   start-ups   web 2.0   social networking   growth hacking   online lead generation \n",
      "Topic #18:\n",
      " project management  cloud computing   linux   virtualization   unix   itil   infrastructure   pre-sales   security   disaster recovery   system administration   business strategy   business continuity   managed services   datacenter   network architecture   open source   team management   databases   c++ \n",
      "Topic #19:\n",
      " digital marketing   marketing   marketing strategy   digital strategy   social media   digital media   online marketing   online advertising  marketing digital   advertising   marketing communications   community management  online advertising   mobile marketing   social media marketing   social networking  online marketing   public relations  digital strategy  mobile marketing \n",
      "\n"
     ]
    }
   ],
   "source": [
    "print_top_words(nmf, list(skill2int.keys()), n_top_words)"
   ]
  },
  {
   "cell_type": "code",
   "execution_count": null,
   "metadata": {},
   "outputs": [],
   "source": []
  },
  {
   "cell_type": "code",
   "execution_count": null,
   "metadata": {},
   "outputs": [],
   "source": []
  },
  {
   "cell_type": "code",
   "execution_count": null,
   "metadata": {},
   "outputs": [],
   "source": []
  },
  {
   "cell_type": "code",
   "execution_count": null,
   "metadata": {},
   "outputs": [],
   "source": [
    "\n",
    "from sklearn.feature_extraction.text import TfidfVectorizer, CountVectorizer\n",
    "from sklearn.decomposition import NMF, LatentDirichletAllocation\n",
    "from sklearn.datasets import fetch_20newsgroups\n",
    "\n",
    "n_samples = 2000\n",
    "n_features = 1000\n",
    "n_topics = 10\n",
    "n_top_words = 20\n",
    "\n",
    "\n",
    "t0 = time()\n",
    "tfidf = tfidf_vectorizer.fit_transform(data_samples)\n",
    "print(\"done in %0.3fs.\" % (time() - t0))\n",
    "\n",
    "# Use tf (raw term count) features for LDA.\n",
    "print(\"Extracting tf features for LDA...\")\n",
    "tf_vectorizer = CountVectorizer(max_df=0.95, min_df=2,\n",
    "                                max_features=n_features,\n",
    "                                stop_words='english')\n",
    "t0 = time()\n",
    "tf = tf_vectorizer.fit_transform(data_samples)\n",
    "print(\"done in %0.3fs.\" % (time() - t0))\n",
    "\n",
    "# Fit the NMF model\n",
    "print(\"Fitting the NMF model with tf-idf features, \"\n",
    "      \"n_samples=%d and n_features=%d...\"\n",
    "      % (n_samples, n_features))\n",
    "t0 = time()\n",
    "nmf = NMF(n_components=n_topics, random_state=1,\n",
    "          alpha=.1, l1_ratio=.5).fit(tfidf)\n",
    "print(\"done in %0.3fs.\" % (time() - t0))\n",
    "\n",
    "print(\"\\nTopics in NMF model:\")\n",
    "tfidf_feature_names = tfidf_vectorizer.get_feature_names()\n",
    "print_top_words(nmf, tfidf_feature_names, n_top_words)\n",
    "\n",
    "print(\"Fitting LDA models with tf features, \"\n",
    "      \"n_samples=%d and n_features=%d...\"\n",
    "      % (n_samples, n_features))\n",
    "lda = LatentDirichletAllocation(n_topics=n_topics, max_iter=5,\n",
    "                                learning_method='online',\n",
    "                                learning_offset=50.,\n",
    "                                random_state=0)\n",
    "t0 = time()\n",
    "lda.fit(tf)\n",
    "print(\"done in %0.3fs.\" % (time() - t0))\n",
    "\n",
    "print(\"\\nTopics in LDA model:\")\n",
    "tf_feature_names = tf_vectorizer.get_feature_names()\n",
    "print_top_words(lda, tf_feature_names, n_top_words)\n",
    "T"
   ]
  },
  {
   "cell_type": "code",
   "execution_count": 39,
   "metadata": {},
   "outputs": [
    {
     "data": {
      "text/plain": [
       "'0.094*\" communication marketing \" + 0.080*\" marketing \" + 0.063*\" strategie marketing \" + 0.057*\" gestion de projet \" + 0.054*\" marketing digital \"'"
      ]
     },
     "execution_count": 39,
     "metadata": {},
     "output_type": "execute_result"
    }
   ],
   "source": [
    "dictionary = corpora.Dictionary(skills)\n",
    "corpus = [[(sk[0],upv+1)for sk,upv in zip(dictionary.doc2bow(skill),upvote)]\n",
    "          for skill,upvote in zip(skills,upvotes)]\n",
    "ldamodel = gensim.models.ldamodel.LdaModel(corpus, num_topics=10, id2word = dictionary, passes=20)"
   ]
  },
  {
   "cell_type": "code",
   "execution_count": 50,
   "metadata": {},
   "outputs": [
    {
     "data": {
      "text/plain": [
       "[(1, 0.077897295),\n",
       " (5, 0.19184312),\n",
       " (6, 0.10205888),\n",
       " (7, 0.42515936),\n",
       " (9, 0.19754651)]"
      ]
     },
     "execution_count": 50,
     "metadata": {},
     "output_type": "execute_result"
    }
   ],
   "source": [
    "(dat['doc_topic_dists']).shape\n",
    "num_topics=10\n",
    "mat_topic_dists=np.zeros((len(corpus),num_topics))\n",
    "for i in range(len(corpus)):\n",
    "    for ent,val in ldamodel[corpus[i]]:\n",
    "        mat_topic_dists[i,ent]=val\n",
    "dat['doc_topic_dists']=mat_topic_dists"
   ]
  },
  {
   "cell_type": "code",
   "execution_count": 60,
   "metadata": {},
   "outputs": [],
   "source": [
    "dat['topic_term_dists'].shape\n",
    "num_topics=10\n",
    "mat_term_dists=np.zeros((num_topics,len(list(skill2int.keys()))))\n",
    "for i in range(num_topics):\n",
    "    for sk,val in ldamodel.show_topic(i,100):\n",
    "        mat_term_dists[i,skill2int[sk]]=val\n",
    "dat['topic_term_dists']=mat_term_dists"
   ]
  },
  {
   "cell_type": "code",
   "execution_count": 61,
   "metadata": {},
   "outputs": [
    {
     "data": {
      "text/plain": [
       "array([[0., 0., 0., ..., 0., 0., 0.],\n",
       "       [0., 0., 0., ..., 0., 0., 0.],\n",
       "       [0., 0., 0., ..., 0., 0., 0.],\n",
       "       ...,\n",
       "       [0., 0., 0., ..., 0., 0., 0.],\n",
       "       [0., 0., 0., ..., 0., 0., 0.],\n",
       "       [0., 0., 0., ..., 0., 0., 0.]])"
      ]
     },
     "execution_count": 61,
     "metadata": {},
     "output_type": "execute_result"
    }
   ],
   "source": [
    "dat['term_frequency']=[]for "
   ]
  },
  {
   "cell_type": "code",
   "execution_count": 62,
   "metadata": {
    "scrolled": true
   },
   "outputs": [
    {
     "data": {
      "text/plain": [
       "'0.099*\" communication marketing \" + 0.058*\" marketing en ligne \" + 0.052*\" marketing digital \" + 0.038*\" event management \" + 0.034*\" e-commerce \" + 0.031*\" digital marketing \" + 0.026*\" marketing strategy \" + 0.024*\" english \" + 0.023*\" cms \" + 0.023*\" marketing \" + 0.022*\" marketing social \" + 0.020*\" facebook \" + 0.020*\" sem \" + 0.019*\" gestion d\\'evenement \" + 0.018*\" reseaux sociaux \" + 0.017*\" strategie marketing \" + 0.016*\" marketing par e-mail \" + 0.015*\" email marketing \" + 0.015*\" start-up \" + 0.014*\" twitter \"'"
      ]
     },
     "execution_count": 62,
     "metadata": {},
     "output_type": "execute_result"
    }
   ],
   "source": [
    "ldamodel.print_topic(0,topn=20)"
   ]
  },
  {
   "cell_type": "code",
   "execution_count": 11,
   "metadata": {},
   "outputs": [],
   "source": [
    "# split into train and test - random sample, but preserving order\n",
    "import random\n",
    "train_size = int(round(len(corpus)*0.8))\n",
    "train_index = sorted(random.sample(range(len(corpus)), train_size))\n",
    "test_index = sorted(set(range(len(corpus)))-set(train_index))\n",
    "train_corpus = [corpus[i] for i in train_index]\n",
    "test_corpus = [corpus[j] for j in test_index]"
   ]
  },
  {
   "cell_type": "code",
   "execution_count": 17,
   "metadata": {
    "scrolled": false
   },
   "outputs": [
    {
     "name": "stdout",
     "output_type": "stream",
     "text": [
      "starting pass for parameter_value = 1.000\n",
      "Total Perplexity: -166239.11351\n",
      "Per-word Perplexity: 281.3483056\n",
      " \n",
      "starting pass for parameter_value = 11.000\n",
      "Total Perplexity: -203216.751059\n",
      "Per-word Perplexity: 986.382825009\n",
      " \n",
      "starting pass for parameter_value = 21.000\n",
      "Total Perplexity: -230833.695336\n",
      "Per-word Perplexity: 2517.28946962\n",
      " \n",
      "starting pass for parameter_value = 31.000\n",
      "Total Perplexity: -258043.426553\n",
      "Per-word Perplexity: 6336.08857805\n",
      " \n",
      "starting pass for parameter_value = 41.000\n",
      "Total Perplexity: -281587.101697\n",
      "Per-word Perplexity: 14083.0382484\n",
      " \n",
      "starting pass for parameter_value = 51.000\n",
      "Total Perplexity: -304878.705603\n",
      "Per-word Perplexity: 31035.4213641\n",
      " \n",
      "starting pass for parameter_value = 61.000\n",
      "Total Perplexity: -328007.326303\n",
      "Per-word Perplexity: 68017.0292157\n",
      " \n",
      "starting pass for parameter_value = 71.000\n",
      "Total Perplexity: -353313.973053\n",
      "Per-word Perplexity: 160497.066687\n",
      " \n",
      "starting pass for parameter_value = 81.000\n",
      "Total Perplexity: -374725.434894\n",
      "Per-word Perplexity: 331839.257066\n",
      " \n",
      "starting pass for parameter_value = 91.000\n",
      "Total Perplexity: -395562.251997\n",
      "Per-word Perplexity: 672855.85246\n",
      " \n",
      "1 \t [-166239.11351013184, 281.34830560016042]\n",
      "11 \t [-203216.75105941296, 986.38282500903642]\n",
      "21 \t [-230833.69533568621, 2517.2894696187786]\n",
      "31 \t [-258043.42655265331, 6336.0885780493172]\n",
      "41 \t [-281587.10169714689, 14083.038248422188]\n",
      "51 \t [-304878.70560270548, 31035.421364143473]\n",
      "61 \t [-328007.32630336285, 68017.029215672359]\n",
      "71 \t [-353313.97305309772, 160497.06668689271]\n",
      "81 \t [-374725.43489377806, 331839.25706573209]\n",
      "91 \t [-395562.25199658552, 672855.85245963058]\n"
     ]
    }
   ],
   "source": [
    "number_of_words = sum(cnt for document in test_corpus for _, cnt in document)\n",
    "parameter_list = range(1,100,10)\n",
    "grid={key:[] for key in parameter_list}\n",
    "for parameter_value in parameter_list:\n",
    "    print (\"starting pass for parameter_value = %.3f\" % parameter_value)\n",
    "    model = models.LdaMulticore(corpus=train_corpus, workers=20, id2word=dictionary, num_topics=parameter_value, passes=20)\n",
    "    \n",
    "    perplex = model.bound(test_corpus) # this is model perplexity not the per word perplexity\n",
    "    print (\"Total Perplexity: %s\" % perplex)\n",
    "    grid[parameter_value].append(perplex)\n",
    "    \n",
    "    per_word_perplex = np.exp2(-perplex / number_of_words)\n",
    "    print (\"Per-word Perplexity: %s\" % per_word_perplex)\n",
    "    grid[parameter_value].append(per_word_perplex)\n",
    "    print(\" \")\n",
    "    \n",
    "for numtopics in parameter_list:\n",
    "    print (numtopics, '\\t',  grid[numtopics])\n"
   ]
  },
  {
   "cell_type": "code",
   "execution_count": null,
   "metadata": {},
   "outputs": [],
   "source": [
    "import wordcloud\n",
    "elements = wordcloud.fit_words(freqs, width=120, height=120)\n",
    "wordcloud.draw(elements, \"gs_topic_%d.png\" % (curr_topic), width=120, height=120)\n"
   ]
  }
 ],
 "metadata": {
  "kernelspec": {
   "display_name": "Python 3",
   "language": "python",
   "name": "python3"
  },
  "language_info": {
   "codemirror_mode": {
    "name": "ipython",
    "version": 3
   },
   "file_extension": ".py",
   "mimetype": "text/x-python",
   "name": "python",
   "nbconvert_exporter": "python",
   "pygments_lexer": "ipython3",
   "version": "3.6.0"
  },
  "toc": {
   "base_numbering": 1,
   "nav_menu": {},
   "number_sections": true,
   "sideBar": true,
   "skip_h1_title": false,
   "title_cell": "Table of Contents",
   "title_sidebar": "Contents",
   "toc_cell": false,
   "toc_position": {},
   "toc_section_display": true,
   "toc_window_display": false
  }
 },
 "nbformat": 4,
 "nbformat_minor": 2
}
