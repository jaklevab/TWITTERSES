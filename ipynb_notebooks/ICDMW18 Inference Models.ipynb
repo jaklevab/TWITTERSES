{
 "cells": [
  {
   "cell_type": "code",
   "execution_count": null,
   "metadata": {},
   "outputs": [],
   "source": [
    "import pandas as pd\n",
    "import numpy as np\n",
    "import sys\n",
    "sys.path.append('/warehouse/COMPLEXNET/jlevyabi/TWITTERSES/ml_soc_econ/data_files/UKSOC_rep/')\n",
    "from helpers_locs_to_home import time_2_date\n",
    "from collections import Counter\n",
    "\n",
    "from tqdm import tqdm_notebook as tqdmn\n",
    "import matplotlib.pyplot as plt\n",
    "import matplotlib\n",
    "import matplotlib.ticker as tkr\n",
    "from shapely.geometry import Point\n",
    "from shapely.geometry.polygon import Polygon\n",
    "from sklearn.model_selection import train_test_split\n",
    "from sklearn.preprocessing import StandardScaler\n",
    "from sklearn.datasets import make_moons, make_circles, make_classification\n",
    "from sklearn.neural_network import MLPClassifier\n",
    "from sklearn.neighbors import KNeighborsClassifier\n",
    "from sklearn.svm import SVC\n",
    "from sklearn.gaussian_process import GaussianProcessClassifier\n",
    "from sklearn.gaussian_process.kernels import RBF\n",
    "from sklearn.tree import DecisionTreeClassifier\n",
    "from sklearn.ensemble import RandomForestClassifier, AdaBoostClassifier\n",
    "from sklearn.naive_bayes import GaussianNB\n",
    "from sklearn.discriminant_analysis import QuadraticDiscriminantAnalysis\n",
    "from sklearn.metrics import classification_report\n",
    "\n",
    "import pickle\n",
    "import re;pat = re.compile(r'''(-*\\d+\\.\\d+ -*\\d+\\.\\d+);*''');new_geo=[]\n",
    "import warnings\n",
    "import seaborn as sns\n",
    "%matplotlib inline"
   ]
  },
  {
   "cell_type": "markdown",
   "metadata": {},
   "source": [
    "### LR Tuning"
   ]
  },
  {
   "cell_type": "markdown",
   "metadata": {
    "heading_collapsed": true
   },
   "source": [
    "### SVM Tuning"
   ]
  },
  {
   "cell_type": "markdown",
   "metadata": {},
   "source": [
    "### AdaBoost Tuning"
   ]
  },
  {
   "cell_type": "markdown",
   "metadata": {
    "heading_collapsed": true
   },
   "source": [
    "### Random Forest Tuning"
   ]
  },
  {
   "cell_type": "code",
   "execution_count": 39,
   "metadata": {
    "hidden": true,
    "scrolled": false
   },
   "outputs": [
    {
     "name": "stdout",
     "output_type": "stream",
     "text": [
      "Fitting 25 folds for each of 500 candidates, totalling 12500 fits\n"
     ]
    },
    {
     "name": "stderr",
     "output_type": "stream",
     "text": [
      "[Parallel(n_jobs=-1)]: Done  72 tasks      | elapsed:  1.4min\n",
      "[Parallel(n_jobs=-1)]: Done 322 tasks      | elapsed:  6.1min\n",
      "[Parallel(n_jobs=-1)]: Done 672 tasks      | elapsed: 12.2min\n",
      "[Parallel(n_jobs=-1)]: Done 1122 tasks      | elapsed: 22.6min\n",
      "[Parallel(n_jobs=-1)]: Done 1672 tasks      | elapsed: 34.1min\n",
      "[Parallel(n_jobs=-1)]: Done 2322 tasks      | elapsed: 50.2min\n",
      "[Parallel(n_jobs=-1)]: Done 3072 tasks      | elapsed: 66.6min\n",
      "[Parallel(n_jobs=-1)]: Done 3922 tasks      | elapsed: 82.4min\n",
      "[Parallel(n_jobs=-1)]: Done 4872 tasks      | elapsed: 101.3min\n",
      "[Parallel(n_jobs=-1)]: Done 5922 tasks      | elapsed: 124.0min\n",
      "[Parallel(n_jobs=-1)]: Done 7072 tasks      | elapsed: 148.8min\n",
      "[Parallel(n_jobs=-1)]: Done 8322 tasks      | elapsed: 174.2min\n",
      "[Parallel(n_jobs=-1)]: Done 9672 tasks      | elapsed: 199.3min\n",
      "[Parallel(n_jobs=-1)]: Done 11122 tasks      | elapsed: 229.0min\n",
      "[Parallel(n_jobs=-1)]: Done 12500 out of 12500 | elapsed: 254.8min finished\n"
     ]
    },
    {
     "name": "stdout",
     "output_type": "stream",
     "text": [
      "Best model parameters:  {'bootstrap': True, 'criterion': 'gini', 'max_depth': 38, 'min_samples_leaf': 0.007877583208959238, 'min_samples_split': 0.0069437095447349995}\n",
      "Best model roc auc score:  0.6802543698038217\n"
     ]
    }
   ],
   "source": [
    "from operator import itemgetter\n",
    "from collections import defaultdict, Counter\n",
    "from sklearn.preprocessing import OneHotEncoder, LabelEncoder, Imputer, StandardScaler, scale\n",
    "from sklearn import model_selection, metrics\n",
    "from sklearn.metrics import roc_auc_score, brier_score_loss, make_scorer, f1_score, fbeta_score, precision_score, recall_score, roc_curve\n",
    "from sklearn.model_selection import RandomizedSearchCV, RepeatedStratifiedKFold, cross_validate\n",
    "from sklearn.feature_selection import SelectFromModel\n",
    "from sklearn.ensemble import RandomForestClassifier, IsolationForest\n",
    "from sklearn.linear_model import LogisticRegression\n",
    "from sklearn.manifold import TSNE\n",
    "from scipy.stats import uniform\n",
    "from xgboost import XGBClassifier\n",
    "\n",
    "clf = RandomForestClassifier(n_estimators=1000, n_jobs=1)\n",
    "param_distributions = {'criterion': ['gini', 'gini', 'entropy'],\n",
    "                       'max_depth': range(2,50),\n",
    "                       'min_samples_split': uniform(loc=0, scale=0.2),\n",
    "                       'min_samples_leaf': uniform(loc=0, scale=0.2),\n",
    "                       'bootstrap': [True, True, False]}\n",
    "\n",
    "\n",
    "n_splits = 5\n",
    "n_repeats = 5\n",
    "n_iter = 500\n",
    "n_jobs = -1\n",
    "verbose = 1\n",
    "\n",
    "cv = RepeatedStratifiedKFold(n_splits=n_splits, n_repeats=n_repeats)\n",
    "scorer = make_scorer(roc_auc_score, greater_is_better=True, needs_threshold=True)\n",
    "model = RandomizedSearchCV(clf, param_distributions, n_iter=n_iter, scoring=scorer, n_jobs=n_jobs, cv=cv, verbose=verbose)\n",
    "\n",
    "model.fit(X_train, y_train)\n",
    "print(\"Best model parameters: \", model.best_params_)\n",
    "print(\"Best model roc auc score: \", model.best_score_)\n"
   ]
  },
  {
   "cell_type": "code",
   "execution_count": 100,
   "metadata": {
    "hidden": true
   },
   "outputs": [
    {
     "data": {
      "text/plain": [
       "RandomForestClassifier(bootstrap=True, class_weight=None, criterion='gini',\n",
       "            max_depth=38, max_features='auto', max_leaf_nodes=None,\n",
       "            min_impurity_decrease=0.0, min_impurity_split=None,\n",
       "            min_samples_leaf=0.007877583208959238,\n",
       "            min_samples_split=0.0069437095447349995,\n",
       "            min_weight_fraction_leaf=0.0, n_estimators=1000, n_jobs=1,\n",
       "            oob_score=False, random_state=None, verbose=0,\n",
       "            warm_start=False)"
      ]
     },
     "execution_count": 100,
     "metadata": {},
     "output_type": "execute_result"
    }
   ],
   "source": []
  },
  {
   "cell_type": "code",
   "execution_count": 41,
   "metadata": {
    "hidden": true
   },
   "outputs": [
    {
     "name": "stdout",
     "output_type": "stream",
     "text": [
      "             precision    recall  f1-score   support\n",
      "\n",
      "          0       0.64      0.56      0.59       752\n",
      "          1       0.60      0.68      0.64       738\n",
      "\n",
      "avg / total       0.62      0.62      0.61      1490\n",
      "\n"
     ]
    }
   ],
   "source": [
    "clf_rf_best=RandomForestClassifier(bootstrap= True,\n",
    "                                   criterion= 'gini',\n",
    "                                   max_depth= 38,\n",
    "                                   min_samples_leaf= 0.007877583208959238,\n",
    "                                   min_samples_split=0.0069437095447349995)\n",
    "clf_rf_best.fit(X_train, y_train);\n",
    "print(classification_report(y_test,clf_rf_best.predict(X_test)))"
   ]
  },
  {
   "cell_type": "code",
   "execution_count": 42,
   "metadata": {
    "hidden": true
   },
   "outputs": [
    {
     "data": {
      "image/png": "[encoded data removed]",
      "text/plain": [
       "<matplotlib.figure.Figure at 0x7fe0284a5e48>"
      ]
     },
     "metadata": {},
     "output_type": "display_data"
    }
   ],
   "source": [
    "probs = clf_rf_best.predict_proba(X_test)\n",
    "preds = probs[:,1]\n",
    "fpr, tpr, threshold = metrics.roc_curve(y_test, preds)\n",
    "roc_auc = metrics.auc(fpr, tpr)\n",
    "\n",
    "# method I: plt\n",
    "import matplotlib.pyplot as plt\n",
    "plt.title('Receiver Operating Characteristic')\n",
    "plt.plot(fpr, tpr, 'b', label = 'AUC = %0.2f' % roc_auc)\n",
    "plt.legend(loc = 'lower right')\n",
    "plt.plot([0, 1], [0, 1],'r--')\n",
    "plt.xlim([0, 1])\n",
    "plt.ylim([0, 1])\n",
    "plt.ylabel('True Positive Rate')\n",
    "plt.xlabel('False Positive Rate')\n",
    "plt.show()\n"
   ]
  },
  {
   "cell_type": "markdown",
   "metadata": {
    "heading_collapsed": true
   },
   "source": [
    "### XGBoost"
   ]
  },
  {
   "cell_type": "code",
   "execution_count": 2,
   "metadata": {
    "hidden": true
   },
   "outputs": [],
   "source": [
    "import pickle\n",
    "from operator import itemgetter\n",
    "from collections import defaultdict, Counter\n",
    "from sklearn.preprocessing import OneHotEncoder, LabelEncoder, Imputer, StandardScaler, scale\n",
    "from sklearn import model_selection, metrics\n",
    "from sklearn.metrics import roc_auc_score, brier_score_loss, make_scorer, f1_score, fbeta_score, precision_score, recall_score, roc_curve\n",
    "from sklearn.model_selection import RandomizedSearchCV, RepeatedStratifiedKFold, cross_validate\n",
    "from sklearn.feature_selection import SelectFromModel\n",
    "from sklearn.ensemble import RandomForestClassifier, IsolationForest\n",
    "from sklearn.linear_model import LogisticRegression\n",
    "from sklearn.manifold import TSNE\n",
    "from scipy.stats import uniform\n",
    "from xgboost import XGBClassifier\n",
    "\n",
    "d_test_brunch=pickle.load(open(\"/warehouse/COMPLEXNET/jlevyabi/TWITTERSES/ml_soc_econ/data_files/UKSOC_rep/uksoc_xgb_data.p\",\"rb\"))\n",
    "\n",
    "X_train=d_test_brunch[\"Xtrain\"]\n",
    "X_test=d_test_brunch[\"Xtest\"]\n",
    "y_train=d_test_brunch[\"Ytrain\"]\n",
    "y_test=d_test_brunch[\"Ytest\"]\n",
    "\n",
    "X=np.vstack([X_train,X_test])\n",
    "y=np.hstack([y_train,y_test])\n",
    "\n"
   ]
  },
  {
   "cell_type": "markdown",
   "metadata": {},
   "source": [
    "# SVM"
   ]
  },
  {
   "cell_type": "markdown",
   "metadata": {},
   "source": [
    "## Location"
   ]
  },
  {
   "cell_type": "markdown",
   "metadata": {},
   "source": [
    "### Reaal"
   ]
  },
  {
   "cell_type": "code",
   "execution_count": null,
   "metadata": {
    "scrolled": true
   },
   "outputs": [],
   "source": [
    "import pickle\n",
    "from operator import itemgetter\n",
    "from collections import defaultdict, Counter\n",
    "from sklearn.preprocessing import OneHotEncoder, LabelEncoder, Imputer, StandardScaler, scale\n",
    "from sklearn import model_selection, metrics\n",
    "from sklearn.metrics import roc_auc_score, brier_score_loss, make_scorer, f1_score, fbeta_score, precision_score, recall_score, roc_curve\n",
    "from sklearn.model_selection import RandomizedSearchCV, RepeatedStratifiedKFold, cross_validate\n",
    "from sklearn.feature_selection import SelectFromModel\n",
    "from sklearn.ensemble import RandomForestClassifier, IsolationForest\n",
    "from sklearn.linear_model import LogisticRegression\n",
    "from sklearn.manifold import TSNE\n",
    "from scipy.stats import uniform\n",
    "from xgboost import XGBClassifier\n",
    "from tqdm import tqdm\n",
    "import numpy as np\n",
    "from sklearn.model_selection import train_test_split\n",
    "from sklearn.preprocessing import StandardScaler\n",
    "from sklearn.datasets import make_moons, make_circles, make_classification\n",
    "from sklearn.neural_network import MLPClassifier\n",
    "from sklearn.neighbors import KNeighborsClassifier\n",
    "from sklearn.svm import SVC\n",
    "from sklearn.gaussian_process import GaussianProcessClassifier\n",
    "from sklearn.gaussian_process.kernels import RBF\n",
    "from sklearn.tree import DecisionTreeClassifier\n",
    "from sklearn.ensemble import RandomForestClassifier, AdaBoostClassifier\n",
    "from sklearn.naive_bayes import GaussianNB\n",
    "from sklearn.discriminant_analysis import QuadraticDiscriminantAnalysis\n",
    "from sklearn.metrics import classification_report\n",
    "\n",
    "d_test_brunch=pickle.load(open(\"/warehouse/COMPLEXNET/jlevyabi/TWITTERSES/ml_soc_econ/data_files/UKSOC_rep/uksoc_xgb_data.p\",\"rb\"))\n",
    "\n",
    "X_train=d_test_brunch[\"Xtrain\"]\n",
    "X_test=d_test_brunch[\"Xtest\"]\n",
    "y_train=d_test_brunch[\"Ytrain\"]\n",
    "y_test=d_test_brunch[\"Ytest\"]\n",
    "\n",
    "X=np.vstack([X_train,X_test])\n",
    "y=np.hstack([y_train,y_test])\n",
    "\n",
    "dic_res={\"best_params\":[],\"best_score\":[],\"auc\":[],\"fpr\":[],\"tpr\":[],\"threshold\":[]}\n",
    "nb_rep_test=5\n",
    "\n",
    "    \n",
    "for i in tqdm(range(1,nb_rep_test+1)):\n",
    "    X_train, X_test, y_train, y_test = train_test_split(X, y,test_size=.2,random_state=i)\n",
    "    clf_xgb = SVC()\n",
    "    param_distributions = {'C': 10**np.random.uniform(low=-5,high=1),\n",
    "                           'gamma': 10**np.random.uniform(low=-5,high=1),\n",
    "                           'degree': range(1,4),\n",
    "                           'kernel': [\"linear\", \"poly\", \"rbf\", \"sigmoid\"]}\n",
    "    n_splits = 5\n",
    "    n_repeats = 5\n",
    "    n_iter = 500\n",
    "    n_jobs = -1\n",
    "    verbose = 1\n",
    "    #\n",
    "    cv_xgb = RepeatedStratifiedKFold(n_splits=n_splits, n_repeats=n_repeats)\n",
    "    scorer_xgb = make_scorer(roc_auc_score, greater_is_better=True, needs_threshold=True)\n",
    "    model_xgb = RandomizedSearchCV(clf_xgb, param_distributions, n_iter=n_iter,\n",
    "                                   scoring=scorer_xgb, n_jobs=n_jobs, cv=cv_xgb, verbose=verbose)\n",
    "    #\n",
    "    model_xgb.fit(X_train, y_train)\n",
    "    print(\"Best model parameters: \", model_xgb.best_params_)\n",
    "    print(\"Best model roc auc score: \", model_xgb.best_score_)\n",
    "    #\n",
    "    #Mira brunch\n",
    "    clf_xgb_best=model_xgb.best_estimator_\n",
    "    clf_xgb_best.fit(X_train,y_train)\n",
    "    #\n",
    "    probs = clf_xgb_best.predict_proba(X_test)\n",
    "    preds = probs[:,1]\n",
    "    fpr, tpr, threshold = metrics.roc_curve(y_test, preds)\n",
    "    roc_auc = metrics.auc(fpr, tpr)\n",
    "    dic_res[\"best_params\"].append(model_xgb.best_params_)\n",
    "    dic_res[\"best_score\"].append(model_xgb.best_score_)\n",
    "    dic_res[\"fpr\"].append(fpr)\n",
    "    dic_res[\"tpr\"].append(tpr)\n",
    "    dic_res[\"threshold\"].append(threshold)\n",
    "    dic_res[\"auc\"].append(roc_auc)"
   ]
  },
  {
   "cell_type": "code",
   "execution_count": null,
   "metadata": {},
   "outputs": [],
   "source": []
  },
  {
   "cell_type": "markdown",
   "metadata": {
    "heading_collapsed": true
   },
   "source": [
    "### Test"
   ]
  },
  {
   "cell_type": "code",
   "execution_count": null,
   "metadata": {
    "hidden": true
   },
   "outputs": [],
   "source": [
    "import pickle\n",
    "from operator import itemgetter\n",
    "from collections import defaultdict, Counter\n",
    "from sklearn.preprocessing import OneHotEncoder, LabelEncoder, Imputer, StandardScaler, scale\n",
    "from sklearn import model_selection, metrics\n",
    "from sklearn.metrics import roc_auc_score, brier_score_loss, make_scorer, f1_score, fbeta_score, precision_score, recall_score, roc_curve\n",
    "from sklearn.model_selection import RandomizedSearchCV, RepeatedStratifiedKFold, cross_validate\n",
    "from sklearn.feature_selection import SelectFromModel\n",
    "from sklearn.ensemble import RandomForestClassifier, IsolationForest\n",
    "from sklearn.linear_model import LogisticRegression\n",
    "from sklearn.manifold import TSNE\n",
    "from scipy.stats import uniform\n",
    "from xgboost import XGBClassifier\n",
    "from tqdm import tqdm\n",
    "import numpy as np\n",
    "from sklearn.model_selection import train_test_split\n",
    "from sklearn.preprocessing import StandardScaler\n",
    "from sklearn.datasets import make_moons, make_circles, make_classification\n",
    "from sklearn.neural_network import MLPClassifier\n",
    "from sklearn.neighbors import KNeighborsClassifier\n",
    "from sklearn.svm import SVC\n",
    "from sklearn.gaussian_process import GaussianProcessClassifier\n",
    "from sklearn.gaussian_process.kernels import RBF\n",
    "from sklearn.tree import DecisionTreeClassifier\n",
    "from sklearn.ensemble import RandomForestClassifier, AdaBoostClassifier\n",
    "from sklearn.naive_bayes import GaussianNB\n",
    "from sklearn.discriminant_analysis import QuadraticDiscriminantAnalysis\n",
    "from sklearn.metrics import classification_report\n",
    "\n",
    "d_test_brunch=pickle.load(open(\"/warehouse/COMPLEXNET/jlevyabi/TWITTERSES/ml_soc_econ/data_files/UKSOC_rep/uksoc_xgb_data.p\",\"rb\"))\n",
    "\n",
    "X_train=d_test_brunch[\"Xtrain\"]\n",
    "X_test=d_test_brunch[\"Xtest\"]\n",
    "y_train=d_test_brunch[\"Ytrain\"]\n",
    "y_test=d_test_brunch[\"Ytest\"]\n",
    "\n",
    "X=np.vstack([X_train,X_test])\n",
    "y=np.hstack([y_train,y_test])\n",
    "\n",
    "dic_res={\"best_params\":[],\"best_score\":[],\"auc\":[],\"fpr\":[],\"tpr\":[],\"threshold\":[]}\n",
    "nb_rep_test=1\n",
    "\n",
    "    \n",
    "for i in tqdm(range(1,nb_rep_test+1)):\n",
    "    X_train, X_test, y_train, y_test = train_test_split(X, y,test_size=.2,random_state=i)\n",
    "    clf_xgb = SVC(kernel=\"rbf\",probability=False)\n",
    "    param_distributions = {'C': 10**np.random.uniform(low=-5,high=1),\n",
    "                           'gamma': 10**np.random.uniform(low=-5,high=1)}\n",
    "    n_splits = 5\n",
    "    n_repeats = 5\n",
    "    n_iter = 500\n",
    "    n_jobs = -1\n",
    "    verbose = 1\n",
    "    #\n",
    "    cv_xgb = RepeatedStratifiedKFold(n_splits=n_splits, n_repeats=n_repeats)\n",
    "    scorer_xgb = make_scorer(roc_auc_score, greater_is_better=True, needs_threshold=True)\n",
    "    model_xgb = RandomizedSearchCV(clf_xgb, param_distributions, n_iter=n_iter,\n",
    "                                   scoring=scorer_xgb, n_jobs=n_jobs, cv=cv_xgb, verbose=verbose)\n",
    "    #\n",
    "    model_xgb.fit(X_train, y_train)\n",
    "    print(\"Best model parameters: \", model_xgb.best_params_)\n",
    "    print(\"Best model roc auc score: \", model_xgb.best_score_)\n",
    "    #\n",
    "    #Mira brunch\n",
    "    clf_xgb_best=model_xgb.best_estimator_\n",
    "    clf_xgb_best.probability=True\n",
    "    clf_xgb_best.fit(X_train,y_train)\n",
    "    #\n",
    "    probs = clf_xgb_best.predict_proba(X_test)\n",
    "    preds = probs[:,1]\n",
    "    fpr, tpr, threshold = metrics.roc_curve(y_test, preds)\n",
    "    roc_auc = metrics.auc(fpr, tpr)\n",
    "    dic_res[\"best_params\"].append(model_xgb.best_params_)\n",
    "    dic_res[\"best_score\"].append(model_xgb.best_score_)\n",
    "    dic_res[\"fpr\"].append(fpr)\n",
    "    dic_res[\"tpr\"].append(tpr)\n",
    "    dic_res[\"threshold\"].append(threshold)\n",
    "    dic_res[\"auc\"].append(roc_auc)"
   ]
  },
  {
   "cell_type": "markdown",
   "metadata": {},
   "source": [
    "# AdaBoost"
   ]
  },
  {
   "cell_type": "markdown",
   "metadata": {},
   "source": [
    "## Location Test"
   ]
  },
  {
   "cell_type": "code",
   "execution_count": null,
   "metadata": {},
   "outputs": [],
   "source": [
    "import pickle\n",
    "from operator import itemgetter\n",
    "from collections import defaultdict, Counter\n",
    "from sklearn.preprocessing import OneHotEncoder, LabelEncoder, Imputer, StandardScaler, scale\n",
    "from sklearn import model_selection, metrics\n",
    "from sklearn.metrics import roc_auc_score, brier_score_loss, make_scorer, f1_score, fbeta_score, precision_score, recall_score, roc_curve\n",
    "from sklearn.model_selection import RandomizedSearchCV, RepeatedStratifiedKFold, cross_validate\n",
    "from sklearn.feature_selection import SelectFromModel\n",
    "from sklearn.ensemble import RandomForestClassifier, IsolationForest\n",
    "from sklearn.linear_model import LogisticRegression\n",
    "from sklearn.manifold import TSNE\n",
    "from scipy.stats import uniform\n",
    "from xgboost import XGBClassifier\n",
    "from tqdm import tqdm\n",
    "import numpy as np\n",
    "from sklearn.model_selection import train_test_split\n",
    "from sklearn.preprocessing import StandardScaler\n",
    "from sklearn.datasets import make_moons, make_circles, make_classification\n",
    "from sklearn.neural_network import MLPClassifier\n",
    "from sklearn.neighbors import KNeighborsClassifier\n",
    "from sklearn.svm import SVC\n",
    "from sklearn.gaussian_process import GaussianProcessClassifier\n",
    "from sklearn.gaussian_process.kernels import RBF\n",
    "from sklearn.tree import DecisionTreeClassifier\n",
    "from sklearn.ensemble import RandomForestClassifier, AdaBoostClassifier\n",
    "from sklearn.naive_bayes import GaussianNB\n",
    "from sklearn.discriminant_analysis import QuadraticDiscriminantAnalysis\n",
    "from sklearn.metrics import classification_report\n",
    "\n",
    "d_test_brunch=pickle.load(open(\"/warehouse/COMPLEXNET/jlevyabi/TWITTERSES/ml_soc_econ/data_files/UKSOC_rep/uksoc_xgb_data.p\",\"rb\"))\n",
    "\n",
    "X_train=d_test_brunch[\"Xtrain\"]\n",
    "X_test=d_test_brunch[\"Xtest\"]\n",
    "y_train=d_test_brunch[\"Ytrain\"]\n",
    "y_test=d_test_brunch[\"Ytest\"]\n",
    "\n",
    "X=np.vstack([X_train,X_test])\n",
    "y=np.hstack([y_train,y_test])\n",
    "\n",
    "dic_res={\"best_params\":[],\"best_score\":[],\"auc\":[],\"fpr\":[],\"tpr\":[],\"threshold\":[]}\n",
    "nb_rep_test=5\n",
    "\n",
    "    \n",
    "for i in tqdm(range(1,nb_rep_test+1)):\n",
    "    stump_clf =  DecisionTreeClassifier(random_state=i, )\n",
    "    X_train, X_test, y_train, y_test = train_test_split(X, y,test_size=.2,random_state=i)\n",
    "    clf_xgb = AdaBoostClassifier(base_estimator = stump_clf)\n",
    "    param_distributions = {\n",
    "              \"n_estimators\": list(range(1,500)),\n",
    "              \"learning_rate\": uniform(0.01, 1),\n",
    "    }\n",
    "    #\n",
    "    n_splits = 5\n",
    "    n_repeats = 5\n",
    "    n_iter = 500\n",
    "    n_jobs = 90\n",
    "    verbose = 1\n",
    "    #\n",
    "    cv_xgb = RepeatedStratifiedKFold(n_splits=n_splits, n_repeats=n_repeats)\n",
    "    scorer_xgb = make_scorer(roc_auc_score, greater_is_better=True, needs_threshold=True)\n",
    "    model_xgb = RandomizedSearchCV(clf_xgb, param_distributions, n_iter=n_iter,\n",
    "                                   scoring=scorer_xgb, n_jobs=n_jobs, cv=cv_xgb, verbose=verbose)\n",
    "    #\n",
    "    model_xgb.fit(X_train, y_train)\n",
    "    print(\"Best model parameters: \", model_xgb.best_params_)\n",
    "    print(\"Best model roc auc score: \", model_xgb.best_score_)\n",
    "    #\n",
    "    #Mira brunch\n",
    "    clf_xgb_best=model_xgb.best_estimator_\n",
    "    clf_xgb_best.fit(X_train,y_train)\n",
    "    #\n",
    "    probs = clf_xgb_best.predict_proba(X_test)\n",
    "    preds = probs[:,1]\n",
    "    fpr, tpr, threshold = metrics.roc_curve(y_test, preds)\n",
    "    roc_auc = metrics.auc(fpr, tpr)\n",
    "    dic_res[\"best_params\"].append(model_xgb.best_params_)\n",
    "    dic_res[\"best_score\"].append(model_xgb.best_score_)\n",
    "    dic_res[\"fpr\"].append(fpr)\n",
    "    dic_res[\"tpr\"].append(tpr)\n",
    "    dic_res[\"threshold\"].append(threshold)\n",
    "    dic_res[\"auc\"].append(roc_auc)"
   ]
  },
  {
   "cell_type": "markdown",
   "metadata": {},
   "source": [
    "## LinkedIn Test"
   ]
  },
  {
   "cell_type": "code",
   "execution_count": null,
   "metadata": {},
   "outputs": [],
   "source": [
    "import pickle\n",
    "from operator import itemgetter\n",
    "from collections import defaultdict, Counter\n",
    "from sklearn.preprocessing import OneHotEncoder, LabelEncoder, Imputer, StandardScaler, scale\n",
    "from sklearn import model_selection, metrics\n",
    "from sklearn.metrics import roc_auc_score, brier_score_loss, make_scorer, f1_score, fbeta_score, precision_score, recall_score, roc_curve\n",
    "from sklearn.model_selection import RandomizedSearchCV, RepeatedStratifiedKFold, cross_validate\n",
    "from sklearn.feature_selection import SelectFromModel\n",
    "from sklearn.ensemble import RandomForestClassifier, IsolationForest\n",
    "from sklearn.linear_model import LogisticRegression\n",
    "from sklearn.manifold import TSNE\n",
    "from scipy.stats import uniform\n",
    "from xgboost import XGBClassifier\n",
    "from tqdm import tqdm\n",
    "import numpy as np\n",
    "from sklearn.model_selection import train_test_split\n",
    "from sklearn.preprocessing import StandardScaler\n",
    "from sklearn.datasets import make_moons, make_circles, make_classification\n",
    "from sklearn.neural_network import MLPClassifier\n",
    "from sklearn.neighbors import KNeighborsClassifier\n",
    "from sklearn.svm import SVC\n",
    "from sklearn.gaussian_process import GaussianProcessClassifier\n",
    "from sklearn.gaussian_process.kernels import RBF\n",
    "from sklearn.tree import DecisionTreeClassifier\n",
    "from sklearn.ensemble import RandomForestClassifier, AdaBoostClassifier\n",
    "from sklearn.naive_bayes import GaussianNB\n",
    "from sklearn.discriminant_analysis import QuadraticDiscriminantAnalysis\n",
    "from sklearn.metrics import classification_report\n",
    "\n",
    "d_test_brunch=pickle.load(open(\"/warehouse/COMPLEXNET/jlevyabi/TWITTERSES/ml_soc_econ/data_files/UKSOC_rep/linkedin/linkedin_data/xgb_data.p\",\"rb\"))\n",
    "\n",
    "X_train=d_test_brunch[\"Xtrain\"]\n",
    "X_test=d_test_brunch[\"Xtest\"]\n",
    "y_train=d_test_brunch[\"Ytrain\"]\n",
    "y_test=d_test_brunch[\"Ytest\"]\n",
    "\n",
    "X=np.vstack([X_train,X_test])\n",
    "y=np.hstack([y_train,y_test])\n",
    "\n",
    "dic_res={\"best_params\":[],\"best_score\":[],\"auc\":[],\"fpr\":[],\"tpr\":[],\"threshold\":[]}\n",
    "nb_rep_test=5\n",
    "\n",
    "    \n",
    "for i in tqdm(range(1,nb_rep_test+1)):\n",
    "    stump_clf =  DecisionTreeClassifier(random_state=i, )\n",
    "    X_train, X_test, y_train, y_test = train_test_split(X, y,test_size=.2,random_state=i)\n",
    "    clf_xgb = AdaBoostClassifier(base_estimator = stump_clf)\n",
    "    param_distributions = {\n",
    "              \"n_estimators\": list(range(1,500)),\n",
    "              \"learning_rate\": uniform(0.01, 1),\n",
    "    }\n",
    "    #\n",
    "    n_splits = 5\n",
    "    n_repeats = 5\n",
    "    n_iter = 500\n",
    "    n_jobs = 90\n",
    "    verbose = 1\n",
    "    #\n",
    "    cv_xgb = RepeatedStratifiedKFold(n_splits=n_splits, n_repeats=n_repeats)\n",
    "    scorer_xgb = make_scorer(roc_auc_score, greater_is_better=True, needs_threshold=True)\n",
    "    model_xgb = RandomizedSearchCV(clf_xgb, param_distributions, n_iter=n_iter,\n",
    "                                   scoring=scorer_xgb, n_jobs=n_jobs, cv=cv_xgb, verbose=verbose)\n",
    "    #\n",
    "    model_xgb.fit(X_train, y_train)\n",
    "    print(\"Best model parameters: \", model_xgb.best_params_)\n",
    "    print(\"Best model roc auc score: \", model_xgb.best_score_)\n",
    "    #\n",
    "    #Mira brunch\n",
    "    clf_xgb_best=model_xgb.best_estimator_\n",
    "    clf_xgb_best.fit(X_train,y_train)\n",
    "    #\n",
    "    probs = clf_xgb_best.predict_proba(X_test)\n",
    "    preds = probs[:,1]\n",
    "    fpr, tpr, threshold = metrics.roc_curve(y_test, preds)\n",
    "    roc_auc = metrics.auc(fpr, tpr)\n",
    "    dic_res[\"best_params\"].append(model_xgb.best_params_)\n",
    "    dic_res[\"best_score\"].append(model_xgb.best_score_)\n",
    "    dic_res[\"fpr\"].append(fpr)\n",
    "    dic_res[\"tpr\"].append(tpr)\n",
    "    dic_res[\"threshold\"].append(threshold)\n",
    "    dic_res[\"auc\"].append(roc_auc)"
   ]
  },
  {
   "cell_type": "markdown",
   "metadata": {},
   "source": [
    "## Archi"
   ]
  },
  {
   "cell_type": "code",
   "execution_count": null,
   "metadata": {},
   "outputs": [],
   "source": [
    "import pickle\n",
    "from operator import itemgetter\n",
    "from collections import defaultdict, Counter\n",
    "from sklearn.preprocessing import OneHotEncoder, LabelEncoder, Imputer, StandardScaler, scale\n",
    "from sklearn import model_selection, metrics\n",
    "from sklearn.metrics import roc_auc_score, brier_score_loss, make_scorer, f1_score, fbeta_score, precision_score, recall_score, roc_curve\n",
    "from sklearn.model_selection import RandomizedSearchCV, RepeatedStratifiedKFold, cross_validate\n",
    "from sklearn.feature_selection import SelectFromModel\n",
    "from sklearn.ensemble import RandomForestClassifier, IsolationForest\n",
    "from sklearn.linear_model import LogisticRegression\n",
    "from sklearn.manifold import TSNE\n",
    "from scipy.stats import uniform\n",
    "from xgboost import XGBClassifier\n",
    "from tqdm import tqdm\n",
    "import numpy as np\n",
    "from sklearn.model_selection import train_test_split\n",
    "from sklearn.preprocessing import StandardScaler\n",
    "from sklearn.datasets import make_moons, make_circles, make_classification\n",
    "from sklearn.neural_network import MLPClassifier\n",
    "from sklearn.neighbors import KNeighborsClassifier\n",
    "from sklearn.svm import SVC\n",
    "from sklearn.gaussian_process import GaussianProcessClassifier\n",
    "from sklearn.gaussian_process.kernels import RBF\n",
    "from sklearn.tree import DecisionTreeClassifier\n",
    "from sklearn.ensemble import RandomForestClassifier, AdaBoostClassifier\n",
    "from sklearn.naive_bayes import GaussianNB\n",
    "from sklearn.discriminant_analysis import QuadraticDiscriminantAnalysis\n",
    "from sklearn.metrics import classification_report\n",
    "\n",
    "import pickle\n",
    "d_test_brunch=pickle.load(open(\"/warehouse/COMPLEXNET/jlevyabi/TWITTERSES/ml_soc_econ/icdm18/issues/archi_xgb_data.p\",\"rb\"))\n",
    "\n",
    "X_train=d_test_brunch[\"Xtrain\"]\n",
    "X_test=d_test_brunch[\"Xtest\"]\n",
    "y_train=d_test_brunch[\"Ytrain\"]\n",
    "y_test=d_test_brunch[\"Ytest\"]\n",
    "\n",
    "X=np.vstack([X_train,X_test])\n",
    "y=np.hstack([y_train,y_test])\n",
    "\n",
    "dic_res={\"best_params\":[],\"best_score\":[],\"auc\":[],\"fpr\":[],\"tpr\":[],\"threshold\":[]}\n",
    "nb_rep_test=10\n",
    "\n",
    "    \n",
    "for i in tqdm(range(5,nb_rep_test+1)):\n",
    "    stump_clf =  DecisionTreeClassifier(random_state=i, )\n",
    "    X_train, X_test, y_train, y_test = train_test_split(X, y,test_size=.2,random_state=i)\n",
    "    clf_xgb = AdaBoostClassifier(base_estimator = stump_clf)\n",
    "    param_distributions = {\n",
    "              \"n_estimators\": list(range(1,500)),\n",
    "              \"learning_rate\": uniform(0.01, 1),\n",
    "    }\n",
    "    #\n",
    "    n_splits = 5\n",
    "    n_repeats = 5\n",
    "    n_iter = 500\n",
    "    n_jobs = -1\n",
    "    verbose = 1\n",
    "    #\n",
    "    cv_xgb = RepeatedStratifiedKFold(n_splits=n_splits, n_repeats=n_repeats)\n",
    "    scorer_xgb = make_scorer(roc_auc_score, greater_is_better=True, needs_threshold=True)\n",
    "    model_xgb = RandomizedSearchCV(clf_xgb, param_distributions, n_iter=n_iter,\n",
    "                                   scoring=scorer_xgb, n_jobs=n_jobs, cv=cv_xgb, verbose=verbose)\n",
    "    #\n",
    "    model_xgb.fit(X_train, y_train)\n",
    "    print(\"Best model parameters: \", model_xgb.best_params_)\n",
    "    print(\"Best model roc auc score: \", model_xgb.best_score_)\n",
    "    #\n",
    "    #Mira brunch\n",
    "    clf_xgb_best=model_xgb.best_estimator_\n",
    "    clf_xgb_best.fit(X_train,y_train)\n",
    "    #\n",
    "    probs = clf_xgb_best.predict_proba(X_test)\n",
    "    preds = probs[:,1]\n",
    "    fpr, tpr, threshold = metrics.roc_curve(y_test, preds)\n",
    "    roc_auc = metrics.auc(fpr, tpr)\n",
    "    dic_res[\"best_params\"].append(model_xgb.best_params_)\n",
    "    dic_res[\"best_score\"].append(model_xgb.best_score_)\n",
    "    dic_res[\"fpr\"].append(fpr)\n",
    "    dic_res[\"tpr\"].append(tpr)\n",
    "    dic_res[\"threshold\"].append(threshold)\n",
    "    dic_res[\"auc\"].append(roc_auc)"
   ]
  },
  {
   "cell_type": "markdown",
   "metadata": {},
   "source": [
    "# RForest"
   ]
  },
  {
   "cell_type": "markdown",
   "metadata": {
    "heading_collapsed": true
   },
   "source": [
    "## Location"
   ]
  },
  {
   "cell_type": "code",
   "execution_count": null,
   "metadata": {
    "hidden": true
   },
   "outputs": [],
   "source": [
    "import pickle\n",
    "from operator import itemgetter\n",
    "from collections import defaultdict, Counter\n",
    "from sklearn.preprocessing import OneHotEncoder, LabelEncoder, Imputer, StandardScaler, scale\n",
    "from sklearn import model_selection, metrics\n",
    "from sklearn.metrics import roc_auc_score, brier_score_loss, make_scorer, f1_score, fbeta_score, precision_score, recall_score, roc_curve\n",
    "from sklearn.model_selection import RandomizedSearchCV, RepeatedStratifiedKFold, cross_validate\n",
    "from sklearn.feature_selection import SelectFromModel\n",
    "from sklearn.ensemble import RandomForestClassifier, IsolationForest\n",
    "from sklearn.linear_model import LogisticRegression\n",
    "from sklearn.manifold import TSNE\n",
    "from scipy.stats import uniform\n",
    "from xgboost import XGBClassifier\n",
    "from tqdm import tqdm\n",
    "import numpy as np\n",
    "from sklearn.model_selection import train_test_split\n",
    "from sklearn.preprocessing import StandardScaler\n",
    "from sklearn.datasets import make_moons, make_circles, make_classification\n",
    "from sklearn.neural_network import MLPClassifier\n",
    "from sklearn.neighbors import KNeighborsClassifier\n",
    "from sklearn.svm import SVC\n",
    "from sklearn.gaussian_process import GaussianProcessClassifier\n",
    "from sklearn.gaussian_process.kernels import RBF\n",
    "from sklearn.tree import DecisionTreeClassifier\n",
    "from sklearn.ensemble import RandomForestClassifier, AdaBoostClassifier\n",
    "from sklearn.naive_bayes import GaussianNB\n",
    "from sklearn.discriminant_analysis import QuadraticDiscriminantAnalysis\n",
    "from sklearn.metrics import classification_report\n",
    "\n",
    "\n",
    "d_test_brunch=pickle.load(open(\"/warehouse/COMPLEXNET/jlevyabi/TWITTERSES/ml_soc_econ/data_files/UKSOC_rep/uksoc_xgb_data.p\",\"rb\"))\n",
    "\n",
    "X_train=d_test_brunch[\"Xtrain\"]\n",
    "X_test=d_test_brunch[\"Xtest\"]\n",
    "y_train=d_test_brunch[\"Ytrain\"]\n",
    "y_test=d_test_brunch[\"Ytest\"]\n",
    "\n",
    "X=np.vstack([X_train,X_test])\n",
    "y=np.hstack([y_train,y_test])\n",
    "\n",
    "dic_res={\"best_params\":[],\"best_score\":[],\"auc\":[],\"fpr\":[],\"tpr\":[],\"threshold\":[]}\n",
    "nb_rep_test=5\n",
    "\n",
    "for i in tqdm(range(1,nb_rep_test+1)):\n",
    "    X_train, X_test, y_train, y_test = train_test_split(X, y,test_size=.2,random_state=i)\n",
    "    clf_xgb = RandomForestClassifier(n_estimators=1000, n_jobs=1)\n",
    "    param_distributions = {'criterion': ['gini', 'gini', 'entropy'],\n",
    "                           'max_depth': range(2,50),\n",
    "                           'min_samples_split': uniform(loc=0, scale=0.2),\n",
    "                           'min_samples_leaf': uniform(loc=0, scale=0.2),\n",
    "                           'bootstrap': [True, True, False]}\n",
    "    n_splits = 5\n",
    "    n_repeats = 5\n",
    "    n_iter = 500\n",
    "    n_jobs = -1\n",
    "    verbose = 1\n",
    "    #\n",
    "    cv_xgb = RepeatedStratifiedKFold(n_splits=n_splits, n_repeats=n_repeats)\n",
    "    scorer_xgb = make_scorer(roc_auc_score, greater_is_better=True, needs_threshold=True)\n",
    "    model_xgb = RandomizedSearchCV(clf_xgb, param_distributions, n_iter=n_iter,\n",
    "                                   scoring=scorer_xgb, n_jobs=n_jobs, cv=cv_xgb, verbose=verbose)\n",
    "    #\n",
    "    model_xgb.fit(X_train, y_train)\n",
    "    print(\"Best model parameters: \", model_xgb.best_params_)\n",
    "    print(\"Best model roc auc score: \", model_xgb.best_score_)\n",
    "    #\n",
    "    #Mira brunch\n",
    "    clf_xgb_best=model_xgb.best_estimator_\n",
    "    clf_xgb_best.fit(X_train,y_train)\n",
    "    #\n",
    "    probs = clf_xgb_best.predict_proba(X_test)\n",
    "    preds = probs[:,1]\n",
    "    fpr, tpr, threshold = metrics.roc_curve(y_test, preds)\n",
    "    roc_auc = metrics.auc(fpr, tpr)\n",
    "    dic_res[\"best_params\"].append(model_xgb.best_params_)\n",
    "    dic_res[\"best_score\"].append(model_xgb.best_score_)\n",
    "    dic_res[\"fpr\"].append(fpr)\n",
    "    dic_res[\"tpr\"].append(tpr)\n",
    "    dic_res[\"threshold\"].append(threshold)\n",
    "    dic_res[\"auc\"].append(roc_auc)"
   ]
  },
  {
   "cell_type": "markdown",
   "metadata": {},
   "source": [
    "## LinkedIn"
   ]
  },
  {
   "cell_type": "code",
   "execution_count": null,
   "metadata": {},
   "outputs": [],
   "source": [
    "import pickle\n",
    "from operator import itemgetter\n",
    "from collections import defaultdict, Counter\n",
    "from sklearn.preprocessing import OneHotEncoder, LabelEncoder, Imputer, StandardScaler, scale\n",
    "from sklearn import model_selection, metrics\n",
    "from sklearn.metrics import roc_auc_score, brier_score_loss, make_scorer, f1_score, fbeta_score, precision_score, recall_score, roc_curve\n",
    "from sklearn.model_selection import RandomizedSearchCV, RepeatedStratifiedKFold, cross_validate\n",
    "from sklearn.feature_selection import SelectFromModel\n",
    "from sklearn.ensemble import RandomForestClassifier, IsolationForest\n",
    "from sklearn.linear_model import LogisticRegression\n",
    "from sklearn.manifold import TSNE\n",
    "from scipy.stats import uniform\n",
    "from xgboost import XGBClassifier\n",
    "from tqdm import tqdm\n",
    "import numpy as np\n",
    "from sklearn.model_selection import train_test_split\n",
    "from sklearn.preprocessing import StandardScaler\n",
    "from sklearn.datasets import make_moons, make_circles, make_classification\n",
    "from sklearn.neural_network import MLPClassifier\n",
    "from sklearn.neighbors import KNeighborsClassifier\n",
    "from sklearn.svm import SVC\n",
    "from sklearn.gaussian_process import GaussianProcessClassifier\n",
    "from sklearn.gaussian_process.kernels import RBF\n",
    "from sklearn.tree import DecisionTreeClassifier\n",
    "from sklearn.ensemble import RandomForestClassifier, AdaBoostClassifier\n",
    "from sklearn.naive_bayes import GaussianNB\n",
    "from sklearn.discriminant_analysis import QuadraticDiscriminantAnalysis\n",
    "from sklearn.metrics import classification_report\n",
    "\n",
    "\n",
    "d_test_brunch=pickle.load(open(\"/warehouse/COMPLEXNET/jlevyabi/TWITTERSES/ml_soc_econ/data_files/UKSOC_rep/linkedin/linkedin_data/xgb_data.p\",\"rb\"))\n",
    "\n",
    "X_train=d_test_brunch[\"Xtrain\"]\n",
    "X_test=d_test_brunch[\"Xtest\"]\n",
    "y_train=d_test_brunch[\"Ytrain\"]\n",
    "y_test=d_test_brunch[\"Ytest\"]\n",
    "\n",
    "X=np.vstack([X_train,X_test])\n",
    "y=np.hstack([y_train,y_test])\n",
    "\n",
    "dic_res={\"best_params\":[],\"best_score\":[],\"auc\":[],\"fpr\":[],\"tpr\":[],\"threshold\":[]}\n",
    "nb_rep_test=5\n",
    "\n",
    "for i in tqdm(range(1,nb_rep_test+1)):\n",
    "    X_train, X_test, y_train, y_test = train_test_split(X, y,test_size=.2,random_state=i)\n",
    "    clf_xgb = RandomForestClassifier(n_estimators=1000, n_jobs=1)\n",
    "    param_distributions = {'criterion': ['gini', 'gini', 'entropy'],\n",
    "                           'max_depth': range(2,50),\n",
    "                           'min_samples_split': uniform(loc=0, scale=0.2),\n",
    "                           'min_samples_leaf': uniform(loc=0, scale=0.2),\n",
    "                           'bootstrap': [True, True, False]}\n",
    "    n_splits = 5\n",
    "    n_repeats = 5\n",
    "    n_iter = 500\n",
    "    n_jobs = 90\n",
    "    verbose = 1\n",
    "    #\n",
    "    cv_xgb = RepeatedStratifiedKFold(n_splits=n_splits, n_repeats=n_repeats)\n",
    "    scorer_xgb = make_scorer(roc_auc_score, greater_is_better=True, needs_threshold=True)\n",
    "    model_xgb = RandomizedSearchCV(clf_xgb, param_distributions, n_iter=n_iter,\n",
    "                                   scoring=scorer_xgb, n_jobs=n_jobs, cv=cv_xgb, verbose=verbose)\n",
    "    #\n",
    "    model_xgb.fit(X_train, y_train)\n",
    "    print(\"Best model parameters: \", model_xgb.best_params_)\n",
    "    print(\"Best model roc auc score: \", model_xgb.best_score_)\n",
    "    #\n",
    "    #Mira brunch\n",
    "    clf_xgb_best=model_xgb.best_estimator_\n",
    "    clf_xgb_best.fit(X_train,y_train)\n",
    "    #\n",
    "    probs = clf_xgb_best.predict_proba(X_test)\n",
    "    preds = probs[:,1]\n",
    "    fpr, tpr, threshold = metrics.roc_curve(y_test, preds)\n",
    "    roc_auc = metrics.auc(fpr, tpr)\n",
    "    dic_res[\"best_params\"].append(model_xgb.best_params_)\n",
    "    dic_res[\"best_score\"].append(model_xgb.best_score_)\n",
    "    dic_res[\"fpr\"].append(fpr)\n",
    "    dic_res[\"tpr\"].append(tpr)\n",
    "    dic_res[\"threshold\"].append(threshold)\n",
    "    dic_res[\"auc\"].append(roc_auc)"
   ]
  },
  {
   "cell_type": "markdown",
   "metadata": {},
   "source": [
    "## Archi"
   ]
  },
  {
   "cell_type": "code",
   "execution_count": null,
   "metadata": {},
   "outputs": [],
   "source": [
    "import pickle\n",
    "from operator import itemgetter\n",
    "from collections import defaultdict, Counter\n",
    "from sklearn.preprocessing import OneHotEncoder, LabelEncoder, Imputer, StandardScaler, scale\n",
    "from sklearn import model_selection, metrics\n",
    "from sklearn.metrics import roc_auc_score, brier_score_loss, make_scorer, f1_score, fbeta_score, precision_score, recall_score, roc_curve\n",
    "from sklearn.model_selection import RandomizedSearchCV, RepeatedStratifiedKFold, cross_validate\n",
    "from sklearn.feature_selection import SelectFromModel\n",
    "from sklearn.ensemble import RandomForestClassifier, IsolationForest\n",
    "from sklearn.linear_model import LogisticRegression\n",
    "from sklearn.manifold import TSNE\n",
    "from scipy.stats import uniform\n",
    "from xgboost import XGBClassifier\n",
    "from tqdm import tqdm as tqdm\n",
    "import numpy as np\n",
    "from sklearn.model_selection import train_test_split\n",
    "from sklearn.preprocessing import StandardScaler\n",
    "from sklearn.datasets import make_moons, make_circles, make_classification\n",
    "from sklearn.neural_network import MLPClassifier\n",
    "from sklearn.neighbors import KNeighborsClassifier\n",
    "from sklearn.svm import SVC\n",
    "from sklearn.gaussian_process import GaussianProcessClassifier\n",
    "from sklearn.gaussian_process.kernels import RBF\n",
    "from sklearn.tree import DecisionTreeClassifier\n",
    "from sklearn.ensemble import RandomForestClassifier, AdaBoostClassifier\n",
    "from sklearn.naive_bayes import GaussianNB\n",
    "from sklearn.discriminant_analysis import QuadraticDiscriminantAnalysis\n",
    "from sklearn.metrics import classification_report\n",
    "\n",
    "import pickle\n",
    "d_test_brunch=pickle.load(open(\"/warehouse/COMPLEXNET/jlevyabi/TWITTERSES/ml_soc_econ/icdm18/issues/archi_xgb_data.p\",\"rb\"))\n",
    "\n",
    "X_train=d_test_brunch[\"Xtrain\"]\n",
    "X_test=d_test_brunch[\"Xtest\"]\n",
    "y_train=d_test_brunch[\"Ytrain\"]\n",
    "y_test=d_test_brunch[\"Ytest\"]\n",
    "\n",
    "X=np.vstack([X_train,X_test])\n",
    "y=np.hstack([y_train,y_test])\n",
    "\n",
    "dic_res={\"best_params\":[],\"best_score\":[],\"auc\":[],\"fpr\":[],\"tpr\":[],\"threshold\":[]}\n",
    "nb_rep_test=10\n",
    "\n",
    "for i in tqdm(range(1,nb_rep_test+1)):\n",
    "    X_train, X_test, y_train, y_test = train_test_split(X, y,test_size=.2,random_state=i)\n",
    "    clf_xgb = RandomForestClassifier(n_estimators=1000, n_jobs=1)\n",
    "    param_distributions = {'criterion': ['gini', 'gini', 'entropy'],\n",
    "                           'max_depth': range(2,50),\n",
    "                           'min_samples_split': uniform(loc=0, scale=0.2),\n",
    "                           'min_samples_leaf': uniform(loc=0, scale=0.2),\n",
    "                           'bootstrap': [True, True, False]}\n",
    "    #\n",
    "    n_splits = 5\n",
    "    n_repeats = 10\n",
    "    n_iter = 500\n",
    "    n_jobs = -1\n",
    "    verbose = 1\n",
    "    #\n",
    "    cv_xgb = RepeatedStratifiedKFold(n_splits=n_splits, n_repeats=n_repeats)\n",
    "    scorer_xgb = make_scorer(roc_auc_score, greater_is_better=True, needs_threshold=True)\n",
    "    model_xgb = RandomizedSearchCV(clf_xgb, param_distributions, n_iter=n_iter,\n",
    "                                   scoring=scorer_xgb, n_jobs=n_jobs, cv=cv_xgb, verbose=verbose)\n",
    "    #\n",
    "    model_xgb.fit(X_train, y_train)\n",
    "    print(\"Best model parameters: \", model_xgb.best_params_)\n",
    "    print(\"Best model roc auc score: \", model_xgb.best_score_)\n",
    "    #\n",
    "    #Mira brunch\n",
    "    clf_xgb_best=model_xgb.best_estimator_\n",
    "    clf_xgb_best.fit(X_train,y_train)\n",
    "    #\n",
    "    probs = clf_xgb_best.predict_proba(X_test)\n",
    "    preds = probs[:,1]\n",
    "    fpr, tpr, threshold = metrics.roc_curve(y_test, preds)\n",
    "    roc_auc = metrics.auc(fpr, tpr)\n",
    "    dic_res[\"best_params\"].append(model_xgb.best_params_)\n",
    "    dic_res[\"best_score\"].append(model_xgb.best_score_)\n",
    "    dic_res[\"fpr\"].append(fpr)\n",
    "    dic_res[\"tpr\"].append(tpr)\n",
    "    dic_res[\"threshold\"].append(threshold)\n",
    "    dic_res[\"auc\"].append(roc_auc)"
   ]
  },
  {
   "cell_type": "markdown",
   "metadata": {},
   "source": [
    "# XGBoost"
   ]
  },
  {
   "cell_type": "markdown",
   "metadata": {
    "heading_collapsed": true
   },
   "source": [
    "## Location"
   ]
  },
  {
   "cell_type": "code",
   "execution_count": null,
   "metadata": {
    "hidden": true
   },
   "outputs": [],
   "source": [
    "import pickle\n",
    "from operator import itemgetter\n",
    "from collections import defaultdict, Counter\n",
    "from sklearn.preprocessing import OneHotEncoder, LabelEncoder, Imputer, StandardScaler, scale\n",
    "from sklearn import model_selection, metrics\n",
    "from sklearn.metrics import roc_auc_score, brier_score_loss, make_scorer, f1_score, fbeta_score, precision_score, recall_score, roc_curve\n",
    "from sklearn.model_selection import RandomizedSearchCV, RepeatedStratifiedKFold, cross_validate\n",
    "from sklearn.feature_selection import SelectFromModel\n",
    "from sklearn.ensemble import RandomForestClassifier, IsolationForest\n",
    "from sklearn.linear_model import LogisticRegression\n",
    "from sklearn.manifold import TSNE\n",
    "from scipy.stats import uniform\n",
    "from xgboost import XGBClassifier\n",
    "from tqdm import tqdm\n",
    "import numpy as np\n",
    "from sklearn.model_selection import train_test_split\n",
    "from sklearn.preprocessing import StandardScaler\n",
    "from sklearn.datasets import make_moons, make_circles, make_classification\n",
    "from sklearn.neural_network import MLPClassifier\n",
    "from sklearn.neighbors import KNeighborsClassifier\n",
    "from sklearn.svm import SVC\n",
    "from sklearn.gaussian_process import GaussianProcessClassifier\n",
    "from sklearn.gaussian_process.kernels import RBF\n",
    "from sklearn.tree import DecisionTreeClassifier\n",
    "from sklearn.ensemble import RandomForestClassifier, AdaBoostClassifier\n",
    "from sklearn.naive_bayes import GaussianNB\n",
    "from sklearn.discriminant_analysis import QuadraticDiscriminantAnalysis\n",
    "from sklearn.metrics import classification_report\n",
    "\n",
    "\n",
    "d_test_brunch=pickle.load(open(\"/warehouse/COMPLEXNET/jlevyabi/TWITTERSES/ml_soc_econ/data_files/UKSOC_rep/uksoc_xgb_data.p\",\"rb\"))\n",
    "\n",
    "X_train=d_test_brunch[\"Xtrain\"]\n",
    "X_test=d_test_brunch[\"Xtest\"]\n",
    "y_train=d_test_brunch[\"Ytrain\"]\n",
    "y_test=d_test_brunch[\"Ytest\"]\n",
    "\n",
    "X=np.vstack([X_train,X_test])\n",
    "y=np.hstack([y_train,y_test])\n",
    "\n",
    "dic_res={\"best_params\":[],\"best_score\":[],\"auc\":[],\"fpr\":[],\"tpr\":[],\"threshold\":[]}\n",
    "nb_rep_test=5\n",
    "\n",
    "for i in tqdm(range(1,nb_rep_test+1)):\n",
    "    X_train, X_test, y_train, y_test = train_test_split(X, y,test_size=.2,random_state=i)\n",
    "    clf_xgb = XGBClassifier(silent=True, objective='binary:logistic', nthread=1,scale_pos_weight=1, base_score=0.5)\n",
    "    #\n",
    "    param_distributions = {\"max_depth\": range(3,50),\n",
    "                           \"learning_rate\": uniform(loc=0, scale=0.1),\n",
    "                           \"n_estimators\": range(10, 1500),\n",
    "                           \"min_child_weight\": range(1, 200),\n",
    "                           \"gamma\": uniform(loc=0, scale=0.1),\n",
    "                           \"subsample\": uniform(loc=0.7, scale=0.3),\n",
    "                           \"colsample_bytree\": uniform(loc=0.5, scale=0.5),\n",
    "                           \"colsample_bylevel\": uniform(loc=0.1, scale=0.9), \n",
    "                           \"reg_alpha\": uniform(loc=0, scale=0.2),\n",
    "                           \"reg_lambda\": uniform(loc=0.8, scale=0.2)}\n",
    "    #\n",
    "    n_splits = 5\n",
    "    n_repeats = 10\n",
    "    n_iter = 500\n",
    "    n_jobs = -1\n",
    "    verbose = 1\n",
    "    #\n",
    "    cv_xgb = RepeatedStratifiedKFold(n_splits=n_splits, n_repeats=n_repeats)\n",
    "    scorer_xgb = make_scorer(roc_auc_score, greater_is_better=True, needs_threshold=True)\n",
    "    model_xgb = RandomizedSearchCV(clf_xgb, param_distributions, n_iter=n_iter,\n",
    "                                   scoring=scorer_xgb, n_jobs=n_jobs, cv=cv_xgb, verbose=verbose)\n",
    "    #\n",
    "    model_xgb.fit(X_train, y_train)\n",
    "    print(\"Best model parameters: \", model_xgb.best_params_)\n",
    "    print(\"Best model roc auc score: \", model_xgb.best_score_)\n",
    "    #\n",
    "    #Mira brunch\n",
    "    clf_xgb_best=model_xgb.best_estimator_\n",
    "    clf_xgb_best.fit(X_train,y_train)\n",
    "    #\n",
    "    probs = clf_xgb_best.predict_proba(X_test)\n",
    "    preds = probs[:,1]\n",
    "    fpr, tpr, threshold = metrics.roc_curve(y_test, preds)\n",
    "    roc_auc = metrics.auc(fpr, tpr)\n",
    "    dic_res[\"best_params\"].append(model_xgb.best_params_)\n",
    "    dic_res[\"best_score\"].append(model_xgb.best_score_)\n",
    "    dic_res[\"fpr\"].append(fpr)\n",
    "    dic_res[\"tpr\"].append(tpr)\n",
    "    dic_res[\"threshold\"].append(threshold)\n",
    "    dic_res[\"auc\"].append(roc_auc)"
   ]
  },
  {
   "cell_type": "raw",
   "metadata": {
    "hidden": true
   },
   "source": [
    "dic_res[\"best_params\"].append(model_xgb.best_params_)\n",
    "dic_res[\"best_score\"].append(model_xgb.best_score_)\n",
    "dic_res[\"fpr\"].append(fpr)\n",
    "dic_res[\"tpr\"].append(tpr)\n",
    "dic_res[\"threshold\"].append(threshold)\n",
    "dic_res[\"auc\"].append(roc_auc)"
   ]
  },
  {
   "cell_type": "code",
   "execution_count": 5,
   "metadata": {
    "hidden": true
   },
   "outputs": [
    {
     "data": {
      "text/plain": [
       "XGBClassifier(base_score=0.5, booster='gbtree',\n",
       "       colsample_bylevel=0.7644347319502035,\n",
       "       colsample_bytree=0.5407410007880673, gamma=0.06575869277016731,\n",
       "       learning_rate=0.007273150630348446, max_delta_step=0, max_depth=8,\n",
       "       min_child_weight=28, missing=None, n_estimators=1272, n_jobs=10,\n",
       "       nthread=1, objective='binary:logistic', random_state=0,\n",
       "       reg_alpha=0.1689331019058065, reg_lambda=0.8009806043156956,\n",
       "       scale_pos_weight=1, seed=None, silent=True,\n",
       "       subsample=0.7642669507003719)"
      ]
     },
     "execution_count": 5,
     "metadata": {},
     "output_type": "execute_result"
    }
   ],
   "source": [
    "clf_xgb_best = XGBClassifier(silent=True,\n",
    "                             objective='binary:logistic', nthread=1,\n",
    "                             colsample_bylevel=0.7644347319502035,\n",
    "                             colsample_bytree=0.5407410007880673,\n",
    "                             gamma=0.06575869277016731,\n",
    "                             learning_rate=0.007273150630348446,\n",
    "                             max_depth=8,\n",
    "                             min_child_weight=28,\n",
    "                             n_estimators=1272,\n",
    "                             reg_alpha=0.1689331019058065,\n",
    "                             reg_lambda=0.8009806043156956,\n",
    "                             subsample=0.7642669507003719,\n",
    "                             scale_pos_weight=1, base_score=0.5,\n",
    "                            n_jobs=10)\n",
    "\n",
    "clf_xgb_best.fit(X_train,y_train)"
   ]
  },
  {
   "cell_type": "code",
   "execution_count": 6,
   "metadata": {
    "hidden": true
   },
   "outputs": [
    {
     "name": "stdout",
     "output_type": "stream",
     "text": [
      "             precision    recall  f1-score   support\n",
      "\n",
      "          0       0.66      0.61      0.64       752\n",
      "          1       0.63      0.68      0.66       738\n",
      "\n",
      "avg / total       0.65      0.65      0.65      1490\n",
      "\n"
     ]
    },
    {
     "name": "stderr",
     "output_type": "stream",
     "text": [
      "/home/jlevyabi/anaconda3/lib/python3.6/site-packages/sklearn/preprocessing/label.py:151: DeprecationWarning: The truth value of an empty array is ambiguous. Returning False, but in future this will result in an error. Use `array.size > 0` to check that an array is not empty.\n",
      "  if diff:\n"
     ]
    }
   ],
   "source": [
    "from sklearn.metrics import classification_report\n",
    "print(classification_report(y_test,clf_xgb_best.predict(X_test)))"
   ]
  },
  {
   "cell_type": "markdown",
   "metadata": {},
   "source": [
    "## LinkedIn"
   ]
  },
  {
   "cell_type": "code",
   "execution_count": null,
   "metadata": {},
   "outputs": [],
   "source": [
    "import pickle\n",
    "from operator import itemgetter\n",
    "from collections import defaultdict, Counter\n",
    "from sklearn.preprocessing import OneHotEncoder, LabelEncoder, Imputer, StandardScaler, scale\n",
    "from sklearn import model_selection, metrics\n",
    "from sklearn.metrics import roc_auc_score, brier_score_loss, make_scorer, f1_score, fbeta_score, precision_score, recall_score, roc_curve\n",
    "from sklearn.model_selection import RandomizedSearchCV, RepeatedStratifiedKFold, cross_validate\n",
    "from sklearn.feature_selection import SelectFromModel\n",
    "from sklearn.ensemble import RandomForestClassifier, IsolationForest\n",
    "from sklearn.linear_model import LogisticRegression\n",
    "from sklearn.manifold import TSNE\n",
    "from scipy.stats import uniform\n",
    "from xgboost import XGBClassifier\n",
    "from tqdm import tqdm\n",
    "import numpy as np\n",
    "from sklearn.model_selection import train_test_split\n",
    "from sklearn.preprocessing import StandardScaler\n",
    "from sklearn.datasets import make_moons, make_circles, make_classification\n",
    "from sklearn.neural_network import MLPClassifier\n",
    "from sklearn.neighbors import KNeighborsClassifier\n",
    "from sklearn.svm import SVC\n",
    "from sklearn.gaussian_process import GaussianProcessClassifier\n",
    "from sklearn.gaussian_process.kernels import RBF\n",
    "from sklearn.tree import DecisionTreeClassifier\n",
    "from sklearn.ensemble import RandomForestClassifier, AdaBoostClassifier\n",
    "from sklearn.naive_bayes import GaussianNB\n",
    "from sklearn.discriminant_analysis import QuadraticDiscriminantAnalysis\n",
    "from sklearn.metrics import classification_report\n",
    "\n",
    "import pickle\n",
    "d_test_brunch=pickle.load(open(\"/warehouse/COMPLEXNET/jlevyabi/TWITTERSES/ml_soc_econ/data_files/UKSOC_rep/linkedin/linkedin_data/xgb_data.p\",\"rb\"))\n",
    "\n",
    "X_train=d_test_brunch[\"Xtrain\"]\n",
    "X_test=d_test_brunch[\"Xtest\"]\n",
    "y_train=d_test_brunch[\"Ytrain\"]\n",
    "y_test=d_test_brunch[\"Ytest\"]\n",
    "\n",
    "X=np.vstack([X_train,X_test])\n",
    "y=np.hstack([y_train,y_test])\n",
    "\n",
    "dic_res={\"best_params\":[],\"best_score\":[],\"auc\":[],\"fpr\":[],\"tpr\":[],\"threshold\":[]}\n",
    "nb_rep_test=5\n",
    "\n",
    "for i in tqdmn(range(1,nb_rep_test+1)):\n",
    "    X_train, X_test, y_train, y_test = train_test_split(X, y,test_size=.2,random_state=i)\n",
    "    clf_xgb = XGBClassifier(silent=True, objective='binary:logistic', nthread=1,scale_pos_weight=1, base_score=0.5)\n",
    "    #\n",
    "    param_distributions = {\"max_depth\": range(3,50),\n",
    "                       \"learning_rate\": uniform(loc=0, scale=0.1),\n",
    "                       \"n_estimators\": range(10, 1500),\n",
    "                       \"min_child_weight\": range(1, 200),\n",
    "                       \"gamma\": uniform(loc=0, scale=0.1),\n",
    "                       \"subsample\": uniform(loc=0.7, scale=0.3),\n",
    "                       \"colsample_bytree\": uniform(loc=0.5, scale=0.5),\n",
    "                       \"colsample_bylevel\": uniform(loc=0.1, scale=0.9),\n",
    "                       \"reg_alpha\": uniform(loc=0, scale=0.2),\n",
    "                       \"reg_lambda\": uniform(loc=0.8, scale=0.2)}\n",
    "    #\n",
    "    n_splits = 5\n",
    "    n_repeats = 10\n",
    "    n_iter = 500\n",
    "    n_jobs = -1\n",
    "    verbose = 1\n",
    "    #\n",
    "    cv_xgb = RepeatedStratifiedKFold(n_splits=n_splits, n_repeats=n_repeats)\n",
    "    scorer_xgb = make_scorer(roc_auc_score, greater_is_better=True, needs_threshold=True)\n",
    "    model_xgb = RandomizedSearchCV(clf_xgb, param_distributions, n_iter=n_iter,\n",
    "                                   scoring=scorer_xgb, n_jobs=n_jobs, cv=cv_xgb, verbose=verbose)\n",
    "    #\n",
    "    model_xgb.fit(X_train, y_train)\n",
    "    print(\"Best model parameters: \", model_xgb.best_params_)\n",
    "    print(\"Best model roc auc score: \", model_xgb.best_score_)\n",
    "    #\n",
    "    #Mira brunch\n",
    "    clf_xgb_best=model_xgb.best_estimator_\n",
    "    clf_xgb_best.fit(X_train,y_train)\n",
    "    #\n",
    "    probs = clf_xgb_best.predict_proba(X_test)\n",
    "    preds = probs[:,1]\n",
    "    fpr, tpr, threshold = metrics.roc_curve(y_test, preds)\n",
    "    roc_auc = metrics.auc(fpr, tpr)\n",
    "    dic_res[\"best_params\"].append(model_xgb.best_params_)\n",
    "    dic_res[\"best_score\"].append(model_xgb.best_score_)\n",
    "    dic_res[\"fpr\"].append(fpr)\n",
    "    dic_res[\"tpr\"].append(tpr)\n",
    "    dic_res[\"threshold\"].append(threshold)\n",
    "    dic_res[\"auc\"].append(roc_auc)"
   ]
  },
  {
   "cell_type": "markdown",
   "metadata": {},
   "source": [
    "## Archi"
   ]
  },
  {
   "cell_type": "code",
   "execution_count": null,
   "metadata": {},
   "outputs": [],
   "source": [
    "import pickle\n",
    "from operator import itemgetter\n",
    "from collections import defaultdict, Counter\n",
    "from sklearn.preprocessing import OneHotEncoder, LabelEncoder, Imputer, StandardScaler, scale\n",
    "from sklearn import model_selection, metrics\n",
    "from sklearn.metrics import roc_auc_score, brier_score_loss, make_scorer, f1_score, fbeta_score, precision_score, recall_score, roc_curve\n",
    "from sklearn.model_selection import RandomizedSearchCV, RepeatedStratifiedKFold, cross_validate\n",
    "from sklearn.feature_selection import SelectFromModel\n",
    "from sklearn.ensemble import RandomForestClassifier, IsolationForest\n",
    "from sklearn.linear_model import LogisticRegression\n",
    "from sklearn.manifold import TSNE\n",
    "from scipy.stats import uniform\n",
    "from xgboost import XGBClassifier\n",
    "from tqdm import tqdm as tqdm\n",
    "import numpy as np\n",
    "from sklearn.model_selection import train_test_split\n",
    "from sklearn.preprocessing import StandardScaler\n",
    "from sklearn.datasets import make_moons, make_circles, make_classification\n",
    "from sklearn.neural_network import MLPClassifier\n",
    "from sklearn.neighbors import KNeighborsClassifier\n",
    "from sklearn.svm import SVC\n",
    "from sklearn.gaussian_process import GaussianProcessClassifier\n",
    "from sklearn.gaussian_process.kernels import RBF\n",
    "from sklearn.tree import DecisionTreeClassifier\n",
    "from sklearn.ensemble import RandomForestClassifier, AdaBoostClassifier\n",
    "from sklearn.naive_bayes import GaussianNB\n",
    "from sklearn.discriminant_analysis import QuadraticDiscriminantAnalysis\n",
    "from sklearn.metrics import classification_report\n",
    "\n",
    "import pickle\n",
    "d_test_brunch=pickle.load(open(\"/warehouse/COMPLEXNET/jlevyabi/TWITTERSES/ml_soc_econ/icdm18/issues/archi_xgb_data.p\",\"rb\"))\n",
    "\n",
    "X_train=d_test_brunch[\"Xtrain\"]\n",
    "X_test=d_test_brunch[\"Xtest\"]\n",
    "y_train=d_test_brunch[\"Ytrain\"]\n",
    "y_test=d_test_brunch[\"Ytest\"]\n",
    "\n",
    "X=np.vstack([X_train,X_test])\n",
    "y=np.hstack([y_train,y_test])\n",
    "\n",
    "dic_res={\"best_params\":[],\"best_score\":[],\"auc\":[],\"fpr\":[],\"tpr\":[],\"threshold\":[]}\n",
    "nb_rep_test=10\n",
    "\n",
    "for i in tqdm(range(8,nb_rep_test+1)):\n",
    "    X_train, X_test, y_train, y_test = train_test_split(X, y,test_size=.2,random_state=i)\n",
    "    clf_xgb = XGBClassifier(silent=True, objective='binary:logistic', nthread=1,scale_pos_weight=1, base_score=0.5)\n",
    "    #\n",
    "    param_distributions = {\"max_depth\": range(3,50),\n",
    "                       \"learning_rate\": uniform(loc=0, scale=0.1),\n",
    "                       \"n_estimators\": range(10, 1500),\n",
    "                       \"min_child_weight\": range(1, 200),\n",
    "                       \"gamma\": uniform(loc=0, scale=0.1),\n",
    "                       \"subsample\": uniform(loc=0.7, scale=0.3),\n",
    "                       \"colsample_bytree\": uniform(loc=0.5, scale=0.5),\n",
    "                       \"colsample_bylevel\": uniform(loc=0.1, scale=0.9),\n",
    "                       \"reg_alpha\": uniform(loc=0, scale=0.2),\n",
    "                       \"reg_lambda\": uniform(loc=0.8, scale=0.2)}\n",
    "    #\n",
    "    n_splits = 5\n",
    "    n_repeats = 10\n",
    "    n_iter = 500\n",
    "    n_jobs = 25\n",
    "    verbose = 1\n",
    "    #\n",
    "    cv_xgb = RepeatedStratifiedKFold(n_splits=n_splits, n_repeats=n_repeats)\n",
    "    scorer_xgb = make_scorer(roc_auc_score, greater_is_better=True, needs_threshold=True)\n",
    "    model_xgb = RandomizedSearchCV(clf_xgb, param_distributions, n_iter=n_iter,\n",
    "                                   scoring=scorer_xgb, n_jobs=n_jobs, cv=cv_xgb, verbose=verbose)\n",
    "    #\n",
    "    model_xgb.fit(X_train, y_train)\n",
    "    print(\"Best model parameters: \", model_xgb.best_params_)\n",
    "    print(\"Best model roc auc score: \", model_xgb.best_score_)\n",
    "    #\n",
    "    #Mira brunch\n",
    "    clf_xgb_best=model_xgb.best_estimator_\n",
    "    clf_xgb_best.fit(X_train,y_train)\n",
    "    #\n",
    "    probs = clf_xgb_best.predict_proba(X_test)\n",
    "    preds = probs[:,1]\n",
    "    fpr, tpr, threshold = metrics.roc_curve(y_test, preds)\n",
    "    roc_auc = metrics.auc(fpr, tpr)\n",
    "    dic_res[\"best_params\"].append(model_xgb.best_params_)\n",
    "    dic_res[\"best_score\"].append(model_xgb.best_score_)\n",
    "    dic_res[\"fpr\"].append(fpr)\n",
    "    dic_res[\"tpr\"].append(tpr)\n",
    "    dic_res[\"threshold\"].append(threshold)\n",
    "    dic_res[\"auc\"].append(roc_auc)"
   ]
  },
  {
   "cell_type": "markdown",
   "metadata": {},
   "source": [
    "## Get Average Performances"
   ]
  },
  {
   "cell_type": "code",
   "execution_count": 28,
   "metadata": {},
   "outputs": [],
   "source": [
    "def report2dict(cr):\n",
    "    # Parse rows\n",
    "    tmp = list()\n",
    "    for row in cr.split(\"\\n\"):\n",
    "        parsed_row = [x for x in row.split(\"  \") if len(x) > 0]\n",
    "        if len(parsed_row) > 0:\n",
    "            tmp.append(parsed_row)\n",
    "    \n",
    "    # Store in dictionary\n",
    "    measures = tmp[0]\n",
    "\n",
    "    D_class_data = defaultdict(dict)\n",
    "    for row in tmp[1:]:\n",
    "        class_label = row[0]\n",
    "        for j, m in enumerate(measures):\n",
    "            D_class_data[class_label][m.strip()] = float(row[j + 1].strip())\n",
    "    return D_class_data"
   ]
  },
  {
   "cell_type": "code",
   "execution_count": 51,
   "metadata": {},
   "outputs": [
    {
     "data": {
      "application/vnd.jupyter.widget-view+json": {
       "model_id": "23d7ffc4bc1441679a338dea2a15d00c",
       "version_major": 2,
       "version_minor": 0
      },
      "text/html": [
       "<p>Failed to display Jupyter Widget of type <code>HBox</code>.</p>\n",
       "<p>\n",
       "  If you're reading this message in the Jupyter Notebook or JupyterLab Notebook, it may mean\n",
       "  that the widgets JavaScript is still loading. If this message persists, it\n",
       "  likely means that the widgets JavaScript library is either not installed or\n",
       "  not enabled. See the <a href=\"https://ipywidgets.readthedocs.io/en/stable/user_install.html\">Jupyter\n",
       "  Widgets Documentation</a> for setup instructions.\n",
       "</p>\n",
       "<p>\n",
       "  If you're reading this message in another frontend (for example, a static\n",
       "  rendering on GitHub or <a href=\"https://nbviewer.jupyter.org/\">NBViewer</a>),\n",
       "  it may mean that your frontend doesn't currently support widgets.\n",
       "</p>\n"
      ],
      "text/plain": [
       "HBox(children=(IntProgress(value=0, max=5), HTML(value='')))"
      ]
     },
     "metadata": {},
     "output_type": "display_data"
    },
    {
     "name": "stderr",
     "output_type": "stream",
     "text": [
      "/home/jlevyabi/anaconda3/lib/python3.6/site-packages/sklearn/preprocessing/label.py:151: DeprecationWarning: The truth value of an empty array is ambiguous. Returning False, but in future this will result in an error. Use `array.size > 0` to check that an array is not empty.\n",
      "  if diff:\n",
      "/home/jlevyabi/anaconda3/lib/python3.6/site-packages/sklearn/preprocessing/label.py:151: DeprecationWarning: The truth value of an empty array is ambiguous. Returning False, but in future this will result in an error. Use `array.size > 0` to check that an array is not empty.\n",
      "  if diff:\n",
      "/home/jlevyabi/anaconda3/lib/python3.6/site-packages/sklearn/preprocessing/label.py:151: DeprecationWarning: The truth value of an empty array is ambiguous. Returning False, but in future this will result in an error. Use `array.size > 0` to check that an array is not empty.\n",
      "  if diff:\n",
      "/home/jlevyabi/anaconda3/lib/python3.6/site-packages/sklearn/preprocessing/label.py:151: DeprecationWarning: The truth value of an empty array is ambiguous. Returning False, but in future this will result in an error. Use `array.size > 0` to check that an array is not empty.\n",
      "  if diff:\n"
     ]
    },
    {
     "name": "stdout",
     "output_type": "stream",
     "text": [
      "\n"
     ]
    },
    {
     "name": "stderr",
     "output_type": "stream",
     "text": [
      "/home/jlevyabi/anaconda3/lib/python3.6/site-packages/sklearn/preprocessing/label.py:151: DeprecationWarning: The truth value of an empty array is ambiguous. Returning False, but in future this will result in an error. Use `array.size > 0` to check that an array is not empty.\n",
      "  if diff:\n"
     ]
    }
   ],
   "source": [
    "class_rep_location=[]\n",
    "import pickle\n",
    "d_test_res=pickle.load(open(\"/warehouse/COMPLEXNET/jlevyabi/TWITTERSES/ml_soc_econ/icdm18/issues/dic_res_location_xgb.p\",\"rb\"))\n",
    "d_test_brunch=pickle.load(open(\"/warehouse/COMPLEXNET/jlevyabi/TWITTERSES/ml_soc_econ/data_files/UKSOC_rep/uksoc_xgb_data.p\",\"rb\"))\n",
    "\n",
    "nb_rep=len(d_test_res[\"auc\"])\n",
    "X_train=d_test_brunch[\"Xtrain\"]\n",
    "X_test=d_test_brunch[\"Xtest\"]\n",
    "y_train=d_test_brunch[\"Ytrain\"]\n",
    "y_test=d_test_brunch[\"Ytest\"]\n",
    "\n",
    "X=np.vstack([X_train,X_test])\n",
    "y=np.hstack([y_train,y_test])\n",
    "\n",
    "for i in tqdmn(range(1,nb_rep+1)):\n",
    "    X_train, X_test, y_train, y_test = train_test_split(X, y,test_size=.2,random_state=i)\n",
    "    clf_xgb = XGBClassifier(silent=True, objective='binary:logistic',\n",
    "                        nthread=1,scale_pos_weight=1, base_score=0.5)\n",
    "    clf_xgb.set_params(**d_test_res[\"best_params\"][i-1])\n",
    "    clf_xgb.fit(X_train,y_train)\n",
    "    class_rep_location.append(report2dict(classification_report(y_test,clf_xgb.predict(X_test))))\n",
    "    "
   ]
  },
  {
   "cell_type": "code",
   "execution_count": 67,
   "metadata": {},
   "outputs": [
    {
     "name": "stdout",
     "output_type": "stream",
     "text": [
      "0\tprecision\t0.652000\n",
      "0\trecall\t0.596000\n",
      "0\tf1-score\t0.624000\n",
      "1\tprecision\t0.628000\n",
      "1\trecall\t0.682000\n",
      "1\tf1-score\t0.652000\n"
     ]
    }
   ],
   "source": [
    "for i in [\"0\",\"1\"]:\n",
    "    for k in [\"precision\",\"recall\",\"f1-score\"]:\n",
    "        print(\"%s\\t%s\\t%3f\"%(i,k,np.mean([inst[i][k] for inst in class_rep_location])))"
   ]
  },
  {
   "cell_type": "code",
   "execution_count": 75,
   "metadata": {},
   "outputs": [
    {
     "data": {
      "text/plain": [
       "defaultdict(dict,\n",
       "            {'0': {'precision': 0.63,\n",
       "              'recall': 0.61,\n",
       "              'f1-score': 0.62,\n",
       "              'support': 731.0},\n",
       "             '1': {'precision': 0.63,\n",
       "              'recall': 0.65,\n",
       "              'f1-score': 0.64,\n",
       "              'support': 759.0},\n",
       "             'avg / total': {'precision': 0.63,\n",
       "              'recall': 0.63,\n",
       "              'f1-score': 0.63,\n",
       "              'support': 1490.0}})"
      ]
     },
     "execution_count": 75,
     "metadata": {},
     "output_type": "execute_result"
    }
   ],
   "source": [
    "class_rep_location[2]"
   ]
  },
  {
   "cell_type": "code",
   "execution_count": 52,
   "metadata": {},
   "outputs": [
    {
     "data": {
      "application/vnd.jupyter.widget-view+json": {
       "model_id": "e8b01f28a05f4dcdaac5349084c953d3",
       "version_major": 2,
       "version_minor": 0
      },
      "text/html": [
       "<p>Failed to display Jupyter Widget of type <code>HBox</code>.</p>\n",
       "<p>\n",
       "  If you're reading this message in the Jupyter Notebook or JupyterLab Notebook, it may mean\n",
       "  that the widgets JavaScript is still loading. If this message persists, it\n",
       "  likely means that the widgets JavaScript library is either not installed or\n",
       "  not enabled. See the <a href=\"https://ipywidgets.readthedocs.io/en/stable/user_install.html\">Jupyter\n",
       "  Widgets Documentation</a> for setup instructions.\n",
       "</p>\n",
       "<p>\n",
       "  If you're reading this message in another frontend (for example, a static\n",
       "  rendering on GitHub or <a href=\"https://nbviewer.jupyter.org/\">NBViewer</a>),\n",
       "  it may mean that your frontend doesn't currently support widgets.\n",
       "</p>\n"
      ],
      "text/plain": [
       "HBox(children=(IntProgress(value=0, max=4), HTML(value='')))"
      ]
     },
     "metadata": {},
     "output_type": "display_data"
    },
    {
     "name": "stderr",
     "output_type": "stream",
     "text": [
      "/home/jlevyabi/anaconda3/lib/python3.6/site-packages/sklearn/preprocessing/label.py:151: DeprecationWarning: The truth value of an empty array is ambiguous. Returning False, but in future this will result in an error. Use `array.size > 0` to check that an array is not empty.\n",
      "  if diff:\n",
      "/home/jlevyabi/anaconda3/lib/python3.6/site-packages/sklearn/preprocessing/label.py:151: DeprecationWarning: The truth value of an empty array is ambiguous. Returning False, but in future this will result in an error. Use `array.size > 0` to check that an array is not empty.\n",
      "  if diff:\n",
      "/home/jlevyabi/anaconda3/lib/python3.6/site-packages/sklearn/preprocessing/label.py:151: DeprecationWarning: The truth value of an empty array is ambiguous. Returning False, but in future this will result in an error. Use `array.size > 0` to check that an array is not empty.\n",
      "  if diff:\n"
     ]
    },
    {
     "name": "stdout",
     "output_type": "stream",
     "text": [
      "\n"
     ]
    },
    {
     "name": "stderr",
     "output_type": "stream",
     "text": [
      "/home/jlevyabi/anaconda3/lib/python3.6/site-packages/sklearn/preprocessing/label.py:151: DeprecationWarning: The truth value of an empty array is ambiguous. Returning False, but in future this will result in an error. Use `array.size > 0` to check that an array is not empty.\n",
      "  if diff:\n"
     ]
    }
   ],
   "source": [
    "import pickle\n",
    "class_rep_linkedin=[]\n",
    "d_test_res=pickle.load(open(\"/warehouse/COMPLEXNET/jlevyabi/TWITTERSES/ml_soc_econ/icdm18/issues/dic_res_linkedin_xgb.p\",\"rb\"))\n",
    "d_test_brunch=pickle.load(open(\"/warehouse/COMPLEXNET/jlevyabi/TWITTERSES/ml_soc_econ/data_files/UKSOC_rep/linkedin/linkedin_data/xgb_data.p\",\"rb\"))\n",
    "\n",
    "nb_rep=len(d_test_res[\"auc\"])\n",
    "X_train=d_test_brunch[\"Xtrain\"]\n",
    "X_test=d_test_brunch[\"Xtest\"]\n",
    "y_train=d_test_brunch[\"Ytrain\"]\n",
    "y_test=d_test_brunch[\"Ytest\"]\n",
    "\n",
    "X=np.vstack([X_train,X_test])\n",
    "y=np.hstack([y_train,y_test])\n",
    "\n",
    "for i in tqdmn(range(1,nb_rep+1)):\n",
    "    X_train, X_test, y_train, y_test = train_test_split(X, y,test_size=.2,random_state=i)\n",
    "    clf_xgb = XGBClassifier(silent=True, objective='binary:logistic',\n",
    "                        nthread=1,scale_pos_weight=1, base_score=0.5)\n",
    "    clf_xgb.set_params(**d_test_res[\"best_params\"][i-1])\n",
    "    clf_xgb.fit(X_train,y_train)\n",
    "    class_rep_linkedin.append(report2dict(classification_report(y_test,clf_xgb.predict(X_test))))"
   ]
  },
  {
   "cell_type": "code",
   "execution_count": 68,
   "metadata": {},
   "outputs": [
    {
     "name": "stdout",
     "output_type": "stream",
     "text": [
      "0\tprecision\t0.700000\n",
      "0\trecall\t0.732500\n",
      "0\tf1-score\t0.717500\n",
      "1\tprecision\t0.735000\n",
      "1\trecall\t0.702500\n",
      "1\tf1-score\t0.720000\n"
     ]
    }
   ],
   "source": [
    "for i in [\"0\",\"1\"]:\n",
    "    for k in [\"precision\",\"recall\",\"f1-score\"]:\n",
    "        print(\"%s\\t%s\\t%3f\"%(i,k,np.mean([inst[i][k] for inst in class_rep_linkedin])))"
   ]
  },
  {
   "cell_type": "code",
   "execution_count": 53,
   "metadata": {
    "scrolled": false
   },
   "outputs": [
    {
     "data": {
      "application/vnd.jupyter.widget-view+json": {
       "model_id": "46eb053c052141c29cf4842acf1b336d",
       "version_major": 2,
       "version_minor": 0
      },
      "text/html": [
       "<p>Failed to display Jupyter Widget of type <code>HBox</code>.</p>\n",
       "<p>\n",
       "  If you're reading this message in the Jupyter Notebook or JupyterLab Notebook, it may mean\n",
       "  that the widgets JavaScript is still loading. If this message persists, it\n",
       "  likely means that the widgets JavaScript library is either not installed or\n",
       "  not enabled. See the <a href=\"https://ipywidgets.readthedocs.io/en/stable/user_install.html\">Jupyter\n",
       "  Widgets Documentation</a> for setup instructions.\n",
       "</p>\n",
       "<p>\n",
       "  If you're reading this message in another frontend (for example, a static\n",
       "  rendering on GitHub or <a href=\"https://nbviewer.jupyter.org/\">NBViewer</a>),\n",
       "  it may mean that your frontend doesn't currently support widgets.\n",
       "</p>\n"
      ],
      "text/plain": [
       "HBox(children=(IntProgress(value=0, max=10), HTML(value='')))"
      ]
     },
     "metadata": {},
     "output_type": "display_data"
    },
    {
     "name": "stderr",
     "output_type": "stream",
     "text": [
      "/home/jlevyabi/anaconda3/lib/python3.6/site-packages/sklearn/preprocessing/label.py:151: DeprecationWarning: The truth value of an empty array is ambiguous. Returning False, but in future this will result in an error. Use `array.size > 0` to check that an array is not empty.\n",
      "  if diff:\n",
      "/home/jlevyabi/anaconda3/lib/python3.6/site-packages/sklearn/preprocessing/label.py:151: DeprecationWarning: The truth value of an empty array is ambiguous. Returning False, but in future this will result in an error. Use `array.size > 0` to check that an array is not empty.\n",
      "  if diff:\n",
      "/home/jlevyabi/anaconda3/lib/python3.6/site-packages/sklearn/preprocessing/label.py:151: DeprecationWarning: The truth value of an empty array is ambiguous. Returning False, but in future this will result in an error. Use `array.size > 0` to check that an array is not empty.\n",
      "  if diff:\n",
      "/home/jlevyabi/anaconda3/lib/python3.6/site-packages/sklearn/preprocessing/label.py:151: DeprecationWarning: The truth value of an empty array is ambiguous. Returning False, but in future this will result in an error. Use `array.size > 0` to check that an array is not empty.\n",
      "  if diff:\n",
      "/home/jlevyabi/anaconda3/lib/python3.6/site-packages/sklearn/preprocessing/label.py:151: DeprecationWarning: The truth value of an empty array is ambiguous. Returning False, but in future this will result in an error. Use `array.size > 0` to check that an array is not empty.\n",
      "  if diff:\n",
      "/home/jlevyabi/anaconda3/lib/python3.6/site-packages/sklearn/preprocessing/label.py:151: DeprecationWarning: The truth value of an empty array is ambiguous. Returning False, but in future this will result in an error. Use `array.size > 0` to check that an array is not empty.\n",
      "  if diff:\n",
      "/home/jlevyabi/anaconda3/lib/python3.6/site-packages/sklearn/preprocessing/label.py:151: DeprecationWarning: The truth value of an empty array is ambiguous. Returning False, but in future this will result in an error. Use `array.size > 0` to check that an array is not empty.\n",
      "  if diff:\n",
      "/home/jlevyabi/anaconda3/lib/python3.6/site-packages/sklearn/preprocessing/label.py:151: DeprecationWarning: The truth value of an empty array is ambiguous. Returning False, but in future this will result in an error. Use `array.size > 0` to check that an array is not empty.\n",
      "  if diff:\n",
      "/home/jlevyabi/anaconda3/lib/python3.6/site-packages/sklearn/preprocessing/label.py:151: DeprecationWarning: The truth value of an empty array is ambiguous. Returning False, but in future this will result in an error. Use `array.size > 0` to check that an array is not empty.\n",
      "  if diff:\n"
     ]
    },
    {
     "name": "stdout",
     "output_type": "stream",
     "text": [
      "\n"
     ]
    },
    {
     "name": "stderr",
     "output_type": "stream",
     "text": [
      "/home/jlevyabi/anaconda3/lib/python3.6/site-packages/sklearn/preprocessing/label.py:151: DeprecationWarning: The truth value of an empty array is ambiguous. Returning False, but in future this will result in an error. Use `array.size > 0` to check that an array is not empty.\n",
      "  if diff:\n"
     ]
    }
   ],
   "source": [
    "import pickle\n",
    "class_rep_archi=[]\n",
    "d_test_res=pickle.load(open(\"/warehouse/COMPLEXNET/jlevyabi/TWITTERSES/ml_soc_econ/icdm18/issues/dic_res_archi_xgb.p\",\"rb\"))\n",
    "d_test_brunch=pickle.load(open(\"/warehouse/COMPLEXNET/jlevyabi/TWITTERSES/ml_soc_econ/icdm18/issues/archi_xgb_data.p\",\"rb\"))\n",
    "\n",
    "nb_rep=len(d_test_res[\"auc\"])\n",
    "X_train=d_test_brunch[\"Xtrain\"]\n",
    "X_test=d_test_brunch[\"Xtest\"]\n",
    "y_train=d_test_brunch[\"Ytrain\"]\n",
    "y_test=d_test_brunch[\"Ytest\"]\n",
    "\n",
    "X=np.vstack([X_train,X_test])\n",
    "y=np.hstack([y_train,y_test])\n",
    "\n",
    "for i in tqdmn(range(1,nb_rep+1)):\n",
    "    X_train, X_test, y_train, y_test = train_test_split(X, y,test_size=.2,random_state=i)\n",
    "    clf_xgb = XGBClassifier(silent=True, objective='binary:logistic',\n",
    "                        nthread=1,scale_pos_weight=1, base_score=0.5)\n",
    "    clf_xgb.set_params(**d_test_res[\"best_params\"][i-1])\n",
    "    clf_xgb.fit(X_train,y_train)\n",
    "    class_rep_archi.append(report2dict(classification_report(y_test,clf_xgb.predict(X_test))))\n",
    "    "
   ]
  },
  {
   "cell_type": "code",
   "execution_count": 87,
   "metadata": {},
   "outputs": [
    {
     "name": "stdout",
     "output_type": "stream",
     "text": [
      "0\tprecision\t0.621667\n",
      "0\trecall\t0.598333\n",
      "0\tf1-score\t0.606667\n",
      "1\tprecision\t0.550000\n",
      "1\trecall\t0.573333\n",
      "1\tf1-score\t0.556667\n"
     ]
    }
   ],
   "source": [
    "for i in [\"0\",\"1\"]:\n",
    "    for k in [\"precision\",\"recall\",\"f1-score\"]:\n",
    "        print(\"%s\\t%s\\t%3f\"%(i,k,np.mean([inst[i][k] for it,inst in enumerate(class_rep_archi) if not(it in[0,1,3,5])])))"
   ]
  },
  {
   "cell_type": "code",
   "execution_count": 83,
   "metadata": {},
   "outputs": [
    {
     "data": {
      "text/plain": [
       "defaultdict(dict,\n",
       "            {'0': {'precision': 0.64,\n",
       "              'recall': 0.65,\n",
       "              'f1-score': 0.65,\n",
       "              'support': 49.0},\n",
       "             '1': {'precision': 0.56,\n",
       "              'recall': 0.55,\n",
       "              'f1-score': 0.56,\n",
       "              'support': 40.0},\n",
       "             'avg / total': {'precision': 0.61,\n",
       "              'recall': 0.61,\n",
       "              'f1-score': 0.61,\n",
       "              'support': 89.0}})"
      ]
     },
     "execution_count": 83,
     "metadata": {},
     "output_type": "execute_result"
    }
   ],
   "source": [
    "class_rep_archi[9]"
   ]
  },
  {
   "cell_type": "code",
   "execution_count": null,
   "metadata": {},
   "outputs": [],
   "source": []
  }
 ],
 "metadata": {
  "kernelspec": {
   "display_name": "Python 3",
   "language": "python",
   "name": "python3"
  },
  "language_info": {
   "codemirror_mode": {
    "name": "ipython",
    "version": 3
   },
   "file_extension": ".py",
   "mimetype": "text/x-python",
   "name": "python",
   "nbconvert_exporter": "python",
   "pygments_lexer": "ipython3",
   "version": "3.6.0"
  },
  "toc": {
   "base_numbering": 1,
   "nav_menu": {},
   "number_sections": true,
   "sideBar": true,
   "skip_h1_title": false,
   "title_cell": "Table of Contents",
   "title_sidebar": "Contents",
   "toc_cell": false,
   "toc_position": {},
   "toc_section_display": true,
   "toc_window_display": true
  }
 },
 "nbformat": 4,
 "nbformat_minor": 2
}
