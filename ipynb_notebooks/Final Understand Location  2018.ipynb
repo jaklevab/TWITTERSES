{
 "cells": [
  {
   "cell_type": "code",
   "execution_count": 1,
   "metadata": {},
   "outputs": [
    {
     "name": "stdout",
     "output_type": "stream",
     "text": [
      "Save bool set to False and Load False\n"
     ]
    }
   ],
   "source": [
    "%reload_ext autoreload\n",
    "%autoreload 2\n",
    "%reload_ext line_profiler\n",
    "from tqdm import tqdm_notebook as tqdmn\n",
    "import pandas as pd\n",
    "from geopandas import GeoDataFrame\n",
    "import geopandas as gpd\n",
    "import matplotlib.pyplot as plt\n",
    "import matplotlib\n",
    "import matplotlib.ticker as tkr\n",
    "from shapely.geometry import Point\n",
    "from shapely.geometry.polygon import Polygon\n",
    "from geopandas import sjoin\n",
    "import pickle\n",
    "import re;pat = re.compile(r'''(-*\\d+\\.\\d+ -*\\d+\\.\\d+);*''');new_geo=[]\n",
    "import warnings\n",
    "import seaborn as sns\n",
    "import sys\n",
    "\n",
    "warnings.filterwarnings(\"ignore\")\n",
    "sys.path.append('/warehouse/COMPLEXNET/jlevyabi/ml_soc_econ/data_files/UKSOC_rep/')\n",
    "from IPython.display import clear_output\n",
    "save=False\n",
    "load=False\n",
    "print(\"Save bool set to %s and Load %s\"%(str(save),str(load)))"
   ]
  },
  {
   "cell_type": "code",
   "execution_count": 4,
   "metadata": {},
   "outputs": [
    {
     "name": "stderr",
     "output_type": "stream",
     "text": [
      "100%|██████████| 536291/536291 [00:08<00:00, 60338.83it/s]\n"
     ]
    },
    {
     "name": "stdout",
     "output_type": "stream",
     "text": [
      "Number of geolocated tweets during 2016-2018... 428370 geolocations\n",
      "Number of geolocated tweets during 2016-2018 in France... 488510 geolocations\n"
     ]
    }
   ],
   "source": [
    "from helpers_locs_to_home import time_2_date\n",
    "\n",
    "###################################################################################\n",
    "#####################                RAW DATA             #########################\n",
    "###################################################################################\n",
    "\n",
    "# Geolocations\n",
    "dgeo=pd.read_csv(header=None,sep=\"\\t\",\n",
    "                 filepath_or_buffer=\"/warehouse/COMPLEXNET/jlevyabi/ml_soc_econ/data_files/2016-2018_locs.txt\")\n",
    "dgeo.columns=[\"usr\",\"time\",\"lat\",\"lon\",\"text\"]\n",
    "fechas,days,hours,minutes,seconds,years,months=time_2_date(dgeo.time)\n",
    "dgeo['day']=days;dgeo['hour']=hours;dgeo['min']=minutes;dgeo['sec']=seconds\n",
    "dgeo['year']=years;dgeo['month']=months;dgeo['fecha']=fechas\n",
    "#dgeo=dgeo.drop(labels=\"time\",axis=1)\n",
    "\n",
    "# Profiles\n",
    "data_prof_18=pd.read_csv(\n",
    "    \"/warehouse/COMPLEXNET/jlevyabi/ml_soc_econ/icdm18/issues/icdm_geousers_profile_18.txt\",\n",
    "    sep=\"\\t\",\n",
    "    header=-1,\n",
    "    names=[\"id\",\"time\",\"lat\",\"lon\",\"geo_pt\",\"service\",\"profile\",\"follows\",\"friends\",\n",
    "           \"nb urls\",\"loc_name\",\"geo_type\"],\n",
    "    index_col=False)\n",
    "\n",
    "# Users in France\n",
    "france=Polygon([[-4.9658203125,42.3585439175],[8.4375,42.3585439175],\n",
    "                [8.4375,51.2344073516],[-4.9658203125,51.2344073516],\n",
    "                [-4.9658203125,42.3585439175]])\n",
    "locs=[Point((lon,lat)) for lon,lat in zip(dgeo.lon,dgeo.lat)]\n",
    "dgeo_france=dgeo[[france.contains(geo_pt) for geo_pt in locs]]\n",
    "\n",
    "locs_prof=[Point((float(lon),float(lat))) \n",
    "           for lon,lat in zip(data_prof_18.lon,data_prof_18.lat)]\n",
    "\n",
    "dgeo_prof_france_18=data_prof_18[[france.contains(geo_pt) \n",
    "                                  for geo_pt in locs_prof]]\n",
    "\n",
    "print(\"Number of geolocated tweets during 2016-2018... %d geolocations\"%\n",
    "      dgeo_france.shape[0])\n",
    "print(\"Number of geolocated tweets during 2016-2018 in France... %d geolocations\"%\n",
    "      dgeo_prof_france_18.shape[0])\n",
    "\n",
    "# Text of geolocated users\n",
    "usr_tweet_text=pd.read_csv(\n",
    "    \"/warehouse/COMPLEXNET/jlevyabi/ml_soc_econ/data_files/UKSOC_rep/tweets/all_geolocated_users.csv\",\n",
    "    sep=';',header=0,\n",
    ")\n",
    "\n",
    "###################################################################################\n",
    "#####################                SYNTHETIC DATA             ###################\n",
    "###################################################################################\n",
    "\n",
    "# Fake Locations\n",
    "from collections import Counter\n",
    "dec_prec=5\n",
    "nb_rep_thresh=10\n",
    "pre_fake_locs=pd.read_csv(\"/warehouse/COMPLEXNET/jlevyabi/geoloc/txt_files/fake_locs.txt\",\n",
    "                          names=[\"pre\"])\n",
    "fake_locs=[]\n",
    "for x in pre_fake_locs.pre:\n",
    "    try:\n",
    "        lat,lon=float(x.split(\"-\")[0]),float(x.split(\"-\")[-1])\n",
    "    except:\n",
    "        continue\n",
    "    if len(x)==3:\n",
    "        fake_locs.append(str((lat,-lon)))\n",
    "    else:\n",
    "        fake_locs.append(str((lat,lon)))\n",
    "\n",
    "fake_locs=list(set(fake_locs))\n",
    "pre_fake=Counter([(round(x[0],dec_prec),round(x[1],dec_prec))\n",
    "                  for x in  data_prof_18[[\"lat\",\"lon\"]].values])\n",
    "set_toher_fakes=set([x for x in pre_fake if pre_fake[x]>nb_rep_thresh])\n",
    "\n",
    "dic_iris_not_nan=pickle.load(open(\"/warehouse/COMPLEXNET/jlevyabi/ml_soc_econ/data_files/UKSOC_rep/all_together_dic_iris.p\",\"rb\"))\n",
    "dic_final_not_nan=pickle.load(\n",
    "        open(\"/warehouse/COMPLEXNET/jlevyabi/ml_soc_econ/data_files/UKSOC_rep/all_together_dic.p\",\"rb\"))"
   ]
  },
  {
   "cell_type": "code",
   "execution_count": 6,
   "metadata": {},
   "outputs": [
    {
     "name": "stderr",
     "output_type": "stream",
     "text": [
      "432052it [06:23, 1126.68it/s]\n"
     ]
    },
    {
     "data": {
      "application/vnd.jupyter.widget-view+json": {
       "model_id": "9bc01e65507a4e2d8adb824308fd32a8",
       "version_major": 2,
       "version_minor": 0
      },
      "text/html": [
       "<p>Failed to display Jupyter Widget of type <code>HBox</code>.</p>\n",
       "<p>\n",
       "  If you're reading this message in the Jupyter Notebook or JupyterLab Notebook, it may mean\n",
       "  that the widgets JavaScript is still loading. If this message persists, it\n",
       "  likely means that the widgets JavaScript library is either not installed or\n",
       "  not enabled. See the <a href=\"https://ipywidgets.readthedocs.io/en/stable/user_install.html\">Jupyter\n",
       "  Widgets Documentation</a> for setup instructions.\n",
       "</p>\n",
       "<p>\n",
       "  If you're reading this message in another frontend (for example, a static\n",
       "  rendering on GitHub or <a href=\"https://nbviewer.jupyter.org/\">NBViewer</a>),\n",
       "  it may mean that your frontend doesn't currently support widgets.\n",
       "</p>\n"
      ],
      "text/plain": [
       "HBox(children=(IntProgress(value=0, max=50268), HTML(value='')))"
      ]
     },
     "metadata": {},
     "output_type": "display_data"
    },
    {
     "name": "stdout",
     "output_type": "stream",
     "text": [
      "\n"
     ]
    }
   ],
   "source": [
    "from tqdm import tqdm\n",
    "# Combine Datasets\n",
    "all_info_df=pd.merge(dgeo_france,dgeo_prof_france_18,how=\"inner\",\n",
    "                  left_on=[\"usr\",\"lat\",\"lon\",\"time\"],\n",
    "                  right_on=[\"id\",\"lat\",\"lon\",\"time\"]).drop([\"id\",\"loc_name\",\"geo_type\"],axis=1)\n",
    "all_info_dic={}\n",
    "for it,row in tqdm(all_info_df.iterrows()):\n",
    "    all_info_dic.setdefault(row.usr,[])\n",
    "    all_info_dic[row.usr].append(all_info_df.iloc[it])\n",
    "for usr,val in tqdmn(all_info_dic.items()):\n",
    "    all_info_dic[usr]=pd.DataFrame(val,columns=list(all_info_df.columns))"
   ]
  },
  {
   "cell_type": "code",
   "execution_count": 61,
   "metadata": {
    "scrolled": true
   },
   "outputs": [
    {
     "data": {
      "text/html": [
       "<div>\n",
       "<style scoped>\n",
       "    .dataframe tbody tr th:only-of-type {\n",
       "        vertical-align: middle;\n",
       "    }\n",
       "\n",
       "    .dataframe tbody tr th {\n",
       "        vertical-align: top;\n",
       "    }\n",
       "\n",
       "    .dataframe thead th {\n",
       "        text-align: right;\n",
       "    }\n",
       "</style>\n",
       "<table border=\"1\" class=\"dataframe\">\n",
       "  <thead>\n",
       "    <tr style=\"text-align: right;\">\n",
       "      <th></th>\n",
       "      <th>usr</th>\n",
       "      <th>time</th>\n",
       "      <th>lat</th>\n",
       "      <th>lon</th>\n",
       "      <th>text</th>\n",
       "      <th>profile</th>\n",
       "      <th>service</th>\n",
       "    </tr>\n",
       "  </thead>\n",
       "  <tbody>\n",
       "    <tr>\n",
       "      <th>264018</th>\n",
       "      <td>268874615</td>\n",
       "      <td>2017-04-27T20:18:53.000Z</td>\n",
       "      <td>45.753540</td>\n",
       "      <td>4.932280</td>\n",
       "      <td>Dancing squad lors du stage Glee à l'#EFACM. 👯...</td>\n",
       "      <td>it takes time learning to fly</td>\n",
       "      <td>Instagram</td>\n",
       "    </tr>\n",
       "    <tr>\n",
       "      <th>340320</th>\n",
       "      <td>268874615</td>\n",
       "      <td>2017-10-02T19:20:13.000Z</td>\n",
       "      <td>43.424722</td>\n",
       "      <td>6.767778</td>\n",
       "      <td>— say you won't let go. 🐱♡ à Saint-Raphaël, Va...</td>\n",
       "      <td>it takes time learning to fly ❥ i'm probably p...</td>\n",
       "      <td>Instagram</td>\n",
       "    </tr>\n",
       "    <tr>\n",
       "      <th>352426</th>\n",
       "      <td>268874615</td>\n",
       "      <td>2017-10-13T22:03:17.000Z</td>\n",
       "      <td>45.733560</td>\n",
       "      <td>4.817450</td>\n",
       "      <td>Première expérience de la réalité virtuelle. B...</td>\n",
       "      <td>it takes time learning to fly ❥ i'm probably p...</td>\n",
       "      <td>Instagram</td>\n",
       "    </tr>\n",
       "    <tr>\n",
       "      <th>428120</th>\n",
       "      <td>268874615</td>\n",
       "      <td>2018-01-24T20:39:11.000Z</td>\n",
       "      <td>44.583300</td>\n",
       "      <td>-0.083333</td>\n",
       "      <td>Le sentiment d'exister ne devrait jamais deven...</td>\n",
       "      <td>it takes time learning to fly ❥</td>\n",
       "      <td>Instagram</td>\n",
       "    </tr>\n",
       "  </tbody>\n",
       "</table>\n",
       "</div>"
      ],
      "text/plain": [
       "              usr                      time        lat       lon  \\\n",
       "264018  268874615  2017-04-27T20:18:53.000Z  45.753540  4.932280   \n",
       "340320  268874615  2017-10-02T19:20:13.000Z  43.424722  6.767778   \n",
       "352426  268874615  2017-10-13T22:03:17.000Z  45.733560  4.817450   \n",
       "428120  268874615  2018-01-24T20:39:11.000Z  44.583300 -0.083333   \n",
       "\n",
       "                                                     text  \\\n",
       "264018  Dancing squad lors du stage Glee à l'#EFACM. 👯...   \n",
       "340320  — say you won't let go. 🐱♡ à Saint-Raphaël, Va...   \n",
       "352426  Première expérience de la réalité virtuelle. B...   \n",
       "428120  Le sentiment d'exister ne devrait jamais deven...   \n",
       "\n",
       "                                                  profile    service  \n",
       "264018                      it takes time learning to fly  Instagram  \n",
       "340320  it takes time learning to fly ❥ i'm probably p...  Instagram  \n",
       "352426  it takes time learning to fly ❥ i'm probably p...  Instagram  \n",
       "428120                    it takes time learning to fly ❥  Instagram  "
      ]
     },
     "execution_count": 61,
     "metadata": {},
     "output_type": "execute_result"
    }
   ],
   "source": [
    "import random as rd\n",
    "ix=rd.sample(range(len(all_info_dic)),1)[0]\n",
    "list(all_info_dic.values())[ix][[\"usr\",\"time\",\"lat\",\"lon\",\"text\",\"profile\",\"service\"]]"
   ]
  },
  {
   "cell_type": "code",
   "execution_count": 68,
   "metadata": {
    "scrolled": true
   },
   "outputs": [
    {
     "data": {
      "application/vnd.jupyter.widget-view+json": {
       "model_id": "967944eddc95481883251a564d859b7d",
       "version_major": 2,
       "version_minor": 0
      },
      "text/html": [
       "<p>Failed to display Jupyter Widget of type <code>HBox</code>.</p>\n",
       "<p>\n",
       "  If you're reading this message in the Jupyter Notebook or JupyterLab Notebook, it may mean\n",
       "  that the widgets JavaScript is still loading. If this message persists, it\n",
       "  likely means that the widgets JavaScript library is either not installed or\n",
       "  not enabled. See the <a href=\"https://ipywidgets.readthedocs.io/en/stable/user_install.html\">Jupyter\n",
       "  Widgets Documentation</a> for setup instructions.\n",
       "</p>\n",
       "<p>\n",
       "  If you're reading this message in another frontend (for example, a static\n",
       "  rendering on GitHub or <a href=\"https://nbviewer.jupyter.org/\">NBViewer</a>),\n",
       "  it may mean that your frontend doesn't currently support widgets.\n",
       "</p>\n"
      ],
      "text/plain": [
       "HBox(children=(IntProgress(value=0, max=13504), HTML(value='')))"
      ]
     },
     "metadata": {},
     "output_type": "display_data"
    },
    {
     "name": "stdout",
     "output_type": "stream",
     "text": [
      "\n"
     ]
    }
   ],
   "source": [
    "###################### #############################################################\n",
    "#####################                IRIS DATA             ########################\n",
    "###################################################################################\n",
    "\n",
    "from IPython.display import clear_output\n",
    "home_most_freq_all_iris=go_through_home_candidates(dic_iris_not_nan,take_most_frequent)\n",
    "home_most_freq_night_iris=go_through_home_candidates(dic_iris_not_nan,take_most_frequent_night)\n",
    "clear_output()\n",
    "\n",
    "dic_all_users={usr:{\"profile\":list(set(all_info_dic[int(usr)].profile)),\n",
    "                    \"locations\":all_info_dic[int(usr)][[\"lat\",\"lon\",\"text\",\n",
    "                                                   \"day\", \"hour\",\"min\",\"sec\",\n",
    "                                                   \"year\",\"month\",\"fecha\",\n",
    "                                                   \"geo_pt\",\"service\"]],\n",
    "                    \"inferred_loc\":home_most_freq_all_iris[str(usr)][[\"lat\",\"lon\"]],\n",
    "                    \"suppl_info\":home_most_freq_all_iris[str(usr)]} \n",
    "               for usr in tqdmn(home_most_freq_all_iris.keys()) \n",
    "               if str(usr) in home_most_freq_all_iris and int(usr)  in all_info_dic}\n",
    "\n",
    "dic_all_users_inf_no_fake={k:v for k,v in  dic_all_users.items()\n",
    "                           if not((round(v[\"inferred_loc\"][\"lat\"],dec_prec),\n",
    "                                   round(v[\"inferred_loc\"][\"lon\"],dec_prec))\n",
    "                                  in set_toher_fakes) }\n",
    "\n",
    "dic_all_users_all_no_fake={k:v for k,v in  dic_all_users.items()\n",
    "                           if np.all(\n",
    "                               [len(set([(round(lat,dec_prec),round(lon,dec_prec))\n",
    "                                         for lat,lon in v[\"locations\"][[\"lat\",\"lon\"]].values])\n",
    "                                    .intersection(set_toher_fakes))==0]\n",
    "                           )\n",
    "                          }\n",
    "\n",
    "ineq_thresh=6\n",
    "dic_all_users_all_no_fake_ses_clear={k:v for k,v in  dic_all_users_all_no_fake.items()\n",
    "                                     if (type(v[\"suppl_info\"][\"DEC_RD13\"]) is float and \n",
    "                                         v[\"suppl_info\"][\"DEC_RD13\"]<ineq_thresh)}"
   ]
  },
  {
   "cell_type": "code",
   "execution_count": 70,
   "metadata": {},
   "outputs": [
    {
     "name": "stdout",
     "output_type": "stream",
     "text": [
      "Number of different locations ... 186207\n",
      "Number of repeated (=fake) locations ... 5113\n",
      "Number of geolocated users ... 1653\n",
      "Number of users not geolocated to fake locations... 1651\n",
      "Number of users not having used fake locations... 610\n",
      "Number of users not having used fake locations and reliable ses estimation... 255\n"
     ]
    }
   ],
   "source": [
    "print(\"Number of different locations ... %d\"%len(pre_fake))\n",
    "print(\"Number of repeated (=fake) locations ... %d\"%len(set_toher_fakes))\n",
    "print(\"Number of geolocated users ... %d\"%len(dic_all_users))\n",
    "print(\"Number of users not geolocated to fake locations... %d\"%len(dic_all_users_inf_no_fake))\n",
    "print(\"Number of users not having used fake locations... %d\"%len(dic_all_users_all_no_fake))\n",
    "print(\"Number of users not having used fake locations and reliable ses estimation... %d\"\n",
    "      %len(dic_all_users_all_no_fake_ses_clear))\n"
   ]
  },
  {
   "cell_type": "code",
   "execution_count": 72,
   "metadata": {},
   "outputs": [
    {
     "data": {
      "application/vnd.jupyter.widget-view+json": {
       "model_id": "949d68c4a82a413b9b635765a0e4d72f",
       "version_major": 2,
       "version_minor": 0
      },
      "text/html": [
       "<p>Failed to display Jupyter Widget of type <code>HBox</code>.</p>\n",
       "<p>\n",
       "  If you're reading this message in the Jupyter Notebook or JupyterLab Notebook, it may mean\n",
       "  that the widgets JavaScript is still loading. If this message persists, it\n",
       "  likely means that the widgets JavaScript library is either not installed or\n",
       "  not enabled. See the <a href=\"https://ipywidgets.readthedocs.io/en/stable/user_install.html\">Jupyter\n",
       "  Widgets Documentation</a> for setup instructions.\n",
       "</p>\n",
       "<p>\n",
       "  If you're reading this message in another frontend (for example, a static\n",
       "  rendering on GitHub or <a href=\"https://nbviewer.jupyter.org/\">NBViewer</a>),\n",
       "  it may mean that your frontend doesn't currently support widgets.\n",
       "</p>\n"
      ],
      "text/plain": [
       "HBox(children=(IntProgress(value=0, max=20389), HTML(value='')))"
      ]
     },
     "metadata": {},
     "output_type": "display_data"
    },
    {
     "name": "stdout",
     "output_type": "stream",
     "text": [
      "\n"
     ]
    }
   ],
   "source": [
    "###################################################################################\n",
    "#####################                INSEE DATA             #######################\n",
    "###################################################################################\n",
    "\n",
    "from IPython.display import clear_output\n",
    "home_most_freq_all=go_through_home_candidates(dic_final_not_nan,take_most_frequent)\n",
    "home_most_freq_night=go_through_home_candidates(dic_final_not_nan,take_most_frequent_night)\n",
    "clear_output()\n",
    "\n",
    "dic_all_users_insee={usr:{\"profile\":list(set(all_info_dic[int(usr)].profile)),\n",
    "                    \"locations\":all_info_dic[int(usr)][[\"lat\",\"lon\",\"text\",\n",
    "                                                   \"day\", \"hour\",\"min\",\"sec\",\n",
    "                                                   \"year\",\"month\",\"fecha\",\n",
    "                                                   \"geo_pt\",\"service\"]],\n",
    "                    \"inferred_loc\":home_most_freq_all[str(usr)][[\"lat\",\"lon\"]],\n",
    "                    \"suppl_info\":home_most_freq_all[str(usr)]} \n",
    "               for usr in tqdmn(home_most_freq_all.keys()) \n",
    "               if str(usr) in home_most_freq_all and int(usr)  in all_info_dic}\n",
    "\n",
    "dic_all_users_inf_no_fake_insee={k:v for k,v in  dic_all_users_insee.items()\n",
    "                           if not((round(v[\"inferred_loc\"][\"lat\"],dec_prec),\n",
    "                                   round(v[\"inferred_loc\"][\"lon\"],dec_prec))\n",
    "                                  in set_toher_fakes) }\n",
    "\n",
    "dic_all_users_all_no_fake_insee={k:v for k,v in  dic_all_users_insee.items()\n",
    "                           if np.all(\n",
    "                               [len(set([(round(lat,dec_prec),round(lon,dec_prec))\n",
    "                                         for lat,lon in v[\"locations\"][[\"lat\",\"lon\"]].values])\n",
    "                                    .intersection(set_toher_fakes))==0]\n",
    "                           )\n",
    "                          }"
   ]
  },
  {
   "cell_type": "code",
   "execution_count": 73,
   "metadata": {},
   "outputs": [
    {
     "name": "stdout",
     "output_type": "stream",
     "text": [
      "Number of different locations ... 186207\n",
      "Number of repeated (=fake) locations ... 5113\n",
      "Number of geolocated users ... 2542\n",
      "Number of users not geolocated to fake locations... 2538\n",
      "Number of users not having used fake locations... 988\n"
     ]
    }
   ],
   "source": [
    "print(\"Number of different locations ... %d\"%len(pre_fake))\n",
    "print(\"Number of repeated (=fake) locations ... %d\"%len(set_toher_fakes))\n",
    "print(\"Number of geolocated users ... %d\"%len(dic_all_users_insee))\n",
    "print(\"Number of users not geolocated to fake locations... %d\"%len(dic_all_users_inf_no_fake_insee))\n",
    "print(\"Number of users not having used fake locations... %d\"%len(dic_all_users_all_no_fake_insee))\n"
   ]
  },
  {
   "cell_type": "code",
   "execution_count": null,
   "metadata": {},
   "outputs": [],
   "source": []
  },
  {
   "cell_type": "code",
   "execution_count": 91,
   "metadata": {
    "scrolled": true
   },
   "outputs": [
    {
     "name": "stdout",
     "output_type": "stream",
     "text": [
      "369 583894936 False\n"
     ]
    }
   ],
   "source": [
    "from bs4 import BeautifulSoup as bs\n",
    "import folium\n",
    "import random as rd\n",
    "from PIL import Image\n",
    "import urllib.request\n",
    "#import wget\n",
    "datadir=\"/warehouse/COMPLEXNET/jlevyabi/ml_soc_econ/data_files/images_suspected_locs/\"\n",
    "def get_map(x,y,z,size, filename) :\n",
    "    static_map = \"http://staticmap.openstreetmap.de/staticmap.php?center={0},{1}&zoom={2}&size={3}x{3}&maptype=mapnik\".format(y,x,z,size)\n",
    "    static_map_filename, headers = urllib.request.urlretrieve(static_map, filename)\n",
    "    return static_map_filename\n",
    "\n",
    "def geomap(df,inf_loc,sup_info,income_name,zoom=10, point_size=10, point_color='r', point_alpha=1):\n",
    "    #corrections to match geo with static map\n",
    "    has_used_bad=False\n",
    "    y = np.mean(df['lat'])\n",
    "    x = np.mean(df['lon'] )\n",
    "    map_osm = folium.Map(location=[y,x])\n",
    "    coors=[\"red\",\"blue\",\"yellow\"] \n",
    "    #INSEE\n",
    "    coords=[(y,x) for x,y in sup_info.geometry_poly.values[-1].exterior.coords]\n",
    "    #IRIS:\n",
    "    #coords=[(y,x) for x,y in sup_info.geometry_poly.exterior.coords]\n",
    "    folium.PolyLine(coords,\n",
    "                                color=\"red\",\n",
    "                                popup=\"%d € \"%int(sup_info[income_name])).add_to(map_osm)\n",
    "    folium.CircleMarker([inf_loc.lat,inf_loc.lon],\n",
    "                        radius=100,fill=True,color=\"black\").add_to(map_osm)\n",
    "    text_to_append=[(\"\"\"\n",
    "                    %s/%s/%s - %sh <br>\n",
    "                    %.4f,%.4f<br>\n",
    "                    {0}\n",
    "                    \"\"\"%(x,y,z,t,lat,lon)).format(text)\n",
    "                    for x,y,z,t,text,lat,lon in zip( df.fecha,df.month,\n",
    "                                                    df.year,df.hour,df.text,df.lat,df.lon)]\n",
    "    for lng, lat, desc in zip(df.lon.values,df.lat.values, text_to_append):\n",
    "        popup=folium.Popup(desc,parse_html=True)\n",
    "        if not (((round(lat,5),round(lng,5))) in set_toher_fakes):\n",
    "            folium.CircleMarker([lat, lng], radius=10,fill=True,\n",
    "                                color='#3186cc',fill_color='#3186cc',\n",
    "                                 popup=popup,parse_html=True).add_to(map_osm)\n",
    "        else:\n",
    "            folium.CircleMarker([lat, lng], radius=10,fill=True, \n",
    "                                color='#d66426',fill_color='#d66426',\n",
    "                                 popup=popup,parse_html=True).add_to(map_osm)\n",
    "            has_used_bad=True\n",
    "    return map_osm,has_used_bad\n",
    "\n",
    "dic_used=dic_all_users_all_no_fake_insee\n",
    "idx=rd.sample(range(len(dic_used)),1)[0]\n",
    "df_merged=list(dic_used.values())[idx][\"locations\"]\n",
    "inferred=list(dic_used.values())[idx][\"inferred_loc\"]\n",
    "si=(list(dic_used.values())[idx][\"suppl_info\"])\n",
    "x,y=geomap(df_merged,inferred,si,\"income\")\n",
    "print(idx,list(dic_used.keys())[idx],y)\n",
    "#plt.show()"
   ]
  },
  {
   "cell_type": "code",
   "execution_count": 92,
   "metadata": {},
   "outputs": [
    {
     "data": {
      "text/html": [
       "<div style=\"width:100%;\"><div style=\"position:relative;width:100%;height:0;padding-bottom:60%;\"><iframe src=\"data:text/html;charset=utf-8;base64,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\" style=\"position:absolute;width:100%;height:100%;left:0;top:0;border:none !important;\" allowfullscreen webkitallowfullscreen mozallowfullscreen></iframe></div></div>"
      ],
      "text/plain": [
       "<folium.folium.Map at 0x7f90fcf285f8>"
      ]
     },
     "execution_count": 92,
     "metadata": {},
     "output_type": "execute_result"
    }
   ],
   "source": [
    "x"
   ]
  },
  {
   "cell_type": "code",
   "execution_count": 395,
   "metadata": {},
   "outputs": [
    {
     "data": {
      "image/png": "[encoded data removed]",
      "text/plain": [
       "<matplotlib.figure.Figure at 0x7f005694e978>"
      ]
     },
     "metadata": {},
     "output_type": "display_data"
    }
   ],
   "source": [
    "plt.hist([int(v[\"suppl_info\"][\"income\"]) for v in dic_used.values()],bins=100);"
   ]
  },
  {
   "cell_type": "code",
   "execution_count": 289,
   "metadata": {},
   "outputs": [
    {
     "data": {
      "text/plain": [
       "Counter({0: 3700, 1: 3755})"
      ]
     },
     "execution_count": 289,
     "metadata": {},
     "output_type": "execute_result"
    }
   ],
   "source": [
    "Counter([int(v[\"suppl_info\"][\"income\"]>18776) for v in dic_used.values()])"
   ]
  },
  {
   "cell_type": "code",
   "execution_count": 250,
   "metadata": {},
   "outputs": [],
   "source": [
    "d_ckpt=pickle.load(open(\"/warehouse/COMPLEXNET/jlevyabi/ml_soc_econ/data_files/UKSOC_rep/last_insee_drop.p\",\"rb\"))\n",
    "geo_insee_dic=d_ckpt[\"geo_insee_dic\"]\n",
    "geo_insee=d_ckpt[\"geo_insee\"]\n",
    "dic_pd_home_condensed=d_ckpt[\"dic_pd_home_condensed\"]\n",
    "geo_insee_dic_KEYS=list(geo_insee_dic.keys())\n"
   ]
  },
  {
   "cell_type": "code",
   "execution_count": 268,
   "metadata": {
    "scrolled": false
   },
   "outputs": [
    {
     "data": {
      "text/plain": [
       "Unnamed: 0                                                    0\n",
       "idINSPIRE                        CRS3035RES200mN2030000E4254200\n",
       "id                                        LAEA200M_N10150E21271\n",
       "idk                                   N10150E21267-N10163E21271\n",
       "ind_c                                                         1\n",
       "nbcar_x                                                      16\n",
       "men                                                          20\n",
       "men_surf                                                   2400\n",
       "men_occ5                                                     13\n",
       "men_coll                                                      0\n",
       "men_5ind                                                      0\n",
       "men_1ind                                                      8\n",
       "i_1ind                                                        0\n",
       "men_prop                                                     15\n",
       "i_prop                                                        1\n",
       "men_basr                                                      4\n",
       "i_basr                                                        0\n",
       "ind_r                                                        41\n",
       "ind_age1                                                      0\n",
       "ind_age2                                                      0\n",
       "ind_age3                                                      1\n",
       "ind_age4                                                      1\n",
       "ind_age5                                                      3\n",
       "ind_age6                                                     33\n",
       "ind_age7                                                     10\n",
       "i_age7                                                        0\n",
       "ind_age8                                                      6\n",
       "i_age8                                                        0\n",
       "ind_srf                                                  868799\n",
       "nbcar_y                                                      16\n",
       "geometry      POLYGON ((9.204842914330301 41.36776474256018,...\n",
       "income                                                  21190.2\n",
       "Name: 0, dtype: object"
      ]
     },
     "execution_count": 268,
     "metadata": {},
     "output_type": "execute_result"
    }
   ],
   "source": []
  },
  {
   "cell_type": "code",
   "execution_count": 272,
   "metadata": {},
   "outputs": [
    {
     "data": {
      "image/png": "[encoded data removed]",
      "text/plain": [
       "<matplotlib.figure.Figure at 0x7f007f7d06d8>"
      ]
     },
     "metadata": {},
     "output_type": "display_data"
    }
   ],
   "source": [
    "plt.figure(figsize=(12,4))\n",
    "plt.hist([float(x/(y+0.0)) for x,y in geo_insee[[\"men_basr\",\"men\"]].values if y>0],\n",
    "         weights=[y for y in geo_insee[\"men\"] if y>0],cumulative=True,\n",
    "         bins=100,rwidth=0.7,log=False);"
   ]
  },
  {
   "cell_type": "code",
   "execution_count": 273,
   "metadata": {},
   "outputs": [
    {
     "data": {
      "image/png": "[encoded data removed]",
      "text/plain": [
       "<matplotlib.figure.Figure at 0x7f0085a834e0>"
      ]
     },
     "metadata": {},
     "output_type": "display_data"
    }
   ],
   "source": [
    "plt.figure(figsize=(12,4))\n",
    "plt.hist([float(x/(y+0.0)) for x,y in geo_insee[[\"men_prop\",\"men\"]].values if y>0],\n",
    "         weights=[y for y in geo_insee[\"men\"] if y>0],cumulative=True,\n",
    "         bins=100,rwidth=0.7,log=False);"
   ]
  },
  {
   "cell_type": "code",
   "execution_count": 280,
   "metadata": {},
   "outputs": [
    {
     "data": {
      "text/plain": [
       "<matplotlib.collections.PathCollection at 0x7f009fd80198>"
      ]
     },
     "execution_count": 280,
     "metadata": {},
     "output_type": "execute_result"
    },
    {
     "data": {
      "image/png": "[encoded data removed]",
      "text/plain": [
       "<matplotlib.figure.Figure at 0x7f009ca30ac8>"
      ]
     },
     "metadata": {},
     "output_type": "display_data"
    }
   ],
   "source": [
    "plt.scatter(np.array([x/(y+0.0) for x,y in geo_insee[[\"men_prop\",\"men\"]].values if y>0]),\n",
    "            np.array([x/(y+0.0) for x,y in geo_insee[[\"men_basr\",\"men\"]].values if y>0]),\n",
    "            s=0.2,\n",
    "           )"
   ]
  },
  {
   "cell_type": "code",
   "execution_count": 276,
   "metadata": {},
   "outputs": [
    {
     "data": {
      "image/png": "[encoded data removed]",
      "text/plain": [
       "<matplotlib.figure.Figure at 0x7f008ab4bcf8>"
      ]
     },
     "metadata": {},
     "output_type": "display_data"
    }
   ],
   "source": [
    "plt.figure(figsize=(12,4))\n",
    "plt.hist([x for x in geo_insee.income if x>0],\n",
    "         weights=[x for x,y in geo_insee[[\"men\",\"income\"]].values if y>0],\n",
    "         bins=100,rwidth=0.7,cumulative=True);"
   ]
  },
  {
   "cell_type": "code",
   "execution_count": null,
   "metadata": {},
   "outputs": [],
   "source": []
  },
  {
   "cell_type": "code",
   "execution_count": 288,
   "metadata": {},
   "outputs": [
    {
     "data": {
      "text/plain": [
       "[(18145, 468),\n",
       " (18341, 443),\n",
       " (17974, 436),\n",
       " (17658, 429),\n",
       " (18974, 426),\n",
       " (17379, 425),\n",
       " (19079, 424),\n",
       " (19307, 423),\n",
       " (18004, 422),\n",
       " (18375, 421)]"
      ]
     },
     "execution_count": 288,
     "metadata": {},
     "output_type": "execute_result"
    }
   ],
   "source": [
    "Counter(geo_insee.income.astype(int)).most_common(10)"
   ]
  },
  {
   "cell_type": "code",
   "execution_count": 284,
   "metadata": {},
   "outputs": [
    {
     "data": {
      "text/plain": [
       "18776.4375"
      ]
     },
     "execution_count": 284,
     "metadata": {},
     "output_type": "execute_result"
    }
   ],
   "source": [
    "np.median([y for x,y in geo_insee[[\"men\",\"income\"]].values \n",
    "           if x>0 and y>0\n",
    "           for i in range(int(x))])"
   ]
  },
  {
   "cell_type": "code",
   "execution_count": 282,
   "metadata": {},
   "outputs": [],
   "source": [
    "np.median?"
   ]
  },
  {
   "cell_type": "code",
   "execution_count": 112,
   "metadata": {},
   "outputs": [
    {
     "ename": "SyntaxError",
     "evalue": "invalid character in identifier (<ipython-input-112-b0f3503a2510>, line 9)",
     "output_type": "error",
     "traceback": [
      "\u001b[0;36m  File \u001b[0;32m\"<ipython-input-112-b0f3503a2510>\"\u001b[0;36m, line \u001b[0;32m9\u001b[0m\n\u001b[0;31m    db = DBSCAN(eps=eps, min_samples=3, n_jobs=1).fit(np.array(data[['lat','lon']])) ¡# atleast 3 points in a cluster\u001b[0m\n\u001b[0m                                                                                     ^\u001b[0m\n\u001b[0;31mSyntaxError\u001b[0m\u001b[0;31m:\u001b[0m invalid character in identifier\n"
     ]
    }
   ],
   "source": [
    "from sklearn.cluster import DBSCAN\n",
    "uid = 4902\n",
    "\n",
    "#1deg at 40deg latitude is 111034.61 meters\n",
    "#set radius at 300 mt\n",
    "eps = 260/111034.61 #The maximum distance between two samples for them to be considered as in the same neighborhood.\n",
    "\n",
    "data = df_merged[['lat','lon']]\n",
    "db = DBSCAN(eps=eps, min_samples=3, n_jobs=1).fit(np.array(data[['lat','lon']])) ¡# atleast 3 points in a cluster\n",
    "\n",
    "core_samples_mask = np.zeros_like(db.labels_, dtype=bool)\n",
    "core_samples_mask[db.core_sample_indices_] = True\n",
    "df_merged['dbscan_cluster'] =  db.labels_\n",
    "df_merged['dbscan_core']    = core_samples_mask\n",
    "print(\"# clusters: {}\".format(len(set(df_merged['dbscan_cluster']))))"
   ]
  },
  {
   "cell_type": "code",
   "execution_count": null,
   "metadata": {},
   "outputs": [],
   "source": [
    "from tqdm import tqdm\n",
    "show_fakes_14=[it for it,z in tqdm(df14_good_service[[\"lat\",\"lon\"]].iterrows()) if str((z[0],z[1])) in fake_locs]\n",
    "def to_color(xy):\n",
    "    if str((xy.lat,xy.lon)) in fake_locs:\n",
    "        return [\"background-color: #d6db57\" for i in range(xy.shape[0])]\n",
    "    else:\n",
    "        return [\"\"for i in range(xy.shape[0])]\n",
    "\n",
    "    usrs=list(set(df14_good_service.id))\n",
    "nb_geotweets_from_same_loc_per_usr=([Counter([str((row.lat,row.lon))\n",
    "                   for it,row in df14_good_service[df14_good_service.id==usr].iterrows()]).most_common(1)[0][1]\n",
    "                  for usr in tqdmn(usrs)])\n",
    "\n",
    "nb_geotweets_per_usr=([len([str((row.lat,row.lon))\n",
    "                   for it,row in df14_good_service[df14_good_service.id==usr].iterrows()])\n",
    "                  for usr in tqdmn(usrs)])\n",
    "\n",
    "ifd=df14_good_service.ix[show_fakes_14].id.sample(1).values[0]\n",
    "x=df14_good_service[df14_good_service.id==ifd]\n",
    "x.style.apply(to_color, axis=1)\n",
    "\n",
    "dic_iris_not_nan=pickle.load(open(\n",
    "    \"/warehouse/COMPLEXNET/jlevyabi/ml_soc_econ/data_files/UKSOC_rep/all_together_dic_iris.p\",\"rb\"))\n",
    "\n",
    "\n",
    "usrs_with_fake_locs=[str(x) for x in df14_good_service.ix[show_fakes_14].id.values]\n",
    "usrs_with_home_and_fake_locs=list(set(usrs_with_fake_locs).intersection(set(list(dic_iris_not_nan.keys()))))"
   ]
  },
  {
   "cell_type": "code",
   "execution_count": null,
   "metadata": {},
   "outputs": [],
   "source": []
  },
  {
   "cell_type": "markdown",
   "metadata": {},
   "source": [
    "### Locations to Home "
   ]
  },
  {
   "cell_type": "code",
   "execution_count": 67,
   "metadata": {},
   "outputs": [
    {
     "name": "stdout",
     "output_type": "stream",
     "text": [
      "Automatic pdb calling has been turned OFF\n"
     ]
    }
   ],
   "source": [
    "%pdb off\n",
    "uk = '+proj=tmerc +lat_0=49 +lon_0=-2 +k=0.9996012717 \\\n",
    "+x_0=400000 +y_0=-100000 +ellps=airy \\\n",
    "+towgs84=446.448,-125.157,542.06,0.15,0.247,0.842,-20.489 +units=m +no_defs'\n",
    "from pyproj import transform,Proj\n",
    "from datetime import datetime\n",
    "import numpy as np\n",
    "import pandas as pd\n",
    "\n",
    "def proj_arr(points,proj_to):\n",
    "    inproj = Proj(init='epsg:4326')\n",
    "    outproj = Proj(proj_to)\n",
    "    func = lambda x: transform(inproj,outproj,x[1],x[0])\n",
    "    return np.array(list(map(func, points)))\n",
    "\n",
    "def take_most_frequent(geopandas_usr,min_times=5,min_days=1):\n",
    "    polys_visited=list(geopandas_usr.idINSPIRE)\n",
    "    time_of_visit=[datetime(int(row.year),int(row.month),int(row.fecha),\n",
    "                            int(row.hour),int(row.minu),int(row.sec))\n",
    "                   for it,row in geopandas_usr.iterrows()]\n",
    "    locat_mode=Counter(polys_visited).most_common(1)[0][0]\n",
    "    nb_times=Counter(polys_visited).most_common(1)[0][1]\n",
    "    inter_idx=np.where([x==locat_mode for x in polys_visited])[0].tolist()\n",
    "    time_diff=[time_of_visit[i] for i in inter_idx]\n",
    "    if nb_times>=min_times and (max(time_diff)-min(time_diff)).days>=min_days:\n",
    "        idx_mode=polys_visited.index(locat_mode)\n",
    "        return idx_mode,geopandas_usr.iloc[idx_mode][[\"lat\",\"lon\"]]\n",
    "    else:\n",
    "        return None,None\n",
    "\n",
    "def get_check_in_rate_margin_most_freq(geopandas_usr):\n",
    "    polys_visited=list(geopandas_usr.idINSPIRE)\n",
    "    inter=Counter(polys_visited).most_common(2)\n",
    "    if len(inter)<2:\n",
    "        return None,None,None,None,None\n",
    "    locat_mode,sec_locat_mode=inter\n",
    "    idx_mode,idx_mode_sec=polys_visited.index(locat_mode[0]),polys_visited.index(sec_locat_mode[0])\n",
    "    return (idx_mode,geopandas_usr.iloc[idx_mode][[\"lat\",\"lon\"]],\n",
    "            idx_mode_sec,geopandas_usr.iloc[idx_mode_sec][[\"lat\",\"lon\"]],\n",
    "           ((locat_mode[1]+0.0-sec_locat_mode[1])/(sec_locat_mode[1]+locat_mode[1])))\n",
    "\n",
    "def take_most_frequent_night(geopandas_usr,start=21,stop=6) :\n",
    "    polys_visited=(geopandas_usr.idINSPIRE)\n",
    "    polys_visited_night=polys_visited[(geopandas_usr.hour>=start)|(geopandas_usr.hour<stop)]\n",
    "    if len(polys_visited_night)==0:\n",
    "        return None,None\n",
    "    locat_mode=Counter(polys_visited_night).most_common(1)[0][0]\n",
    "    idx_mode=list(polys_visited).index(locat_mode)\n",
    "    return idx_mode,geopandas_usr.iloc[idx_mode][[\"lat\",\"lon\"]]\n",
    "\n",
    "def get_distance_matrix(geopandas_usr):\n",
    "    x = np.array(geopandas_usr[[\"lat\",\"lon\"]]).astype(float).tolist()\n",
    "    y=proj_arr(x,uk)\n",
    "    ztree = cKDTree(y)\n",
    "    z = ztree.sparse_distance_matrix(ztree,1e6,p=2).todense()\n",
    "    return z\n",
    "\n",
    "def distance_to_home(geopandas_usr,select_home_loc,args):\n",
    "    idx,loc=select_home_loc(geopandas_usr,*args)\n",
    "    if idx is None:\n",
    "        return None,None,None\n",
    "    mat_dist=get_distance_matrix(geopandas_usr)\n",
    "    return mat_dist[idx,:].tolist()[0],list(geopandas_usr.day),list(geopandas_usr.hour)\n",
    "\n",
    "def go_through_home_candidates(dic_gpd,select_home_loc):\n",
    "    dic_exam={}\n",
    "    for usr,gpd in tqdmn(dic_gpd.items()):\n",
    "        idx,loc=select_home_loc(gpd)\n",
    "        if idx is None:\n",
    "            continue\n",
    "        dic_exam.setdefault(usr,gpd.iloc[idx])\n",
    "    return dic_exam\n",
    "\n",
    "def go_through_geol_users(dic_gpd,select_home_loc,args,outlier_lim=6e4):\n",
    "    dic_per_day={k:np.zeros(24) for k in range(7)}\n",
    "    dic_nb_per_day={k:np.zeros(24) for k in range(7)}\n",
    "    dic_exam={}\n",
    "    loss=[]\n",
    "    for usr,gpd in tqdmn(dic_gpd.items()):\n",
    "        dic_exam.setdefault(usr,[])\n",
    "        dists,days,hours=distance_to_home(gpd,select_home_loc,args)\n",
    "        new_dists=np.array(dists)\n",
    "        if dists is None:\n",
    "            continue\n",
    "        loss.append(1-(np.sum([new_dists<outlier_lim])+0.0)/len(dists) )\n",
    "        dists=new_dists[new_dists<outlier_lim]\n",
    "        for dist,day,hour in zip(dists,days,hours):\n",
    "            dic_exam[usr].append(dist)\n",
    "            dic_per_day[day][hour]+=dist\n",
    "            dic_nb_per_day[day][hour]+=1\n",
    "    dic_day={}\n",
    "    for k,v in dic_per_day.items():\n",
    "        dic_day[k]=(v/dic_nb_per_day[k])/100\n",
    "    return dic_day,dic_exam,loss"
   ]
  },
  {
   "cell_type": "code",
   "execution_count": null,
   "metadata": {},
   "outputs": [],
   "source": []
  }
 ],
 "metadata": {
  "kernelspec": {
   "display_name": "Python 3",
   "language": "python",
   "name": "python3"
  },
  "language_info": {
   "codemirror_mode": {
    "name": "ipython",
    "version": 3
   },
   "file_extension": ".py",
   "mimetype": "text/x-python",
   "name": "python",
   "nbconvert_exporter": "python",
   "pygments_lexer": "ipython3",
   "version": "3.6.0"
  },
  "toc": {
   "base_numbering": 1,
   "nav_menu": {},
   "number_sections": true,
   "sideBar": true,
   "skip_h1_title": false,
   "title_cell": "Table of Contents",
   "title_sidebar": "Contents",
   "toc_cell": false,
   "toc_position": {},
   "toc_section_display": true,
   "toc_window_display": false
  }
 },
 "nbformat": 4,
 "nbformat_minor": 2
}
