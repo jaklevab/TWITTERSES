{
 "cells": [
  {
   "cell_type": "markdown",
   "metadata": {
    "heading_collapsed": true
   },
   "source": [
    "# Imports"
   ]
  },
  {
   "cell_type": "code",
   "execution_count": 8,
   "metadata": {
    "collapsed": true,
    "hidden": true
   },
   "outputs": [],
   "source": [
    "import pandas as pd\n",
    "import numpy as np\n",
    "import sys\n",
    "sys.path.append('/warehouse/COMPLEXNET/jlevyabi/TWITTERSES/ml_soc_econ/data_files/UKSOC_rep/')\n",
    "from helpers_locs_to_home import time_2_date\n",
    "from collections import Counter\n",
    "\n",
    "from tqdm import tqdm_notebook as tqdmn\n",
    "import matplotlib.pyplot as plt\n",
    "import matplotlib\n",
    "import matplotlib.ticker as tkr\n",
    "from shapely.geometry import Point\n",
    "from shapely.geometry.polygon import Polygon\n",
    "from sklearn.model_selection import train_test_split\n",
    "from sklearn.preprocessing import StandardScaler\n",
    "from sklearn.datasets import make_moons, make_circles, make_classification\n",
    "from sklearn.neural_network import MLPClassifier\n",
    "from sklearn.neighbors import KNeighborsClassifier\n",
    "from sklearn.svm import SVC\n",
    "from sklearn.gaussian_process import GaussianProcessClassifier\n",
    "from sklearn.gaussian_process.kernels import RBF\n",
    "from sklearn.tree import DecisionTreeClassifier\n",
    "from sklearn.ensemble import RandomForestClassifier, AdaBoostClassifier\n",
    "from sklearn.naive_bayes import GaussianNB\n",
    "from sklearn.discriminant_analysis import QuadraticDiscriminantAnalysis\n",
    "from sklearn.metrics import classification_report\n",
    "from helpers_locs_to_home import *\n",
    "\n",
    "import pickle\n",
    "import re;pat = re.compile(r'''(-*\\d+\\.\\d+ -*\\d+\\.\\d+);*''');new_geo=[]\n",
    "import warnings\n",
    "import seaborn as sns\n"
   ]
  },
  {
   "cell_type": "markdown",
   "metadata": {},
   "source": [
    "# Load Relevant Data"
   ]
  },
  {
   "cell_type": "code",
   "execution_count": 9,
   "metadata": {},
   "outputs": [
    {
     "data": {
      "application/vnd.jupyter.widget-view+json": {
       "model_id": "7989be101f9a415f8910a0cbd48ef953",
       "version_major": 2,
       "version_minor": 0
      },
      "text/html": [
       "<p>Failed to display Jupyter Widget of type <code>HBox</code>.</p>\n",
       "<p>\n",
       "  If you're reading this message in the Jupyter Notebook or JupyterLab Notebook, it may mean\n",
       "  that the widgets JavaScript is still loading. If this message persists, it\n",
       "  likely means that the widgets JavaScript library is either not installed or\n",
       "  not enabled. See the <a href=\"https://ipywidgets.readthedocs.io/en/stable/user_install.html\">Jupyter\n",
       "  Widgets Documentation</a> for setup instructions.\n",
       "</p>\n",
       "<p>\n",
       "  If you're reading this message in another frontend (for example, a static\n",
       "  rendering on GitHub or <a href=\"https://nbviewer.jupyter.org/\">NBViewer</a>),\n",
       "  it may mean that your frontend doesn't currently support widgets.\n",
       "</p>\n"
      ],
      "text/plain": [
       "HBox(children=(IntProgress(value=0, max=127614), HTML(value='')))"
      ]
     },
     "metadata": {},
     "output_type": "display_data"
    },
    {
     "name": "stdout",
     "output_type": "stream",
     "text": [
      "\n"
     ]
    }
   ],
   "source": [
    "import pickle\n",
    "usrs_with_SES_info_dic=pickle.load(open(\"/warehouse/COMPLEXNET/jlevyabi/TWITTERSES/ml_soc_econ/usrs_with_SES_info_dic.p\",\n",
    "                                        \"rb\"))\n",
    "inter={}\n",
    "for k,v in tqdmn(usrs_with_SES_info_dic.items()):\n",
    "    v=v.rename(index=str, columns={\"min\": \"minu\",\"nb urls\":\"text\"})\n",
    "    inter[k]=v\n",
    "\n",
    "usrs_with_SES_info_dic=inter\n",
    "del inter"
   ]
  },
  {
   "cell_type": "code",
   "execution_count": 10,
   "metadata": {
    "collapsed": true
   },
   "outputs": [],
   "source": [
    "dec_prec=5\n",
    "nb_rep_thresh=10\n",
    "pre_fake_locs=pd.read_csv(\"/warehouse/COMPLEXNET/jlevyabi/TWITTERSES/geoloc/txt_files/fake_locs.txt\",\n",
    "                          names=[\"pre\"])\n",
    "fake_locs=[]\n",
    "for x in pre_fake_locs.pre:\n",
    "    try:\n",
    "        lat,lon=round(float(x.split(\"-\")[0]),dec_prec),round(float(x.split(\"-\")[-1]),dec_prec)\n",
    "    except:\n",
    "        continue\n",
    "    if len(x)==3:\n",
    "        fake_locs.append(str((round(lat,dec_prec),-round(lon,dec_prec))))\n",
    "    else:\n",
    "        fake_locs.append(str((round(lat,dec_prec),round(lon,dec_prec))))\n",
    "\n",
    "set_toher_fakes=list(set(fake_locs))"
   ]
  },
  {
   "cell_type": "markdown",
   "metadata": {},
   "source": [
    "# Filters"
   ]
  },
  {
   "cell_type": "code",
   "execution_count": 11,
   "metadata": {},
   "outputs": [
    {
     "data": {
      "application/vnd.jupyter.widget-view+json": {
       "model_id": "71c7bb5c8ec94d348f1cf15604807d54",
       "version_major": 2,
       "version_minor": 0
      },
      "text/html": [
       "<p>Failed to display Jupyter Widget of type <code>HBox</code>.</p>\n",
       "<p>\n",
       "  If you're reading this message in the Jupyter Notebook or JupyterLab Notebook, it may mean\n",
       "  that the widgets JavaScript is still loading. If this message persists, it\n",
       "  likely means that the widgets JavaScript library is either not installed or\n",
       "  not enabled. See the <a href=\"https://ipywidgets.readthedocs.io/en/stable/user_install.html\">Jupyter\n",
       "  Widgets Documentation</a> for setup instructions.\n",
       "</p>\n",
       "<p>\n",
       "  If you're reading this message in another frontend (for example, a static\n",
       "  rendering on GitHub or <a href=\"https://nbviewer.jupyter.org/\">NBViewer</a>),\n",
       "  it may mean that your frontend doesn't currently support widgets.\n",
       "</p>\n"
      ],
      "text/plain": [
       "HBox(children=(IntProgress(value=0, max=127614), HTML(value='')))"
      ]
     },
     "metadata": {},
     "output_type": "display_data"
    },
    {
     "name": "stdout",
     "output_type": "stream",
     "text": [
      "\n"
     ]
    },
    {
     "data": {
      "application/vnd.jupyter.widget-view+json": {
       "model_id": "278fe25e11794d15a2f91fa2a8b565ed",
       "version_major": 2,
       "version_minor": 0
      },
      "text/html": [
       "<p>Failed to display Jupyter Widget of type <code>HBox</code>.</p>\n",
       "<p>\n",
       "  If you're reading this message in the Jupyter Notebook or JupyterLab Notebook, it may mean\n",
       "  that the widgets JavaScript is still loading. If this message persists, it\n",
       "  likely means that the widgets JavaScript library is either not installed or\n",
       "  not enabled. See the <a href=\"https://ipywidgets.readthedocs.io/en/stable/user_install.html\">Jupyter\n",
       "  Widgets Documentation</a> for setup instructions.\n",
       "</p>\n",
       "<p>\n",
       "  If you're reading this message in another frontend (for example, a static\n",
       "  rendering on GitHub or <a href=\"https://nbviewer.jupyter.org/\">NBViewer</a>),\n",
       "  it may mean that your frontend doesn't currently support widgets.\n",
       "</p>\n"
      ],
      "text/plain": [
       "HBox(children=(IntProgress(value=0, max=53787), HTML(value='')))"
      ]
     },
     "metadata": {},
     "output_type": "display_data"
    },
    {
     "name": "stdout",
     "output_type": "stream",
     "text": [
      "\n",
      "Number of users before filtering... 127614\n",
      "Users going too fast... 0\n",
      "Users too variable ... 1099\n",
      "Weather bots ... 818\n",
      "Real users with more than 5 locations ...53787\n",
      "Users posting 2 consecutive tweets in less than 2 secs  ... 13814\n",
      "Users with too many followers/friends ... 0\n",
      "Final nb of users  39973\n"
     ]
    }
   ],
   "source": [
    "max_km_var=10\n",
    "max_km_per_h=120\n",
    "nb_mini_locs=5\n",
    "nb_min_crazy=20\n",
    "thresh_rate=3\n",
    "\n",
    "dic_locs_reals,d_locs_fast,d_locs_vars,dic_mar,dic_dist,dic_speed,pre_home=fast_get_repr_location(\n",
    "    dic_locs=usrs_with_SES_info_dic,\n",
    "    max_km_var=max_km_var,\n",
    "    max_km_per_h=max_km_per_h,\n",
    "    nb_mini_locs=nb_mini_locs,\n",
    "    nb_min_crazy=nb_min_crazy)\n",
    "\n",
    "#new_dic_real,activ_static_usrs=remove_active_static_usrs(dic_real=dic_locs_reals,pandas_version=0)\n",
    "new_dic_real_normal_activ,hyper_active_usrs=remove_hyperactive_usrs(dic_locs_reals,pandas_version=0,thresh_rate=thresh_rate)\n",
    "new_dic_real_normal_social,hyper_social_usrs_home=remove_hyper_social_usrs(dic_real=new_dic_real_normal_activ)\n",
    "\n",
    "print(\"Number of users before filtering... %d\"%len(usrs_with_SES_info_dic.keys()))\n",
    "print(\"Users going too fast... %d\"%len(d_locs_fast))\n",
    "print(\"Users too variable ... %d\"%len(d_locs_vars))\n",
    "print(\"Weather bots ... %d\"%len(dic_mar))\n",
    "print(\"Real users with more than %d locations ...%d\"%(nb_mini_locs,len(dic_locs_reals)))\n",
    "print(\"Users posting 2 consecutive tweets in less than 2 secs  ... %d\"%len(hyper_active_usrs))\n",
    "print(\"Users with too many followers/friends ... %d\"%len(hyper_social_usrs_home))\n",
    "print(\"Final nb of users  %d\"%len(new_dic_real_normal_social))"
   ]
  },
  {
   "cell_type": "code",
   "execution_count": 40,
   "metadata": {
    "collapsed": true
   },
   "outputs": [],
   "source": [
    "import numpy as np\n",
    "from tqdm import tqdm_notebook as tqdmn\n",
    "\n",
    "# Gini Coefficient determined by here: https://es.wikipedia.org/wiki/Coeficiente_de_Gini\n",
    "def gini(cum_pob,cum_inc):\n",
    "    return np.abs(1-np.sum((cum_pob[1:]-cum_pob[:-1])*(cum_inc[:-1]+cum_inc[1:])))\n",
    "\n",
    "# Create Income Distribution plots from salary data\n",
    "def yannick_plots(ses_distribution):\n",
    "    nb_users=len(ses_distribution)\n",
    "    sorted_ses=np.sort(ses_distribution)\n",
    "    frac_of_users=np.arange(nb_users,dtype=float)/nb_users\n",
    "    frac_of_income=np.cumsum(sorted_ses)\n",
    "    frac_of_income=frac_of_income/np.max(frac_of_income)\n",
    "    return frac_of_users,frac_of_income\n",
    "\n",
    "def get_gini_for_userset(user_ses_dic,min_t=0,min_d=0):\n",
    "    thresh= lambda x: take_most_frequent_thresh(x,min_times=min_t,min_days=min_d)\n",
    "    home_most_freq_all=go_through_home_candidates(user_ses_dic,thresh)\n",
    "    dic_all_users_insee={usr:{\"profile\":(user_ses_dic[usr].profile),\n",
    "                              \"locations\":user_ses_dic[usr][[\"lat\",\"lon\",\"text\",\n",
    "                                                   \"day\", \"hour\",\"minu\",\"sec\",\n",
    "                                                   \"year\",\"month\",\"fecha\",\n",
    "                                                   \"geo_pt\",\"service\"]],\n",
    "                              \"inferred_loc\":home_most_freq_all[usr][[\"lat\",\"lon\"]],\n",
    "                              \"suppl_info\":home_most_freq_all[usr]} \n",
    "                         for usr in (home_most_freq_all.keys()) }\n",
    "    #\n",
    "    usr2ses=pd.DataFrame([[k,v[\"inferred_loc\"],v[\"suppl_info\"][\"income\"],v[\"suppl_info\"][\"DEC_D113\"],\n",
    "                           v[\"suppl_info\"][\"DEC_MED13\"],v[\"suppl_info\"][\"DEC_D913\"],v[\"suppl_info\"][\"DEC_GI13\"]]\n",
    "                          for k,v in dic_all_users_insee.items()],\n",
    "                         columns=[\"usr\",\"geom\",\"insee_income\",\"insee_iris_lowe\",\n",
    "                                  \"insee_iris_med\",\"insee_iris_sup\",\"gini\"]).dropna(how=\"any\")\n",
    "    return usr2ses"
   ]
  },
  {
   "cell_type": "code",
   "execution_count": 41,
   "metadata": {},
   "outputs": [
    {
     "data": {
      "application/vnd.jupyter.widget-view+json": {
       "model_id": "dbaf56ecb2e1408abce0e70e52ea9ae0",
       "version_major": 2,
       "version_minor": 0
      },
      "text/html": [
       "<p>Failed to display Jupyter Widget of type <code>HBox</code>.</p>\n",
       "<p>\n",
       "  If you're reading this message in the Jupyter Notebook or JupyterLab Notebook, it may mean\n",
       "  that the widgets JavaScript is still loading. If this message persists, it\n",
       "  likely means that the widgets JavaScript library is either not installed or\n",
       "  not enabled. See the <a href=\"https://ipywidgets.readthedocs.io/en/stable/user_install.html\">Jupyter\n",
       "  Widgets Documentation</a> for setup instructions.\n",
       "</p>\n",
       "<p>\n",
       "  If you're reading this message in another frontend (for example, a static\n",
       "  rendering on GitHub or <a href=\"https://nbviewer.jupyter.org/\">NBViewer</a>),\n",
       "  it may mean that your frontend doesn't currently support widgets.\n",
       "</p>\n"
      ],
      "text/plain": [
       "HBox(children=(IntProgress(value=0, max=127614), HTML(value='')))"
      ]
     },
     "metadata": {},
     "output_type": "display_data"
    },
    {
     "name": "stdout",
     "output_type": "stream",
     "text": [
      "\n"
     ]
    },
    {
     "data": {
      "application/vnd.jupyter.widget-view+json": {
       "model_id": "62de7b723bd3423082e2bbfa3004b167",
       "version_major": 2,
       "version_minor": 0
      },
      "text/html": [
       "<p>Failed to display Jupyter Widget of type <code>HBox</code>.</p>\n",
       "<p>\n",
       "  If you're reading this message in the Jupyter Notebook or JupyterLab Notebook, it may mean\n",
       "  that the widgets JavaScript is still loading. If this message persists, it\n",
       "  likely means that the widgets JavaScript library is either not installed or\n",
       "  not enabled. See the <a href=\"https://ipywidgets.readthedocs.io/en/stable/user_install.html\">Jupyter\n",
       "  Widgets Documentation</a> for setup instructions.\n",
       "</p>\n",
       "<p>\n",
       "  If you're reading this message in another frontend (for example, a static\n",
       "  rendering on GitHub or <a href=\"https://nbviewer.jupyter.org/\">NBViewer</a>),\n",
       "  it may mean that your frontend doesn't currently support widgets.\n",
       "</p>\n"
      ],
      "text/plain": [
       "HBox(children=(IntProgress(value=0, max=53787), HTML(value='')))"
      ]
     },
     "metadata": {},
     "output_type": "display_data"
    },
    {
     "name": "stdout",
     "output_type": "stream",
     "text": [
      "\n"
     ]
    },
    {
     "data": {
      "application/vnd.jupyter.widget-view+json": {
       "model_id": "76e10cb781584536a007fca3e50910b6",
       "version_major": 2,
       "version_minor": 0
      },
      "text/html": [
       "<p>Failed to display Jupyter Widget of type <code>HBox</code>.</p>\n",
       "<p>\n",
       "  If you're reading this message in the Jupyter Notebook or JupyterLab Notebook, it may mean\n",
       "  that the widgets JavaScript is still loading. If this message persists, it\n",
       "  likely means that the widgets JavaScript library is either not installed or\n",
       "  not enabled. See the <a href=\"https://ipywidgets.readthedocs.io/en/stable/user_install.html\">Jupyter\n",
       "  Widgets Documentation</a> for setup instructions.\n",
       "</p>\n",
       "<p>\n",
       "  If you're reading this message in another frontend (for example, a static\n",
       "  rendering on GitHub or <a href=\"https://nbviewer.jupyter.org/\">NBViewer</a>),\n",
       "  it may mean that your frontend doesn't currently support widgets.\n",
       "</p>\n"
      ],
      "text/plain": [
       "HBox(children=(IntProgress(value=0, max=39973), HTML(value='')))"
      ]
     },
     "metadata": {},
     "output_type": "display_data"
    },
    {
     "name": "stdout",
     "output_type": "stream",
     "text": [
      "\n"
     ]
    },
    {
     "data": {
      "application/vnd.jupyter.widget-view+json": {
       "model_id": "8e505ba2d37e42fcb67260cf6faf83dd",
       "version_major": 2,
       "version_minor": 0
      },
      "text/html": [
       "<p>Failed to display Jupyter Widget of type <code>HBox</code>.</p>\n",
       "<p>\n",
       "  If you're reading this message in the Jupyter Notebook or JupyterLab Notebook, it may mean\n",
       "  that the widgets JavaScript is still loading. If this message persists, it\n",
       "  likely means that the widgets JavaScript library is either not installed or\n",
       "  not enabled. See the <a href=\"https://ipywidgets.readthedocs.io/en/stable/user_install.html\">Jupyter\n",
       "  Widgets Documentation</a> for setup instructions.\n",
       "</p>\n",
       "<p>\n",
       "  If you're reading this message in another frontend (for example, a static\n",
       "  rendering on GitHub or <a href=\"https://nbviewer.jupyter.org/\">NBViewer</a>),\n",
       "  it may mean that your frontend doesn't currently support widgets.\n",
       "</p>\n"
      ],
      "text/plain": [
       "HBox(children=(IntProgress(value=0, max=39973), HTML(value='')))"
      ]
     },
     "metadata": {},
     "output_type": "display_data"
    },
    {
     "name": "stdout",
     "output_type": "stream",
     "text": [
      "\n"
     ]
    },
    {
     "data": {
      "application/vnd.jupyter.widget-view+json": {
       "model_id": "6ddbb9844e7d4c8f970f4eb329ea6258",
       "version_major": 2,
       "version_minor": 0
      },
      "text/html": [
       "<p>Failed to display Jupyter Widget of type <code>HBox</code>.</p>\n",
       "<p>\n",
       "  If you're reading this message in the Jupyter Notebook or JupyterLab Notebook, it may mean\n",
       "  that the widgets JavaScript is still loading. If this message persists, it\n",
       "  likely means that the widgets JavaScript library is either not installed or\n",
       "  not enabled. See the <a href=\"https://ipywidgets.readthedocs.io/en/stable/user_install.html\">Jupyter\n",
       "  Widgets Documentation</a> for setup instructions.\n",
       "</p>\n",
       "<p>\n",
       "  If you're reading this message in another frontend (for example, a static\n",
       "  rendering on GitHub or <a href=\"https://nbviewer.jupyter.org/\">NBViewer</a>),\n",
       "  it may mean that your frontend doesn't currently support widgets.\n",
       "</p>\n"
      ],
      "text/plain": [
       "HBox(children=(IntProgress(value=0, max=39973), HTML(value='')))"
      ]
     },
     "metadata": {},
     "output_type": "display_data"
    },
    {
     "name": "stdout",
     "output_type": "stream",
     "text": [
      "\n"
     ]
    }
   ],
   "source": [
    "usr2ses_ori=get_gini_for_userset(usrs_with_SES_info_dic)\n",
    "usr2ses_locs_reals=get_gini_for_userset(dic_locs_reals)\n",
    "usr2ses_normal_activ=get_gini_for_userset(new_dic_real_normal_activ)\n",
    "usr2ses_real_normal_social=get_gini_for_userset(new_dic_real_normal_social)\n",
    "usr2ses_final=get_gini_for_userset(new_dic_real_normal_social,min_t=5,min_d=1)"
   ]
  },
  {
   "cell_type": "markdown",
   "metadata": {},
   "source": [
    "GINI decreases to value closer to real one by one centesimal —> WHY? (Many locations are bad (100k of 1.3M in geo center of paris) BUT few users concentrate most of these locations AND when switching to iris no data available for some of these spots (see paris) so no big change in user GINI however main utility of filtering is to ensure that the estimated home location is indeed the correct one (ex: teens moving from school to home both areas of same gini but filter ensures detection of home  ))"
   ]
  },
  {
   "cell_type": "markdown",
   "metadata": {},
   "source": [
    "# Filter Justification"
   ]
  },
  {
   "cell_type": "markdown",
   "metadata": {},
   "source": [
    "## GINI?"
   ]
  },
  {
   "cell_type": "code",
   "execution_count": 50,
   "metadata": {},
   "outputs": [
    {
     "data": {
      "text/plain": [
       "0.37316486676088556"
      ]
     },
     "execution_count": 50,
     "metadata": {},
     "output_type": "execute_result"
    }
   ],
   "source": [
    "np.average(usr2ses_ori.gini)"
   ]
  },
  {
   "cell_type": "code",
   "execution_count": 51,
   "metadata": {},
   "outputs": [
    {
     "data": {
      "text/plain": [
       "0.3647730682178367"
      ]
     },
     "execution_count": 51,
     "metadata": {},
     "output_type": "execute_result"
    }
   ],
   "source": [
    "np.average(usr2ses_final.gini)"
   ]
  },
  {
   "cell_type": "code",
   "execution_count": 52,
   "metadata": {},
   "outputs": [
    {
     "data": {
      "text/plain": [
       "0.36474353574602614"
      ]
     },
     "execution_count": 52,
     "metadata": {},
     "output_type": "execute_result"
    }
   ],
   "source": [
    "np.average(d_filo_dec_iris.DEC_GI13)"
   ]
  },
  {
   "cell_type": "code",
   "execution_count": null,
   "metadata": {
    "collapsed": true
   },
   "outputs": [],
   "source": [
    "dic_iris={\n",
    "    \"usr2ses_ori\":usr2ses_ori,\n",
    "    \"usr2ses_final\":usr2ses_final,\n",
    "    \"d_filo_dec_iris\":d_filo_dec_iris,\n",
    "}\n",
    "import pickle\n",
    "pickle.dump(dic_iris,\n",
    "            open(\"/warehouse/COMPLEXNET/jlevyabi/TWITTERSES/ml_soc_econ/icdm18/issues/dic_iris_icdwm18_filters.p\",\"wb\"))"
   ]
  },
  {
   "cell_type": "code",
   "execution_count": null,
   "metadata": {
    "collapsed": true
   },
   "outputs": [],
   "source": [
    "from shapely.geometry import Point\n",
    "from shapely.geometry.polygon import Polygon\n",
    "import pickle\n",
    "from geopandas import GeoDataFrame\n",
    "import pandas as pd\n",
    "\n",
    "dic_iris=pickle.load(open(\"/warehouse/COMPLEXNET/jlevyabi/TWITTERSES/ml_soc_econ/icdm18/issues/dic_iris_icdwm18_filters.p\",\"rb\"))\n",
    "\n",
    "usr2ses_ori=dic_iris[\"usr2ses_ori\"]\n",
    "usr2ses_final=dic_iris[\"usr2ses_final\"]\n",
    "d_filo_dec_iris=dic_iris[\"d_filo_dec_iris\"]\n",
    "\n",
    "\n",
    "geo_usr2ses_ori=usr2ses_ori\n",
    "geo_usr2ses_ori[\"geometry\"]=[Point(x.lon,x.lat)for x in usr2ses_ori.geom]\n",
    "geo_usr2ses_ori=GeoDataFrame(geo_usr2ses_ori)\n",
    "\n",
    "geo_usr2ses_final=usr2ses_final\n",
    "geo_usr2ses_final[\"geometry\"]=[Point(x.lon,x.lat)for x in usr2ses_final.geom]\n",
    "geo_usr2ses_final=GeoDataFrame(geo_usr2ses_final)"
   ]
  },
  {
   "cell_type": "markdown",
   "metadata": {},
   "source": [
    "## Population"
   ]
  },
  {
   "cell_type": "markdown",
   "metadata": {
    "heading_collapsed": true
   },
   "source": [
    "### Arrondissement"
   ]
  },
  {
   "cell_type": "markdown",
   "metadata": {
    "heading_collapsed": true,
    "hidden": true
   },
   "source": [
    "#### Original"
   ]
  },
  {
   "cell_type": "code",
   "execution_count": 123,
   "metadata": {
    "hidden": true
   },
   "outputs": [
    {
     "data": {
      "application/vnd.jupyter.widget-view+json": {
       "model_id": "7b4bd5d654b64c3e9fb321f8577dbb81",
       "version_major": 2,
       "version_minor": 0
      },
      "text/plain": [
       "A Jupyter Widget"
      ]
     },
     "metadata": {},
     "output_type": "display_data"
    },
    {
     "name": "stdout",
     "output_type": "stream",
     "text": [
      "\n"
     ]
    }
   ],
   "source": [
    "from tqdm import tqdm_notebook as tqdmn\n",
    "geo_file=\"/warehouse/COMPLEXNET/jlevyabi/TWITTERSES/geoloc/france-geojson/arrondissements.geojson\"\n",
    "import json\n",
    "with open(geo_file) as f:\n",
    "    arro_data=json.load(f)\n",
    "    \n",
    "import geopandas as gpd\n",
    "from shapely.geometry import Point\n",
    "from shapely.geometry.polygon import Polygon\n",
    "df = gpd.read_file(geo_file)\n",
    "codes=[];names=[]\n",
    "for point in tqdmn(usr2ses_ori.geometry):\n",
    "    indi=list(map(lambda poly:poly.contains(point),df.geometry))\n",
    "    res_code,res_name=(df.code[indi],df.nom[indi])\n",
    "    if len(res_code)==0:\n",
    "        code,name=(None,None)\n",
    "    else:\n",
    "        code,name=(list(res_code.to_dict().values())[0],list(res_name.to_dict().values())[0])\n",
    "    codes.append(code);names.append(name)\n",
    "\n",
    "usr2ses_ori['Codes']=codes\n",
    "usr2ses_ori['Names']=names"
   ]
  },
  {
   "cell_type": "code",
   "execution_count": 124,
   "metadata": {
    "hidden": true
   },
   "outputs": [
    {
     "data": {
      "text/html": [
       "<div>\n",
       "<style scoped>\n",
       "    .dataframe tbody tr th:only-of-type {\n",
       "        vertical-align: middle;\n",
       "    }\n",
       "\n",
       "    .dataframe tbody tr th {\n",
       "        vertical-align: top;\n",
       "    }\n",
       "\n",
       "    .dataframe thead th {\n",
       "        text-align: right;\n",
       "    }\n",
       "</style>\n",
       "<table border=\"1\" class=\"dataframe\">\n",
       "  <thead>\n",
       "    <tr style=\"text-align: right;\">\n",
       "      <th></th>\n",
       "      <th>Code région</th>\n",
       "      <th>Nom de la région</th>\n",
       "      <th>Code département</th>\n",
       "      <th>Nom du département</th>\n",
       "      <th>Code arrondissement</th>\n",
       "      <th>Nom de l'arrondissement</th>\n",
       "      <th>Nombre de communes</th>\n",
       "      <th>Population municipale</th>\n",
       "      <th>Population totale</th>\n",
       "      <th>Codes</th>\n",
       "    </tr>\n",
       "  </thead>\n",
       "  <tbody>\n",
       "    <tr>\n",
       "      <th>0</th>\n",
       "      <td>82</td>\n",
       "      <td>Rhône-Alpes</td>\n",
       "      <td>01</td>\n",
       "      <td>Ain</td>\n",
       "      <td>1</td>\n",
       "      <td>Belley</td>\n",
       "      <td>107.0</td>\n",
       "      <td>97136.0</td>\n",
       "      <td>99839.0</td>\n",
       "      <td>01001</td>\n",
       "    </tr>\n",
       "    <tr>\n",
       "      <th>1</th>\n",
       "      <td>82</td>\n",
       "      <td>Rhône-Alpes</td>\n",
       "      <td>01</td>\n",
       "      <td>Ain</td>\n",
       "      <td>2</td>\n",
       "      <td>Bourg-en-Bresse</td>\n",
       "      <td>219.0</td>\n",
       "      <td>350548.0</td>\n",
       "      <td>360208.0</td>\n",
       "      <td>01002</td>\n",
       "    </tr>\n",
       "    <tr>\n",
       "      <th>2</th>\n",
       "      <td>82</td>\n",
       "      <td>Rhône-Alpes</td>\n",
       "      <td>01</td>\n",
       "      <td>Ain</td>\n",
       "      <td>3</td>\n",
       "      <td>Gex</td>\n",
       "      <td>29.0</td>\n",
       "      <td>87153.0</td>\n",
       "      <td>89529.0</td>\n",
       "      <td>01003</td>\n",
       "    </tr>\n",
       "    <tr>\n",
       "      <th>3</th>\n",
       "      <td>82</td>\n",
       "      <td>Rhône-Alpes</td>\n",
       "      <td>01</td>\n",
       "      <td>Ain</td>\n",
       "      <td>4</td>\n",
       "      <td>Nantua</td>\n",
       "      <td>64.0</td>\n",
       "      <td>84660.0</td>\n",
       "      <td>87340.0</td>\n",
       "      <td>01004</td>\n",
       "    </tr>\n",
       "    <tr>\n",
       "      <th>4</th>\n",
       "      <td>22</td>\n",
       "      <td>Picardie</td>\n",
       "      <td>02</td>\n",
       "      <td>Aisne</td>\n",
       "      <td>1</td>\n",
       "      <td>Château-Thierry</td>\n",
       "      <td>123.0</td>\n",
       "      <td>72657.0</td>\n",
       "      <td>74629.0</td>\n",
       "      <td>02001</td>\n",
       "    </tr>\n",
       "  </tbody>\n",
       "</table>\n",
       "</div>"
      ],
      "text/plain": [
       "  Code région Nom de la région Code département Nom du département  \\\n",
       "0          82      Rhône-Alpes               01                Ain   \n",
       "1          82      Rhône-Alpes               01                Ain   \n",
       "2          82      Rhône-Alpes               01                Ain   \n",
       "3          82      Rhône-Alpes               01                Ain   \n",
       "4          22         Picardie               02              Aisne   \n",
       "\n",
       "  Code arrondissement Nom de l'arrondissement  Nombre de communes  \\\n",
       "0                   1                  Belley               107.0   \n",
       "1                   2         Bourg-en-Bresse               219.0   \n",
       "2                   3                     Gex                29.0   \n",
       "3                   4                  Nantua                64.0   \n",
       "4                   1         Château-Thierry               123.0   \n",
       "\n",
       "   Population municipale  Population totale  Codes  \n",
       "0                97136.0            99839.0  01001  \n",
       "1               350548.0           360208.0  01002  \n",
       "2                87153.0            89529.0  01003  \n",
       "3                84660.0            87340.0  01004  \n",
       "4                72657.0            74629.0  02001  "
      ]
     },
     "execution_count": 124,
     "metadata": {},
     "output_type": "execute_result"
    }
   ],
   "source": [
    "import xlrd\n",
    "path = \"/warehouse/COMPLEXNET/jlevyabi/TWITTERSES/geoloc/france-geojson/ensemble.xls\"\n",
    "workbook = xlrd.open_workbook(path)\n",
    "worksheet = workbook.sheet_by_name(\"Arrondissements\")\n",
    "offset = 6\n",
    "\n",
    "rows = []\n",
    "for i, row in enumerate(range(worksheet.nrows)):\n",
    "    if i <= offset:  # (Optionally) skip headers\n",
    "        continue\n",
    "    r = []\n",
    "    for j, col in enumerate(range(worksheet.ncols)):\n",
    "        r.append(worksheet.cell_value(i, j))\n",
    "    rows.append(r)\n",
    "    \n",
    "d_exc=pd.DataFrame(rows[1:],columns=rows[0])\n",
    "d_exc['Codes']=[u+'%03d'%int(v) for u,v in zip(d_exc['Code département'],d_exc['Code arrondissement'])]\n",
    "d_exc.head()"
   ]
  },
  {
   "cell_type": "code",
   "execution_count": 125,
   "metadata": {
    "hidden": true
   },
   "outputs": [
    {
     "data": {
      "text/html": [
       "<div>\n",
       "<style scoped>\n",
       "    .dataframe tbody tr th:only-of-type {\n",
       "        vertical-align: middle;\n",
       "    }\n",
       "\n",
       "    .dataframe tbody tr th {\n",
       "        vertical-align: top;\n",
       "    }\n",
       "\n",
       "    .dataframe thead th {\n",
       "        text-align: right;\n",
       "    }\n",
       "</style>\n",
       "<table border=\"1\" class=\"dataframe\">\n",
       "  <thead>\n",
       "    <tr style=\"text-align: right;\">\n",
       "      <th></th>\n",
       "      <th>Codes</th>\n",
       "      <th>nb_usrs</th>\n",
       "    </tr>\n",
       "  </thead>\n",
       "  <tbody>\n",
       "    <tr>\n",
       "      <th>0</th>\n",
       "      <td>75001</td>\n",
       "      <td>7488</td>\n",
       "    </tr>\n",
       "    <tr>\n",
       "      <th>1</th>\n",
       "      <td>59005</td>\n",
       "      <td>2891</td>\n",
       "    </tr>\n",
       "    <tr>\n",
       "      <th>2</th>\n",
       "      <td>92002</td>\n",
       "      <td>2188</td>\n",
       "    </tr>\n",
       "    <tr>\n",
       "      <th>3</th>\n",
       "      <td>13003</td>\n",
       "      <td>1587</td>\n",
       "    </tr>\n",
       "    <tr>\n",
       "      <th>4</th>\n",
       "      <td>94001</td>\n",
       "      <td>1555</td>\n",
       "    </tr>\n",
       "  </tbody>\n",
       "</table>\n",
       "</div>"
      ],
      "text/plain": [
       "   Codes  nb_usrs\n",
       "0  75001     7488\n",
       "1  59005     2891\n",
       "2  92002     2188\n",
       "3  13003     1587\n",
       "4  94001     1555"
      ]
     },
     "execution_count": 125,
     "metadata": {},
     "output_type": "execute_result"
    }
   ],
   "source": [
    "geo_arr_ori=(usr2ses_ori.Codes.value_counts()).to_frame()\n",
    "geo_arr_ori.reset_index(inplace=True)\n",
    "geo_arr_ori.columns=['Codes','nb_usrs']\n",
    "geo_arr_ori.head()"
   ]
  },
  {
   "cell_type": "code",
   "execution_count": 126,
   "metadata": {
    "hidden": true
   },
   "outputs": [
    {
     "data": {
      "text/html": [
       "<div>\n",
       "<style scoped>\n",
       "    .dataframe tbody tr th:only-of-type {\n",
       "        vertical-align: middle;\n",
       "    }\n",
       "\n",
       "    .dataframe tbody tr th {\n",
       "        vertical-align: top;\n",
       "    }\n",
       "\n",
       "    .dataframe thead th {\n",
       "        text-align: right;\n",
       "    }\n",
       "</style>\n",
       "<table border=\"1\" class=\"dataframe\">\n",
       "  <thead>\n",
       "    <tr style=\"text-align: right;\">\n",
       "      <th></th>\n",
       "      <th>Codes</th>\n",
       "      <th>Population totale</th>\n",
       "      <th>nb_usrs</th>\n",
       "    </tr>\n",
       "  </thead>\n",
       "  <tbody>\n",
       "    <tr>\n",
       "      <th>0</th>\n",
       "      <td>01001</td>\n",
       "      <td>99839.0</td>\n",
       "      <td>4</td>\n",
       "    </tr>\n",
       "    <tr>\n",
       "      <th>1</th>\n",
       "      <td>01002</td>\n",
       "      <td>360208.0</td>\n",
       "      <td>48</td>\n",
       "    </tr>\n",
       "    <tr>\n",
       "      <th>2</th>\n",
       "      <td>01004</td>\n",
       "      <td>87340.0</td>\n",
       "      <td>19</td>\n",
       "    </tr>\n",
       "    <tr>\n",
       "      <th>3</th>\n",
       "      <td>02001</td>\n",
       "      <td>74629.0</td>\n",
       "      <td>12</td>\n",
       "    </tr>\n",
       "    <tr>\n",
       "      <th>4</th>\n",
       "      <td>02002</td>\n",
       "      <td>170122.0</td>\n",
       "      <td>69</td>\n",
       "    </tr>\n",
       "  </tbody>\n",
       "</table>\n",
       "</div>"
      ],
      "text/plain": [
       "   Codes  Population totale  nb_usrs\n",
       "0  01001            99839.0        4\n",
       "1  01002           360208.0       48\n",
       "2  01004            87340.0       19\n",
       "3  02001            74629.0       12\n",
       "4  02002           170122.0       69"
      ]
     },
     "execution_count": 126,
     "metadata": {},
     "output_type": "execute_result"
    }
   ],
   "source": [
    "d_insee=d_exc[['Codes','Population totale']]\n",
    "#d_insee['Population totale']=(d_insee['Population totale']+0.0)/sum(d_insee['Population totale'])\n",
    "d_corr=pd.merge(d_insee,geo_arr_ori,on='Codes')\n",
    "d_corr.head()"
   ]
  },
  {
   "cell_type": "code",
   "execution_count": 127,
   "metadata": {
    "hidden": true
   },
   "outputs": [
    {
     "name": "stderr",
     "output_type": "stream",
     "text": [
      "/home/jlevyabi/seacabo/geoanaconda/anaconda3/lib/python3.6/site-packages/scipy/stats/stats.py:1706: FutureWarning: Using a non-tuple sequence for multidimensional indexing is deprecated; use `arr[tuple(seq)]` instead of `arr[seq]`. In the future this will be interpreted as an array index, `arr[np.array(seq)]`, which will result either in an error or a different result.\n",
      "  return np.add.reduce(sorted[indexer] * weights, axis=axis) / sumval\n"
     ]
    },
    {
     "data": {
      "image/png": "[encoded data removed]",
      "text/plain": [
       "<Figure size 432x288 with 1 Axes>"
      ]
     },
     "metadata": {},
     "output_type": "display_data"
    }
   ],
   "source": [
    "import seaborn as sns\n",
    "import scipy.stats as st\n",
    "import numpy as np\n",
    "sns.regplot(np.log(d_corr['Population totale']),np.log(d_corr['nb_usrs']))\n",
    "rsquare = st.pearsonr(np.log(d_corr['Population totale']),np.log(d_corr['nb_usrs']))[0]**2\n",
    "plt.annotate(\"$R^2=%.2f$\"%round(rsquare,2), xy=(0.1, 0.9), xycoords='axes fraction')\n",
    "plt.ylabel('Arr Geolocated usrs data')\n",
    "plt.xlabel('Arr Census data')\n",
    "plt.show()"
   ]
  },
  {
   "cell_type": "markdown",
   "metadata": {
    "hidden": true
   },
   "source": [
    "#### Final"
   ]
  },
  {
   "cell_type": "code",
   "execution_count": 114,
   "metadata": {
    "hidden": true
   },
   "outputs": [
    {
     "data": {
      "application/vnd.jupyter.widget-view+json": {
       "model_id": "dd1677817a4249aaa71b55d17dbdd575",
       "version_major": 2,
       "version_minor": 0
      },
      "text/plain": [
       "A Jupyter Widget"
      ]
     },
     "metadata": {},
     "output_type": "display_data"
    },
    {
     "name": "stdout",
     "output_type": "stream",
     "text": [
      "\n"
     ]
    }
   ],
   "source": [
    "from tqdm import tqdm_notebook as tqdmn\n",
    "geo_file=\"/warehouse/COMPLEXNET/jlevyabi/TWITTERSES/geoloc/france-geojson/arrondissements.geojson\"\n",
    "import json\n",
    "with open(geo_file) as f:\n",
    "    arro_data=json.load(f)\n",
    "    \n",
    "import geopandas as gpd\n",
    "from shapely.geometry import Point\n",
    "from shapely.geometry.polygon import Polygon\n",
    "df = gpd.read_file(geo_file)\n",
    "codes=[];names=[]\n",
    "for point in tqdmn(usr2ses_final.geometry):\n",
    "    indi=list(map(lambda poly:poly.contains(point),df.geometry))\n",
    "    res_code,res_name=(df.code[indi],df.nom[indi])\n",
    "    if len(res_code)==0:\n",
    "        code,name=(None,None)\n",
    "    else:\n",
    "        code,name=(list(res_code.to_dict().values())[0],list(res_name.to_dict().values())[0])\n",
    "    codes.append(code);names.append(name)\n",
    "\n",
    "usr2ses_final['Codes']=codes\n",
    "usr2ses_final['Names']=names"
   ]
  },
  {
   "cell_type": "code",
   "execution_count": 116,
   "metadata": {
    "hidden": true
   },
   "outputs": [
    {
     "data": {
      "text/html": [
       "<div>\n",
       "<style scoped>\n",
       "    .dataframe tbody tr th:only-of-type {\n",
       "        vertical-align: middle;\n",
       "    }\n",
       "\n",
       "    .dataframe tbody tr th {\n",
       "        vertical-align: top;\n",
       "    }\n",
       "\n",
       "    .dataframe thead th {\n",
       "        text-align: right;\n",
       "    }\n",
       "</style>\n",
       "<table border=\"1\" class=\"dataframe\">\n",
       "  <thead>\n",
       "    <tr style=\"text-align: right;\">\n",
       "      <th></th>\n",
       "      <th>Code région</th>\n",
       "      <th>Nom de la région</th>\n",
       "      <th>Code département</th>\n",
       "      <th>Nom du département</th>\n",
       "      <th>Code arrondissement</th>\n",
       "      <th>Nom de l'arrondissement</th>\n",
       "      <th>Nombre de communes</th>\n",
       "      <th>Population municipale</th>\n",
       "      <th>Population totale</th>\n",
       "      <th>Codes</th>\n",
       "    </tr>\n",
       "  </thead>\n",
       "  <tbody>\n",
       "    <tr>\n",
       "      <th>0</th>\n",
       "      <td>82</td>\n",
       "      <td>Rhône-Alpes</td>\n",
       "      <td>01</td>\n",
       "      <td>Ain</td>\n",
       "      <td>1</td>\n",
       "      <td>Belley</td>\n",
       "      <td>107.0</td>\n",
       "      <td>97136.0</td>\n",
       "      <td>99839.0</td>\n",
       "      <td>01001</td>\n",
       "    </tr>\n",
       "    <tr>\n",
       "      <th>1</th>\n",
       "      <td>82</td>\n",
       "      <td>Rhône-Alpes</td>\n",
       "      <td>01</td>\n",
       "      <td>Ain</td>\n",
       "      <td>2</td>\n",
       "      <td>Bourg-en-Bresse</td>\n",
       "      <td>219.0</td>\n",
       "      <td>350548.0</td>\n",
       "      <td>360208.0</td>\n",
       "      <td>01002</td>\n",
       "    </tr>\n",
       "    <tr>\n",
       "      <th>2</th>\n",
       "      <td>82</td>\n",
       "      <td>Rhône-Alpes</td>\n",
       "      <td>01</td>\n",
       "      <td>Ain</td>\n",
       "      <td>3</td>\n",
       "      <td>Gex</td>\n",
       "      <td>29.0</td>\n",
       "      <td>87153.0</td>\n",
       "      <td>89529.0</td>\n",
       "      <td>01003</td>\n",
       "    </tr>\n",
       "    <tr>\n",
       "      <th>3</th>\n",
       "      <td>82</td>\n",
       "      <td>Rhône-Alpes</td>\n",
       "      <td>01</td>\n",
       "      <td>Ain</td>\n",
       "      <td>4</td>\n",
       "      <td>Nantua</td>\n",
       "      <td>64.0</td>\n",
       "      <td>84660.0</td>\n",
       "      <td>87340.0</td>\n",
       "      <td>01004</td>\n",
       "    </tr>\n",
       "    <tr>\n",
       "      <th>4</th>\n",
       "      <td>22</td>\n",
       "      <td>Picardie</td>\n",
       "      <td>02</td>\n",
       "      <td>Aisne</td>\n",
       "      <td>1</td>\n",
       "      <td>Château-Thierry</td>\n",
       "      <td>123.0</td>\n",
       "      <td>72657.0</td>\n",
       "      <td>74629.0</td>\n",
       "      <td>02001</td>\n",
       "    </tr>\n",
       "  </tbody>\n",
       "</table>\n",
       "</div>"
      ],
      "text/plain": [
       "  Code région Nom de la région Code département Nom du département  \\\n",
       "0          82      Rhône-Alpes               01                Ain   \n",
       "1          82      Rhône-Alpes               01                Ain   \n",
       "2          82      Rhône-Alpes               01                Ain   \n",
       "3          82      Rhône-Alpes               01                Ain   \n",
       "4          22         Picardie               02              Aisne   \n",
       "\n",
       "  Code arrondissement Nom de l'arrondissement  Nombre de communes  \\\n",
       "0                   1                  Belley               107.0   \n",
       "1                   2         Bourg-en-Bresse               219.0   \n",
       "2                   3                     Gex                29.0   \n",
       "3                   4                  Nantua                64.0   \n",
       "4                   1         Château-Thierry               123.0   \n",
       "\n",
       "   Population municipale  Population totale  Codes  \n",
       "0                97136.0            99839.0  01001  \n",
       "1               350548.0           360208.0  01002  \n",
       "2                87153.0            89529.0  01003  \n",
       "3                84660.0            87340.0  01004  \n",
       "4                72657.0            74629.0  02001  "
      ]
     },
     "execution_count": 116,
     "metadata": {},
     "output_type": "execute_result"
    }
   ],
   "source": [
    "import xlrd\n",
    "path = \"/warehouse/COMPLEXNET/jlevyabi/TWITTERSES/geoloc/france-geojson/ensemble.xls\"\n",
    "workbook = xlrd.open_workbook(path)\n",
    "worksheet = workbook.sheet_by_name(\"Arrondissements\")\n",
    "offset = 6\n",
    "\n",
    "rows = []\n",
    "for i, row in enumerate(range(worksheet.nrows)):\n",
    "    if i <= offset:  # (Optionally) skip headers\n",
    "        continue\n",
    "    r = []\n",
    "    for j, col in enumerate(range(worksheet.ncols)):\n",
    "        r.append(worksheet.cell_value(i, j))\n",
    "    rows.append(r)\n",
    "    \n",
    "d_exc=pd.DataFrame(rows[1:],columns=rows[0])\n",
    "d_exc['Codes']=[u+'%03d'%int(v) for u,v in zip(d_exc['Code département'],d_exc['Code arrondissement'])]\n",
    "d_exc.head()"
   ]
  },
  {
   "cell_type": "code",
   "execution_count": 118,
   "metadata": {
    "hidden": true
   },
   "outputs": [
    {
     "data": {
      "text/html": [
       "<div>\n",
       "<style scoped>\n",
       "    .dataframe tbody tr th:only-of-type {\n",
       "        vertical-align: middle;\n",
       "    }\n",
       "\n",
       "    .dataframe tbody tr th {\n",
       "        vertical-align: top;\n",
       "    }\n",
       "\n",
       "    .dataframe thead th {\n",
       "        text-align: right;\n",
       "    }\n",
       "</style>\n",
       "<table border=\"1\" class=\"dataframe\">\n",
       "  <thead>\n",
       "    <tr style=\"text-align: right;\">\n",
       "      <th></th>\n",
       "      <th>Codes</th>\n",
       "      <th>nb_usrs</th>\n",
       "    </tr>\n",
       "  </thead>\n",
       "  <tbody>\n",
       "    <tr>\n",
       "      <th>0</th>\n",
       "      <td>75001</td>\n",
       "      <td>1270</td>\n",
       "    </tr>\n",
       "    <tr>\n",
       "      <th>1</th>\n",
       "      <td>59005</td>\n",
       "      <td>877</td>\n",
       "    </tr>\n",
       "    <tr>\n",
       "      <th>2</th>\n",
       "      <td>92002</td>\n",
       "      <td>589</td>\n",
       "    </tr>\n",
       "    <tr>\n",
       "      <th>3</th>\n",
       "      <td>93002</td>\n",
       "      <td>491</td>\n",
       "    </tr>\n",
       "    <tr>\n",
       "      <th>4</th>\n",
       "      <td>93001</td>\n",
       "      <td>474</td>\n",
       "    </tr>\n",
       "  </tbody>\n",
       "</table>\n",
       "</div>"
      ],
      "text/plain": [
       "   Codes  nb_usrs\n",
       "0  75001     1270\n",
       "1  59005      877\n",
       "2  92002      589\n",
       "3  93002      491\n",
       "4  93001      474"
      ]
     },
     "execution_count": 118,
     "metadata": {},
     "output_type": "execute_result"
    }
   ],
   "source": [
    "geo_arr_final=(usr2ses_final.Codes.value_counts()).to_frame()\n",
    "geo_arr_final.reset_index(inplace=True)\n",
    "geo_arr_final.columns=['Codes','nb_usrs']\n",
    "geo_arr_final.head()"
   ]
  },
  {
   "cell_type": "code",
   "execution_count": null,
   "metadata": {
    "hidden": true
   },
   "outputs": [],
   "source": [
    "d_insee=d_exc[['Codes','Population totale']]\n",
    "#d_insee['Population totale']=(d_insee['Population totale']+0.0)/sum(d_insee['Population totale'])\n",
    "d_corr=pd.merge(d_insee,geo_arr_final,on='Codes')\n",
    "d_corr.head()"
   ]
  },
  {
   "cell_type": "code",
   "execution_count": 121,
   "metadata": {
    "hidden": true
   },
   "outputs": [
    {
     "name": "stderr",
     "output_type": "stream",
     "text": [
      "/home/jlevyabi/seacabo/geoanaconda/anaconda3/lib/python3.6/site-packages/scipy/stats/stats.py:1706: FutureWarning: Using a non-tuple sequence for multidimensional indexing is deprecated; use `arr[tuple(seq)]` instead of `arr[seq]`. In the future this will be interpreted as an array index, `arr[np.array(seq)]`, which will result either in an error or a different result.\n",
      "  return np.add.reduce(sorted[indexer] * weights, axis=axis) / sumval\n"
     ]
    },
    {
     "data": {
      "image/png": "[encoded data removed]",
      "text/plain": [
       "<Figure size 432x288 with 1 Axes>"
      ]
     },
     "metadata": {},
     "output_type": "display_data"
    }
   ],
   "source": [
    "import seaborn as sns\n",
    "import scipy.stats as st\n",
    "import numpy as np\n",
    "sns.regplot(np.log(d_corr['Population totale']),np.log(d_corr['nb_usrs']))\n",
    "rsquare = st.pearsonr(np.log(d_corr['Population totale']),np.log(d_corr['nb_usrs']))[0]**2\n",
    "plt.annotate(\"$R^2=%.2f$\"%round(rsquare,2), xy=(0.1, 0.9), xycoords='axes fraction')\n",
    "plt.ylabel('Arr Geolocated usrs data')\n",
    "plt.xlabel('Arr Census data')\n",
    "plt.show()"
   ]
  },
  {
   "cell_type": "markdown",
   "metadata": {},
   "source": [
    "### Commune Level"
   ]
  },
  {
   "cell_type": "markdown",
   "metadata": {},
   "source": [
    "#### Ori"
   ]
  },
  {
   "cell_type": "code",
   "execution_count": null,
   "metadata": {},
   "outputs": [],
   "source": [
    "from tqdm import tqdm as tqdmn\n",
    "geo_file=\"/warehouse/COMPLEXNET/jlevyabi/TWITTERSES/geoloc/france-geojson/communes.geojson\"\n",
    "import json\n",
    "with open(geo_file) as f:\n",
    "    arro_data=json.load(f)\n",
    "\n",
    "\n",
    "import geopandas as gpd\n",
    "from shapely.geometry import Point\n",
    "from shapely.geometry.polygon import Polygon\n",
    "df = gpd.read_file(geo_file)\n",
    "codes=[];names=[]\n",
    "for point in tqdmn(usr2ses_ori.geometry):\n",
    "    indi=list(map(lambda poly:poly.contains(point),df.geometry))\n",
    "    res_code,res_name=(df.code[indi],df.nom[indi])\n",
    "    if len(res_code)==0:\n",
    "        code,name=(None,None)\n",
    "    else:\n",
    "        code,name=(list(res_code.to_dict().values())[0],list(res_name.to_dict().values())[0])\n",
    "    codes.append(code);names.append(name)\n",
    "\n",
    "\n",
    "usr2ses_ori['Codes']=codes\n",
    "usr2ses_ori['Names']=names"
   ]
  },
  {
   "cell_type": "code",
   "execution_count": 144,
   "metadata": {},
   "outputs": [
    {
     "data": {
      "text/html": [
       "<div>\n",
       "<style scoped>\n",
       "    .dataframe tbody tr th:only-of-type {\n",
       "        vertical-align: middle;\n",
       "    }\n",
       "\n",
       "    .dataframe tbody tr th {\n",
       "        vertical-align: top;\n",
       "    }\n",
       "\n",
       "    .dataframe thead th {\n",
       "        text-align: right;\n",
       "    }\n",
       "</style>\n",
       "<table border=\"1\" class=\"dataframe\">\n",
       "  <thead>\n",
       "    <tr style=\"text-align: right;\">\n",
       "      <th></th>\n",
       "      <th>Code région</th>\n",
       "      <th>Nom de la région</th>\n",
       "      <th>Code département</th>\n",
       "      <th>Code arrondissement</th>\n",
       "      <th>Code canton</th>\n",
       "      <th>Code commune</th>\n",
       "      <th>Nom de la commune</th>\n",
       "      <th>Population municipale</th>\n",
       "      <th>Population comptée à part</th>\n",
       "      <th>Population totale</th>\n",
       "      <th>Codes</th>\n",
       "    </tr>\n",
       "  </thead>\n",
       "  <tbody>\n",
       "    <tr>\n",
       "      <th>0</th>\n",
       "      <td>82</td>\n",
       "      <td>Rhône-Alpes</td>\n",
       "      <td>01</td>\n",
       "      <td>2</td>\n",
       "      <td>08</td>\n",
       "      <td>001</td>\n",
       "      <td>L' Abergement-Clémenciat</td>\n",
       "      <td>767.0</td>\n",
       "      <td>13.0</td>\n",
       "      <td>780.0</td>\n",
       "      <td>01001</td>\n",
       "    </tr>\n",
       "    <tr>\n",
       "      <th>1</th>\n",
       "      <td>82</td>\n",
       "      <td>Rhône-Alpes</td>\n",
       "      <td>01</td>\n",
       "      <td>1</td>\n",
       "      <td>01</td>\n",
       "      <td>002</td>\n",
       "      <td>L' Abergement-de-Varey</td>\n",
       "      <td>236.0</td>\n",
       "      <td>4.0</td>\n",
       "      <td>240.0</td>\n",
       "      <td>01002</td>\n",
       "    </tr>\n",
       "    <tr>\n",
       "      <th>2</th>\n",
       "      <td>82</td>\n",
       "      <td>Rhône-Alpes</td>\n",
       "      <td>01</td>\n",
       "      <td>1</td>\n",
       "      <td>01</td>\n",
       "      <td>004</td>\n",
       "      <td>Ambérieu-en-Bugey</td>\n",
       "      <td>14359.0</td>\n",
       "      <td>529.0</td>\n",
       "      <td>14888.0</td>\n",
       "      <td>01004</td>\n",
       "    </tr>\n",
       "    <tr>\n",
       "      <th>3</th>\n",
       "      <td>82</td>\n",
       "      <td>Rhône-Alpes</td>\n",
       "      <td>01</td>\n",
       "      <td>2</td>\n",
       "      <td>22</td>\n",
       "      <td>005</td>\n",
       "      <td>Ambérieux-en-Dombes</td>\n",
       "      <td>1635.0</td>\n",
       "      <td>31.0</td>\n",
       "      <td>1666.0</td>\n",
       "      <td>01005</td>\n",
       "    </tr>\n",
       "    <tr>\n",
       "      <th>4</th>\n",
       "      <td>82</td>\n",
       "      <td>Rhône-Alpes</td>\n",
       "      <td>01</td>\n",
       "      <td>1</td>\n",
       "      <td>04</td>\n",
       "      <td>006</td>\n",
       "      <td>Ambléon</td>\n",
       "      <td>108.0</td>\n",
       "      <td>6.0</td>\n",
       "      <td>114.0</td>\n",
       "      <td>01006</td>\n",
       "    </tr>\n",
       "  </tbody>\n",
       "</table>\n",
       "</div>"
      ],
      "text/plain": [
       "  Code région Nom de la région Code département Code arrondissement  \\\n",
       "0          82      Rhône-Alpes               01                   2   \n",
       "1          82      Rhône-Alpes               01                   1   \n",
       "2          82      Rhône-Alpes               01                   1   \n",
       "3          82      Rhône-Alpes               01                   2   \n",
       "4          82      Rhône-Alpes               01                   1   \n",
       "\n",
       "  Code canton Code commune         Nom de la commune  Population municipale  \\\n",
       "0          08          001  L' Abergement-Clémenciat                  767.0   \n",
       "1          01          002    L' Abergement-de-Varey                  236.0   \n",
       "2          01          004         Ambérieu-en-Bugey                14359.0   \n",
       "3          22          005       Ambérieux-en-Dombes                 1635.0   \n",
       "4          04          006                   Ambléon                  108.0   \n",
       "\n",
       "   Population comptée à part  Population totale  Codes  \n",
       "0                       13.0              780.0  01001  \n",
       "1                        4.0              240.0  01002  \n",
       "2                      529.0            14888.0  01004  \n",
       "3                       31.0             1666.0  01005  \n",
       "4                        6.0              114.0  01006  "
      ]
     },
     "execution_count": 144,
     "metadata": {},
     "output_type": "execute_result"
    }
   ],
   "source": [
    "import xlrd\n",
    "path = \"/warehouse/COMPLEXNET/jlevyabi/TWITTERSES/geoloc/france-geojson/ensemble.xls\"\n",
    "workbook = xlrd.open_workbook(path)\n",
    "worksheet = workbook.sheet_by_name(\"Communes\")\n",
    "offset = 6\n",
    "\n",
    "rows = []\n",
    "for i, row in enumerate(range(worksheet.nrows)):\n",
    "    if i <= offset:  # (Optionally) skip headers\n",
    "        continue\n",
    "    r = []\n",
    "    for j, col in enumerate(range(worksheet.ncols)):\n",
    "        r.append(worksheet.cell_value(i, j))\n",
    "    rows.append(r)\n",
    "\n",
    "    \n",
    "d_exc=pd.DataFrame(rows[1:],columns=rows[0])\n",
    "d_exc['Codes']=[u+'%03d'%int(v) for u,v in zip(d_exc['Code département'],d_exc['Code commune'])]\n",
    "d_exc.head()"
   ]
  },
  {
   "cell_type": "code",
   "execution_count": 125,
   "metadata": {},
   "outputs": [
    {
     "data": {
      "text/html": [
       "<div>\n",
       "<style scoped>\n",
       "    .dataframe tbody tr th:only-of-type {\n",
       "        vertical-align: middle;\n",
       "    }\n",
       "\n",
       "    .dataframe tbody tr th {\n",
       "        vertical-align: top;\n",
       "    }\n",
       "\n",
       "    .dataframe thead th {\n",
       "        text-align: right;\n",
       "    }\n",
       "</style>\n",
       "<table border=\"1\" class=\"dataframe\">\n",
       "  <thead>\n",
       "    <tr style=\"text-align: right;\">\n",
       "      <th></th>\n",
       "      <th>Codes</th>\n",
       "      <th>nb_usrs</th>\n",
       "    </tr>\n",
       "  </thead>\n",
       "  <tbody>\n",
       "    <tr>\n",
       "      <th>0</th>\n",
       "      <td>75001</td>\n",
       "      <td>7488</td>\n",
       "    </tr>\n",
       "    <tr>\n",
       "      <th>1</th>\n",
       "      <td>59005</td>\n",
       "      <td>2891</td>\n",
       "    </tr>\n",
       "    <tr>\n",
       "      <th>2</th>\n",
       "      <td>92002</td>\n",
       "      <td>2188</td>\n",
       "    </tr>\n",
       "    <tr>\n",
       "      <th>3</th>\n",
       "      <td>13003</td>\n",
       "      <td>1587</td>\n",
       "    </tr>\n",
       "    <tr>\n",
       "      <th>4</th>\n",
       "      <td>94001</td>\n",
       "      <td>1555</td>\n",
       "    </tr>\n",
       "  </tbody>\n",
       "</table>\n",
       "</div>"
      ],
      "text/plain": [
       "   Codes  nb_usrs\n",
       "0  75001     7488\n",
       "1  59005     2891\n",
       "2  92002     2188\n",
       "3  13003     1587\n",
       "4  94001     1555"
      ]
     },
     "execution_count": 125,
     "metadata": {},
     "output_type": "execute_result"
    }
   ],
   "source": [
    "geo_arr_ori=(usr2ses_ori.Codes.value_counts()).to_frame()\n",
    "geo_arr_ori.reset_index(inplace=True)\n",
    "geo_arr_ori.columns=['Codes','nb_usrs']\n",
    "geo_arr_ori.head()"
   ]
  },
  {
   "cell_type": "code",
   "execution_count": 126,
   "metadata": {},
   "outputs": [
    {
     "data": {
      "text/html": [
       "<div>\n",
       "<style scoped>\n",
       "    .dataframe tbody tr th:only-of-type {\n",
       "        vertical-align: middle;\n",
       "    }\n",
       "\n",
       "    .dataframe tbody tr th {\n",
       "        vertical-align: top;\n",
       "    }\n",
       "\n",
       "    .dataframe thead th {\n",
       "        text-align: right;\n",
       "    }\n",
       "</style>\n",
       "<table border=\"1\" class=\"dataframe\">\n",
       "  <thead>\n",
       "    <tr style=\"text-align: right;\">\n",
       "      <th></th>\n",
       "      <th>Codes</th>\n",
       "      <th>Population totale</th>\n",
       "      <th>nb_usrs</th>\n",
       "    </tr>\n",
       "  </thead>\n",
       "  <tbody>\n",
       "    <tr>\n",
       "      <th>0</th>\n",
       "      <td>01001</td>\n",
       "      <td>99839.0</td>\n",
       "      <td>4</td>\n",
       "    </tr>\n",
       "    <tr>\n",
       "      <th>1</th>\n",
       "      <td>01002</td>\n",
       "      <td>360208.0</td>\n",
       "      <td>48</td>\n",
       "    </tr>\n",
       "    <tr>\n",
       "      <th>2</th>\n",
       "      <td>01004</td>\n",
       "      <td>87340.0</td>\n",
       "      <td>19</td>\n",
       "    </tr>\n",
       "    <tr>\n",
       "      <th>3</th>\n",
       "      <td>02001</td>\n",
       "      <td>74629.0</td>\n",
       "      <td>12</td>\n",
       "    </tr>\n",
       "    <tr>\n",
       "      <th>4</th>\n",
       "      <td>02002</td>\n",
       "      <td>170122.0</td>\n",
       "      <td>69</td>\n",
       "    </tr>\n",
       "  </tbody>\n",
       "</table>\n",
       "</div>"
      ],
      "text/plain": [
       "   Codes  Population totale  nb_usrs\n",
       "0  01001            99839.0        4\n",
       "1  01002           360208.0       48\n",
       "2  01004            87340.0       19\n",
       "3  02001            74629.0       12\n",
       "4  02002           170122.0       69"
      ]
     },
     "execution_count": 126,
     "metadata": {},
     "output_type": "execute_result"
    }
   ],
   "source": [
    "d_insee=d_exc[['Codes','Population totale']]\n",
    "#d_insee['Population totale']=(d_insee['Population totale']+0.0)/sum(d_insee['Population totale'])\n",
    "d_corr=pd.merge(d_insee,geo_arr_ori,on='Codes')\n",
    "d_corr.head()"
   ]
  },
  {
   "cell_type": "code",
   "execution_count": 127,
   "metadata": {
    "scrolled": false
   },
   "outputs": [
    {
     "name": "stderr",
     "output_type": "stream",
     "text": [
      "/home/jlevyabi/seacabo/geoanaconda/anaconda3/lib/python3.6/site-packages/scipy/stats/stats.py:1706: FutureWarning: Using a non-tuple sequence for multidimensional indexing is deprecated; use `arr[tuple(seq)]` instead of `arr[seq]`. In the future this will be interpreted as an array index, `arr[np.array(seq)]`, which will result either in an error or a different result.\n",
      "  return np.add.reduce(sorted[indexer] * weights, axis=axis) / sumval\n"
     ]
    },
    {
     "data": {
      "image/png": "[encoded data removed]",
      "text/plain": [
       "<Figure size 432x288 with 1 Axes>"
      ]
     },
     "metadata": {},
     "output_type": "display_data"
    }
   ],
   "source": [
    "import seaborn as sns\n",
    "import numpy as np\n",
    "import scipy.stats as st\n",
    "sns.regplot(np.log(d_corr['Population totale']),np.log(d_corr['nb_usrs']))\n",
    "rsquare = st.pearsonr(np.log(d_corr['Population totale']),np.log(d_corr['nb_usrs']))[0]**2\n",
    "plt.annotate(\"$R^2=%.2f$\"%round(rsquare,2), xy=(0.1, 0.9), xycoords='axes fraction')\n",
    "plt.ylabel('Arr Geolocated usrs data')\n",
    "plt.xlabel('Arr Census data')\n",
    "plt.show()"
   ]
  },
  {
   "cell_type": "markdown",
   "metadata": {},
   "source": [
    "#### Final"
   ]
  },
  {
   "cell_type": "code",
   "execution_count": null,
   "metadata": {
    "collapsed": true
   },
   "outputs": [],
   "source": [
    "from tqdm import tqdm as tqdmn\n",
    "geo_file=\"/warehouse/COMPLEXNET/jlevyabi/TWITTERSES/geoloc/france-geojson/communes.geojson\"\n",
    "import json\n",
    "with open(geo_file) as f:\n",
    "    arro_data=json.load(f)\n",
    "\n",
    "\n",
    "import geopandas as gpd\n",
    "from shapely.geometry import Point\n",
    "from shapely.geometry.polygon import Polygon\n",
    "df = gpd.read_file(geo_file)\n",
    "codes=[];names=[]\n",
    "for point in tqdmn(usr2ses_final.geometry):\n",
    "    indi=list(map(lambda poly:poly.contains(point),df.geometry))\n",
    "    res_code,res_name=(df.code[indi],df.nom[indi])\n",
    "    if len(res_code)==0:\n",
    "        code,name=(None,None)\n",
    "    else:\n",
    "        code,name=(list(res_code.to_dict().values())[0],list(res_name.to_dict().values())[0])\n",
    "    codes.append(code);names.append(name)\n",
    "\n",
    "\n",
    "usr2ses_final['Codes']=codes\n",
    "usr2ses_final['Names']=names"
   ]
  },
  {
   "cell_type": "code",
   "execution_count": null,
   "metadata": {
    "collapsed": true
   },
   "outputs": [],
   "source": []
  },
  {
   "cell_type": "code",
   "execution_count": null,
   "metadata": {
    "collapsed": true
   },
   "outputs": [],
   "source": [
    "import seaborn as sns\n",
    "import scipy.stats as st\n",
    "import numpy as np\n",
    "sns.regplot(np.log(d_corr['Population totale']),np.log(d_corr['nb_usrs']))\n",
    "rsquare = st.pearsonr(np.log(d_corr['Population totale']),np.log(d_corr['nb_usrs']))[0]**2\n",
    "plt.annotate(\"$R^2=%.2f$\"%round(rsquare,2), xy=(0.1, 0.9), xycoords='axes fraction')\n",
    "plt.ylabel('Arr Geolocated usrs data')\n",
    "plt.xlabel('Arr Census data')\n",
    "plt.show()"
   ]
  },
  {
   "cell_type": "markdown",
   "metadata": {},
   "source": [
    "### IRIS LEVEL"
   ]
  },
  {
   "cell_type": "code",
   "execution_count": 22,
   "metadata": {
    "collapsed": true
   },
   "outputs": [],
   "source": [
    "import geopandas as gpd\n",
    "import xlrd,json\n",
    "from geopandas import sjoin\n",
    "\n",
    "def extract_xls_file(path,sheet_name,offset):\n",
    "    workbook = xlrd.open_workbook(path)\n",
    "    worksheet = workbook.sheet_by_name(sheet_name)\n",
    "    rows = []\n",
    "    for i, row in (enumerate(range(worksheet.nrows))):\n",
    "        if i <= offset:  # (Optionally) skip headers\n",
    "            continue\n",
    "        r = []\n",
    "        for j, col in enumerate(range(worksheet.ncols)):\n",
    "            r.append(worksheet.cell_value(i, j))\n",
    "        rows.append(r)\n",
    "    return(pd.DataFrame(rows[1:],columns=rows[0]))\n",
    "\n",
    "\n",
    "geo_file=\"/warehouse/COMPLEXNET/jlevyabi/TWITTERSES/geoloc/iris_opendata/shapefile_iris/contours-iris-2016.geojson\"\n",
    "df = gpd.read_file(geo_file)\n",
    "france=Polygon([[-4.9658203125,42.3585439175],[8.4375,42.3585439175],\n",
    "                [8.4375,51.2344073516],[-4.9658203125,51.2344073516],[-4.9658203125,42.3585439175]])\n",
    "\n",
    "d_iris=df[[france.contains(geo_pt) if geo_pt else False for geo_pt in (df.geometry)]]\n",
    "d_iris['IRIS']=d_iris.code_iris\n",
    "\n",
    "f0=\"/warehouse/COMPLEXNET/jlevyabi/TWITTERSES/geoloc/iris_opendata/RFDM2010IRI.xls\"\n",
    "d_exc=extract_xls_file(f0,\"Distribution_Ménages\",5)\n",
    "d_exc_iris=pd.merge(d_iris, d_exc, on='IRIS')\n",
    "\n",
    "geo_usr2ses_final.crs={'init': 'epsg:4326'}\n",
    "d_exc_iris.crs={'init': 'epsg:4326'}\n",
    "usrs_with_iris_demo = sjoin(geo_usr2ses_final, d_exc_iris, how=\"inner\", op='within')"
   ]
  },
  {
   "cell_type": "code",
   "execution_count": 73,
   "metadata": {},
   "outputs": [
    {
     "name": "stderr",
     "output_type": "stream",
     "text": [
      "/home/jlevyabi/seacabo/geoanaconda/anaconda3/lib/python3.6/site-packages/scipy/stats/stats.py:1706: FutureWarning: Using a non-tuple sequence for multidimensional indexing is deprecated; use `arr[tuple(seq)]` instead of `arr[seq]`. In the future this will be interpreted as an array index, `arr[np.array(seq)]`, which will result either in an error or a different result.\n",
      "  return np.add.reduce(sorted[indexer] * weights, axis=axis) / sumval\n"
     ]
    },
    {
     "data": {
      "image/png": "[encoded data removed]",
      "text/plain": [
       "<Figure size 432x288 with 1 Axes>"
      ]
     },
     "metadata": {},
     "output_type": "display_data"
    }
   ],
   "source": [
    "import scipy.stats as st\n",
    "import seaborn as sns\n",
    "import numpy as np\n",
    "import matplotlib.pyplot as plt \n",
    "real_final_pop=d_exc_iris[[\"IRIS\",\"p12_pop\"]]\n",
    "twitter_final_pop=usrs_with_iris_demo.groupby(\"IRIS\")[\"usr\"].count().reset_index()\n",
    "final_comp=pd.merge(real_final_pop,twitter_final_pop,on=\"IRIS\")\n",
    "\n",
    "sns.regplot(np.log(final_comp.p12_pop),np.log(final_comp.usr))\n",
    "rsquare = st.pearsonr(np.log(final_comp.p12_pop),np.log(final_comp.usr))[0]**2\n",
    "plt.annotate(\"$R^2=%.2f$\"%round(rsquare,2), xy=(0.1, 0.9), xycoords='axes fraction')\n",
    "plt.ylabel('Arr Geolocated usrs data')\n",
    "plt.xlabel('Arr INSEE data')\n",
    "plt.show()"
   ]
  },
  {
   "cell_type": "code",
   "execution_count": null,
   "metadata": {
    "collapsed": true
   },
   "outputs": [],
   "source": []
  },
  {
   "cell_type": "markdown",
   "metadata": {},
   "source": [
    "# Helpers"
   ]
  },
  {
   "cell_type": "markdown",
   "metadata": {
    "heading_collapsed": true
   },
   "source": [
    "## Location Helpers"
   ]
  },
  {
   "cell_type": "code",
   "execution_count": 14,
   "metadata": {
    "collapsed": true,
    "hidden": true
   },
   "outputs": [],
   "source": [
    "uk = '+proj=tmerc +lat_0=49 +lon_0=-2 +k=0.9996012717 \\\n",
    "+x_0=400000 +y_0=-100000 +ellps=airy \\\n",
    "+towgs84=446.448,-125.157,542.06,0.15,0.247,0.842,-20.489 +units=m +no_defs'\n",
    "from pyproj import transform,Proj\n",
    "\n",
    "def proj_arr(points,proj_to):\n",
    "    inproj = Proj(init='epsg:4326')\n",
    "    outproj = Proj(proj_to)\n",
    "    func = lambda x: transform(inproj,outproj,x[1],x[0])\n",
    "    return np.array(list(map(func, points)))\n",
    "\n",
    "def take_most_frequent_thresh(geopandas_usr,min_times=5,min_days=1):\n",
    "    polys_visited=list(geopandas_usr.idINSPIRE)\n",
    "    time_of_visit=[datetime(int(row.year),int(row.month),int(row.fecha),\n",
    "                            int(row.hour),int(row.minu),int(row.sec))\n",
    "                   for it,row in geopandas_usr.iterrows()]\n",
    "    locat_mode=Counter(polys_visited).most_common(1)[0][0]\n",
    "    nb_times=Counter(polys_visited).most_common(1)[0][1]\n",
    "    inter_idx=np.where([x==locat_mode for x in polys_visited])[0].tolist()\n",
    "    time_diff=[time_of_visit[i] for i in inter_idx]\n",
    "    if nb_times>=min_times and (max(time_diff)-min(time_diff)).days>=min_days:\n",
    "        idx_mode=polys_visited.index(locat_mode)\n",
    "        return idx_mode,geopandas_usr.iloc[idx_mode][[\"lat\",\"lon\"]]\n",
    "    else:\n",
    "        return None,None\n",
    "\n",
    "def get_check_in_rate_margin_most_freq(geopandas_usr):\n",
    "    polys_visited=list(geopandas_usr.idINSPIRE)\n",
    "    inter=Counter(polys_visited).most_common(2)\n",
    "    if len(inter)<2:\n",
    "        return None,None,None,None,None\n",
    "    locat_mode,sec_locat_mode=inter\n",
    "    idx_mode,idx_mode_sec=polys_visited.index(locat_mode[0]),polys_visited.index(sec_locat_mode[0])\n",
    "    return (idx_mode,geopandas_usr.iloc[idx_mode][[\"lat\",\"lon\"]],\n",
    "            idx_mode_sec,geopandas_usr.iloc[idx_mode_sec][[\"lat\",\"lon\"]],\n",
    "           ((locat_mode[1]+0.0-sec_locat_mode[1])/(sec_locat_mode[1]+locat_mode[1])))\n",
    "\n",
    "def take_most_frequent_night_thresh(geopandas_usr,start=21,stop=6) :\n",
    "    polys_visited=(geopandas_usr.idINSPIRE)\n",
    "    polys_visited_night=polys_visited[(geopandas_usr.hour>=start)|(geopandas_usr.hour<stop)]\n",
    "    if len(polys_visited_night)==0:\n",
    "        return None,None\n",
    "    locat_mode=Counter(polys_visited_night).most_common(1)[0][0]\n",
    "    idx_mode=list(polys_visited).index(locat_mode)\n",
    "    return idx_mode,geopandas_usr.iloc[idx_mode][[\"lat\",\"lon\"]]\n",
    "\n",
    "def get_distance_matrix(geopandas_usr):\n",
    "    x = np.array(geopandas_usr[[\"lat\",\"lon\"]]).astype(float).tolist()\n",
    "    y=proj_arr(x,uk)\n",
    "    ztree = cKDTree(y)\n",
    "    z = ztree.sparse_distance_matrix(ztree,1e6,p=2).todense()\n",
    "    return z\n",
    "\n",
    "def distance_to_home(geopandas_usr,select_home_loc,args):\n",
    "    idx,loc=select_home_loc(geopandas_usr,*args)\n",
    "    if idx is None:\n",
    "        return None,None,None\n",
    "    mat_dist=get_distance_matrix(geopandas_usr)\n",
    "    return mat_dist[idx,:].tolist()[0],list(geopandas_usr.day),list(geopandas_usr.hour)\n",
    "\n",
    "def go_through_home_candidates(dic_gpd,select_home_loc):\n",
    "    dic_exam={}\n",
    "    for usr,gpd in tqdmn(dic_gpd.items()):\n",
    "        idx,loc=select_home_loc(gpd)\n",
    "        if idx is None:\n",
    "            continue\n",
    "        dic_exam.setdefault(usr,gpd.iloc[idx])\n",
    "    return dic_exam\n",
    "\n",
    "def go_through_geol_users(dic_gpd,select_home_loc,args,outlier_lim=6e4):\n",
    "    dic_per_day={k:np.zeros(24) for k in range(7)}\n",
    "    dic_nb_per_day={k:np.zeros(24) for k in range(7)}\n",
    "    dic_exam={}\n",
    "    loss=[]\n",
    "    for usr,gpd in tqdmn(dic_gpd.items()):\n",
    "        dic_exam.setdefault(usr,[])\n",
    "        dists,days,hours=distance_to_home(gpd,select_home_loc,args)\n",
    "        new_dists=np.array(dists)\n",
    "        if dists is None:\n",
    "            continue\n",
    "        loss.append(1-(np.sum([new_dists<outlier_lim])+0.0)/len(dists) )\n",
    "        dists=new_dists[new_dists<outlier_lim]\n",
    "        for dist,day,hour in zip(dists,days,hours):\n",
    "            dic_exam[usr].append(dist)\n",
    "            dic_per_day[day][hour]+=dist\n",
    "            dic_nb_per_day[day][hour]+=1\n",
    "    dic_day={}\n",
    "    for k,v in dic_per_day.items():\n",
    "        dic_day[k]=(v/dic_nb_per_day[k])/100\n",
    "    return dic_day,dic_exam,loss"
   ]
  },
  {
   "cell_type": "markdown",
   "metadata": {
    "heading_collapsed": true
   },
   "source": [
    "## Cython: Redefine \"polygon contains point\" function from shapely"
   ]
  },
  {
   "cell_type": "markdown",
   "metadata": {
    "hidden": true
   },
   "source": [
    "Redefine \"polygon contains point\" function from shapely"
   ]
  },
  {
   "cell_type": "code",
   "execution_count": null,
   "metadata": {
    "collapsed": true,
    "hidden": true
   },
   "outputs": [],
   "source": [
    "%load_ext cython"
   ]
  },
  {
   "cell_type": "code",
   "execution_count": null,
   "metadata": {
    "collapsed": true,
    "hidden": true
   },
   "outputs": [],
   "source": [
    "%%cython -l geos_c -L/home/jlevyabi/seacabo/geoanaconda/anaconda3/lib -I/home/jlevyabi/seacabo/geoanaconda/anaconda3/include -a\n",
    "\n",
    "import cython\n",
    "cimport cpython.array\n",
    "\n",
    "import numpy as np\n",
    "cimport numpy as np\n",
    "\n",
    "cdef extern from \"geos_c.h\":\n",
    "    ctypedef void *GEOSContextHandle_t\n",
    "    ctypedef struct GEOSGeometry\n",
    "    char GEOSContains_r(GEOSContextHandle_t, const GEOSGeometry*, const GEOSGeometry*) nogil\n",
    "    \n",
    "cdef GEOSContextHandle_t get_geos_context_handle():\n",
    "    # Note: This requires that lgeos is defined, so needs to be imported as:\n",
    "    from shapely.geos import lgeos\n",
    "    cdef np.uintp_t handle = lgeos.geos_handle\n",
    "    return <GEOSContextHandle_t>handle\n",
    "\n",
    "\n",
    "@cython.boundscheck(False)\n",
    "@cython.wraparound(False)\n",
    "def contains_cy_insee(np.int64_t[:] array_usrs, np.int64_t[:]array_insee ):\n",
    "    \n",
    "    cdef Py_ssize_t idx\n",
    "    cdef unsigned int n = array_usrs.size\n",
    "    cdef unsigned int n_geo = array_insee.size\n",
    "    cdef np.ndarray[np.uint8_t, ndim=2, cast=True] result = np.empty([n,n_geo],dtype=np.uint8)\n",
    "\n",
    "    cdef GEOSContextHandle_t geos_handle\n",
    "    cdef GEOSGeometry *geom1\n",
    "    cdef GEOSGeometry *geom2\n",
    "    cdef np.uintp_t geos_geom_usrs\n",
    "    cdef np.uintp_t geos_geom_insee\n",
    "\n",
    "    geos_h = get_geos_context_handle()\n",
    "    for idx in xrange(n):\n",
    "        for idx_geos in xrange(n_geo):\n",
    "            geos_geom_usrs = array_usrs[idx]\n",
    "            geom2 = <GEOSGeometry *>geos_geom_usrs\n",
    "            geos_geom_insee = array_insee[idx_geos]\n",
    "            geom1 = <GEOSGeometry *> geos_geom_insee\n",
    "            \n",
    "            # Put the result of whether the point is \"contained\" by the\n",
    "            # prepared geometry into the result array. \n",
    "            result[idx][idx_geos] = <np.uint8_t> GEOSContains_r(geos_h, geom1, geom2)\n",
    "            #GEOSGeom_destroy_r(geos_h, geom2)\n",
    "\n",
    "    return result.view(dtype=np.bool)"
   ]
  },
  {
   "cell_type": "code",
   "execution_count": null,
   "metadata": {
    "collapsed": true,
    "hidden": true
   },
   "outputs": [],
   "source": [
    "def my_pt2poly(usr_df,country_dic,set_keys):\n",
    "    usr_info=[];prec=2;step=10**(-prec);vals=[-step,0,step]\n",
    "    test=[]\n",
    "    map_prec = lambda x: str(round(x,prec))\n",
    "    for it,usr in tqdmn(usr_df.iterrows()):\n",
    "        us_posx,us_posy=usr.geometry.centroid.bounds[:2]  \n",
    "        usr_geom=usr.geometry._geom\n",
    "        keys=(set([(map_prec(us_posy+yval),map_prec(us_posx+xval))\n",
    "              for xval in vals for yval in vals])).intersection(set_keys)\n",
    "        pre_df_of_concern=[country_dic[key]\n",
    "                       for key in keys if country_dic[key].shape[0]>0]\n",
    "        df_of_concern=[y._geom \n",
    "                       for x in pre_df_of_concern for y in x.geometry]\n",
    "        df_ilocs_concern=[y\n",
    "                       for x in pre_df_of_concern for y in x[\"Unnamed: 0\"]]\n",
    "        if len(df_of_concern)==0:\n",
    "            test.append(None)\n",
    "            continue\n",
    "        #insee_to_check = pd.concat(df_of_concern)\n",
    "        geom_to_check = df_of_concern#np.array([x._geom for x in (insee_to_check.geometry)])\n",
    "        assignments=(contains_cy_insee(np.array([usr_geom]), np.array(geom_to_check)))\n",
    "        to_check=np.where(assignments)\n",
    "        _,poly=to_check\n",
    "        if len(poly)==0:\n",
    "            test.append(None)\n",
    "        else:\n",
    "            test.append(df_ilocs_concern[poly[0]])\n",
    "    return test"
   ]
  },
  {
   "cell_type": "code",
   "execution_count": null,
   "metadata": {
    "collapsed": true,
    "hidden": true
   },
   "outputs": [],
   "source": []
  }
 ],
 "metadata": {
  "kernelspec": {
   "display_name": "Python 3",
   "language": "python",
   "name": "python3"
  },
  "language_info": {
   "codemirror_mode": {
    "name": "ipython",
    "version": 3
   },
   "file_extension": ".py",
   "mimetype": "text/x-python",
   "name": "python",
   "nbconvert_exporter": "python",
   "pygments_lexer": "ipython3",
   "version": "3.6.5"
  },
  "toc": {
   "base_numbering": 1,
   "nav_menu": {},
   "number_sections": true,
   "sideBar": true,
   "skip_h1_title": false,
   "title_cell": "Table of Contents",
   "title_sidebar": "Contents",
   "toc_cell": false,
   "toc_position": {},
   "toc_section_display": true,
   "toc_window_display": false
  }
 },
 "nbformat": 4,
 "nbformat_minor": 2
}
