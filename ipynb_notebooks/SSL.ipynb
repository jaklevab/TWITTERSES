{
 "cells": [
  {
   "cell_type": "code",
   "execution_count": 1,
   "metadata": {
    "collapsed": true
   },
   "outputs": [],
   "source": [
    "import networkx as nx\n",
    "from geopandas import sjoin\n",
    "import re\n",
    "import pandas as pd\n",
    "from geopandas import GeoDataFrame\n",
    "import pickle\n",
    "import matplotlib.pyplot as plt\n",
    "from tqdm import tqdm\n",
    "from shapely.geometry import Point\n",
    "from shapely.geometry.polygon import Polygon\n",
    "import json\n",
    "from tqdm import tqdm\n",
    "import matplotlib.pyplot as plt\n",
    "import matplotlib.cm as cm,numpy as np\n",
    "import geopandas as gpd\n",
    "from shapely.geometry import Point\n",
    "from shapely.geometry.polygon import Polygon\n",
    "import numpy as np\n",
    "from random import sample\n",
    "import scipy.sparse as sparse\n",
    "from __future__ import division"
   ]
  },
  {
   "cell_type": "code",
   "execution_count": 2,
   "metadata": {},
   "outputs": [
    {
     "name": "stderr",
     "output_type": "stream",
     "text": [
      "100%|██████████| 29677/29677 [00:26<00:00, 1109.98it/s]\n"
     ]
    }
   ],
   "source": [
    "with open(\"d_mob_study_out.p\", \"rb\") as f:\n",
    "    d_mob_study_out = pickle.load(f)\n",
    "geometry=[]\n",
    "geo_real_home=[]\n",
    "for usr,pos in tqdm(d_mob_study_out['new_dic_real_home'].items()):\n",
    "    for single_pos in pos:\n",
    "        geo_pt=Point(single_pos[1],single_pos[0])\n",
    "        geo_real_home.append(usr)\n",
    "        geometry.append(geo_pt)\n",
    "df=pd.DataFrame(list(zip(geo_real_home,geometry)),columns=['usr','geometry'])\n",
    "df=df.dropna(how='any')\n",
    "gdf_real_home = GeoDataFrame(df,geometry=geometry)"
   ]
  },
  {
   "cell_type": "code",
   "execution_count": 3,
   "metadata": {},
   "outputs": [
    {
     "name": "stderr",
     "output_type": "stream",
     "text": [
      "100%|██████████| 2278213/2278213 [03:42<00:00, 10245.88it/s]\n",
      "100%|██████████| 2277947/2277947 [01:42<00:00, 22298.28it/s]\n",
      "451030it [04:19, 1736.32it/s]\n",
      "100%|██████████| 28035/28035 [01:13<00:00, 382.95it/s]\n"
     ]
    }
   ],
   "source": [
    "import warnings\n",
    "warnings.filterwarnings(\"ignore\")\n",
    "df_insee=pd.read_csv('/datastore/complexnet/jlevyabi/geoloc/final.csv')\n",
    "pat = re.compile(r'''(-*\\d+\\.\\d+ -*\\d+\\.\\d+);*''');new_geo=[]\n",
    "for geo in tqdm(df_insee.geometry_y):\n",
    "    matches = pat.findall(geo)\n",
    "    if matches:\n",
    "        lst = Polygon([tuple(map(float, m.split())) for m in matches])\n",
    "    else:\n",
    "        lst=None\n",
    "    new_geo.append(lst)\n",
    "\n",
    "presentable_insee_df=df_insee.drop([\"geometry\",\"geometry_y\",\"Unnamed: 0\",\"idINSPIRE\",\n",
    "                                    \"geometry_x\",\"nbcar_x\",\"id_x\",\"id_y\",\"idk\"],axis=1)\n",
    "presentable_insee_df=presentable_insee_df.drop(\"center\",axis=1)\n",
    "presentable_insee_df=presentable_insee_df.convert_objects(convert_numeric=True)\n",
    "inter= presentable_insee_df.astype(float).round(3)\n",
    "presentable_insee_df =inter.dropna(how='any')\n",
    "val_idx = inter.index.isin(presentable_insee_df.index)\n",
    "presentable_insee_df['geometry']=[new_geo[it] for it,x in enumerate(val_idx) if x]\n",
    "geo_insee = GeoDataFrame(presentable_insee_df)\n",
    "geom=geo_insee.geometry\n",
    "geo_insee[\"center\"]=[poly.centroid for poly in tqdm(geo_insee.geometry)]\n",
    " \n",
    "gdf_real_home.crs = geo_insee.crs\n",
    "usrs_with_insee_income = sjoin(gdf_real_home,geo_insee, how=\"inner\", op='within')\n",
    "\n",
    "dic_insee={}\n",
    "for it,row in tqdm(usrs_with_insee_income.iterrows()):\n",
    "    if row.usr not in dic_insee:\n",
    "        dic_insee[row.usr]=[]\n",
    "    income=row.income\n",
    "    own_rat=(row.men_prop+0.0)/row.ind_r\n",
    "    dic_insee[row.usr].append([row.geometry,income,own_rat])\n",
    "for key,val in tqdm(dic_insee.items()):\n",
    "    dic_insee[key]=GeoDataFrame(val,columns=[\"geotw\",\"income\",\"owner_ratio\"])\n",
    "\n",
    "more_locs=[v.shape[0] for v in (dic_insee.values()) ]\n",
    "dic_insee_avg=pd.DataFrame([v.mean() for v in (dic_insee.values()) ],columns=[\"income\",\"owner_ratio\"])\n",
    "dic_insee_avg[\"usr\"]=list(dic_insee.keys())\n",
    "get_mode = lambda x: x.value_counts(dropna=True).index[0]\n",
    "get_mode.__name__ = \"most frequent\"\n",
    "dic_insee_mode=pd.DataFrame([v[[\"income\",\"owner_ratio\"]].agg(get_mode) for v in (dic_insee.values())],\n",
    "                            columns=[\"income\",\"owner_ratio\"])\n",
    "dic_insee_mode[\"usr\"]=list(dic_insee.keys())"
   ]
  },
  {
   "cell_type": "code",
   "execution_count": 4,
   "metadata": {
    "collapsed": true
   },
   "outputs": [],
   "source": [
    "%reload_ext autoreload\n",
    "%autoreload 2\n",
    "import sys\n",
    "sys.path.append('/datastore/complexnet/jlevyabi/network_representation/python_scripts/')\n",
    "import helpers_ses_prediction as hsp\n",
    "\n",
    "dic_insee_avg[\"income_class\"]=hsp.ses_classify(dic_insee_avg.income)\n",
    "dic_insee_avg[\"owner_ratio_class\"]=hsp.ses_classify(dic_insee_avg.owner_ratio)\n",
    "dic_insee_avg['ses_class'] = list(zip(dic_insee_avg.income_class, dic_insee_avg.owner_ratio_class))\n",
    "dic_insee_avg.usr=[str(usr) for usr in dic_insee_avg.usr]"
   ]
  },
  {
   "cell_type": "code",
   "execution_count": 6,
   "metadata": {
    "scrolled": true
   },
   "outputs": [
    {
     "data": {
      "text/html": [
       "<div>\n",
       "<style scoped>\n",
       "    .dataframe tbody tr th:only-of-type {\n",
       "        vertical-align: middle;\n",
       "    }\n",
       "\n",
       "    .dataframe tbody tr th {\n",
       "        vertical-align: top;\n",
       "    }\n",
       "\n",
       "    .dataframe thead th {\n",
       "        text-align: right;\n",
       "    }\n",
       "</style>\n",
       "<table border=\"1\" class=\"dataframe\">\n",
       "  <thead>\n",
       "    <tr style=\"text-align: right;\">\n",
       "      <th></th>\n",
       "      <th>income</th>\n",
       "      <th>owner_ratio</th>\n",
       "      <th>usr</th>\n",
       "      <th>income_class</th>\n",
       "      <th>owner_ratio_class</th>\n",
       "      <th>ses_class</th>\n",
       "    </tr>\n",
       "  </thead>\n",
       "  <tbody>\n",
       "    <tr>\n",
       "      <th>28034</th>\n",
       "      <td>19711.682</td>\n",
       "      <td>0.363636</td>\n",
       "      <td>92534651</td>\n",
       "      <td>1</td>\n",
       "      <td>2</td>\n",
       "      <td>(1, 2)</td>\n",
       "    </tr>\n",
       "  </tbody>\n",
       "</table>\n",
       "</div>"
      ],
      "text/plain": [
       "          income  owner_ratio       usr  income_class  owner_ratio_class  \\\n",
       "28034  19711.682     0.363636  92534651             1                  2   \n",
       "\n",
       "      ses_class  \n",
       "28034    (1, 2)  "
      ]
     },
     "execution_count": 6,
     "metadata": {},
     "output_type": "execute_result"
    }
   ],
   "source": [
    "dic_insee_avg.tail(1) "
   ]
  },
  {
   "cell_type": "code",
   "execution_count": 12,
   "metadata": {},
   "outputs": [
    {
     "name": "stdout",
     "output_type": "stream",
     "text": [
      "Network Loaded ...\n"
     ]
    }
   ],
   "source": [
    "und_file=\"/datastore/complexnet/jlevyabi/network_representation/data_files/network_files/mutual_mention_network.txt\"\n",
    "fh=open(und_file, 'rb')\n",
    "G=nx.read_weighted_edgelist(fh,delimiter=',',nodetype=str)\n",
    "fh.close()\n",
    "print(\"Network Loaded ...\")\n",
    "geo_usrs=[int(x) for x in list(G.nodes()) if len(x)!=0]"
   ]
  },
  {
   "cell_type": "code",
   "execution_count": 14,
   "metadata": {
    "collapsed": true
   },
   "outputs": [],
   "source": [
    "nodes_with_labels=list(set([(x) for x in dic_insee_avg.usr\n",
    "                           ]).intersection(set(G.nodes())))\n",
    "labels=np.array([int(dic_insee_avg[dic_insee_avg.usr==node].income_class) for node in nodes_with_labels])\n",
    "node2label={node:label for node,label in zip(nodes_with_labels,labels) }\n",
    "order_nodes={node:it for it,node in enumerate(G.nodes()) if len(node)>0}"
   ]
  },
  {
   "cell_type": "code",
   "execution_count": 68,
   "metadata": {},
   "outputs": [
    {
     "name": "stderr",
     "output_type": "stream",
     "text": [
      "100%|██████████| 27130/27130 [00:01<00:00, 14436.27it/s]\n",
      "11929231it [03:33, 55890.68it/s]\n"
     ]
    }
   ],
   "source": [
    "int2label={order_nodes[node]:int(label) \n",
    "           for node,label in tqdm(node2label.items())}\n",
    "G_clear=nx.Graph()\n",
    "for u,v in tqdm(G.edges_iter()):\n",
    "    if len(u)==0 or len(v)==0:\n",
    "        continue\n",
    "    G_clear.add_edge(order_nodes[u],order_nodes[v],\n",
    "                     weight=G[u][v][\"weight\"])"
   ]
  },
  {
   "cell_type": "code",
   "execution_count": 70,
   "metadata": {
    "collapsed": true
   },
   "outputs": [],
   "source": [
    "## set up training and test set\n",
    "n=len(G_clear.nodes()) # number of node in the network\n",
    "m=len(G_clear.edges()) # number of edges in the network\n",
    "c=3 # number of discrete class labels\n",
    "\n",
    "l=int(0.8*len(nodes_with_labels)) # number of nodes in training set\n",
    "u=n-l # number of nodes in the test set\n",
    "L=sample([order_nodes[x] for x in nodes_with_labels],l) \n",
    "U=np.setdiff1d(G_clear.nodes(),L)\n",
    "\n",
    "# n x c matrix indicating known class label information\n",
    "# Y_ik = 1 if we know that node i belongs to class k and \n",
    "#        0 if we know it does not.  Otherwise we set to 1/c (indicates uncertainty)\n",
    "Y=np.ones((n,c))/c\n",
    "Y[L,:]=0\n",
    "Y[L,[int2label[node] for node in L]]=1"
   ]
  },
  {
   "cell_type": "code",
   "execution_count": 75,
   "metadata": {
    "collapsed": true
   },
   "outputs": [],
   "source": [
    "# construct normalised laplacian L\n",
    "A=nx.adjacency_matrix(G_clear)\n",
    "#A=A+A.T\n",
    "degree=np.array(A.sum(1)).flatten()\n",
    "D=sparse.diags(np.power(degree+1e-200,-.5),0,format='csc')\n",
    "Lnorm=D.dot(A).dot(D)"
   ]
  },
  {
   "cell_type": "code",
   "execution_count": 77,
   "metadata": {
    "collapsed": true
   },
   "outputs": [],
   "source": [
    "# perform 2-step label propagation\n",
    "steps = 2\n",
    "alpha = 0.1 # damping factor (typically this is a good setting)\n",
    "F=Y.copy() # initialise predictions F\n",
    "diff=1 \n",
    "it=0\n",
    "F_old=-1\n",
    "while (diff>1e-6 and it<200): \n",
    "    for si in range(steps):\n",
    "        F=Lnorm.T.dot(F)\n",
    "    F =  (1-alpha)*Y + alpha*F\n",
    "\n",
    "    diff = np.sum(np.abs(F-F_old))\n",
    "    it+=1\n",
    "    F_old=F.copy()"
   ]
  },
  {
   "cell_type": "code",
   "execution_count": 108,
   "metadata": {},
   "outputs": [
    {
     "name": "stdout",
     "output_type": "stream",
     "text": [
      "accuracy 9082\n"
     ]
    }
   ],
   "source": [
    "# test accuracy\n",
    "predicted_labels = np.argmax(F,1)\n",
    "comp=np.array([(x==y) for x,y in zip(predicted_labels,labels)])\n",
    "accuracy = np.sum(comp)\n",
    "print ('accuracy', accuracy)"
   ]
  },
  {
   "cell_type": "code",
   "execution_count": 109,
   "metadata": {},
   "outputs": [
    {
     "data": {
      "text/plain": [
       "21704"
      ]
     },
     "execution_count": 109,
     "metadata": {},
     "output_type": "execute_result"
    }
   ],
   "source": [
    "len(L)"
   ]
  },
  {
   "cell_type": "code",
   "execution_count": null,
   "metadata": {},
   "outputs": [],
   "source": []
  },
  {
   "cell_type": "code",
   "execution_count": null,
   "metadata": {
    "collapsed": true
   },
   "outputs": [],
   "source": []
  }
 ],
 "metadata": {
  "kernelspec": {
   "display_name": "Python 3",
   "language": "python",
   "name": "python3"
  },
  "language_info": {
   "codemirror_mode": {
    "name": "ipython",
    "version": 3
   },
   "file_extension": ".py",
   "mimetype": "text/x-python",
   "name": "python",
   "nbconvert_exporter": "python",
   "pygments_lexer": "ipython3",
   "version": "3.6.2"
  }
 },
 "nbformat": 4,
 "nbformat_minor": 2
}
