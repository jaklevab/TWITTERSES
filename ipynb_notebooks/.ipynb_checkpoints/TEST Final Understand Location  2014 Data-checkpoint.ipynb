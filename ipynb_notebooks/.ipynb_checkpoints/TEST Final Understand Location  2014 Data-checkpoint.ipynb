{
 "cells": [
  {
   "cell_type": "markdown",
   "metadata": {},
   "source": [
    "# Imports"
   ]
  },
  {
   "cell_type": "code",
   "execution_count": 1,
   "metadata": {},
   "outputs": [
    {
     "name": "stdout",
     "output_type": "stream",
     "text": [
      "Reminder: Not running filters based on users.db\n"
     ]
    },
    {
     "name": "stderr",
     "output_type": "stream",
     "text": [
      "/home/jlevyabi/anaconda3/lib/python3.6/site-packages/sklearn/ensemble/weight_boosting.py:29: DeprecationWarning: numpy.core.umath_tests is an internal NumPy module and should not be imported. It will be removed in a future NumPy release.\n",
      "  from numpy.core.umath_tests import inner1d\n"
     ]
    }
   ],
   "source": [
    "import pandas as pd\n",
    "import numpy as np\n",
    "import sys\n",
    "sys.path.append('/warehouse/COMPLEXNET/jlevyabi/TWITTERSES/ml_soc_econ/data_files/UKSOC_rep/')\n",
    "from helpers_locs_to_home import time_2_date\n",
    "from collections import Counter\n",
    "\n",
    "from tqdm import tqdm_notebook as tqdmn\n",
    "import matplotlib.pyplot as plt\n",
    "import matplotlib\n",
    "import matplotlib.ticker as tkr\n",
    "from shapely.geometry import Point\n",
    "from shapely.geometry.polygon import Polygon\n",
    "from sklearn.model_selection import train_test_split\n",
    "from sklearn.preprocessing import StandardScaler\n",
    "from sklearn.datasets import make_moons, make_circles, make_classification\n",
    "from sklearn.neural_network import MLPClassifier\n",
    "from sklearn.neighbors import KNeighborsClassifier\n",
    "from sklearn.svm import SVC\n",
    "from sklearn.gaussian_process import GaussianProcessClassifier\n",
    "from sklearn.gaussian_process.kernels import RBF\n",
    "from sklearn.tree import DecisionTreeClassifier\n",
    "from sklearn.ensemble import RandomForestClassifier, AdaBoostClassifier\n",
    "from sklearn.naive_bayes import GaussianNB\n",
    "from sklearn.discriminant_analysis import QuadraticDiscriminantAnalysis\n",
    "from sklearn.metrics import classification_report\n",
    "\n",
    "import pickle\n",
    "import re;pat = re.compile(r'''(-*\\d+\\.\\d+ -*\\d+\\.\\d+);*''');new_geo=[]\n",
    "import warnings\n",
    "import seaborn as sns\n",
    "\n",
    "import geopandas as gpd\n",
    "from geopandas import GeoDataFrame\n",
    "from geopandas import sjoin"
   ]
  },
  {
   "cell_type": "code",
   "execution_count": null,
   "metadata": {},
   "outputs": [],
   "source": []
  },
  {
   "cell_type": "markdown",
   "metadata": {},
   "source": [
    "# Data Importation"
   ]
  },
  {
   "cell_type": "markdown",
   "metadata": {},
   "source": [
    "## Geolocations: 2014-06--->2015-06"
   ]
  },
  {
   "cell_type": "code",
   "execution_count": null,
   "metadata": {},
   "outputs": [],
   "source": []
  },
  {
   "cell_type": "code",
   "execution_count": 3,
   "metadata": {},
   "outputs": [],
   "source": [
    "#####################                RAW DATA             #########################\n",
    "\n",
    "##### Profiles\n",
    "data_prof_14=pd.read_csv(\n",
    "    \"/warehouse/COMPLEXNET/jlevyabi/TWITTERSES/ml_soc_econ/icdm18/issues/icdm_geousers_profile_14.txt\",\n",
    "    sep=\"\\t\",header=-1,\n",
    "    names=[\"id\",\"time\",\"lat\",\"lon\",\"geo_pt\",\"service\",\"profile\",\"follows\",\"friends\",\n",
    "                                     \"nb urls\",\"loc_name\",\"geo_type\"],\n",
    "    index_col=False)\n",
    "\n",
    "fechas,days,hours,minutes,seconds,years,months=time_2_date(data_prof_14.time)\n",
    "data_prof_14['day']=days;data_prof_14['hour']=hours\n",
    "data_prof_14['min']=minutes;data_prof_14['sec']=seconds\n",
    "data_prof_14['year']=years;data_prof_14['month']=months\n",
    "data_prof_14['fecha']=fechas\n",
    "\n",
    "##### Users in France\n",
    "france=Polygon([[-4.9658203125,42.3585439175],[8.4375,42.3585439175],\n",
    "                [8.4375,51.2344073516],[-4.9658203125,51.2344073516],\n",
    "                [-4.9658203125,42.3585439175]])\n",
    "locs_prof=[Point((float(lon),float(lat))) \n",
    "           for lon,lat in zip(data_prof_14.lon,data_prof_14.lat)]\n",
    "\n",
    "dgeo_prof_france_14=data_prof_14[[france.contains(geo_pt) for geo_pt in locs_prof]]\n",
    "print(\"Number of geolocated tweets during 2014-2015... %d geolocations\"%\n",
    "      dgeo_prof_france_14.shape[0])\n",
    "print(\"Number of geolocated tweets during 2014-2015 in France... %d geolocations\"%\n",
    "      dgeo_prof_france_14.shape[0])\n",
    "\n",
    "dgeo_prof_france_14[\"geometry\"]=[Point(x.lon,x.lat) for it,x in tqdmn(dgeo_prof_france_14[[\"lon\",\"lat\"]].iterrows())]\n",
    "dgeo_prof_france_14=GeoDataFrame(dgeo_prof_france_14)\n",
    "dgeo_prof_france_14.crs = {'init': 'epsg:4326'}\n",
    "\n",
    "##### Text of geolocated users\n",
    "usr_tweet_text=pd.read_csv(\n",
    "    \"/warehouse/COMPLEXNET/jlevyabi/TWITTERSES/ml_soc_econ/data_files/UKSOC_rep/tweets/all_geolocated_users.csv\",\n",
    "    sep=';',header=0,\n",
    ")\n",
    "\n",
    "##### Fake Locations\n",
    "nb_rep_thresh=10\n",
    "dec_prec=5\n",
    "pre_fake_locs=pd.read_csv(\"/warehouse/COMPLEXNET/jlevyabi/TWITTERSES/geoloc/txt_files/fake_locs.txt\",names=[\"pre\"])\n",
    "fake_locs=[]\n",
    "for x in pre_fake_locs.pre:\n",
    "    try:\n",
    "        lat,lon=float(x.split(\"-\")[0]),float(x.split(\"-\")[-1])\n",
    "    except:\n",
    "        continue\n",
    "    if len(x)==3:fake_locs.append(str((lat,-lon)))\n",
    "    else: fake_locs.append(str((lat,lon)))\n",
    "\n",
    "fake_locs=list(set(fake_locs))\n",
    "pre_fake=Counter([(round(x[0],dec_prec),round(x[1],dec_prec))\n",
    "                  for x in  dgeo_prof_france_14[[\"lat\",\"lon\"]].values])\n",
    "set_toher_fakes=set([x for x in pre_fake if pre_fake[x]>nb_rep_thresh])"
   ]
  },
  {
   "cell_type": "code",
   "execution_count": 4,
   "metadata": {},
   "outputs": [
    {
     "data": {
      "text/html": [
       "<div>\n",
       "<style scoped>\n",
       "    .dataframe tbody tr th:only-of-type {\n",
       "        vertical-align: middle;\n",
       "    }\n",
       "\n",
       "    .dataframe tbody tr th {\n",
       "        vertical-align: top;\n",
       "    }\n",
       "\n",
       "    .dataframe thead th {\n",
       "        text-align: right;\n",
       "    }\n",
       "</style>\n",
       "<table border=\"1\" class=\"dataframe\">\n",
       "  <thead>\n",
       "    <tr style=\"text-align: right;\">\n",
       "      <th></th>\n",
       "      <th>id</th>\n",
       "      <th>time</th>\n",
       "      <th>lat</th>\n",
       "      <th>lon</th>\n",
       "      <th>geo_pt</th>\n",
       "      <th>service</th>\n",
       "      <th>profile</th>\n",
       "      <th>follows</th>\n",
       "      <th>friends</th>\n",
       "      <th>nb urls</th>\n",
       "      <th>loc_name</th>\n",
       "      <th>geo_type</th>\n",
       "      <th>day</th>\n",
       "      <th>hour</th>\n",
       "      <th>min</th>\n",
       "      <th>sec</th>\n",
       "      <th>year</th>\n",
       "      <th>month</th>\n",
       "      <th>fecha</th>\n",
       "      <th>geometry</th>\n",
       "    </tr>\n",
       "  </thead>\n",
       "  <tbody>\n",
       "    <tr>\n",
       "      <th>0</th>\n",
       "      <td>720624511</td>\n",
       "      <td>2014-06-19T15:44:20</td>\n",
       "      <td>47.990762</td>\n",
       "      <td>0.232689</td>\n",
       "      <td>Le Mans</td>\n",
       "      <td>Twitter for Android</td>\n",
       "      <td>#TeamBeinSport  #TeamSB #TeamFIFA tu n'peux qu...</td>\n",
       "      <td>198</td>\n",
       "      <td>44</td>\n",
       "      <td>Colombie va gagné. Italie va gagné et Uruguay ...</td>\n",
       "      <td>0</td>\n",
       "      <td>NaN</td>\n",
       "      <td>3</td>\n",
       "      <td>15</td>\n",
       "      <td>44</td>\n",
       "      <td>2</td>\n",
       "      <td>2014</td>\n",
       "      <td>06</td>\n",
       "      <td>19</td>\n",
       "      <td>POINT (0.232689 47.990762)</td>\n",
       "    </tr>\n",
       "  </tbody>\n",
       "</table>\n",
       "</div>"
      ],
      "text/plain": [
       "          id                 time        lat       lon   geo_pt  \\\n",
       "0  720624511  2014-06-19T15:44:20  47.990762  0.232689  Le Mans   \n",
       "\n",
       "               service                                            profile  \\\n",
       "0  Twitter for Android  #TeamBeinSport  #TeamSB #TeamFIFA tu n'peux qu...   \n",
       "\n",
       "   follows  friends                                            nb urls  \\\n",
       "0      198       44  Colombie va gagné. Italie va gagné et Uruguay ...   \n",
       "\n",
       "   loc_name  geo_type  day  hour  min  sec  year month fecha  \\\n",
       "0         0       NaN    3    15   44    2  2014    06    19   \n",
       "\n",
       "                     geometry  \n",
       "0  POINT (0.232689 47.990762)  "
      ]
     },
     "execution_count": 4,
     "metadata": {},
     "output_type": "execute_result"
    }
   ],
   "source": [
    "dgeo_prof_france_14.head(1)"
   ]
  },
  {
   "cell_type": "markdown",
   "metadata": {},
   "source": [
    "## INSEE 200m x 200m data"
   ]
  },
  {
   "cell_type": "code",
   "execution_count": 5,
   "metadata": {},
   "outputs": [
    {
     "data": {
      "application/vnd.jupyter.widget-view+json": {
       "model_id": "1b51357f49984bef91c625c3532227de",
       "version_major": 2,
       "version_minor": 0
      },
      "text/html": [
       "<p>Failed to display Jupyter Widget of type <code>HBox</code>.</p>\n",
       "<p>\n",
       "  If you're reading this message in the Jupyter Notebook or JupyterLab Notebook, it may mean\n",
       "  that the widgets JavaScript is still loading. If this message persists, it\n",
       "  likely means that the widgets JavaScript library is either not installed or\n",
       "  not enabled. See the <a href=\"https://ipywidgets.readthedocs.io/en/stable/user_install.html\">Jupyter\n",
       "  Widgets Documentation</a> for setup instructions.\n",
       "</p>\n",
       "<p>\n",
       "  If you're reading this message in another frontend (for example, a static\n",
       "  rendering on GitHub or <a href=\"https://nbviewer.jupyter.org/\">NBViewer</a>),\n",
       "  it may mean that your frontend doesn't currently support widgets.\n",
       "</p>\n"
      ],
      "text/plain": [
       "HBox(children=(IntProgress(value=0, max=2278213), HTML(value='')))"
      ]
     },
     "metadata": {},
     "output_type": "display_data"
    },
    {
     "name": "stdout",
     "output_type": "stream",
     "text": [
      "\n"
     ]
    }
   ],
   "source": [
    "pat = re.compile(r'''(-*\\d+\\.\\d+ -*\\d+\\.\\d+);*''')\n",
    "new_geo=[]\n",
    "df_insee=pd.read_csv('/warehouse/COMPLEXNET/jlevyabi/TWITTERSES/geoloc/final_exact.csv',sep=\";\")\n",
    "#Cast data into shapely format\n",
    "for geo in tqdmn(df_insee.geometry):\n",
    "    matches = pat.findall(geo)\n",
    "    if matches:\n",
    "        lst = Polygon([tuple(map(float, m.split())) for m in matches])\n",
    "    else:\n",
    "        lst=None\n",
    "    new_geo.append(lst)\n",
    "\n",
    "presentable_insee_df=df_insee\n",
    "presentable_insee_df=presentable_insee_df.convert_objects(convert_numeric=True)\n",
    "presentable_insee_df['geometry']=new_geo\n",
    "geo_insee = GeoDataFrame(presentable_insee_df)\n",
    "geo_insee.crs={'init': 'epsg:4326'}"
   ]
  },
  {
   "cell_type": "code",
   "execution_count": 6,
   "metadata": {},
   "outputs": [
    {
     "name": "stdout",
     "output_type": "stream",
     "text": [
      "arro done\n"
     ]
    }
   ],
   "source": [
    "import xlrd,json\n",
    "def extract_xls_file(path,sheet_name,offset):\n",
    "    workbook = xlrd.open_workbook(path)\n",
    "    worksheet = workbook.sheet_by_name(sheet_name)\n",
    "    rows = []\n",
    "    for i, row in (enumerate(range(worksheet.nrows))):\n",
    "        if i <= offset:  # (Optionally) skip headers\n",
    "            continue\n",
    "        r = []\n",
    "        for j, col in enumerate(range(worksheet.ncols)):\n",
    "            r.append(worksheet.cell_value(i, j))\n",
    "        rows.append(r)\n",
    "    return(pd.DataFrame(rows[1:],columns=rows[0]))\n",
    "\n",
    "f0=\"/warehouse/COMPLEXNET/jlevyabi/TWITTERSES/geoloc/iris_opendata/RFDM2010IRI.xls\"\n",
    "d_exc=extract_xls_file(f0,\"Distribution_Ménages\",5)\n",
    "f1=\"/warehouse/COMPLEXNET/jlevyabi/TWITTERSES/geoloc/iris_opendata/BASE_TD_FILO_DISP_IRIS_2013.xls\"\n",
    "d_filo_disp_iris=extract_xls_file(f1,\"IRIS_DISP\",4)\n",
    "f2=\"/warehouse/COMPLEXNET/jlevyabi/TWITTERSES/geoloc/iris_opendata/BASE_TD_FILO_DEC_IRIS_2013.xls\"\n",
    "d_filo_dec_iris=extract_xls_file(f2,\"IRIS_DEC\",4)\n",
    "\n",
    "import geopandas as gpd\n",
    "geo_file=\"/warehouse/COMPLEXNET/jlevyabi/TWITTERSES/geoloc/iris_opendata/shapefile_iris/contours-iris-2016.geojson\"\n",
    "with open(geo_file) as f:\n",
    "    arro_data=json.load(f)\n",
    "\n",
    "print(\"arro done\")\n",
    "df = gpd.read_file(geo_file)\n",
    "codes=[];names=[]\n",
    "france=Polygon([[-4.9658203125,42.3585439175],[8.4375,42.3585439175],\n",
    "                [8.4375,51.2344073516],[-4.9658203125,51.2344073516],[-4.9658203125,42.3585439175]])\n",
    "\n",
    "d_iris=df[[france.contains(geo_pt) if geo_pt else False for geo_pt in (df.geometry)]]\n",
    "d_iris['IRIS']=d_iris.code_iris\n",
    "dec_income_iris=pd.merge(d_iris, d_filo_dec_iris, on='IRIS')"
   ]
  },
  {
   "cell_type": "markdown",
   "metadata": {},
   "source": [
    "# Data Synthesis: Locations + SES"
   ]
  },
  {
   "cell_type": "markdown",
   "metadata": {},
   "source": [
    "## Geolocations merge with Income (INSEE/IRIS)"
   ]
  },
  {
   "cell_type": "markdown",
   "metadata": {},
   "source": [
    "Please compile first cython helper functions defined [here](#Cython_GEO)"
   ]
  },
  {
   "cell_type": "markdown",
   "metadata": {},
   "source": [
    "### Merge INSEE income to locations"
   ]
  },
  {
   "cell_type": "code",
   "execution_count": 12,
   "metadata": {},
   "outputs": [
    {
     "data": {
      "application/vnd.jupyter.widget-view+json": {
       "model_id": "90b905af9b7145b8a28b77bbfb75ed38",
       "version_major": 2,
       "version_minor": 0
      },
      "text/html": [
       "<p>Failed to display Jupyter Widget of type <code>HBox</code>.</p>\n",
       "<p>\n",
       "  If you're reading this message in the Jupyter Notebook or JupyterLab Notebook, it may mean\n",
       "  that the widgets JavaScript is still loading. If this message persists, it\n",
       "  likely means that the widgets JavaScript library is either not installed or\n",
       "  not enabled. See the <a href=\"https://ipywidgets.readthedocs.io/en/stable/user_install.html\">Jupyter\n",
       "  Widgets Documentation</a> for setup instructions.\n",
       "</p>\n",
       "<p>\n",
       "  If you're reading this message in another frontend (for example, a static\n",
       "  rendering on GitHub or <a href=\"https://nbviewer.jupyter.org/\">NBViewer</a>),\n",
       "  it may mean that your frontend doesn't currently support widgets.\n",
       "</p>\n"
      ],
      "text/plain": [
       "HBox(children=(IntProgress(value=0, max=2278213), HTML(value='')))"
      ]
     },
     "metadata": {},
     "output_type": "display_data"
    },
    {
     "name": "stdout",
     "output_type": "stream",
     "text": [
      "\n"
     ]
    }
   ],
   "source": [
    "lat,lon=[],[]\n",
    "for poly in tqdmn(geo_insee.geometry ):\n",
    "    for coor_pair in poly.exterior.coords[:]:\n",
    "        lat.append(coor_pair[1])\n",
    "        lon.append(coor_pair[0])\n",
    "min_lat,max_lat=np.min(lat),np.max(lat)\n",
    "min_lon,max_lon=np.min(lon),np.max(lon)\n",
    "del lon;del lat\n",
    "\n",
    "prec=2\n",
    "map_prec = lambda x: str(round(x,prec))\n",
    "step=10**(-prec)\n",
    "lat_grid = np.arange(start=min_lat, stop=max_lat+step,step= step)\n",
    "lon_grid = np.arange(start=min_lon,stop=max_lon+step,step=step)\n",
    "\n",
    "geo_insee_dic_KEYS=[]\n",
    "for my_lat in (lat_grid):\n",
    "    for my_lon in lon_grid:\n",
    "        lat2str,lon2str=map_prec(my_lat),map_prec(my_lon)\n",
    "        geo_insee_dic_KEYS.append((lat2str,lon2str))\n",
    "\n",
    "geo_insee_dic={key:[] for key in geo_insee_dic_KEYS}\n",
    "for it,poly in (geo_insee.iterrows()):\n",
    "    center_x,center_y=poly.geometry.centroid.bounds[:2]\n",
    "    cx,cy=map_prec(center_x),map_prec(center_y)\n",
    "    if cx==\"-0.0\":\n",
    "        cx=\"0.0\"\n",
    "    geo_insee_dic[(cy,cx)].append(poly)\n",
    "\n",
    "# Divide original GeoDF into small geodfs for each patch of territory\n",
    "for k,v in (geo_insee_dic.items()):\n",
    "    df_coord=GeoDataFrame(v);df_coord.crs={'init': 'epsg:4326'}\n",
    "    geo_insee_dic[k]=df_coord"
   ]
  },
  {
   "cell_type": "code",
   "execution_count": 13,
   "metadata": {},
   "outputs": [
    {
     "data": {
      "application/vnd.jupyter.widget-view+json": {
       "model_id": "378b366b356744d9ba5ae1d83d6aa6c9",
       "version_major": 2,
       "version_minor": 0
      },
      "text/html": [
       "<p>Failed to display Jupyter Widget of type <code>HBox</code>.</p>\n",
       "<p>\n",
       "  If you're reading this message in the Jupyter Notebook or JupyterLab Notebook, it may mean\n",
       "  that the widgets JavaScript is still loading. If this message persists, it\n",
       "  likely means that the widgets JavaScript library is either not installed or\n",
       "  not enabled. See the <a href=\"https://ipywidgets.readthedocs.io/en/stable/user_install.html\">Jupyter\n",
       "  Widgets Documentation</a> for setup instructions.\n",
       "</p>\n",
       "<p>\n",
       "  If you're reading this message in another frontend (for example, a static\n",
       "  rendering on GitHub or <a href=\"https://nbviewer.jupyter.org/\">NBViewer</a>),\n",
       "  it may mean that your frontend doesn't currently support widgets.\n",
       "</p>\n"
      ],
      "text/plain": [
       "HBox(children=(IntProgress(value=1, bar_style='info', max=1), HTML(value='')))"
      ]
     },
     "metadata": {},
     "output_type": "display_data"
    },
    {
     "name": "stdout",
     "output_type": "stream",
     "text": [
      "\n"
     ]
    }
   ],
   "source": [
    "loc2insee=my_pt2poly(dgeo_prof_france_14,geo_insee_dic,set(geo_insee_dic_KEYS))"
   ]
  },
  {
   "cell_type": "code",
   "execution_count": 14,
   "metadata": {
    "scrolled": true
   },
   "outputs": [
    {
     "data": {
      "application/vnd.jupyter.widget-view+json": {
       "model_id": "2a0b2a9ab9c743d5bea3190e92e08cee",
       "version_major": 2,
       "version_minor": 0
      },
      "text/html": [
       "<p>Failed to display Jupyter Widget of type <code>HBox</code>.</p>\n",
       "<p>\n",
       "  If you're reading this message in the Jupyter Notebook or JupyterLab Notebook, it may mean\n",
       "  that the widgets JavaScript is still loading. If this message persists, it\n",
       "  likely means that the widgets JavaScript library is either not installed or\n",
       "  not enabled. See the <a href=\"https://ipywidgets.readthedocs.io/en/stable/user_install.html\">Jupyter\n",
       "  Widgets Documentation</a> for setup instructions.\n",
       "</p>\n",
       "<p>\n",
       "  If you're reading this message in another frontend (for example, a static\n",
       "  rendering on GitHub or <a href=\"https://nbviewer.jupyter.org/\">NBViewer</a>),\n",
       "  it may mean that your frontend doesn't currently support widgets.\n",
       "</p>\n"
      ],
      "text/plain": [
       "HBox(children=(IntProgress(value=0, max=3218331), HTML(value='')))"
      ]
     },
     "metadata": {},
     "output_type": "display_data"
    },
    {
     "name": "stdout",
     "output_type": "stream",
     "text": [
      "\n"
     ]
    }
   ],
   "source": [
    "nb_vars=geo_insee.shape[1]\n",
    "all_together=[]\n",
    "for index in tqdmn(loc2insee):\n",
    "    if not(index is None):\n",
    "        insee_value=geo_insee.iloc[index]\n",
    "        all_together.append(insee_value.values.tolist())\n",
    "    else:\n",
    "        \n",
    "        all_together.append([None for i in range(nb_vars)])\n",
    "\n",
    "insee=pd.DataFrame(all_together)\n",
    "insee.columns=geo_insee.columns"
   ]
  },
  {
   "cell_type": "code",
   "execution_count": 15,
   "metadata": {},
   "outputs": [
    {
     "name": "stdout",
     "output_type": "stream",
     "text": [
      "Shape of insee_loc_text:  (3218331, 52)\n"
     ]
    },
    {
     "data": {
      "text/html": [
       "<div>\n",
       "<style scoped>\n",
       "    .dataframe tbody tr th:only-of-type {\n",
       "        vertical-align: middle;\n",
       "    }\n",
       "\n",
       "    .dataframe tbody tr th {\n",
       "        vertical-align: top;\n",
       "    }\n",
       "\n",
       "    .dataframe thead th {\n",
       "        text-align: right;\n",
       "    }\n",
       "</style>\n",
       "<table border=\"1\" class=\"dataframe\">\n",
       "  <thead>\n",
       "    <tr style=\"text-align: right;\">\n",
       "      <th></th>\n",
       "      <th>id</th>\n",
       "      <th>time</th>\n",
       "      <th>lat</th>\n",
       "      <th>lon</th>\n",
       "      <th>geo_pt</th>\n",
       "      <th>service</th>\n",
       "      <th>profile</th>\n",
       "      <th>follows</th>\n",
       "      <th>friends</th>\n",
       "      <th>nb urls</th>\n",
       "      <th>...</th>\n",
       "      <th>ind_age7</th>\n",
       "      <th>i_age7</th>\n",
       "      <th>ind_age8</th>\n",
       "      <th>i_age8</th>\n",
       "      <th>ind_srf</th>\n",
       "      <th>nbcar_y</th>\n",
       "      <th>geometry_poly</th>\n",
       "      <th>income</th>\n",
       "      <th>owner_ratio</th>\n",
       "      <th>density</th>\n",
       "    </tr>\n",
       "  </thead>\n",
       "  <tbody>\n",
       "    <tr>\n",
       "      <th>2583505</th>\n",
       "      <td>2238434091</td>\n",
       "      <td>2015-04-19T16:40:52+00:00</td>\n",
       "      <td>48.863704</td>\n",
       "      <td>2.386501</td>\n",
       "      <td>Paris</td>\n",
       "      <td>Twitter for Android</td>\n",
       "      <td>Mieux Vos Être Seul Que Mal Accompagner ✨Djerb...</td>\n",
       "      <td>1264</td>\n",
       "      <td>461</td>\n",
       "      <td>Chuii tros kao sa mère</td>\n",
       "      <td>...</td>\n",
       "      <td>67.0</td>\n",
       "      <td>0.0</td>\n",
       "      <td>19.0</td>\n",
       "      <td>0.0</td>\n",
       "      <td>17213711.0</td>\n",
       "      <td>1.0</td>\n",
       "      <td>POLYGON ((2.384406625617114 48.86346232699007,...</td>\n",
       "      <td>16316.313744</td>\n",
       "      <td>0.087204</td>\n",
       "      <td>26375.0</td>\n",
       "    </tr>\n",
       "  </tbody>\n",
       "</table>\n",
       "<p>1 rows × 52 columns</p>\n",
       "</div>"
      ],
      "text/plain": [
       "                 id                       time        lat       lon geo_pt  \\\n",
       "2583505  2238434091  2015-04-19T16:40:52+00:00  48.863704  2.386501  Paris   \n",
       "\n",
       "                     service  \\\n",
       "2583505  Twitter for Android   \n",
       "\n",
       "                                                   profile  follows  friends  \\\n",
       "2583505  Mieux Vos Être Seul Que Mal Accompagner ✨Djerb...     1264      461   \n",
       "\n",
       "                        nb urls   ...     ind_age7  i_age7  ind_age8  i_age8  \\\n",
       "2583505  Chuii tros kao sa mère   ...         67.0     0.0      19.0     0.0   \n",
       "\n",
       "            ind_srf  nbcar_y  \\\n",
       "2583505  17213711.0      1.0   \n",
       "\n",
       "                                             geometry_poly        income  \\\n",
       "2583505  POLYGON ((2.384406625617114 48.86346232699007,...  16316.313744   \n",
       "\n",
       "        owner_ratio  density  \n",
       "2583505    0.087204  26375.0  \n",
       "\n",
       "[1 rows x 52 columns]"
      ]
     },
     "execution_count": 15,
     "metadata": {},
     "output_type": "execute_result"
    }
   ],
   "source": [
    "usrs_with_INSEE_income=pd.concat([dgeo_prof_france_14.reset_index(drop=True),\n",
    "                          insee.reset_index(drop=True)],\n",
    "                   ignore_index=True,axis=1)\n",
    "insee_cols=list(insee.columns)\n",
    "insee_cols[2]=\"insee_id\"\n",
    "insee_cols[-2]=\"geometry_poly\"\n",
    "usrs_with_INSEE_income.columns=list(dgeo_prof_france_14.columns)+insee_cols\n",
    "usrs_with_INSEE_income[\"income\"]=usrs_with_INSEE_income[\"ind_srf\"]/usrs_with_INSEE_income[\"ind_r\"]\n",
    "usrs_with_INSEE_income[\"owner_ratio\"]=usrs_with_INSEE_income[\"men_prop\"]/usrs_with_INSEE_income[\"ind_r\"]\n",
    "usrs_with_INSEE_income[\"density\"]=usrs_with_INSEE_income[\"ind_r\"]/(0.04*usrs_with_INSEE_income[\"nbcar_x\"])\n",
    "usrs_with_INSEE_income.drop([\"Unnamed: 0\",\"nbcar_x\"],axis=1,inplace=True);\n",
    "print(\"Shape of insee_loc_text: \", usrs_with_INSEE_income.shape)\n",
    "usrs_with_INSEE_income.sample(1)"
   ]
  },
  {
   "cell_type": "markdown",
   "metadata": {},
   "source": [
    "### Merge IRIS income to locations"
   ]
  },
  {
   "cell_type": "code",
   "execution_count": 16,
   "metadata": {},
   "outputs": [],
   "source": [
    "from geopandas import sjoin\n",
    "usrs_with_iris_income = sjoin(dgeo_prof_france_14, dec_income_iris,how=\"inner\", op='within')"
   ]
  },
  {
   "cell_type": "code",
   "execution_count": 17,
   "metadata": {},
   "outputs": [
    {
     "data": {
      "text/plain": [
       "id                                                  720624511\n",
       "time                                      2014-06-19T15:44:20\n",
       "lat                                                   47.9908\n",
       "lon                                                  0.232689\n",
       "geo_pt                                                Le Mans\n",
       "service                                   Twitter for Android\n",
       "profile     #TeamBeinSport  #TeamSB #TeamFIFA tu n'peux qu...\n",
       "follows                                                   198\n",
       "friends                                                    44\n",
       "nb urls     Colombie va gagné. Italie va gagné et Uruguay ...\n",
       "loc_name                                                    0\n",
       "geo_type                                                  NaN\n",
       "day                                                         3\n",
       "hour                                                       15\n",
       "min                                                        44\n",
       "sec                                                         2\n",
       "year                                                     2014\n",
       "month                                                      06\n",
       "fecha                                                      19\n",
       "geometry                           POINT (0.232689 47.990762)\n",
       "Name: 0, dtype: object"
      ]
     },
     "execution_count": 17,
     "metadata": {},
     "output_type": "execute_result"
    }
   ],
   "source": [
    "usrs_with_iris_income.iloc[0][['id', 'time', 'lat', 'lon', 'geo_pt', 'service', 'profile', 'follows',\n",
    "       'friends', 'nb urls', 'loc_name', 'geo_type', 'day', 'hour', 'min',\n",
    "       'sec', 'year', 'month', 'fecha', 'geometry', ]]"
   ]
  },
  {
   "cell_type": "code",
   "execution_count": 18,
   "metadata": {},
   "outputs": [
    {
     "data": {
      "text/plain": [
       "Index(['id', 'time', 'lat', 'lon', 'geo_pt', 'service', 'profile', 'follows',\n",
       "       'friends', 'nb urls', 'loc_name', 'geo_type', 'day', 'hour', 'min',\n",
       "       'sec', 'year', 'month', 'fecha', 'geometry', 'index_right', 'iris',\n",
       "       'nom_iris', 'typ_iris', 'nom_region', 'insee_com', 'p12_pop', 'nom_com',\n",
       "       'code_dept', 'nom_dept', 'code_iris', 'IRIS', 'LIBIRIS', 'COM',\n",
       "       'LIBCOM', 'DEC_PIMP13', 'DEC_TP6013', 'DEC_Q113', 'DEC_MED13',\n",
       "       'DEC_Q313', 'DEC_EQ13', 'DEC_D113', 'DEC_D213', 'DEC_D313', 'DEC_D413',\n",
       "       'DEC_D613', 'DEC_D713', 'DEC_D813', 'DEC_D913', 'DEC_RD13',\n",
       "       'DEC_S80S2013', 'DEC_GI13', 'DEC_PTSA13', 'DEC_PCHO13', 'DEC_PBEN13',\n",
       "       'DEC_PPEN13', 'DEC_PAUT13'],\n",
       "      dtype='object')"
      ]
     },
     "execution_count": 18,
     "metadata": {},
     "output_type": "execute_result"
    }
   ],
   "source": [
    "usrs_with_iris_income.iloc[0].keys()"
   ]
  },
  {
   "cell_type": "markdown",
   "metadata": {},
   "source": [
    "## Final Merge: INSEE + IRIS + GeoTweets"
   ]
  },
  {
   "cell_type": "code",
   "execution_count": 19,
   "metadata": {},
   "outputs": [
    {
     "data": {
      "application/vnd.jupyter.widget-view+json": {
       "model_id": "f526b6a416ea4d02912399df9f84e401",
       "version_major": 2,
       "version_minor": 0
      },
      "text/html": [
       "<p>Failed to display Jupyter Widget of type <code>HBox</code>.</p>\n",
       "<p>\n",
       "  If you're reading this message in the Jupyter Notebook or JupyterLab Notebook, it may mean\n",
       "  that the widgets JavaScript is still loading. If this message persists, it\n",
       "  likely means that the widgets JavaScript library is either not installed or\n",
       "  not enabled. See the <a href=\"https://ipywidgets.readthedocs.io/en/stable/user_install.html\">Jupyter\n",
       "  Widgets Documentation</a> for setup instructions.\n",
       "</p>\n",
       "<p>\n",
       "  If you're reading this message in another frontend (for example, a static\n",
       "  rendering on GitHub or <a href=\"https://nbviewer.jupyter.org/\">NBViewer</a>),\n",
       "  it may mean that your frontend doesn't currently support widgets.\n",
       "</p>\n"
      ],
      "text/plain": [
       "HBox(children=(IntProgress(value=1, bar_style='info', max=1), HTML(value='')))"
      ]
     },
     "metadata": {},
     "output_type": "display_data"
    },
    {
     "name": "stdout",
     "output_type": "stream",
     "text": [
      "\n"
     ]
    },
    {
     "data": {
      "application/vnd.jupyter.widget-view+json": {
       "model_id": "23e6873344904090b099719527de6d5e",
       "version_major": 2,
       "version_minor": 0
      },
      "text/html": [
       "<p>Failed to display Jupyter Widget of type <code>HBox</code>.</p>\n",
       "<p>\n",
       "  If you're reading this message in the Jupyter Notebook or JupyterLab Notebook, it may mean\n",
       "  that the widgets JavaScript is still loading. If this message persists, it\n",
       "  likely means that the widgets JavaScript library is either not installed or\n",
       "  not enabled. See the <a href=\"https://ipywidgets.readthedocs.io/en/stable/user_install.html\">Jupyter\n",
       "  Widgets Documentation</a> for setup instructions.\n",
       "</p>\n",
       "<p>\n",
       "  If you're reading this message in another frontend (for example, a static\n",
       "  rendering on GitHub or <a href=\"https://nbviewer.jupyter.org/\">NBViewer</a>),\n",
       "  it may mean that your frontend doesn't currently support widgets.\n",
       "</p>\n"
      ],
      "text/plain": [
       "HBox(children=(IntProgress(value=0, max=127614), HTML(value='')))"
      ]
     },
     "metadata": {},
     "output_type": "display_data"
    },
    {
     "name": "stdout",
     "output_type": "stream",
     "text": [
      "\n"
     ]
    }
   ],
   "source": [
    "from tqdm import tqdm\n",
    "\n",
    "usrs_with_SES_info=pd.merge(usrs_with_INSEE_income,usrs_with_iris_income,\n",
    "                            on=['id', 'time', 'lat', 'lon', 'geo_pt',\n",
    "                                'service', 'profile', 'follows','friends',\n",
    "                                'nb urls', 'loc_name', 'geo_type', 'day', \n",
    "                                'hour', 'min','sec', 'year', 'month', 'fecha' ], how=\"left\")\n",
    "\n",
    "usrs_with_SES_info_dic={}\n",
    "for it,row in tqdmn(usrs_with_SES_info.iterrows()):\n",
    "    usrs_with_SES_info_dic.setdefault(row.id,[])\n",
    "    usrs_with_SES_info_dic[row.id].append(usrs_with_SES_info.iloc[it])\n",
    "\n",
    "for usr,val in tqdmn(usrs_with_SES_info_dic.items()):\n",
    "    usrs_with_SES_info_dic[usr]=pd.DataFrame(val,columns=list(usrs_with_SES_info.columns))\n",
    "    \n",
    "import pickle\n",
    "#pickle.dump(usrs_with_SES_info_dic,open(\"/warehouse/COMPLEXNET/jlevyabi/ml_soc_econ/usrs_with_SES_info_dic.p\",\"wb\"))"
   ]
  },
  {
   "cell_type": "markdown",
   "metadata": {},
   "source": [
    "# Traditional Way: Geolocations + Filters +(INSEE/IRIS)"
   ]
  },
  {
   "cell_type": "code",
   "execution_count": 8,
   "metadata": {},
   "outputs": [],
   "source": [
    "import pickle\n",
    "usrs_with_SES_info_dic=pickle.load(open(\"/warehouse/COMPLEXNET/jlevyabi/TWITTERSES/ml_soc_econ/usrs_with_SES_info_dic.p\",\n",
    "                                        \"rb\"))"
   ]
  },
  {
   "cell_type": "markdown",
   "metadata": {},
   "source": [
    "## Fake Locations"
   ]
  },
  {
   "cell_type": "code",
   "execution_count": 8,
   "metadata": {},
   "outputs": [],
   "source": [
    "###################################################################################\n",
    "#####################                SYNTHETIC DATA             ###################\n",
    "###################################################################################\n",
    "\n",
    "dec_prec=5\n",
    "nb_rep_thresh=10\n",
    "pre_fake_locs=pd.read_csv(\"/warehouse/COMPLEXNET/jlevyabi/TWITTERSES/geoloc/txt_files/fake_locs.txt\",\n",
    "                          names=[\"pre\"])\n",
    "fake_locs=[]\n",
    "for x in pre_fake_locs.pre:\n",
    "    try:\n",
    "        lat,lon=round(float(x.split(\"-\")[0]),dec_prec),round(float(x.split(\"-\")[-1]),dec_prec)\n",
    "    except:\n",
    "        continue\n",
    "    if len(x)==3:\n",
    "        fake_locs.append(str((round(lat,dec_prec),-round(lon,dec_prec))))\n",
    "    else:\n",
    "        fake_locs.append(str((round(lat,dec_prec),round(lon,dec_prec))))\n",
    "\n",
    "set_toher_fakes=list(set(fake_locs))"
   ]
  },
  {
   "cell_type": "markdown",
   "metadata": {},
   "source": [
    "## Location Filters"
   ]
  },
  {
   "cell_type": "code",
   "execution_count": 22,
   "metadata": {},
   "outputs": [],
   "source": [
    "from helpers_locs_to_home import *"
   ]
  },
  {
   "cell_type": "code",
   "execution_count": 20,
   "metadata": {},
   "outputs": [
    {
     "name": "stdout",
     "output_type": "stream",
     "text": [
      "Automatic pdb calling has been turned OFF\n"
     ]
    },
    {
     "data": {
      "application/vnd.jupyter.widget-view+json": {
       "model_id": "d035db6a55b247cf95fad91788128c83",
       "version_major": 2,
       "version_minor": 0
      },
      "text/html": [
       "<p>Failed to display Jupyter Widget of type <code>HBox</code>.</p>\n",
       "<p>\n",
       "  If you're reading this message in the Jupyter Notebook or JupyterLab Notebook, it may mean\n",
       "  that the widgets JavaScript is still loading. If this message persists, it\n",
       "  likely means that the widgets JavaScript library is either not installed or\n",
       "  not enabled. See the <a href=\"https://ipywidgets.readthedocs.io/en/stable/user_install.html\">Jupyter\n",
       "  Widgets Documentation</a> for setup instructions.\n",
       "</p>\n",
       "<p>\n",
       "  If you're reading this message in another frontend (for example, a static\n",
       "  rendering on GitHub or <a href=\"https://nbviewer.jupyter.org/\">NBViewer</a>),\n",
       "  it may mean that your frontend doesn't currently support widgets.\n",
       "</p>\n"
      ],
      "text/plain": [
       "HBox(children=(IntProgress(value=0, max=127614), HTML(value='')))"
      ]
     },
     "metadata": {},
     "output_type": "display_data"
    },
    {
     "name": "stdout",
     "output_type": "stream",
     "text": [
      "\n"
     ]
    }
   ],
   "source": [
    "%pdb off\n",
    "inter={}\n",
    "for k,v in tqdmn(usrs_with_SES_info_dic.items()):\n",
    "    v=v.rename(index=str, columns={\"min\": \"minu\",\"nb urls\":\"text\"})\n",
    "    inter[k]=v\n",
    "\n",
    "usrs_with_SES_info_dic=inter\n",
    "del inter"
   ]
  },
  {
   "cell_type": "code",
   "execution_count": 33,
   "metadata": {
    "scrolled": false
   },
   "outputs": [
    {
     "data": {
      "text/plain": [
       "9384.0"
      ]
     },
     "execution_count": 33,
     "metadata": {},
     "output_type": "execute_result"
    }
   ],
   "source": [
    "pd.set_option('display.max_rows', 500)\n",
    "list(usrs_with_SES_info_dic.values())[0]."
   ]
  },
  {
   "cell_type": "code",
   "execution_count": 38,
   "metadata": {},
   "outputs": [
    {
     "data": {
      "application/vnd.jupyter.widget-view+json": {
       "model_id": "f928562fce514143a7ef2962533d935f",
       "version_major": 2,
       "version_minor": 0
      },
      "text/html": [
       "<p>Failed to display Jupyter Widget of type <code>HBox</code>.</p>\n",
       "<p>\n",
       "  If you're reading this message in the Jupyter Notebook or JupyterLab Notebook, it may mean\n",
       "  that the widgets JavaScript is still loading. If this message persists, it\n",
       "  likely means that the widgets JavaScript library is either not installed or\n",
       "  not enabled. See the <a href=\"https://ipywidgets.readthedocs.io/en/stable/user_install.html\">Jupyter\n",
       "  Widgets Documentation</a> for setup instructions.\n",
       "</p>\n",
       "<p>\n",
       "  If you're reading this message in another frontend (for example, a static\n",
       "  rendering on GitHub or <a href=\"https://nbviewer.jupyter.org/\">NBViewer</a>),\n",
       "  it may mean that your frontend doesn't currently support widgets.\n",
       "</p>\n"
      ],
      "text/plain": [
       "HBox(children=(IntProgress(value=0, max=127614), HTML(value='')))"
      ]
     },
     "metadata": {},
     "output_type": "display_data"
    },
    {
     "data": {
      "text/plain": [
       "41658"
      ]
     },
     "execution_count": 38,
     "metadata": {},
     "output_type": "execute_result"
    }
   ],
   "source": [
    "np.sum([np.sum([np.isnan(x) for x in val.DEC_MED13.values])==val.shape[0]\n",
    "        for val in tqdmn(usrs_with_SES_info_dic.values())])"
   ]
  },
  {
   "cell_type": "code",
   "execution_count": null,
   "metadata": {},
   "outputs": [],
   "source": [
    "np.isnan() "
   ]
  },
  {
   "cell_type": "code",
   "execution_count": 39,
   "metadata": {},
   "outputs": [
    {
     "data": {
      "text/plain": [
       "85956"
      ]
     },
     "execution_count": 39,
     "metadata": {},
     "output_type": "execute_result"
    }
   ],
   "source": [
    "len(usrs_with_SES_info_dic)-41658"
   ]
  },
  {
   "cell_type": "code",
   "execution_count": 23,
   "metadata": {},
   "outputs": [
    {
     "data": {
      "application/vnd.jupyter.widget-view+json": {
       "model_id": "02a82ecefb3547d6a3f7137753baad5c",
       "version_major": 2,
       "version_minor": 0
      },
      "text/html": [
       "<p>Failed to display Jupyter Widget of type <code>HBox</code>.</p>\n",
       "<p>\n",
       "  If you're reading this message in the Jupyter Notebook or JupyterLab Notebook, it may mean\n",
       "  that the widgets JavaScript is still loading. If this message persists, it\n",
       "  likely means that the widgets JavaScript library is either not installed or\n",
       "  not enabled. See the <a href=\"https://ipywidgets.readthedocs.io/en/stable/user_install.html\">Jupyter\n",
       "  Widgets Documentation</a> for setup instructions.\n",
       "</p>\n",
       "<p>\n",
       "  If you're reading this message in another frontend (for example, a static\n",
       "  rendering on GitHub or <a href=\"https://nbviewer.jupyter.org/\">NBViewer</a>),\n",
       "  it may mean that your frontend doesn't currently support widgets.\n",
       "</p>\n"
      ],
      "text/plain": [
       "HBox(children=(IntProgress(value=0, max=127614), HTML(value='')))"
      ]
     },
     "metadata": {},
     "output_type": "display_data"
    },
    {
     "ename": "KeyboardInterrupt",
     "evalue": "",
     "output_type": "error",
     "traceback": [
      "\u001b[0;31m---------------------------------------------------------------------------\u001b[0m",
      "\u001b[0;31mKeyboardInterrupt\u001b[0m                         Traceback (most recent call last)",
      "\u001b[0;32m<ipython-input-23-84bf6b30cd88>\u001b[0m in \u001b[0;36m<module>\u001b[0;34m()\u001b[0m\n\u001b[1;32m     10\u001b[0m     \u001b[0mmax_km_per_h\u001b[0m\u001b[0;34m=\u001b[0m\u001b[0mmax_km_per_h\u001b[0m\u001b[0;34m,\u001b[0m\u001b[0;34m\u001b[0m\u001b[0m\n\u001b[1;32m     11\u001b[0m     \u001b[0mnb_mini_locs\u001b[0m\u001b[0;34m=\u001b[0m\u001b[0mnb_mini_locs\u001b[0m\u001b[0;34m,\u001b[0m\u001b[0;34m\u001b[0m\u001b[0m\n\u001b[0;32m---> 12\u001b[0;31m     nb_min_crazy=nb_min_crazy)\n\u001b[0m\u001b[1;32m     13\u001b[0m \u001b[0;34m\u001b[0m\u001b[0m\n\u001b[1;32m     14\u001b[0m \u001b[0;31m#new_dic_real,activ_static_usrs=remove_active_static_usrs(dic_real=dic_locs_reals,pandas_version=0)\u001b[0m\u001b[0;34m\u001b[0m\u001b[0;34m\u001b[0m\u001b[0m\n",
      "\u001b[0;32m/warehouse/COMPLEXNET/jlevyabi/TWITTERSES/ml_soc_econ/data_files/UKSOC_rep/helpers_locs_to_home.py\u001b[0m in \u001b[0;36mfast_get_repr_location\u001b[0;34m(dic_locs, max_km_var, max_km_per_h, nb_mini_locs, nb_min_crazy)\u001b[0m\n\u001b[1;32m    137\u001b[0m \u001b[0;34m\"\"\" Removes unreal users and returns user with most frequent location\"\"\"\u001b[0m\u001b[0;34m\u001b[0m\u001b[0m\n\u001b[1;32m    138\u001b[0m \u001b[0;32mdef\u001b[0m \u001b[0mfast_get_repr_location\u001b[0m\u001b[0;34m(\u001b[0m\u001b[0mdic_locs\u001b[0m\u001b[0;34m,\u001b[0m\u001b[0mmax_km_var\u001b[0m\u001b[0;34m=\u001b[0m\u001b[0;36m10\u001b[0m\u001b[0;34m,\u001b[0m\u001b[0mmax_km_per_h\u001b[0m\u001b[0;34m=\u001b[0m\u001b[0;36m900\u001b[0m\u001b[0;34m,\u001b[0m\u001b[0mnb_mini_locs\u001b[0m\u001b[0;34m=\u001b[0m\u001b[0;36m3\u001b[0m\u001b[0;34m,\u001b[0m\u001b[0mnb_min_crazy\u001b[0m\u001b[0;34m=\u001b[0m\u001b[0;36m20\u001b[0m\u001b[0;34m)\u001b[0m\u001b[0;34m:\u001b[0m\u001b[0;34m\u001b[0m\u001b[0m\n\u001b[0;32m--> 139\u001b[0;31m     \u001b[0md_real\u001b[0m\u001b[0;34m,\u001b[0m\u001b[0md_fast\u001b[0m\u001b[0;34m,\u001b[0m\u001b[0md_vars\u001b[0m\u001b[0;34m,\u001b[0m\u001b[0mdic_mar\u001b[0m\u001b[0;34m,\u001b[0m\u001b[0mdic_dist\u001b[0m\u001b[0;34m,\u001b[0m\u001b[0mdic_speed\u001b[0m\u001b[0;34m=\u001b[0m\u001b[0mfilter_crazy_users\u001b[0m\u001b[0;34m(\u001b[0m\u001b[0mdic_locs\u001b[0m\u001b[0;34m,\u001b[0m\u001b[0mmax_km_var\u001b[0m\u001b[0;34m,\u001b[0m\u001b[0mmax_km_per_h\u001b[0m\u001b[0;34m,\u001b[0m\u001b[0mnb_mini_locs\u001b[0m\u001b[0;34m,\u001b[0m\u001b[0mnb_min_crazy\u001b[0m\u001b[0;34m)\u001b[0m\u001b[0;34m\u001b[0m\u001b[0m\n\u001b[0m\u001b[1;32m    140\u001b[0m     \u001b[0mres\u001b[0m\u001b[0;34m=\u001b[0m\u001b[0;34m[\u001b[0m\u001b[0;34m]\u001b[0m\u001b[0;34m\u001b[0m\u001b[0m\n\u001b[1;32m    141\u001b[0m     \u001b[0;32mfor\u001b[0m \u001b[0musr\u001b[0m\u001b[0;34m,\u001b[0m\u001b[0mvisits\u001b[0m \u001b[0;32min\u001b[0m \u001b[0mtqdm\u001b[0m\u001b[0;34m(\u001b[0m\u001b[0md_real\u001b[0m\u001b[0;34m.\u001b[0m\u001b[0mitems\u001b[0m\u001b[0;34m(\u001b[0m\u001b[0;34m)\u001b[0m\u001b[0;34m)\u001b[0m\u001b[0;34m:\u001b[0m\u001b[0;34m\u001b[0m\u001b[0m\n",
      "\u001b[0;32m/warehouse/COMPLEXNET/jlevyabi/TWITTERSES/ml_soc_econ/data_files/UKSOC_rep/helpers_locs_to_home.py\u001b[0m in \u001b[0;36mfilter_crazy_users\u001b[0;34m(dic, max_km_var, max_km_per_h, nb_mini_locs, nb_min_crazy)\u001b[0m\n\u001b[1;32m    109\u001b[0m                                                          for x in visits_info[[\"lat\",\"lon\"]].values.tolist()]))==1:\n\u001b[1;32m    110\u001b[0m                 \u001b[0mdic_mar\u001b[0m\u001b[0;34m[\u001b[0m\u001b[0musr\u001b[0m\u001b[0;34m]\u001b[0m\u001b[0;34m=\u001b[0m\u001b[0mvisits\u001b[0m\u001b[0;34m\u001b[0m\u001b[0m\n\u001b[0;32m--> 111\u001b[0;31m             \u001b[0mticket\u001b[0m\u001b[0;34m,\u001b[0m\u001b[0mcode\u001b[0m\u001b[0;34m,\u001b[0m\u001b[0mdists\u001b[0m\u001b[0;34m,\u001b[0m\u001b[0mspeed\u001b[0m\u001b[0;34m=\u001b[0m\u001b[0mis_real\u001b[0m\u001b[0;34m(\u001b[0m\u001b[0mvisits_info\u001b[0m\u001b[0;34m,\u001b[0m\u001b[0mmax_km_var\u001b[0m\u001b[0;34m,\u001b[0m\u001b[0mmax_km_per_h\u001b[0m\u001b[0;34m,\u001b[0m\u001b[0mnb_mini_locs\u001b[0m\u001b[0;34m)\u001b[0m\u001b[0;34m\u001b[0m\u001b[0m\n\u001b[0m\u001b[1;32m    112\u001b[0m             \u001b[0;32mif\u001b[0m \u001b[0mticket\u001b[0m\u001b[0;34m==\u001b[0m\u001b[0;32mNone\u001b[0m\u001b[0;34m:\u001b[0m\u001b[0;34m\u001b[0m\u001b[0m\n\u001b[1;32m    113\u001b[0m                 \u001b[0;32mcontinue\u001b[0m\u001b[0;34m\u001b[0m\u001b[0m\n",
      "\u001b[0;31mKeyboardInterrupt\u001b[0m: "
     ]
    }
   ],
   "source": [
    "max_km_var=10\n",
    "max_km_per_h=120\n",
    "nb_mini_locs=5\n",
    "nb_min_crazy=20\n",
    "thresh_rate=3\n",
    "\n",
    "dic_locs_reals,d_locs_fast,d_locs_vars,dic_mar,dic_dist,dic_speed,pre_home=fast_get_repr_location(\n",
    "    dic_locs=usrs_with_SES_info_dic,\n",
    "    max_km_var=max_km_var,\n",
    "    max_km_per_h=max_km_per_h,\n",
    "    nb_mini_locs=nb_mini_locs,\n",
    "    nb_min_crazy=nb_min_crazy)\n",
    "\n",
    "#new_dic_real,activ_static_usrs=remove_active_static_usrs(dic_real=dic_locs_reals,pandas_version=0)\n",
    "new_dic_real,hyper_active_usrs=remove_hyperactive_usrs(dic_locs_reals,pandas_version=0,thresh_rate=thresh_rate)\n",
    "new_dic_real,hyper_social_usrs_home=remove_hyper_social_usrs(dic_real=new_dic_real)\n",
    "\n",
    "dic_pd={k:pd.DataFrame(v,columns=[\"lat\",\"lon\",\"day\",\"hour\",\"minu\",\"sec\",\"year\",\"month\",\"fecha\"])\n",
    "        for k,v in tqdmn(new_dic_real.items())}\n",
    "\n",
    "print(\"Number of users before filtering... %d\"%len(usrs_with_SES_info_dic.keys()))\n",
    "print(\"Users going too fast... %d\"%len(d_locs_fast))\n",
    "print(\"Users too variable ... %d\"%len(d_locs_vars))\n",
    "print(\"Weather bots ... %d\"%len(dic_mar))\n",
    "print(\"Real users with more than %d locations ...%d\"%(nb_mini_locs,len(dic_locs_reals)))\n",
    "print(\"Users posting 2 consecutive tweets in less than 2 secs  ... %d\"%len(hyper_active_usrs))\n",
    "print(\"Users with too many followers/friends ... %d\"%len(hyper_social_usrs_home))\n",
    "print(\"Final nb of users  %d\"%len(new_dic_real))"
   ]
  },
  {
   "cell_type": "code",
   "execution_count": 84,
   "metadata": {},
   "outputs": [],
   "source": [
    "import pickle\n",
    "#pickle.dump(new_dic_real,open(\"/warehouse/COMPLEXNET/jlevyabi/TWITTERSES/ml_soc_econ/icdm18/issues/new_dic_real.p\",\"wb\"))"
   ]
  },
  {
   "cell_type": "code",
   "execution_count": null,
   "metadata": {},
   "outputs": [],
   "source": [
    "## from IPython.display import clear_output\n",
    "home_most_freq_all=go_through_home_candidates(new_dic_real,take_most_frequent_thresh)\n",
    "home_most_freq_night=go_through_home_candidates(new_dic_real,take_most_frequent_night_thresh)\n",
    "clear_output()\n",
    "\n",
    "\n",
    "dic_all_users_insee={usr:{\"profile\":(new_dic_real[usr].profile),\n",
    "                    \"locations\":new_dic_real[usr][[\"lat\",\"lon\",\"text\",\n",
    "                                                   \"day\", \"hour\",\"minu\",\"sec\",\n",
    "                                                   \"year\",\"month\",\"fecha\",\n",
    "                                                   \"geo_pt\",\"service\"]],\n",
    "                    \"inferred_loc\":home_most_freq_all[usr][[\"lat\",\"lon\"]],\n",
    "                    \"suppl_info\":home_most_freq_all[usr]} \n",
    "               for usr in tqdmn(home_most_freq_all.keys()) }\n",
    "\n",
    "\n",
    "\n",
    "dic_all_users_inf_no_fake_insee={k:v for k,v in  dic_all_users_insee.items()\n",
    "                           if not(str((round(v[\"inferred_loc\"][\"lat\"],dec_prec),\n",
    "                                      round(v[\"inferred_loc\"][\"lon\"],dec_prec)))\n",
    "                                  in set_toher_fakes) }\n",
    "\n"
   ]
  },
  {
   "cell_type": "code",
   "execution_count": 101,
   "metadata": {},
   "outputs": [
    {
     "name": "stdout",
     "output_type": "stream",
     "text": [
      "Number of geolocated users ... 32053\n",
      "Number of users not geolocated to fake locations... 24849\n"
     ]
    }
   ],
   "source": [
    "print(\"Number of geolocated users ... %d\"%len(dic_all_users_insee))\n",
    "print(\"Number of users not geolocated to fake locations... %d\"%len(dic_all_users_inf_no_fake_insee))\n",
    "poly_iris_dic={row.code_iris:row.geometry for it,row in dec_income_iris.iterrows()}"
   ]
  },
  {
   "cell_type": "code",
   "execution_count": 80,
   "metadata": {},
   "outputs": [],
   "source": [
    "import pickle\n",
    "pickle.dump(dic_all_users_insee,open(\"/warehouse/COMPLEXNET/jlevyabi/TWITTERSES/ml_soc_econ/icdm18/issues/dic_all_users_insee.p\",\"wb\"))"
   ]
  },
  {
   "cell_type": "code",
   "execution_count": 89,
   "metadata": {},
   "outputs": [],
   "source": [
    "import pickle\n",
    "dic_all_users_insee=pickle.load(open(\"/warehouse/COMPLEXNET/jlevyabi/TWITTERSES/ml_soc_econ/icdm18/issues/dic_all_users_insee.p\",\"rb\"))"
   ]
  },
  {
   "cell_type": "code",
   "execution_count": 90,
   "metadata": {},
   "outputs": [],
   "source": [
    "i=0\n",
    "for k,v in dic_all_users_insee.items():\n",
    "    i+=v[\"locations\"].shape[0]"
   ]
  },
  {
   "cell_type": "code",
   "execution_count": 103,
   "metadata": {},
   "outputs": [],
   "source": [
    "import pickle\n",
    "pickle.dump(dic_all_users_inf_no_fake_insee,open(\"/warehouse/COMPLEXNET/jlevyabi/TWITTERSES/ml_soc_econ/icdm18/issues/dic_all_users_inf_no_fake_insee.p\",\"wb\"))\n"
   ]
  },
  {
   "cell_type": "markdown",
   "metadata": {},
   "source": [
    "# Visualization"
   ]
  },
  {
   "cell_type": "code",
   "execution_count": null,
   "metadata": {},
   "outputs": [],
   "source": [
    "%pdb off\n",
    "\n",
    "### from bs4 import BeautifulSoup as bs\n",
    "import folium\n",
    "import random as rd\n",
    "from PIL import Image\n",
    "import urllib.request\n",
    "#import wget\n",
    "datadir=\"/warehouse/COMPLEXNET/jlevyabi/TWITTERSES/ml_soc_econ/data_files/images_suspected_locs/\"\n",
    "def get_map(x,y,z,size, filename) :\n",
    "    static_map = \"http://staticmap.openstreetmap.de/staticmap.php?center={0},{1}&zoom={2}&size={3}x{3}&maptype=mapnik\".format(y,x,z,size)\n",
    "    static_map_filename, headers = urllib.request.urlretrieve(static_map, filename)\n",
    "    return static_map_filename\n",
    "\n",
    "def geomap(df,inf_loc,sup_info,income_name,zoom=10, point_size=10, point_color='r', point_alpha=1):\n",
    "    #corrections to match geo with static map\n",
    "    has_used_bad=False\n",
    "    y = np.mean(df['lat'])\n",
    "    x = np.mean(df['lon'] )\n",
    "    map_osm = folium.Map(location=[y,x])\n",
    "    coors=[\"red\",\"blue\",\"yellow\"] \n",
    "    #INSEE\n",
    "    coords_insee=[(y,x) for x,y in sup_info.geometry_poly.exterior.coords]\n",
    "    folium.PolyLine(coords_insee,\n",
    "                                color=\"blue\",\n",
    "                                popup=\"%d € \"%int(sup_info.income)).add_to(map_osm)\n",
    "    \n",
    "    #IRIS:code_iris\n",
    "    if not((type(sup_info.code_iris) is np.float64) or (type(sup_info.code_iris) is float)):\n",
    "        print(\"IRIS\")\n",
    "        coords_iris=[(y,x) for x,y in poly_iris_dic[sup_info.code_iris].exterior.coords]\n",
    "        folium.PolyLine(coords_iris,\n",
    "                                    color=\"red\",\n",
    "                                    popup=\"%d->%d->%d € \"%(int(sup_info.DEC_D113),\n",
    "                                                          int(sup_info.DEC_MED13),\n",
    "                                                          int(sup_info.DEC_D913))).add_to(map_osm)\n",
    "    \n",
    "    folium.CircleMarker([inf_loc.lat,inf_loc.lon],\n",
    "                        radius=100,fill=True,color=\"black\").add_to(map_osm)\n",
    "    text_to_append=[(\"\"\"\n",
    "                    %s/%s/%s - %sh <br>\n",
    "                    %.4f,%.4f<br>\n",
    "                    {0}\n",
    "                    \"\"\"%(x,y,z,t,lat,lon)).format(text)\n",
    "                    for x,y,z,t,lat,lon,text in zip(df.fecha,df.month,\n",
    "                                                    df.year,df.hour,df.lat,df.lon,\n",
    "                                                    df[\"nb urls\"])]#df.text\n",
    "    for lng, lat, desc in zip(df.lon.values,df.lat.values, text_to_append):\n",
    "        popup=folium.Popup(desc,parse_html=True)\n",
    "        if not (((round(lat,5),round(lng,5))) in set_toher_fakes):\n",
    "            folium.CircleMarker([lat, lng], radius=10,fill=True,\n",
    "                                color='#3186cc',fill_color='#3186cc',\n",
    "                                 popup=popup,parse_html=True).add_to(map_osm)\n",
    "        else:\n",
    "            folium.CircleMarker([lat, lng], radius=10,fill=True, \n",
    "                                color='#d66426',fill_color='#d66426',\n",
    "                                 popup=popup,parse_html=True).add_to(map_osm)\n",
    "            has_used_bad=True\n",
    "    return map_osm,has_used_bad\n",
    "\n",
    "dic_used=dic_all_users_inf_no_fake_insee\n",
    "#rich=[it for it,v in enumerate(dic_used.keys()) if not (v in dic_all_users_all_no_fake_insee )]\n",
    "idx=rd.sample(range(len(dic_used)),1)[0]\n",
    "df_merged=list(dic_used.values())[idx][\"locations\"]\n",
    "inferred=list(dic_used.values())[idx][\"inferred_loc\"]\n",
    "si=(list(dic_used.values())[idx][\"suppl_info\"])\n",
    "x,y=geomap(df_merged,inferred,si,\"income\")\n",
    "print(idx,list(dic_used.keys())[idx],y)\n",
    "#plt.show()"
   ]
  },
  {
   "cell_type": "code",
   "execution_count": null,
   "metadata": {},
   "outputs": [],
   "source": []
  },
  {
   "cell_type": "markdown",
   "metadata": {},
   "source": [
    "# Generate Textual Features"
   ]
  },
  {
   "cell_type": "markdown",
   "metadata": {},
   "source": [
    "## Download data from geolocated users "
   ]
  },
  {
   "cell_type": "markdown",
   "metadata": {},
   "source": [
    "Data downloaded from users with geolocations with __INSEE information__ (as also contains set of users with __IRIS dataset__)<br>\n",
    "\n",
    "__Geolocated users__ selected from: [/datastore/complexnet/jlevyabi/ml_soc_econ/data_files/UKSOC_rep/all_together_dic.p](http://url)<br>\n",
    "Tweets downloaded according to code in the __appendix__ (also can be found in my PC: [/Users/jacobolevyabitbol/Desktop/PhDMarton/projects/ses_inference_linguistic/python_scripts/get_tweets_from_geolocated_users.py](http://url))\n",
    "\n",
    "_Clean downloaded tweets, remove retweets and merge all individual tweet files_\n",
    "[/datastore/complexnet/jlevyabi/ml_soc_econ/data_files/UKSOC_rep/merge_geolocated_tweets.py](http://url)<br>\n",
    "\n",
    "__Final file__ here: [/datastore/complexnet/jlevyabi/ml_soc_econ/data_files/UKSOC_rep/tweets/all_geolocated_users.csv](http://url)"
   ]
  },
  {
   "cell_type": "markdown",
   "metadata": {},
   "source": [
    "## Profile n-grams"
   ]
  },
  {
   "cell_type": "code",
   "execution_count": 22,
   "metadata": {},
   "outputs": [],
   "source": [
    "from sklearn.feature_extraction.text import TfidfVectorizer"
   ]
  },
  {
   "cell_type": "code",
   "execution_count": 23,
   "metadata": {},
   "outputs": [],
   "source": [
    "import pickle\n",
    "import unidecode,re\n",
    "from sklearn.feature_extraction.text import CountVectorizer\n",
    "from nltk.corpus import stopwords\n",
    "\n",
    "#Bio text data\n",
    "f_accounts=\"/warehouse/COMPLEXNET/jlevyabi/TWITTERSES/ml_soc_econ/data_files/UKSOC_rep/all_together_profiles.p\"\n",
    "f_deleted=\"/warehouse/COMPLEXNET/jlevyabi/TWITTERSES/ml_soc_econ/data_files/UKSOC_rep/all_together_profiles_deleted_accounts.p\"\n",
    "dic_bio=pickle.load(open(f_accounts,\"rb\"))\n",
    "dic_bio_deleted=pickle.load(open(f_deleted,\"rb\"))\n",
    "\n",
    "#N-Gram vectorizer\n",
    "french_stopwords = list(set(stopwords.words('french')))\n",
    "eng_stopwords = list(set(stopwords.words('english')))\n",
    "n_grams_bio_vect=TfidfVectorizer(stop_words=french_stopwords+eng_stopwords,\n",
    "                                 max_features=450,ngram_range=(1,2),\n",
    "                                lowercase=True)\n",
    "\n",
    "#Clean profile info\n",
    "tweet_clean = lambda x:' '.join(re.sub(\"(@[A-Za-z0-9]+)|([^0-9A-Za-z \\t])|(\\w+:\\/\\/\\S+)\",\" \",\n",
    "                                       unidecode.unidecode(x.replace(\"_\",\"\"))).split())\n",
    "\n",
    "#Generate profile info dataframe\n",
    "cols_of_interest=[\"id\",\"followers_count\",\"friends_count\",\n",
    "                         \"listed_count\",\"favourites_count\",\"statuses_count\",\"description\"]\n",
    "profile_data=[[usr[0]._json[k] for k in cols_of_interest] for usr in dic_bio ]\n",
    "df_profile_data=pd.DataFrame(profile_data,columns=cols_of_interest)\n",
    "df_profile_data[\"description\"]=df_profile_data.description.apply(tweet_clean)\n",
    "n_grams_bio=n_grams_bio_vect.fit_transform(list(df_profile_data.description.values))\n"
   ]
  },
  {
   "cell_type": "markdown",
   "metadata": {},
   "source": [
    "## Tweets data"
   ]
  },
  {
   "cell_type": "code",
   "execution_count": 24,
   "metadata": {},
   "outputs": [],
   "source": [
    "usr_tweet_text=pd.read_csv(\n",
    "    \"/warehouse/COMPLEXNET/jlevyabi/TWITTERSES/ml_soc_econ/data_files/UKSOC_rep/tweets/all_geolocated_users.csv\",\n",
    "    sep=';',header=0,)\n",
    "usr_text=(usr_tweet_text.dropna(how=\"any\").drop([\"tweet_id\",\"tweet_date\"],axis=1).groupby(\n",
    "    'user_id',squeeze=True,)['tweet_text'].apply(lambda x: \"%s\" % ' '.join(x))).to_frame()\n",
    "usr_text.reset_index(inplace=True)"
   ]
  },
  {
   "cell_type": "markdown",
   "metadata": {},
   "source": [
    "### Tweets data : N-Grams"
   ]
  },
  {
   "cell_type": "code",
   "execution_count": 25,
   "metadata": {},
   "outputs": [],
   "source": [
    "n_grams_tweet_vect=CountVectorizer(stop_words=french_stopwords+eng_stopwords,\n",
    "                                 max_features=560,ngram_range=(1,1),\n",
    "                                lowercase=True)\n",
    "\n",
    "n_grams_tweet=n_grams_tweet_vect.fit_transform(list(usr_text.tweet_text.values))"
   ]
  },
  {
   "cell_type": "markdown",
   "metadata": {},
   "source": [
    "### Tweets data : Semantical Features"
   ]
  },
  {
   "cell_type": "markdown",
   "metadata": {},
   "source": [
    "Load [cluster distribution function](#cluster_info)"
   ]
  },
  {
   "cell_type": "code",
   "execution_count": 27,
   "metadata": {
    "scrolled": true
   },
   "outputs": [
    {
     "data": {
      "application/vnd.jupyter.widget-view+json": {
       "model_id": "2a1b0f2d1e084b8ba3339fe0ace0847a",
       "version_major": 2,
       "version_minor": 0
      },
      "text/html": [
       "<p>Failed to display Jupyter Widget of type <code>HBox</code>.</p>\n",
       "<p>\n",
       "  If you're reading this message in the Jupyter Notebook or JupyterLab Notebook, it may mean\n",
       "  that the widgets JavaScript is still loading. If this message persists, it\n",
       "  likely means that the widgets JavaScript library is either not installed or\n",
       "  not enabled. See the <a href=\"https://ipywidgets.readthedocs.io/en/stable/user_install.html\">Jupyter\n",
       "  Widgets Documentation</a> for setup instructions.\n",
       "</p>\n",
       "<p>\n",
       "  If you're reading this message in another frontend (for example, a static\n",
       "  rendering on GitHub or <a href=\"https://nbviewer.jupyter.org/\">NBViewer</a>),\n",
       "  it may mean that your frontend doesn't currently support widgets.\n",
       "</p>\n"
      ],
      "text/plain": [
       "HBox(children=(IntProgress(value=0, max=20830), HTML(value='')))"
      ]
     },
     "metadata": {},
     "output_type": "display_data"
    },
    {
     "name": "stdout",
     "output_type": "stream",
     "text": [
      "\n"
     ]
    },
    {
     "name": "stderr",
     "output_type": "stream",
     "text": [
      "Exception in thread Thread-10:\n",
      "Traceback (most recent call last):\n",
      "  File \"/home/jlevyabi/anaconda3/lib/python3.6/threading.py\", line 916, in _bootstrap_inner\n",
      "    self.run()\n",
      "  File \"/home/jlevyabi/anaconda3/lib/python3.6/site-packages/tqdm/_monitor.py\", line 63, in run\n",
      "    for instance in self.tqdm_cls._instances:\n",
      "  File \"/home/jlevyabi/anaconda3/lib/python3.6/_weakrefset.py\", line 60, in __iter__\n",
      "    for itemref in self.data:\n",
      "RuntimeError: Set changed size during iteration\n",
      "\n"
     ]
    },
    {
     "name": "stdout",
     "output_type": "stream",
     "text": [
      "\n"
     ]
    }
   ],
   "source": [
    "d100=pickle.load(open(\"/home/jlevyabi/seacabo/data_files/spec_corrected_clusters_only_pos_entries_100.p\",\"rb\"))\n",
    "usr_text=get_cluster_info(d100,usr_text);"
   ]
  },
  {
   "cell_type": "markdown",
   "metadata": {},
   "source": [
    "# Inference Algorithms"
   ]
  },
  {
   "cell_type": "markdown",
   "metadata": {},
   "source": [
    "## Merge profiles and tweets"
   ]
  },
  {
   "cell_type": "code",
   "execution_count": 28,
   "metadata": {},
   "outputs": [],
   "source": [
    "nbtweets=(usr_tweet_text.dropna(how=\"any\").drop([\"tweet_id\",\"tweet_date\"],axis=1).groupby(\n",
    "    'user_id',squeeze=True,)['tweet_text'].apply(lambda x: len(x))).to_frame().values\n",
    "\n",
    "usr_text[\"nb_tweets\"]=[y[0] for y in nbtweets]\n",
    "\n",
    "df_usr_profile_tweets=pd.merge(df_profile_data,usr_text,left_on=\"id\",right_on=\"user_id\")\n",
    "\n",
    "#Profile Information: Shallow features\n",
    "mat_shallow_bio=np.vstack([np.hstack(sample.as_matrix()).reshape((1,5))\n",
    "                            for it,sample in (df_usr_profile_tweets[[\"followers_count\",\"friends_count\",\n",
    "                                                                     \"listed_count\",\n",
    "                                                                     \"favourites_count\",\n",
    "                                                                     \"statuses_count\",]].iterrows())])\n",
    "#Profile Information: N-grams\n",
    "n_grams_bio_vect=TfidfVectorizer(stop_words=french_stopwords+eng_stopwords,\n",
    "                                 max_features=450,ngram_range=(1,2),\n",
    "                                lowercase=True)\n",
    "mat_n_grams_bio=n_grams_bio_vect.fit_transform(list(df_usr_profile_tweets.description.values)).todense()\n",
    "\n",
    "#Tweet Information: N-grams\n",
    "n_grams_tweet_vect=TfidfVectorizer(stop_words=french_stopwords+eng_stopwords,\n",
    "                                 max_features=560,ngram_range=(1,1),\n",
    "                                lowercase=True)\n",
    "mat_n_grams_tweet=n_grams_tweet_vect.fit_transform(list(df_usr_profile_tweets.tweet_text.values)).todense()\n",
    "\n",
    "#Tweet Information: Topics\n",
    "mat_topics_tweet=np.vstack([np.hstack(sample.as_matrix()).reshape((1,100))\n",
    "                            for it,sample in (df_usr_profile_tweets[[\"cfd_100\",]].iterrows())])\n",
    "\n",
    "# All non-SES info\n",
    "data_matrix=np.hstack([mat_n_grams_tweet,mat_n_grams_bio,mat_topics_tweet,mat_shallow_bio])"
   ]
  },
  {
   "cell_type": "code",
   "execution_count": 29,
   "metadata": {},
   "outputs": [],
   "source": [
    "df_usr_profile_tweets[\"fts\"]=[row for row in data_matrix.tolist()]"
   ]
  },
  {
   "cell_type": "markdown",
   "metadata": {},
   "source": [
    "## Merge SES and text"
   ]
  },
  {
   "cell_type": "code",
   "execution_count": 30,
   "metadata": {},
   "outputs": [],
   "source": [
    "usr2ses=pd.DataFrame([[k,v[\"suppl_info\"][\"income\"],v[\"suppl_info\"][\"DEC_D113\"],\n",
    "                       v[\"suppl_info\"][\"DEC_MED13\"],v[\"suppl_info\"][\"DEC_D913\"]]\n",
    "                      for k,v in dic_all_users_inf_no_fake_insee.items()],\n",
    "                      columns=[\"usr\",\"insee_income\",\"insee_iris_lowe\",\n",
    "                               \"insee_iris_med\",\"insee_iris_sup\"]).dropna(how=\"any\")\n",
    "min_tweets=50\n",
    "df_usr_profile_tweets=df_usr_profile_tweets[df_usr_profile_tweets.nb_tweets>min_tweets]\n",
    "ses_text_insee=pd.merge(df_usr_profile_tweets,usr2ses,left_on=\"id\",right_on=\"usr\")"
   ]
  },
  {
   "cell_type": "code",
   "execution_count": 31,
   "metadata": {},
   "outputs": [],
   "source": [
    "selected_users=~np.isnan(ses_text_insee.insee_iris_med)\n",
    "\n",
    "ses_insee_class=np.array(ses_text_insee[selected_users].insee_income>\n",
    "                         np.nanmean(ses_text_insee.insee_income)).astype(np.int)# 2 class\n",
    "ses_iris_class_lowe=np.array(ses_text_insee[selected_users].insee_iris_lowe>\n",
    "                            np.nanmean(ses_text_insee.insee_iris_lowe)).astype(np.int)# 2 class\n",
    "ses_iris_class_med=np.array(ses_text_insee[selected_users].insee_iris_med>\n",
    "                            np.nanmean(ses_text_insee.insee_iris_med)).astype(np.int)# 2 class\n",
    "ses_iris_class_sup=np.array(ses_text_insee[selected_users].insee_iris_sup>\n",
    "                            np.nanmean(ses_text_insee.insee_iris_sup)).astype(np.int)# 2 class"
   ]
  },
  {
   "cell_type": "code",
   "execution_count": 32,
   "metadata": {},
   "outputs": [],
   "source": [
    "homogeneous_usrs=np.array([bool(np.all(np.array([x,y,z,t]))) or bool(1-np.all(np.array([x,y,z,t]) )) \n",
    "                  for x,y,z,t in zip(ses_insee_class,ses_iris_class_lowe,ses_iris_class_med,ses_iris_class_sup)])"
   ]
  },
  {
   "cell_type": "markdown",
   "metadata": {},
   "source": [
    "## Pipeline of algorithms"
   ]
  },
  {
   "cell_type": "markdown",
   "metadata": {},
   "source": [
    "__To run__:\n",
    "~/anaconda3/bin/python /datastore/complexnet/jlevyabi/ml_soc_econ/data_files/UKSOC_rep/ses_text_inference.py "
   ]
  },
  {
   "cell_type": "markdown",
   "metadata": {},
   "source": [
    "### Basic Run"
   ]
  },
  {
   "cell_type": "code",
   "execution_count": 34,
   "metadata": {},
   "outputs": [],
   "source": [
    "# No ejecutar !! Los resultados son los mismos que en la imagen de abajo\n",
    "names = [\"Nearest Neighbors\", \"Linear SVM\", \"RBF SVM\" ,\n",
    "         \"Decision Tree\", \"Random Forest\", \"Neural Net\", \"AdaBoost\",\n",
    "         \"Naive Bayes\"]\n",
    "\n",
    "classifiers = [\n",
    "    KNeighborsClassifier(3),\n",
    "    SVC(kernel=\"linear\", C=0.025),\n",
    "    SVC(gamma=2, C=1),\n",
    "    DecisionTreeClassifier(max_depth=5),\n",
    "    RandomForestClassifier(max_depth=5, n_estimators=10, max_features=1),\n",
    "    MLPClassifier(alpha=1),\n",
    "    AdaBoostClassifier(),\n",
    "    GaussianNB(),\n",
    "    ]\n",
    "\n",
    "mat_info=np.vstack([np.hstack(sample.as_matrix()).reshape((1,len(ses_text_insee.iloc[0][\"fts\"])))\n",
    "                            for it,sample in (ses_text_insee[selected_users][homogeneous_usrs][[\"fts\",]].iterrows())])\n"
   ]
  },
  {
   "cell_type": "code",
   "execution_count": 92,
   "metadata": {},
   "outputs": [
    {
     "data": {
      "text/plain": [
       "(7449, 1115)"
      ]
     },
     "execution_count": 92,
     "metadata": {},
     "output_type": "execute_result"
    }
   ],
   "source": [
    "mat_info.shape"
   ]
  },
  {
   "cell_type": "code",
   "execution_count": 578,
   "metadata": {},
   "outputs": [
    {
     "name": "stdout",
     "output_type": "stream",
     "text": [
      "2-Classification accuracy for Nearest Neighbors:  0.557047\n",
      "2-Classification accuracy for Linear SVM:  0.626174\n",
      "2-Classification accuracy for RBF SVM:  0.495302\n",
      "2-Classification accuracy for Decision Tree:  0.596644\n",
      "2-Classification accuracy for Random Forest:  0.585906\n",
      "2-Classification accuracy for Neural Net:  0.607383\n",
      "2-Classification accuracy for AdaBoost:  0.640268\n",
      "2-Classification accuracy for Naive Bayes:  0.539597\n"
     ]
    }
   ],
   "source": [
    "X = StandardScaler().fit_transform(mat_info)\n",
    "y = ses_insee_class[homogeneous_usrs]\n",
    "X_train, X_test, y_train, y_test = train_test_split(X, y, test_size=.2, random_state=42)\n",
    "clf_arrs=[]\n",
    "for name, clf in zip(names, classifiers):\n",
    "    clf.fit(X_train, y_train)\n",
    "    clf_arrs.append(clf)\n",
    "    score = clf.score(X_test, y_test)\n",
    "    print (\"%d-Classification accuracy for %s:  %f\"%(len(set(ses_insee_class[homogeneous_usrs])),name,score))"
   ]
  },
  {
   "cell_type": "code",
   "execution_count": null,
   "metadata": {},
   "outputs": [],
   "source": []
  },
  {
   "cell_type": "markdown",
   "metadata": {},
   "source": [
    "__To run__:\n",
    "~/anaconda3/bin/python /datastore/complexnet/jlevyabi/ml_soc_econ/data_files/UKSOC_rep/ses_text_inference.py "
   ]
  },
  {
   "cell_type": "code",
   "execution_count": 35,
   "metadata": {},
   "outputs": [
    {
     "name": "stdout",
     "output_type": "stream",
     "text": [
      "2-Classification accuracy for RF:  0.634899\n"
     ]
    }
   ],
   "source": [
    "clf_carnino=RandomForestClassifier(max_depth=10, n_estimators=1000,n_jobs=10, bootstrap=False, min_samples_leaf=20)\n",
    "X = StandardScaler().fit_transform(mat_info)\n",
    "y = ses_insee_class[homogeneous_usrs]\n",
    "X_train, X_test, y_train, y_test = train_test_split(X, y, test_size=.2, random_state=42)\n",
    "clf_carnino.fit(X_train, y_train)\n",
    "score = clf_carnino.score(X_test, y_test)\n",
    "print (\"2-Classification accuracy for RF:  %f\"%(score))"
   ]
  },
  {
   "cell_type": "markdown",
   "metadata": {},
   "source": [
    "### LR Tuning"
   ]
  },
  {
   "cell_type": "markdown",
   "metadata": {},
   "source": [
    "### SVM Tuning"
   ]
  },
  {
   "cell_type": "markdown",
   "metadata": {},
   "source": [
    "### AdaBoost Tuning"
   ]
  },
  {
   "cell_type": "markdown",
   "metadata": {
    "heading_collapsed": true
   },
   "source": [
    "### Random Forest Tuning"
   ]
  },
  {
   "cell_type": "code",
   "execution_count": 39,
   "metadata": {
    "hidden": true,
    "scrolled": true
   },
   "outputs": [
    {
     "name": "stdout",
     "output_type": "stream",
     "text": [
      "Fitting 25 folds for each of 500 candidates, totalling 12500 fits\n"
     ]
    },
    {
     "name": "stderr",
     "output_type": "stream",
     "text": [
      "[Parallel(n_jobs=-1)]: Done  72 tasks      | elapsed:  1.4min\n",
      "[Parallel(n_jobs=-1)]: Done 322 tasks      | elapsed:  6.1min\n",
      "[Parallel(n_jobs=-1)]: Done 672 tasks      | elapsed: 12.2min\n",
      "[Parallel(n_jobs=-1)]: Done 1122 tasks      | elapsed: 22.6min\n",
      "[Parallel(n_jobs=-1)]: Done 1672 tasks      | elapsed: 34.1min\n",
      "[Parallel(n_jobs=-1)]: Done 2322 tasks      | elapsed: 50.2min\n",
      "[Parallel(n_jobs=-1)]: Done 3072 tasks      | elapsed: 66.6min\n",
      "[Parallel(n_jobs=-1)]: Done 3922 tasks      | elapsed: 82.4min\n",
      "[Parallel(n_jobs=-1)]: Done 4872 tasks      | elapsed: 101.3min\n",
      "[Parallel(n_jobs=-1)]: Done 5922 tasks      | elapsed: 124.0min\n",
      "[Parallel(n_jobs=-1)]: Done 7072 tasks      | elapsed: 148.8min\n",
      "[Parallel(n_jobs=-1)]: Done 8322 tasks      | elapsed: 174.2min\n",
      "[Parallel(n_jobs=-1)]: Done 9672 tasks      | elapsed: 199.3min\n",
      "[Parallel(n_jobs=-1)]: Done 11122 tasks      | elapsed: 229.0min\n",
      "[Parallel(n_jobs=-1)]: Done 12500 out of 12500 | elapsed: 254.8min finished\n"
     ]
    },
    {
     "name": "stdout",
     "output_type": "stream",
     "text": [
      "Best model parameters:  {'bootstrap': True, 'criterion': 'gini', 'max_depth': 38, 'min_samples_leaf': 0.007877583208959238, 'min_samples_split': 0.0069437095447349995}\n",
      "Best model roc auc score:  0.6802543698038217\n"
     ]
    }
   ],
   "source": [
    "from operator import itemgetter\n",
    "from collections import defaultdict, Counter\n",
    "from sklearn.preprocessing import OneHotEncoder, LabelEncoder, Imputer, StandardScaler, scale\n",
    "from sklearn import model_selection, metrics\n",
    "from sklearn.metrics import roc_auc_score, brier_score_loss, make_scorer, f1_score, fbeta_score, precision_score, recall_score, roc_curve\n",
    "from sklearn.model_selection import RandomizedSearchCV, RepeatedStratifiedKFold, cross_validate\n",
    "from sklearn.feature_selection import SelectFromModel\n",
    "from sklearn.ensemble import RandomForestClassifier, IsolationForest\n",
    "from sklearn.linear_model import LogisticRegression\n",
    "from sklearn.manifold import TSNE\n",
    "from scipy.stats import uniform\n",
    "from xgboost import XGBClassifier\n",
    "\n",
    "clf = RandomForestClassifier(n_estimators=1000, n_jobs=1)\n",
    "param_distributions = {'criterion': ['gini', 'gini', 'entropy'],\n",
    "                       'max_depth': range(2,50),\n",
    "                       'min_samples_split': uniform(loc=0, scale=0.2),\n",
    "                       'min_samples_leaf': uniform(loc=0, scale=0.2),\n",
    "                       'bootstrap': [True, True, False]}\n",
    "\n",
    "\n",
    "n_splits = 5\n",
    "n_repeats = 5\n",
    "n_iter = 500\n",
    "n_jobs = -1\n",
    "verbose = 1\n",
    "\n",
    "cv = RepeatedStratifiedKFold(n_splits=n_splits, n_repeats=n_repeats)\n",
    "scorer = make_scorer(roc_auc_score, greater_is_better=True, needs_threshold=True)\n",
    "model = RandomizedSearchCV(clf, param_distributions, n_iter=n_iter, scoring=scorer, n_jobs=n_jobs, cv=cv, verbose=verbose)\n",
    "\n",
    "model.fit(X_train, y_train)\n",
    "print(\"Best model parameters: \", model.best_params_)\n",
    "print(\"Best model roc auc score: \", model.best_score_)\n"
   ]
  },
  {
   "cell_type": "code",
   "execution_count": 100,
   "metadata": {
    "hidden": true
   },
   "outputs": [
    {
     "data": {
      "text/plain": [
       "RandomForestClassifier(bootstrap=True, class_weight=None, criterion='gini',\n",
       "            max_depth=38, max_features='auto', max_leaf_nodes=None,\n",
       "            min_impurity_decrease=0.0, min_impurity_split=None,\n",
       "            min_samples_leaf=0.007877583208959238,\n",
       "            min_samples_split=0.0069437095447349995,\n",
       "            min_weight_fraction_leaf=0.0, n_estimators=1000, n_jobs=1,\n",
       "            oob_score=False, random_state=None, verbose=0,\n",
       "            warm_start=False)"
      ]
     },
     "execution_count": 100,
     "metadata": {},
     "output_type": "execute_result"
    }
   ],
   "source": []
  },
  {
   "cell_type": "code",
   "execution_count": 41,
   "metadata": {
    "hidden": true
   },
   "outputs": [
    {
     "name": "stdout",
     "output_type": "stream",
     "text": [
      "             precision    recall  f1-score   support\n",
      "\n",
      "          0       0.64      0.56      0.59       752\n",
      "          1       0.60      0.68      0.64       738\n",
      "\n",
      "avg / total       0.62      0.62      0.61      1490\n",
      "\n"
     ]
    }
   ],
   "source": [
    "clf_rf_best=RandomForestClassifier(bootstrap= True,\n",
    "                                   criterion= 'gini',\n",
    "                                   max_depth= 38,\n",
    "                                   min_samples_leaf= 0.007877583208959238,\n",
    "                                   min_samples_split=0.0069437095447349995)\n",
    "clf_rf_best.fit(X_train, y_train);\n",
    "print(classification_report(y_test,clf_rf_best.predict(X_test)))"
   ]
  },
  {
   "cell_type": "code",
   "execution_count": 42,
   "metadata": {
    "hidden": true
   },
   "outputs": [
    {
     "data": {
      "image/png": "[encoded data removed]",
      "text/plain": [
       "<matplotlib.figure.Figure at 0x7fe0284a5e48>"
      ]
     },
     "metadata": {},
     "output_type": "display_data"
    }
   ],
   "source": [
    "probs = clf_rf_best.predict_proba(X_test)\n",
    "preds = probs[:,1]\n",
    "fpr, tpr, threshold = metrics.roc_curve(y_test, preds)\n",
    "roc_auc = metrics.auc(fpr, tpr)\n",
    "\n",
    "# method I: plt\n",
    "import matplotlib.pyplot as plt\n",
    "plt.title('Receiver Operating Characteristic')\n",
    "plt.plot(fpr, tpr, 'b', label = 'AUC = %0.2f' % roc_auc)\n",
    "plt.legend(loc = 'lower right')\n",
    "plt.plot([0, 1], [0, 1],'r--')\n",
    "plt.xlim([0, 1])\n",
    "plt.ylim([0, 1])\n",
    "plt.ylabel('True Positive Rate')\n",
    "plt.xlabel('False Positive Rate')\n",
    "plt.show()\n"
   ]
  },
  {
   "cell_type": "markdown",
   "metadata": {},
   "source": [
    "### XGBoost"
   ]
  },
  {
   "cell_type": "code",
   "execution_count": 43,
   "metadata": {},
   "outputs": [],
   "source": [
    "import pickle\n",
    "d_test_brunch={\"Xtrain\":X_train,\"Xtest\":X_test,\"Ytrain\":y_train,\"Ytest\":y_test}\n",
    "pickle.dump(d_test_brunch,\n",
    "            open( \"/warehouse/COMPLEXNET/TWITTERSES/jlevyabi/ml_soc_econ/data_files/UKSOC_rep/uksoc_xgb_data.p\",\"wb\"))"
   ]
  },
  {
   "cell_type": "code",
   "execution_count": null,
   "metadata": {},
   "outputs": [],
   "source": [
    "import pickle\n",
    "d_test_brunch=pickle.load(open(\"/warehouse/COMPLEXNET/TWITTERSES/jlevyabi/ml_soc_econ/data_files/UKSOC_rep/uksoc_xgb_data.p\",\"rb\"))\n",
    "\n",
    "X_train=d_test_brunch[\"Xtrain\"]\n",
    "X_test=d_test_brunch[\"Xtest\"]33\n",
    "y_train=d_test_brunch[\"Ytrain\"]\n",
    "y_test=d_test_brunch[\"Ytest\"]"
   ]
  },
  {
   "cell_type": "code",
   "execution_count": null,
   "metadata": {},
   "outputs": [],
   "source": [
    "from operator import itemgetter\n",
    "from collections import defaultdict, Counter\n",
    "from sklearn.preprocessing import OneHotEncoder, LabelEncoder, Imputer, StandardScaler, scale\n",
    "from sklearn import model_selection, metrics\n",
    "from sklearn.metrics import roc_auc_score, brier_score_loss, make_scorer, f1_score, fbeta_score, precision_score, recall_score, roc_curve\n",
    "from sklearn.model_selection import RandomizedSearchCV, RepeatedStratifiedKFold, cross_validate\n",
    "from sklearn.feature_selection import SelectFromModel\n",
    "from sklearn.ensemble import RandomForestClassifier, IsolationForest\n",
    "from sklearn.linear_model import LogisticRegression\n",
    "from sklearn.manifold import TSNE\n",
    "from scipy.stats import uniform\n",
    "from xgboost import XGBClassifier\n",
    "\n",
    "clf_xgb = XGBClassifier(silent=True, objective='binary:logistic', nthread=1,\n",
    "                    scale_pos_weight=1, base_score=0.5)\n",
    "\n",
    "param_distributions = {\"max_depth\": range(3,50),\n",
    "                       \"learning_rate\": uniform(loc=0, scale=0.1),\n",
    "                       \"n_estimators\": range(10, 1500),\n",
    "                       \"min_child_weight\": range(1, 200),\n",
    "                       \"gamma\": uniform(loc=0, scale=0.1),\n",
    "                       \"subsample\": uniform(loc=0.7, scale=0.3),\n",
    "                       \"colsample_bytree\": uniform(loc=0.5, scale=0.5),\n",
    "                       \"colsample_bylevel\": uniform(loc=0.1, scale=0.9), \n",
    "                       \"reg_alpha\": uniform(loc=0, scale=0.2),\n",
    "                       \"reg_lambda\": uniform(loc=0.8, scale=0.2)}\n",
    "\n",
    "n_splits = 5\n",
    "n_repeats = 10\n",
    "n_iter = 500\n",
    "n_jobs = -1\n",
    "verbose = 1\n",
    "\n",
    "cv_xgb = RepeatedStratifiedKFold(n_splits=n_splits, n_repeats=n_repeats)\n",
    "scorer_xgb = make_scorer(roc_auc_score, greater_is_better=True, needs_threshold=True)\n",
    "model_xgb = RandomizedSearchCV(clf_xgb, param_distributions, n_iter=n_iter, scoring=scorer_xgb, n_jobs=n_jobs, cv=cv_xgb, verbose=verbose)\n",
    "\n",
    "model_xgb.fit(X_train, y_train)\n",
    "print(\"Best model parameters: \", model_xgb.best_params_)\n",
    "print(\"Best model roc auc score: \", model_xgb.best_score_)\n",
    "\n",
    "#Mira brunch"
   ]
  },
  {
   "cell_type": "raw",
   "metadata": {},
   "source": [
    ">>> print(\"Best model parameters: \", model_xgb.best_params_)\n",
    "Best model parameters:  {'colsample_bylevel': 0.7644347319502035, 'colsample_bytree': 0.5407410007880673, 'gamma': 0.06575869277016731, 'learning_rate': 0.007273150630348446, 'max_depth': 8, 'min_child_weight': 28, 'n_estimators': 1272, 'reg_alpha': 0.1689331019058065, 'reg_lambda': 0.8009806043156956, 'subsample': 0.7642669507003719}\n",
    ">>> print(\"Best model roc auc score: \", model_xgb.best_score_)\n",
    "Best model roc auc score:  0.7031198689328277"
   ]
  },
  {
   "cell_type": "code",
   "execution_count": 47,
   "metadata": {},
   "outputs": [
    {
     "data": {
      "text/plain": [
       "XGBClassifier(base_score=0.5, booster='gbtree',\n",
       "       colsample_bylevel=0.7644347319502035,\n",
       "       colsample_bytree=0.5407410007880673, gamma=0.06575869277016731,\n",
       "       learning_rate=0.007273150630348446, max_delta_step=0, max_depth=8,\n",
       "       min_child_weight=28, missing=None, n_estimators=1272, n_jobs=10,\n",
       "       nthread=1, objective='binary:logistic', random_state=0,\n",
       "       reg_alpha=0.1689331019058065, reg_lambda=0.8009806043156956,\n",
       "       scale_pos_weight=1, seed=None, silent=True,\n",
       "       subsample=0.7642669507003719)"
      ]
     },
     "execution_count": 47,
     "metadata": {},
     "output_type": "execute_result"
    }
   ],
   "source": [
    "clf_xgb_best = XGBClassifier(silent=True,\n",
    "                             objective='binary:logistic', nthread=1,\n",
    "                             colsample_bylevel=0.7644347319502035,\n",
    "                             colsample_bytree=0.5407410007880673,\n",
    "                             gamma=0.06575869277016731,\n",
    "                             learning_rate=0.007273150630348446,\n",
    "                             max_depth=8,\n",
    "                             min_child_weight=28,\n",
    "                             n_estimators=1272,\n",
    "                             reg_alpha=0.1689331019058065,\n",
    "                             reg_lambda=0.8009806043156956,\n",
    "                             subsample=0.7642669507003719,\n",
    "                             scale_pos_weight=1, base_score=0.5,\n",
    "                            n_jobs=10)\n",
    "\n",
    "clf_xgb_best.fit(X_train,y_train)"
   ]
  },
  {
   "cell_type": "code",
   "execution_count": 48,
   "metadata": {},
   "outputs": [
    {
     "name": "stdout",
     "output_type": "stream",
     "text": [
      "             precision    recall  f1-score   support\n",
      "\n",
      "          0       0.66      0.61      0.64       752\n",
      "          1       0.63      0.68      0.66       738\n",
      "\n",
      "avg / total       0.65      0.65      0.65      1490\n",
      "\n"
     ]
    }
   ],
   "source": [
    "from sklearn.metrics import classification_report\n",
    "print(classification_report(y_test,clf_xgb_best.predict(X_test)))"
   ]
  },
  {
   "cell_type": "code",
   "execution_count": 88,
   "metadata": {},
   "outputs": [],
   "source": [
    "import joblib\n",
    "joblib.dump(clf_xgb_best, \"/warehouse/COMPLEXNET/jlevyabi/TWITTERSES/ml_soc_econ/icdm18/issues/xgb_insee_weights.bin\");"
   ]
  },
  {
   "cell_type": "code",
   "execution_count": 49,
   "metadata": {
    "scrolled": true
   },
   "outputs": [
    {
     "data": {
      "image/png": "[encoded data removed]",
      "text/plain": [
       "<matplotlib.figure.Figure at 0x7fde22bb0dd8>"
      ]
     },
     "metadata": {},
     "output_type": "display_data"
    }
   ],
   "source": [
    "probs = clf_xgb_best.predict_proba(X_test)\n",
    "preds = probs[:,1]\n",
    "fpr, tpr, threshold = metrics.roc_curve(y_test, preds)\n",
    "roc_auc = metrics.auc(fpr, tpr)\n",
    "\n",
    "# method I: plt\n",
    "import matplotlib.pyplot as plt\n",
    "plt.title('Receiver Operating Characteristic')\n",
    "plt.plot(fpr, tpr, 'b', label = 'AUC = %0.2f' % roc_auc)\n",
    "plt.legend(loc = 'lower right')\n",
    "plt.plot([0, 1], [0, 1],'r--')\n",
    "plt.xlim([0, 1])\n",
    "plt.ylim([0, 1])\n",
    "plt.ylabel('True Positive Rate')\n",
    "plt.xlabel('False Positive Rate')\n",
    "plt.show()\n"
   ]
  },
  {
   "cell_type": "code",
   "execution_count": 85,
   "metadata": {},
   "outputs": [],
   "source": [
    "dic_insee_xgb={\n",
    "    \"fpr\":fpr,\n",
    "    \"tpr\":tpr,\n",
    "    \"roc_auc\":roc_auc,\n",
    "}\n",
    "import pickle\n",
    "pickle.dump(dic_insee_xgb,open(\"/warehouse/COMPLEXNET/jlevyabi/TWITTERSES/ml_soc_econ/icdm18/issues/dic_insee_xgb.p\",\"wb\"))"
   ]
  },
  {
   "cell_type": "markdown",
   "metadata": {
    "heading_collapsed": true
   },
   "source": [
    "## Prediction Interpretation"
   ]
  },
  {
   "cell_type": "code",
   "execution_count": null,
   "metadata": {
    "hidden": true,
    "scrolled": true
   },
   "outputs": [],
   "source": [
    "model_close.fit(X_train, y_train)"
   ]
  },
  {
   "cell_type": "code",
   "execution_count": null,
   "metadata": {
    "hidden": true
   },
   "outputs": [],
   "source": [
    "# Plot the feature importances of xgboost\n",
    "n_features = 47\n",
    "sns.set_style('ticks')\n",
    "fig, ax = plt.subplots(figsize=(8.27, 11.7))\n",
    "plt.title(\"Feature importances of the %d most important features\\n for classification with their 95%% confidence interval\"%n_features)\n",
    "plt.barh(width=mean_importances[indices_xgb][:n_features],\n",
    "        y=range(n_features)[::-1], color=sns.color_palette(palette=\"Blues_d\", n_colors=n_features))\n",
    "plt.yticks(range(n_features)[::-1], np.array(selected_features)[indices[:47]][indices_xgb][:n_features])\n",
    "plt.ylim([-1, n_features])\n",
    "plt.xlim([0, 0.07])\n",
    "sns.despine()\n",
    "plt.show()"
   ]
  },
  {
   "cell_type": "markdown",
   "metadata": {
    "heading_collapsed": true
   },
   "source": [
    "## Extend learning to network information"
   ]
  },
  {
   "cell_type": "code",
   "execution_count": null,
   "metadata": {
    "hidden": true
   },
   "outputs": [],
   "source": []
  },
  {
   "cell_type": "code",
   "execution_count": 58,
   "metadata": {
    "hidden": true
   },
   "outputs": [],
   "source": [
    "f_embed=\"/warehouse/COMPLEXNET/jlevyabi/network_representation/data_files/network_files/embeddings/node2vec.emb\"\n",
    "with open(f_embed, 'r') as f:\n",
    "    first_line = f.readline()\n",
    "f.close()\n",
    "dim_embed=int(first_line.split()[1])\n",
    "net_cols=[\"dim_\"+str(i) for i in range(dim_embed)]\n",
    "\n",
    "network_emb=pd.read_csv(sep=\" \",skiprows=[0],names=[\"id\"]+net_cols,\n",
    "    filepath_or_buffer=f_embed,)\n",
    "usr_embed=np.array(network_emb[net_cols])\n",
    "network_emb[\"n2v\"]=[line for line in usr_embed]\n",
    "\n",
    "network_emb=network_emb[[\"id\",\"n2v\"]]"
   ]
  },
  {
   "cell_type": "code",
   "execution_count": 68,
   "metadata": {
    "hidden": true
   },
   "outputs": [],
   "source": [
    "ses_text_insee_and_net=pd.merge(ses_text_insee,network_emb,left_on=\"id\",right_on=\"id\")\n",
    "inter=[]\n",
    "for row_1,row_2 in zip(ses_text_insee_and_net.fts,ses_text_insee_and_net.n2v):\n",
    "    inter.append(np.hstack([np.array(row_1),np.array(row_2)]))\n",
    "\n",
    "ses_text_insee_and_net[\"n2v+fts\"]=inter\n"
   ]
  },
  {
   "cell_type": "code",
   "execution_count": 69,
   "metadata": {
    "hidden": true
   },
   "outputs": [],
   "source": [
    "net_selected_users=~np.isnan(ses_text_insee_and_net.insee_iris_med)\n",
    "net_ses_insee_class=np.array(ses_text_insee_and_net[net_selected_users].insee_income>\n",
    "                         np.nanmean(ses_text_insee_and_net.insee_income)).astype(np.int)# 2 class\n",
    "net_ses_iris_class_lowe=np.array(ses_text_insee_and_net[net_selected_users].insee_iris_lowe>\n",
    "                            np.nanmean(ses_text_insee_and_net.insee_iris_lowe)).astype(np.int)# 2 class\n",
    "net_ses_iris_class_med=np.array(ses_text_insee_and_net[net_selected_users].insee_iris_med>\n",
    "                            np.nanmean(ses_text_insee_and_net.insee_iris_med)).astype(np.int)# 2 class\n",
    "net_ses_iris_class_sup=np.array(ses_text_insee_and_net[net_selected_users].insee_iris_sup>\n",
    "                            np.nanmean(ses_text_insee_and_net.insee_iris_sup)).astype(np.int)# 2 class\n",
    "\n",
    "net_homogeneous_usrs=np.array([bool(np.all(np.array([x,y,z,t]))) or bool(1-np.all(np.array([x,y,z,t]) )) \n",
    "                  for x,y,z,t in zip(net_ses_insee_class,net_ses_iris_class_lowe,\n",
    "                                     net_ses_iris_class_med,net_ses_iris_class_sup)])"
   ]
  },
  {
   "cell_type": "code",
   "execution_count": 72,
   "metadata": {
    "hidden": true
   },
   "outputs": [
    {
     "name": "stdout",
     "output_type": "stream",
     "text": [
      "19-Classification accuracy for Nearest Neighbors:  0.587385\n",
      "19-Classification accuracy for Linear SVM:  0.579501\n",
      "19-Classification accuracy for RBF SVM:  0.549277\n",
      "19-Classification accuracy for Decision Tree:  0.529566\n",
      "19-Classification accuracy for Random Forest:  0.554534\n",
      "19-Classification accuracy for Neural Net:  0.609724\n",
      "19-Classification accuracy for AdaBoost:  0.604468\n",
      "19-Classification accuracy for Naive Bayes:  0.496715\n"
     ]
    }
   ],
   "source": [
    "# No ejecutar !! Los resultados son los mismos que en la imagen de abajo\n",
    "names = [\"Nearest Neighbors\", \"Linear SVM\", \"RBF SVM\" ,\n",
    "         \"Decision Tree\", \"Random Forest\", \"Neural Net\", \"AdaBoost\",\n",
    "         \"Naive Bayes\"]\n",
    "\n",
    "classifiers = [\n",
    "    KNeighborsClassifier(3),\n",
    "    SVC(kernel=\"linear\", C=0.025),\n",
    "    SVC(gamma=2, C=1),\n",
    "    DecisionTreeClassifier(max_depth=5),\n",
    "    RandomForestClassifier(max_depth=5, n_estimators=10, max_features=1),\n",
    "    MLPClassifier(alpha=1),\n",
    "    AdaBoostClassifier(),\n",
    "    GaussianNB(),\n",
    "    ]\n",
    "\n",
    "net_mat_info=np.vstack([np.hstack(sample.as_matrix()).reshape((1,len(ses_text_insee_and_net.iloc[0][\"n2v+fts\"])))\n",
    "                            for it,\n",
    "                        sample in (ses_text_insee_and_net[net_selected_users][net_homogeneous_usrs][[\"n2v+fts\",]].iterrows())])\n",
    "\n",
    "net_X = StandardScaler().fit_transform(net_mat_info)\n",
    "net_y = net_ses_insee_class[net_homogeneous_usrs]\n",
    "net_X_train, net_X_test, net_y_train, net_y_test = train_test_split(net_X, net_y, test_size=.2, random_state=42)\n",
    "clf_arrs=[]\n",
    "for name, clf in zip(names, classifiers):\n",
    "    clf.fit(net_X_train, net_y_train)\n",
    "    clf_arrs.append(clf)\n",
    "    score = clf.score(net_X_test, net_y_test)\n",
    "    print (\"%d-Classification accuracy for %s:  %f\"%(len(set(ses_text_insee_and_net[net_homogeneous_usrs])),name,score))"
   ]
  },
  {
   "cell_type": "markdown",
   "metadata": {
    "heading_collapsed": true
   },
   "source": [
    "## Error Visualization"
   ]
  },
  {
   "cell_type": "code",
   "execution_count": 579,
   "metadata": {
    "hidden": true
   },
   "outputs": [],
   "source": [
    "best_clf=-1\n",
    "mat_info_vis=np.vstack([np.hstack(sample.as_matrix()).reshape((1,len(ses_text_insee.iloc[0][\"fts\"])))\n",
    "                            for it,sample in (ses_text_insee[selected_users][homogeneous_usrs][[\"fts\",]].iterrows())])\n",
    "\n",
    "pred_vis=clf_arrs[best_clf].predict(mat_info_vis)\n",
    "true_vis=ses_insee_class[homogeneous_usrs]"
   ]
  },
  {
   "cell_type": "code",
   "execution_count": 580,
   "metadata": {
    "hidden": true
   },
   "outputs": [],
   "source": [
    "a=0\n",
    "for k in dic_used:\n",
    "    a+=int(type(dic_used[k][\"suppl_info\"].geometry_poly) is None)"
   ]
  },
  {
   "cell_type": "code",
   "execution_count": 581,
   "metadata": {
    "hidden": true
   },
   "outputs": [
    {
     "data": {
      "text/plain": [
       "Counter({shapely.geometry.polygon.Polygon: 20428, NoneType: 4421})"
      ]
     },
     "execution_count": 581,
     "metadata": {},
     "output_type": "execute_result"
    }
   ],
   "source": [
    "Counter([type(dic_used[k][\"suppl_info\"].geometry_poly) for k in dic_used])"
   ]
  },
  {
   "cell_type": "code",
   "execution_count": 582,
   "metadata": {
    "hidden": true
   },
   "outputs": [
    {
     "data": {
      "text/html": [
       "<div>\n",
       "<style scoped>\n",
       "    .dataframe tbody tr th:only-of-type {\n",
       "        vertical-align: middle;\n",
       "    }\n",
       "\n",
       "    .dataframe tbody tr th {\n",
       "        vertical-align: top;\n",
       "    }\n",
       "\n",
       "    .dataframe thead th {\n",
       "        text-align: right;\n",
       "    }\n",
       "</style>\n",
       "<table border=\"1\" class=\"dataframe\">\n",
       "  <thead>\n",
       "    <tr style=\"text-align: right;\">\n",
       "      <th></th>\n",
       "      <th>id</th>\n",
       "      <th>followers_count</th>\n",
       "      <th>friends_count</th>\n",
       "      <th>listed_count</th>\n",
       "      <th>favourites_count</th>\n",
       "      <th>statuses_count</th>\n",
       "      <th>description</th>\n",
       "      <th>user_id</th>\n",
       "      <th>tweet_text</th>\n",
       "      <th>nb_tweets</th>\n",
       "      <th>cfd_100</th>\n",
       "      <th>fts</th>\n",
       "      <th>usr</th>\n",
       "      <th>insee_income</th>\n",
       "      <th>insee_iris_lowe</th>\n",
       "      <th>insee_iris_med</th>\n",
       "      <th>insee_iris_sup</th>\n",
       "    </tr>\n",
       "  </thead>\n",
       "  <tbody>\n",
       "    <tr>\n",
       "      <th>0</th>\n",
       "      <td>2296639897</td>\n",
       "      <td>665</td>\n",
       "      <td>208</td>\n",
       "      <td>5</td>\n",
       "      <td>3019</td>\n",
       "      <td>43939</td>\n",
       "      <td></td>\n",
       "      <td>2296639897</td>\n",
       "      <td>en effet disponible sur ma page youtube les vr...</td>\n",
       "      <td>1326</td>\n",
       "      <td>[0.0029336613986940476, 0.002365855966688748, ...</td>\n",
       "      <td>[0.019411746706020448, 0.0, 0.0144051119078382...</td>\n",
       "      <td>2296639897</td>\n",
       "      <td>9986.647059</td>\n",
       "      <td>350.0</td>\n",
       "      <td>8590.0</td>\n",
       "      <td>22398.0</td>\n",
       "    </tr>\n",
       "    <tr>\n",
       "      <th>1</th>\n",
       "      <td>190311280</td>\n",
       "      <td>109</td>\n",
       "      <td>143</td>\n",
       "      <td>0</td>\n",
       "      <td>102</td>\n",
       "      <td>1853</td>\n",
       "      <td></td>\n",
       "      <td>190311280</td>\n",
       "      <td>j en peux plus le monde est plein de gens qui ...</td>\n",
       "      <td>1396</td>\n",
       "      <td>[0.0009473434909607642, 0.0061577326912449675,...</td>\n",
       "      <td>[0.009347548197556111, 0.0, 0.0077073880338161...</td>\n",
       "      <td>190311280</td>\n",
       "      <td>22472.467780</td>\n",
       "      <td>7034.0</td>\n",
       "      <td>20758.0</td>\n",
       "      <td>42978.0</td>\n",
       "    </tr>\n",
       "    <tr>\n",
       "      <th>2</th>\n",
       "      <td>482001789</td>\n",
       "      <td>244</td>\n",
       "      <td>107</td>\n",
       "      <td>2</td>\n",
       "      <td>2258</td>\n",
       "      <td>6571</td>\n",
       "      <td>garde la peche</td>\n",
       "      <td>482001789</td>\n",
       "      <td>c est sur combien de jour c est ouuuuu salut l...</td>\n",
       "      <td>2191</td>\n",
       "      <td>[0.001354047890535918, 0.002494298745724059, 0...</td>\n",
       "      <td>[0.01381793898926871, 0.0030137194541054223, 0...</td>\n",
       "      <td>482001789</td>\n",
       "      <td>18110.269424</td>\n",
       "      <td>5958.0</td>\n",
       "      <td>19828.0</td>\n",
       "      <td>40828.0</td>\n",
       "    </tr>\n",
       "    <tr>\n",
       "      <th>3</th>\n",
       "      <td>470351336</td>\n",
       "      <td>1489</td>\n",
       "      <td>676</td>\n",
       "      <td>1</td>\n",
       "      <td>2989</td>\n",
       "      <td>10495</td>\n",
       "      <td>Si Dieu est avec moi qui peux etre contre moi ...</td>\n",
       "      <td>470351336</td>\n",
       "      <td>oh wsh c pas bien mddr dieu est avec moi c est...</td>\n",
       "      <td>2277</td>\n",
       "      <td>[0.000580425161430748, 0.0018863817746499311, ...</td>\n",
       "      <td>[0.010153998517469499, 0.0, 0.0020930837962780...</td>\n",
       "      <td>470351336</td>\n",
       "      <td>12452.072978</td>\n",
       "      <td>3336.0</td>\n",
       "      <td>13028.0</td>\n",
       "      <td>26338.0</td>\n",
       "    </tr>\n",
       "    <tr>\n",
       "      <th>4</th>\n",
       "      <td>1042105062</td>\n",
       "      <td>439</td>\n",
       "      <td>241</td>\n",
       "      <td>0</td>\n",
       "      <td>1378</td>\n",
       "      <td>30604</td>\n",
       "      <td>delfanrmlz Clip toujours disponible</td>\n",
       "      <td>1042105062</td>\n",
       "      <td>a 18h dans vos putains d oreille yl dans yamin...</td>\n",
       "      <td>2172</td>\n",
       "      <td>[0.001582528881152081, 0.0009495173286912486, ...</td>\n",
       "      <td>[0.01727844754705215, 0.002826347341835764, 0....</td>\n",
       "      <td>1042105062</td>\n",
       "      <td>15640.767917</td>\n",
       "      <td>5010.0</td>\n",
       "      <td>14756.0</td>\n",
       "      <td>30226.0</td>\n",
       "    </tr>\n",
       "  </tbody>\n",
       "</table>\n",
       "</div>"
      ],
      "text/plain": [
       "           id  followers_count  friends_count  listed_count  favourites_count  \\\n",
       "0  2296639897              665            208             5              3019   \n",
       "1   190311280              109            143             0               102   \n",
       "2   482001789              244            107             2              2258   \n",
       "3   470351336             1489            676             1              2989   \n",
       "4  1042105062              439            241             0              1378   \n",
       "\n",
       "   statuses_count                                        description  \\\n",
       "0           43939                                                      \n",
       "1            1853                                                      \n",
       "2            6571                                     garde la peche   \n",
       "3           10495  Si Dieu est avec moi qui peux etre contre moi ...   \n",
       "4           30604                delfanrmlz Clip toujours disponible   \n",
       "\n",
       "      user_id                                         tweet_text  nb_tweets  \\\n",
       "0  2296639897  en effet disponible sur ma page youtube les vr...       1326   \n",
       "1   190311280  j en peux plus le monde est plein de gens qui ...       1396   \n",
       "2   482001789  c est sur combien de jour c est ouuuuu salut l...       2191   \n",
       "3   470351336  oh wsh c pas bien mddr dieu est avec moi c est...       2277   \n",
       "4  1042105062  a 18h dans vos putains d oreille yl dans yamin...       2172   \n",
       "\n",
       "                                             cfd_100  \\\n",
       "0  [0.0029336613986940476, 0.002365855966688748, ...   \n",
       "1  [0.0009473434909607642, 0.0061577326912449675,...   \n",
       "2  [0.001354047890535918, 0.002494298745724059, 0...   \n",
       "3  [0.000580425161430748, 0.0018863817746499311, ...   \n",
       "4  [0.001582528881152081, 0.0009495173286912486, ...   \n",
       "\n",
       "                                                 fts         usr  \\\n",
       "0  [0.019411746706020448, 0.0, 0.0144051119078382...  2296639897   \n",
       "1  [0.009347548197556111, 0.0, 0.0077073880338161...   190311280   \n",
       "2  [0.01381793898926871, 0.0030137194541054223, 0...   482001789   \n",
       "3  [0.010153998517469499, 0.0, 0.0020930837962780...   470351336   \n",
       "4  [0.01727844754705215, 0.002826347341835764, 0....  1042105062   \n",
       "\n",
       "   insee_income  insee_iris_lowe  insee_iris_med  insee_iris_sup  \n",
       "0   9986.647059            350.0          8590.0         22398.0  \n",
       "1  22472.467780           7034.0         20758.0         42978.0  \n",
       "2  18110.269424           5958.0         19828.0         40828.0  \n",
       "3  12452.072978           3336.0         13028.0         26338.0  \n",
       "4  15640.767917           5010.0         14756.0         30226.0  "
      ]
     },
     "execution_count": 582,
     "metadata": {},
     "output_type": "execute_result"
    }
   ],
   "source": [
    "ses_text_insee[selected_users][homogeneous_usrs].head()"
   ]
  },
  {
   "cell_type": "code",
   "execution_count": null,
   "metadata": {
    "hidden": true
   },
   "outputs": [],
   "source": [
    "# Compile first geomaps\n",
    "mistakes_vis=ses_text_insee[selected_users][homogeneous_usrs][pred_vis!=true_vis]\n",
    "mistakes_vis[\"bad_pred_vis\"]=pred_vis[pred_vis!=true_vis]\n",
    "mistakes_vis[\"true_vis\"]=true_vis[pred_vis!=true_vis]\n",
    "dic_used=dic_all_users_inf_no_fake_insee\n",
    "#rich=[it for it,v in enumerate(dic_used.keys()) if not (v in dic_all_users_all_no_fake_insee )]\n",
    "idx=mistakes_vis.sample(1).user_id.values[0]\n",
    "df_merged=dic_used[idx][\"locations\"]\n",
    "inferred=dic_used[idx][\"inferred_loc\"]\n",
    "si=dic_used[idx][\"suppl_info\"]\n",
    "x,y=geomap(df_merged,inferred,si,\"income\")\n",
    "print(idx,y,mistakes_vis[mistakes_vis.user_id==idx][[\"true_vis\",\"bad_pred_vis\"]].values)\n",
    "x\n",
    "#plt.show()"
   ]
  },
  {
   "cell_type": "code",
   "execution_count": 553,
   "metadata": {
    "hidden": true
   },
   "outputs": [
    {
     "data": {
      "application/vnd.jupyter.widget-view+json": {
       "model_id": "3ec3c2d93dbc41afa7a21c106dbbb695",
       "version_major": 2,
       "version_minor": 0
      },
      "text/html": [
       "<p>Failed to display Jupyter Widget of type <code>HBox</code>.</p>\n",
       "<p>\n",
       "  If you're reading this message in the Jupyter Notebook or JupyterLab Notebook, it may mean\n",
       "  that the widgets JavaScript is still loading. If this message persists, it\n",
       "  likely means that the widgets JavaScript library is either not installed or\n",
       "  not enabled. See the <a href=\"https://ipywidgets.readthedocs.io/en/stable/user_install.html\">Jupyter\n",
       "  Widgets Documentation</a> for setup instructions.\n",
       "</p>\n",
       "<p>\n",
       "  If you're reading this message in another frontend (for example, a static\n",
       "  rendering on GitHub or <a href=\"https://nbviewer.jupyter.org/\">NBViewer</a>),\n",
       "  it may mean that your frontend doesn't currently support widgets.\n",
       "</p>\n"
      ],
      "text/plain": [
       "HBox(children=(IntProgress(value=0, max=28627), HTML(value='')))"
      ]
     },
     "metadata": {},
     "output_type": "display_data"
    },
    {
     "name": "stdout",
     "output_type": "stream",
     "text": [
      "\n"
     ]
    }
   ],
   "source": [
    "night_and_day_usrs=set(home_most_freq_night.keys()).intersection(set(home_most_freq_all.keys()))\n",
    "wrong_predicted_ids=mistakes_vis.id\n",
    "night_and_day_different=([ k\n",
    "                          for k in tqdmn(night_and_day_usrs)if (home_most_freq_night[k][[\"lat\",\n",
    "                                                       \"lon\"]].values[0]!=home_most_freq_all[k][[\"lat\",\n",
    "                                                                                                 \"lon\"]].values[0])])"
   ]
  },
  {
   "cell_type": "code",
   "execution_count": 555,
   "metadata": {
    "hidden": true
   },
   "outputs": [
    {
     "name": "stdout",
     "output_type": "stream",
     "text": [
      "# Users having home locations : 32053\n",
      " # Users having both day and night locations: 28627\n",
      " % Users having both different day and night homes: 14.18\n",
      " % Users wrongly classified having diff day and night homes: 14.00\n"
     ]
    }
   ],
   "source": [
    "print(\"# Users having home locations : %d\"%len(home_most_freq_all))\n",
    "print(\" # Users having both day and night locations: %d\"%(len(night_and_day_usrs)))\n",
    "print(\" %% Users having both different day and night homes: %.2f\"%(100*(len(night_and_day_different)+0.0)/len(home_most_freq_night)))\n",
    "inter=(len(set(wrong_predicted_ids).intersection(set(night_and_day_different)))+0.0)/len(set(wrong_predicted_ids))\n",
    "print(\" %% Users wrongly classified having diff day and night homes: %.2f\"%(100*inter))\n",
    "      \n",
    "      "
   ]
  },
  {
   "cell_type": "code",
   "execution_count": null,
   "metadata": {
    "hidden": true
   },
   "outputs": [],
   "source": []
  },
  {
   "cell_type": "markdown",
   "metadata": {},
   "source": [
    "# Appendix : Supplementary Methods"
   ]
  },
  {
   "cell_type": "markdown",
   "metadata": {},
   "source": [
    "## Cython: Redefine \"polygon contains point\" function from shapely"
   ]
  },
  {
   "cell_type": "markdown",
   "metadata": {},
   "source": [
    "Redefine \"polygon contains point\" function from shapely"
   ]
  },
  {
   "cell_type": "code",
   "execution_count": 7,
   "metadata": {},
   "outputs": [],
   "source": [
    "%load_ext cython"
   ]
  },
  {
   "cell_type": "code",
   "execution_count": 40,
   "metadata": {
    "scrolled": true
   },
   "outputs": [
    {
     "data": {
      "text/html": [
       "<!DOCTYPE html>\n",
       "<!-- Generated by Cython 0.27.3 -->\n",
       "<html>\n",
       "<head>\n",
       "    <meta http-equiv=\"Content-Type\" content=\"text/html; charset=utf-8\" />\n",
       "    <title>Cython: _cython_magic_8e0b9caca71a8ba181fa5296b96333c4.pyx</title>\n",
       "    <style type=\"text/css\">\n",
       "    \n",
       "body.cython { font-family: courier; font-size: 12; }\n",
       "\n",
       ".cython.tag  {  }\n",
       ".cython.line { margin: 0em }\n",
       ".cython.code { font-size: 9; color: #444444; display: none; margin: 0px 0px 0px 8px; border-left: 8px none; }\n",
       "\n",
       ".cython.line .run { background-color: #B0FFB0; }\n",
       ".cython.line .mis { background-color: #FFB0B0; }\n",
       ".cython.code.run  { border-left: 8px solid #B0FFB0; }\n",
       ".cython.code.mis  { border-left: 8px solid #FFB0B0; }\n",
       "\n",
       ".cython.code .py_c_api  { color: red; }\n",
       ".cython.code .py_macro_api  { color: #FF7000; }\n",
       ".cython.code .pyx_c_api  { color: #FF3000; }\n",
       ".cython.code .pyx_macro_api  { color: #FF7000; }\n",
       ".cython.code .refnanny  { color: #FFA000; }\n",
       ".cython.code .trace  { color: #FFA000; }\n",
       ".cython.code .error_goto  { color: #FFA000; }\n",
       "\n",
       ".cython.code .coerce  { color: #008000; border: 1px dotted #008000 }\n",
       ".cython.code .py_attr { color: #FF0000; font-weight: bold; }\n",
       ".cython.code .c_attr  { color: #0000FF; }\n",
       ".cython.code .py_call { color: #FF0000; font-weight: bold; }\n",
       ".cython.code .c_call  { color: #0000FF; }\n",
       "\n",
       ".cython.score-0 {background-color: #FFFFff;}\n",
       ".cython.score-1 {background-color: #FFFFe7;}\n",
       ".cython.score-2 {background-color: #FFFFd4;}\n",
       ".cython.score-3 {background-color: #FFFFc4;}\n",
       ".cython.score-4 {background-color: #FFFFb6;}\n",
       ".cython.score-5 {background-color: #FFFFaa;}\n",
       ".cython.score-6 {background-color: #FFFF9f;}\n",
       ".cython.score-7 {background-color: #FFFF96;}\n",
       ".cython.score-8 {background-color: #FFFF8d;}\n",
       ".cython.score-9 {background-color: #FFFF86;}\n",
       ".cython.score-10 {background-color: #FFFF7f;}\n",
       ".cython.score-11 {background-color: #FFFF79;}\n",
       ".cython.score-12 {background-color: #FFFF73;}\n",
       ".cython.score-13 {background-color: #FFFF6e;}\n",
       ".cython.score-14 {background-color: #FFFF6a;}\n",
       ".cython.score-15 {background-color: #FFFF66;}\n",
       ".cython.score-16 {background-color: #FFFF62;}\n",
       ".cython.score-17 {background-color: #FFFF5e;}\n",
       ".cython.score-18 {background-color: #FFFF5b;}\n",
       ".cython.score-19 {background-color: #FFFF57;}\n",
       ".cython.score-20 {background-color: #FFFF55;}\n",
       ".cython.score-21 {background-color: #FFFF52;}\n",
       ".cython.score-22 {background-color: #FFFF4f;}\n",
       ".cython.score-23 {background-color: #FFFF4d;}\n",
       ".cython.score-24 {background-color: #FFFF4b;}\n",
       ".cython.score-25 {background-color: #FFFF48;}\n",
       ".cython.score-26 {background-color: #FFFF46;}\n",
       ".cython.score-27 {background-color: #FFFF44;}\n",
       ".cython.score-28 {background-color: #FFFF43;}\n",
       ".cython.score-29 {background-color: #FFFF41;}\n",
       ".cython.score-30 {background-color: #FFFF3f;}\n",
       ".cython.score-31 {background-color: #FFFF3e;}\n",
       ".cython.score-32 {background-color: #FFFF3c;}\n",
       ".cython.score-33 {background-color: #FFFF3b;}\n",
       ".cython.score-34 {background-color: #FFFF39;}\n",
       ".cython.score-35 {background-color: #FFFF38;}\n",
       ".cython.score-36 {background-color: #FFFF37;}\n",
       ".cython.score-37 {background-color: #FFFF36;}\n",
       ".cython.score-38 {background-color: #FFFF35;}\n",
       ".cython.score-39 {background-color: #FFFF34;}\n",
       ".cython.score-40 {background-color: #FFFF33;}\n",
       ".cython.score-41 {background-color: #FFFF32;}\n",
       ".cython.score-42 {background-color: #FFFF31;}\n",
       ".cython.score-43 {background-color: #FFFF30;}\n",
       ".cython.score-44 {background-color: #FFFF2f;}\n",
       ".cython.score-45 {background-color: #FFFF2e;}\n",
       ".cython.score-46 {background-color: #FFFF2d;}\n",
       ".cython.score-47 {background-color: #FFFF2c;}\n",
       ".cython.score-48 {background-color: #FFFF2b;}\n",
       ".cython.score-49 {background-color: #FFFF2b;}\n",
       ".cython.score-50 {background-color: #FFFF2a;}\n",
       ".cython.score-51 {background-color: #FFFF29;}\n",
       ".cython.score-52 {background-color: #FFFF29;}\n",
       ".cython.score-53 {background-color: #FFFF28;}\n",
       ".cython.score-54 {background-color: #FFFF27;}\n",
       ".cython.score-55 {background-color: #FFFF27;}\n",
       ".cython.score-56 {background-color: #FFFF26;}\n",
       ".cython.score-57 {background-color: #FFFF26;}\n",
       ".cython.score-58 {background-color: #FFFF25;}\n",
       ".cython.score-59 {background-color: #FFFF24;}\n",
       ".cython.score-60 {background-color: #FFFF24;}\n",
       ".cython.score-61 {background-color: #FFFF23;}\n",
       ".cython.score-62 {background-color: #FFFF23;}\n",
       ".cython.score-63 {background-color: #FFFF22;}\n",
       ".cython.score-64 {background-color: #FFFF22;}\n",
       ".cython.score-65 {background-color: #FFFF22;}\n",
       ".cython.score-66 {background-color: #FFFF21;}\n",
       ".cython.score-67 {background-color: #FFFF21;}\n",
       ".cython.score-68 {background-color: #FFFF20;}\n",
       ".cython.score-69 {background-color: #FFFF20;}\n",
       ".cython.score-70 {background-color: #FFFF1f;}\n",
       ".cython.score-71 {background-color: #FFFF1f;}\n",
       ".cython.score-72 {background-color: #FFFF1f;}\n",
       ".cython.score-73 {background-color: #FFFF1e;}\n",
       ".cython.score-74 {background-color: #FFFF1e;}\n",
       ".cython.score-75 {background-color: #FFFF1e;}\n",
       ".cython.score-76 {background-color: #FFFF1d;}\n",
       ".cython.score-77 {background-color: #FFFF1d;}\n",
       ".cython.score-78 {background-color: #FFFF1c;}\n",
       ".cython.score-79 {background-color: #FFFF1c;}\n",
       ".cython.score-80 {background-color: #FFFF1c;}\n",
       ".cython.score-81 {background-color: #FFFF1c;}\n",
       ".cython.score-82 {background-color: #FFFF1b;}\n",
       ".cython.score-83 {background-color: #FFFF1b;}\n",
       ".cython.score-84 {background-color: #FFFF1b;}\n",
       ".cython.score-85 {background-color: #FFFF1a;}\n",
       ".cython.score-86 {background-color: #FFFF1a;}\n",
       ".cython.score-87 {background-color: #FFFF1a;}\n",
       ".cython.score-88 {background-color: #FFFF1a;}\n",
       ".cython.score-89 {background-color: #FFFF19;}\n",
       ".cython.score-90 {background-color: #FFFF19;}\n",
       ".cython.score-91 {background-color: #FFFF19;}\n",
       ".cython.score-92 {background-color: #FFFF19;}\n",
       ".cython.score-93 {background-color: #FFFF18;}\n",
       ".cython.score-94 {background-color: #FFFF18;}\n",
       ".cython.score-95 {background-color: #FFFF18;}\n",
       ".cython.score-96 {background-color: #FFFF18;}\n",
       ".cython.score-97 {background-color: #FFFF17;}\n",
       ".cython.score-98 {background-color: #FFFF17;}\n",
       ".cython.score-99 {background-color: #FFFF17;}\n",
       ".cython.score-100 {background-color: #FFFF17;}\n",
       ".cython.score-101 {background-color: #FFFF16;}\n",
       ".cython.score-102 {background-color: #FFFF16;}\n",
       ".cython.score-103 {background-color: #FFFF16;}\n",
       ".cython.score-104 {background-color: #FFFF16;}\n",
       ".cython.score-105 {background-color: #FFFF16;}\n",
       ".cython.score-106 {background-color: #FFFF15;}\n",
       ".cython.score-107 {background-color: #FFFF15;}\n",
       ".cython.score-108 {background-color: #FFFF15;}\n",
       ".cython.score-109 {background-color: #FFFF15;}\n",
       ".cython.score-110 {background-color: #FFFF15;}\n",
       ".cython.score-111 {background-color: #FFFF15;}\n",
       ".cython.score-112 {background-color: #FFFF14;}\n",
       ".cython.score-113 {background-color: #FFFF14;}\n",
       ".cython.score-114 {background-color: #FFFF14;}\n",
       ".cython.score-115 {background-color: #FFFF14;}\n",
       ".cython.score-116 {background-color: #FFFF14;}\n",
       ".cython.score-117 {background-color: #FFFF14;}\n",
       ".cython.score-118 {background-color: #FFFF13;}\n",
       ".cython.score-119 {background-color: #FFFF13;}\n",
       ".cython.score-120 {background-color: #FFFF13;}\n",
       ".cython.score-121 {background-color: #FFFF13;}\n",
       ".cython.score-122 {background-color: #FFFF13;}\n",
       ".cython.score-123 {background-color: #FFFF13;}\n",
       ".cython.score-124 {background-color: #FFFF13;}\n",
       ".cython.score-125 {background-color: #FFFF12;}\n",
       ".cython.score-126 {background-color: #FFFF12;}\n",
       ".cython.score-127 {background-color: #FFFF12;}\n",
       ".cython.score-128 {background-color: #FFFF12;}\n",
       ".cython.score-129 {background-color: #FFFF12;}\n",
       ".cython.score-130 {background-color: #FFFF12;}\n",
       ".cython.score-131 {background-color: #FFFF12;}\n",
       ".cython.score-132 {background-color: #FFFF11;}\n",
       ".cython.score-133 {background-color: #FFFF11;}\n",
       ".cython.score-134 {background-color: #FFFF11;}\n",
       ".cython.score-135 {background-color: #FFFF11;}\n",
       ".cython.score-136 {background-color: #FFFF11;}\n",
       ".cython.score-137 {background-color: #FFFF11;}\n",
       ".cython.score-138 {background-color: #FFFF11;}\n",
       ".cython.score-139 {background-color: #FFFF11;}\n",
       ".cython.score-140 {background-color: #FFFF11;}\n",
       ".cython.score-141 {background-color: #FFFF10;}\n",
       ".cython.score-142 {background-color: #FFFF10;}\n",
       ".cython.score-143 {background-color: #FFFF10;}\n",
       ".cython.score-144 {background-color: #FFFF10;}\n",
       ".cython.score-145 {background-color: #FFFF10;}\n",
       ".cython.score-146 {background-color: #FFFF10;}\n",
       ".cython.score-147 {background-color: #FFFF10;}\n",
       ".cython.score-148 {background-color: #FFFF10;}\n",
       ".cython.score-149 {background-color: #FFFF10;}\n",
       ".cython.score-150 {background-color: #FFFF0f;}\n",
       ".cython.score-151 {background-color: #FFFF0f;}\n",
       ".cython.score-152 {background-color: #FFFF0f;}\n",
       ".cython.score-153 {background-color: #FFFF0f;}\n",
       ".cython.score-154 {background-color: #FFFF0f;}\n",
       ".cython.score-155 {background-color: #FFFF0f;}\n",
       ".cython.score-156 {background-color: #FFFF0f;}\n",
       ".cython.score-157 {background-color: #FFFF0f;}\n",
       ".cython.score-158 {background-color: #FFFF0f;}\n",
       ".cython.score-159 {background-color: #FFFF0f;}\n",
       ".cython.score-160 {background-color: #FFFF0f;}\n",
       ".cython.score-161 {background-color: #FFFF0e;}\n",
       ".cython.score-162 {background-color: #FFFF0e;}\n",
       ".cython.score-163 {background-color: #FFFF0e;}\n",
       ".cython.score-164 {background-color: #FFFF0e;}\n",
       ".cython.score-165 {background-color: #FFFF0e;}\n",
       ".cython.score-166 {background-color: #FFFF0e;}\n",
       ".cython.score-167 {background-color: #FFFF0e;}\n",
       ".cython.score-168 {background-color: #FFFF0e;}\n",
       ".cython.score-169 {background-color: #FFFF0e;}\n",
       ".cython.score-170 {background-color: #FFFF0e;}\n",
       ".cython.score-171 {background-color: #FFFF0e;}\n",
       ".cython.score-172 {background-color: #FFFF0e;}\n",
       ".cython.score-173 {background-color: #FFFF0d;}\n",
       ".cython.score-174 {background-color: #FFFF0d;}\n",
       ".cython.score-175 {background-color: #FFFF0d;}\n",
       ".cython.score-176 {background-color: #FFFF0d;}\n",
       ".cython.score-177 {background-color: #FFFF0d;}\n",
       ".cython.score-178 {background-color: #FFFF0d;}\n",
       ".cython.score-179 {background-color: #FFFF0d;}\n",
       ".cython.score-180 {background-color: #FFFF0d;}\n",
       ".cython.score-181 {background-color: #FFFF0d;}\n",
       ".cython.score-182 {background-color: #FFFF0d;}\n",
       ".cython.score-183 {background-color: #FFFF0d;}\n",
       ".cython.score-184 {background-color: #FFFF0d;}\n",
       ".cython.score-185 {background-color: #FFFF0d;}\n",
       ".cython.score-186 {background-color: #FFFF0d;}\n",
       ".cython.score-187 {background-color: #FFFF0c;}\n",
       ".cython.score-188 {background-color: #FFFF0c;}\n",
       ".cython.score-189 {background-color: #FFFF0c;}\n",
       ".cython.score-190 {background-color: #FFFF0c;}\n",
       ".cython.score-191 {background-color: #FFFF0c;}\n",
       ".cython.score-192 {background-color: #FFFF0c;}\n",
       ".cython.score-193 {background-color: #FFFF0c;}\n",
       ".cython.score-194 {background-color: #FFFF0c;}\n",
       ".cython.score-195 {background-color: #FFFF0c;}\n",
       ".cython.score-196 {background-color: #FFFF0c;}\n",
       ".cython.score-197 {background-color: #FFFF0c;}\n",
       ".cython.score-198 {background-color: #FFFF0c;}\n",
       ".cython.score-199 {background-color: #FFFF0c;}\n",
       ".cython.score-200 {background-color: #FFFF0c;}\n",
       ".cython.score-201 {background-color: #FFFF0c;}\n",
       ".cython.score-202 {background-color: #FFFF0c;}\n",
       ".cython.score-203 {background-color: #FFFF0b;}\n",
       ".cython.score-204 {background-color: #FFFF0b;}\n",
       ".cython.score-205 {background-color: #FFFF0b;}\n",
       ".cython.score-206 {background-color: #FFFF0b;}\n",
       ".cython.score-207 {background-color: #FFFF0b;}\n",
       ".cython.score-208 {background-color: #FFFF0b;}\n",
       ".cython.score-209 {background-color: #FFFF0b;}\n",
       ".cython.score-210 {background-color: #FFFF0b;}\n",
       ".cython.score-211 {background-color: #FFFF0b;}\n",
       ".cython.score-212 {background-color: #FFFF0b;}\n",
       ".cython.score-213 {background-color: #FFFF0b;}\n",
       ".cython.score-214 {background-color: #FFFF0b;}\n",
       ".cython.score-215 {background-color: #FFFF0b;}\n",
       ".cython.score-216 {background-color: #FFFF0b;}\n",
       ".cython.score-217 {background-color: #FFFF0b;}\n",
       ".cython.score-218 {background-color: #FFFF0b;}\n",
       ".cython.score-219 {background-color: #FFFF0b;}\n",
       ".cython.score-220 {background-color: #FFFF0b;}\n",
       ".cython.score-221 {background-color: #FFFF0b;}\n",
       ".cython.score-222 {background-color: #FFFF0a;}\n",
       ".cython.score-223 {background-color: #FFFF0a;}\n",
       ".cython.score-224 {background-color: #FFFF0a;}\n",
       ".cython.score-225 {background-color: #FFFF0a;}\n",
       ".cython.score-226 {background-color: #FFFF0a;}\n",
       ".cython.score-227 {background-color: #FFFF0a;}\n",
       ".cython.score-228 {background-color: #FFFF0a;}\n",
       ".cython.score-229 {background-color: #FFFF0a;}\n",
       ".cython.score-230 {background-color: #FFFF0a;}\n",
       ".cython.score-231 {background-color: #FFFF0a;}\n",
       ".cython.score-232 {background-color: #FFFF0a;}\n",
       ".cython.score-233 {background-color: #FFFF0a;}\n",
       ".cython.score-234 {background-color: #FFFF0a;}\n",
       ".cython.score-235 {background-color: #FFFF0a;}\n",
       ".cython.score-236 {background-color: #FFFF0a;}\n",
       ".cython.score-237 {background-color: #FFFF0a;}\n",
       ".cython.score-238 {background-color: #FFFF0a;}\n",
       ".cython.score-239 {background-color: #FFFF0a;}\n",
       ".cython.score-240 {background-color: #FFFF0a;}\n",
       ".cython.score-241 {background-color: #FFFF0a;}\n",
       ".cython.score-242 {background-color: #FFFF0a;}\n",
       ".cython.score-243 {background-color: #FFFF0a;}\n",
       ".cython.score-244 {background-color: #FFFF0a;}\n",
       ".cython.score-245 {background-color: #FFFF0a;}\n",
       ".cython.score-246 {background-color: #FFFF09;}\n",
       ".cython.score-247 {background-color: #FFFF09;}\n",
       ".cython.score-248 {background-color: #FFFF09;}\n",
       ".cython.score-249 {background-color: #FFFF09;}\n",
       ".cython.score-250 {background-color: #FFFF09;}\n",
       ".cython.score-251 {background-color: #FFFF09;}\n",
       ".cython.score-252 {background-color: #FFFF09;}\n",
       ".cython.score-253 {background-color: #FFFF09;}\n",
       ".cython.score-254 {background-color: #FFFF09;}\n",
       ".cython .hll { background-color: #ffffcc }\n",
       ".cython  { background: #f8f8f8; }\n",
       ".cython .c { color: #408080; font-style: italic } /* Comment */\n",
       ".cython .err { border: 1px solid #FF0000 } /* Error */\n",
       ".cython .k { color: #008000; font-weight: bold } /* Keyword */\n",
       ".cython .o { color: #666666 } /* Operator */\n",
       ".cython .ch { color: #408080; font-style: italic } /* Comment.Hashbang */\n",
       ".cython .cm { color: #408080; font-style: italic } /* Comment.Multiline */\n",
       ".cython .cp { color: #BC7A00 } /* Comment.Preproc */\n",
       ".cython .cpf { color: #408080; font-style: italic } /* Comment.PreprocFile */\n",
       ".cython .c1 { color: #408080; font-style: italic } /* Comment.Single */\n",
       ".cython .cs { color: #408080; font-style: italic } /* Comment.Special */\n",
       ".cython .gd { color: #A00000 } /* Generic.Deleted */\n",
       ".cython .ge { font-style: italic } /* Generic.Emph */\n",
       ".cython .gr { color: #FF0000 } /* Generic.Error */\n",
       ".cython .gh { color: #000080; font-weight: bold } /* Generic.Heading */\n",
       ".cython .gi { color: #00A000 } /* Generic.Inserted */\n",
       ".cython .go { color: #888888 } /* Generic.Output */\n",
       ".cython .gp { color: #000080; font-weight: bold } /* Generic.Prompt */\n",
       ".cython .gs { font-weight: bold } /* Generic.Strong */\n",
       ".cython .gu { color: #800080; font-weight: bold } /* Generic.Subheading */\n",
       ".cython .gt { color: #0044DD } /* Generic.Traceback */\n",
       ".cython .kc { color: #008000; font-weight: bold } /* Keyword.Constant */\n",
       ".cython .kd { color: #008000; font-weight: bold } /* Keyword.Declaration */\n",
       ".cython .kn { color: #008000; font-weight: bold } /* Keyword.Namespace */\n",
       ".cython .kp { color: #008000 } /* Keyword.Pseudo */\n",
       ".cython .kr { color: #008000; font-weight: bold } /* Keyword.Reserved */\n",
       ".cython .kt { color: #B00040 } /* Keyword.Type */\n",
       ".cython .m { color: #666666 } /* Literal.Number */\n",
       ".cython .s { color: #BA2121 } /* Literal.String */\n",
       ".cython .na { color: #7D9029 } /* Name.Attribute */\n",
       ".cython .nb { color: #008000 } /* Name.Builtin */\n",
       ".cython .nc { color: #0000FF; font-weight: bold } /* Name.Class */\n",
       ".cython .no { color: #880000 } /* Name.Constant */\n",
       ".cython .nd { color: #AA22FF } /* Name.Decorator */\n",
       ".cython .ni { color: #999999; font-weight: bold } /* Name.Entity */\n",
       ".cython .ne { color: #D2413A; font-weight: bold } /* Name.Exception */\n",
       ".cython .nf { color: #0000FF } /* Name.Function */\n",
       ".cython .nl { color: #A0A000 } /* Name.Label */\n",
       ".cython .nn { color: #0000FF; font-weight: bold } /* Name.Namespace */\n",
       ".cython .nt { color: #008000; font-weight: bold } /* Name.Tag */\n",
       ".cython .nv { color: #19177C } /* Name.Variable */\n",
       ".cython .ow { color: #AA22FF; font-weight: bold } /* Operator.Word */\n",
       ".cython .w { color: #bbbbbb } /* Text.Whitespace */\n",
       ".cython .mb { color: #666666 } /* Literal.Number.Bin */\n",
       ".cython .mf { color: #666666 } /* Literal.Number.Float */\n",
       ".cython .mh { color: #666666 } /* Literal.Number.Hex */\n",
       ".cython .mi { color: #666666 } /* Literal.Number.Integer */\n",
       ".cython .mo { color: #666666 } /* Literal.Number.Oct */\n",
       ".cython .sa { color: #BA2121 } /* Literal.String.Affix */\n",
       ".cython .sb { color: #BA2121 } /* Literal.String.Backtick */\n",
       ".cython .sc { color: #BA2121 } /* Literal.String.Char */\n",
       ".cython .dl { color: #BA2121 } /* Literal.String.Delimiter */\n",
       ".cython .sd { color: #BA2121; font-style: italic } /* Literal.String.Doc */\n",
       ".cython .s2 { color: #BA2121 } /* Literal.String.Double */\n",
       ".cython .se { color: #BB6622; font-weight: bold } /* Literal.String.Escape */\n",
       ".cython .sh { color: #BA2121 } /* Literal.String.Heredoc */\n",
       ".cython .si { color: #BB6688; font-weight: bold } /* Literal.String.Interpol */\n",
       ".cython .sx { color: #008000 } /* Literal.String.Other */\n",
       ".cython .sr { color: #BB6688 } /* Literal.String.Regex */\n",
       ".cython .s1 { color: #BA2121 } /* Literal.String.Single */\n",
       ".cython .ss { color: #19177C } /* Literal.String.Symbol */\n",
       ".cython .bp { color: #008000 } /* Name.Builtin.Pseudo */\n",
       ".cython .fm { color: #0000FF } /* Name.Function.Magic */\n",
       ".cython .vc { color: #19177C } /* Name.Variable.Class */\n",
       ".cython .vg { color: #19177C } /* Name.Variable.Global */\n",
       ".cython .vi { color: #19177C } /* Name.Variable.Instance */\n",
       ".cython .vm { color: #19177C } /* Name.Variable.Magic */\n",
       ".cython .il { color: #666666 } /* Literal.Number.Integer.Long */\n",
       "    </style>\n",
       "    <script>\n",
       "    function toggleDiv(id) {\n",
       "        theDiv = id.nextElementSibling\n",
       "        if (theDiv.style.display != 'block') theDiv.style.display = 'block';\n",
       "        else theDiv.style.display = 'none';\n",
       "    }\n",
       "    </script>\n",
       "</head>\n",
       "<body class=\"cython\">\n",
       "<p><span style=\"border-bottom: solid 1px grey;\">Generated by Cython 0.27.3</span></p>\n",
       "<p>\n",
       "    <span style=\"background-color: #FFFF00\">Yellow lines</span> hint at Python interaction.<br />\n",
       "    Click on a line that starts with a \"<code>+</code>\" to see the C code that Cython generated for it.\n",
       "</p>\n",
       "<div class=\"cython\"><pre class=\"cython line score-0\">&#xA0;<span class=\"\">01</span>: </pre>\n",
       "<pre class=\"cython line score-8\" onclick='toggleDiv(this)'>+<span class=\"\">02</span>: <span class=\"k\">import</span> <span class=\"nn\">cython</span></pre>\n",
       "<pre class='cython code score-8 '>  __pyx_t_1 = <span class='pyx_c_api'>__Pyx_PyDict_NewPresized</span>(0);<span class='error_goto'> if (unlikely(!__pyx_t_1)) __PYX_ERR(0, 2, __pyx_L1_error)</span>\n",
       "  <span class='refnanny'>__Pyx_GOTREF</span>(__pyx_t_1);\n",
       "  if (<span class='py_c_api'>PyDict_SetItem</span>(__pyx_d, __pyx_n_s_test, __pyx_t_1) &lt; 0) <span class='error_goto'>__PYX_ERR(0, 2, __pyx_L1_error)</span>\n",
       "  <span class='pyx_macro_api'>__Pyx_DECREF</span>(__pyx_t_1); __pyx_t_1 = 0;\n",
       "</pre><pre class=\"cython line score-0\">&#xA0;<span class=\"\">03</span>: <span class=\"k\">cimport</span> <span class=\"nn\">cpython.array</span></pre>\n",
       "<pre class=\"cython line score-0\">&#xA0;<span class=\"\">04</span>: </pre>\n",
       "<pre class=\"cython line score-8\" onclick='toggleDiv(this)'>+<span class=\"\">05</span>: <span class=\"k\">import</span> <span class=\"nn\">numpy</span> <span class=\"k\">as</span> <span class=\"nn\">np</span></pre>\n",
       "<pre class='cython code score-8 '>  __pyx_t_1 = <span class='pyx_c_api'>__Pyx_Import</span>(__pyx_n_s_numpy, 0, 0);<span class='error_goto'> if (unlikely(!__pyx_t_1)) __PYX_ERR(0, 5, __pyx_L1_error)</span>\n",
       "  <span class='refnanny'>__Pyx_GOTREF</span>(__pyx_t_1);\n",
       "  if (<span class='py_c_api'>PyDict_SetItem</span>(__pyx_d, __pyx_n_s_np, __pyx_t_1) &lt; 0) <span class='error_goto'>__PYX_ERR(0, 5, __pyx_L1_error)</span>\n",
       "  <span class='pyx_macro_api'>__Pyx_DECREF</span>(__pyx_t_1); __pyx_t_1 = 0;\n",
       "</pre><pre class=\"cython line score-0\">&#xA0;<span class=\"\">06</span>: <span class=\"k\">cimport</span> <span class=\"nn\">numpy</span> <span class=\"k\">as</span> <span class=\"nn\">np</span></pre>\n",
       "<pre class=\"cython line score-0\">&#xA0;<span class=\"\">07</span>: </pre>\n",
       "<pre class=\"cython line score-0\">&#xA0;<span class=\"\">08</span>: <span class=\"k\">cdef</span> <span class=\"kr\">extern</span> <span class=\"k\">from</span> <span class=\"s\">&quot;geos_c.h&quot;</span><span class=\"p\">:</span></pre>\n",
       "<pre class=\"cython line score-0\">&#xA0;<span class=\"\">09</span>:     <span class=\"k\">ctypedef</span> <span class=\"n\">void</span> <span class=\"o\">*</span><span class=\"n\">GEOSContextHandle_t</span></pre>\n",
       "<pre class=\"cython line score-0\">&#xA0;<span class=\"\">10</span>:     <span class=\"k\">ctypedef</span> <span class=\"k\">struct</span> <span class=\"nc\">GEOSGeometry</span></pre>\n",
       "<pre class=\"cython line score-0\">&#xA0;<span class=\"\">11</span>:     <span class=\"n\">char</span> <span class=\"n\">GEOSContains_r</span><span class=\"p\">(</span><span class=\"n\">GEOSContextHandle_t</span><span class=\"p\">,</span> <span class=\"n\">const</span> <span class=\"n\">GEOSGeometry</span><span class=\"o\">*</span><span class=\"p\">,</span> <span class=\"n\">const</span> <span class=\"n\">GEOSGeometry</span><span class=\"o\">*</span><span class=\"p\">)</span> <span class=\"k\">nogil</span></pre>\n",
       "<pre class=\"cython line score-0\">&#xA0;<span class=\"\">12</span>: </pre>\n",
       "<pre class=\"cython line score-5\" onclick='toggleDiv(this)'>+<span class=\"\">13</span>: <span class=\"k\">cdef</span> <span class=\"kt\">GEOSContextHandle_t</span> <span class=\"nf\">get_geos_context_handle</span><span class=\"p\">():</span></pre>\n",
       "<pre class='cython code score-5 '>static GEOSContextHandle_t __pyx_f_46_cython_magic_8e0b9caca71a8ba181fa5296b96333c4_get_geos_context_handle(void) {\n",
       "  PyObject *__pyx_v_lgeos = NULL;\n",
       "  __pyx_t_5numpy_uintp_t __pyx_v_handle;\n",
       "  GEOSContextHandle_t __pyx_r;\n",
       "  <span class='refnanny'>__Pyx_RefNannyDeclarations</span>\n",
       "  <span class='refnanny'>__Pyx_RefNannySetupContext</span>(\"get_geos_context_handle\", 0);\n",
       "/* … */\n",
       "  /* function exit code */\n",
       "  __pyx_L1_error:;\n",
       "  <span class='pyx_macro_api'>__Pyx_XDECREF</span>(__pyx_t_1);\n",
       "  <span class='pyx_macro_api'>__Pyx_XDECREF</span>(__pyx_t_2);\n",
       "  <span class='pyx_c_api'>__Pyx_WriteUnraisable</span>(\"_cython_magic_8e0b9caca71a8ba181fa5296b96333c4.get_geos_context_handle\", __pyx_clineno, __pyx_lineno, __pyx_filename, 1, 0);\n",
       "  __pyx_r = 0;\n",
       "  __pyx_L0:;\n",
       "  <span class='pyx_macro_api'>__Pyx_XDECREF</span>(__pyx_v_lgeos);\n",
       "  <span class='refnanny'>__Pyx_RefNannyFinishContext</span>();\n",
       "  return __pyx_r;\n",
       "}\n",
       "</pre><pre class=\"cython line score-0\">&#xA0;<span class=\"\">14</span>:     <span class=\"c\"># Note: This requires that lgeos is defined, so needs to be imported as:</span></pre>\n",
       "<pre class=\"cython line score-15\" onclick='toggleDiv(this)'>+<span class=\"\">15</span>:     <span class=\"k\">from</span> <span class=\"nn\">shapely.geos</span> <span class=\"k\">import</span> <span class=\"n\">lgeos</span></pre>\n",
       "<pre class='cython code score-15 '>  __pyx_t_1 = <span class='py_c_api'>PyList_New</span>(1);<span class='error_goto'> if (unlikely(!__pyx_t_1)) __PYX_ERR(0, 15, __pyx_L1_error)</span>\n",
       "  <span class='refnanny'>__Pyx_GOTREF</span>(__pyx_t_1);\n",
       "  <span class='pyx_macro_api'>__Pyx_INCREF</span>(__pyx_n_s_lgeos);\n",
       "  <span class='refnanny'>__Pyx_GIVEREF</span>(__pyx_n_s_lgeos);\n",
       "  <span class='py_macro_api'>PyList_SET_ITEM</span>(__pyx_t_1, 0, __pyx_n_s_lgeos);\n",
       "  __pyx_t_2 = <span class='pyx_c_api'>__Pyx_Import</span>(__pyx_n_s_shapely_geos, __pyx_t_1, 0);<span class='error_goto'> if (unlikely(!__pyx_t_2)) __PYX_ERR(0, 15, __pyx_L1_error)</span>\n",
       "  <span class='refnanny'>__Pyx_GOTREF</span>(__pyx_t_2);\n",
       "  <span class='pyx_macro_api'>__Pyx_DECREF</span>(__pyx_t_1); __pyx_t_1 = 0;\n",
       "  __pyx_t_1 = <span class='pyx_c_api'>__Pyx_ImportFrom</span>(__pyx_t_2, __pyx_n_s_lgeos);<span class='error_goto'> if (unlikely(!__pyx_t_1)) __PYX_ERR(0, 15, __pyx_L1_error)</span>\n",
       "  <span class='refnanny'>__Pyx_GOTREF</span>(__pyx_t_1);\n",
       "  <span class='pyx_macro_api'>__Pyx_INCREF</span>(__pyx_t_1);\n",
       "  __pyx_v_lgeos = __pyx_t_1;\n",
       "  <span class='pyx_macro_api'>__Pyx_DECREF</span>(__pyx_t_1); __pyx_t_1 = 0;\n",
       "  <span class='pyx_macro_api'>__Pyx_DECREF</span>(__pyx_t_2); __pyx_t_2 = 0;\n",
       "</pre><pre class=\"cython line score-10\" onclick='toggleDiv(this)'>+<span class=\"\">16</span>:     <span class=\"k\">cdef</span> <span class=\"kt\">np</span>.<span class=\"kt\">uintp_t</span> <span class=\"nf\">handle</span> <span class=\"o\">=</span> <span class=\"n\">lgeos</span><span class=\"o\">.</span><span class=\"n\">geos_handle</span></pre>\n",
       "<pre class='cython code score-10 '>  __pyx_t_2 = <span class='pyx_c_api'>__Pyx_PyObject_GetAttrStr</span>(__pyx_v_lgeos, __pyx_n_s_geos_handle);<span class='error_goto'> if (unlikely(!__pyx_t_2)) __PYX_ERR(0, 16, __pyx_L1_error)</span>\n",
       "  <span class='refnanny'>__Pyx_GOTREF</span>(__pyx_t_2);\n",
       "  __pyx_t_3 = <span class='pyx_c_api'>__Pyx_PyInt_As_size_t</span>(__pyx_t_2); if (unlikely((__pyx_t_3 == ((npy_uintp)-1)) &amp;&amp; <span class='py_c_api'>PyErr_Occurred</span>())) <span class='error_goto'>__PYX_ERR(0, 16, __pyx_L1_error)</span>\n",
       "  <span class='pyx_macro_api'>__Pyx_DECREF</span>(__pyx_t_2); __pyx_t_2 = 0;\n",
       "  __pyx_v_handle = __pyx_t_3;\n",
       "</pre><pre class=\"cython line score-0\" onclick='toggleDiv(this)'>+<span class=\"\">17</span>:     <span class=\"k\">return</span> <span class=\"o\">&lt;</span><span class=\"n\">GEOSContextHandle_t</span><span class=\"o\">&gt;</span><span class=\"n\">handle</span></pre>\n",
       "<pre class='cython code score-0 '>  __pyx_r = ((GEOSContextHandle_t)__pyx_v_handle);\n",
       "  goto __pyx_L0;\n",
       "</pre><pre class=\"cython line score-0\">&#xA0;<span class=\"\">18</span>: </pre>\n",
       "<pre class=\"cython line score-0\">&#xA0;<span class=\"\">19</span>: </pre>\n",
       "<pre class=\"cython line score-0\">&#xA0;<span class=\"\">20</span>: <span class=\"nd\">@cython</span><span class=\"o\">.</span><span class=\"n\">boundscheck</span><span class=\"p\">(</span><span class=\"bp\">False</span><span class=\"p\">)</span>  <span class=\"c\"># won&#39;t check that index is in bounds of array</span></pre>\n",
       "<pre class=\"cython line score-0\">&#xA0;<span class=\"\">21</span>: <span class=\"nd\">@cython</span><span class=\"o\">.</span><span class=\"n\">wraparound</span><span class=\"p\">(</span><span class=\"bp\">False</span><span class=\"p\">)</span> <span class=\"c\"># array[-1] won&#39;t work</span></pre>\n",
       "<pre class=\"cython line score-59\" onclick='toggleDiv(this)'>+<span class=\"\">22</span>: <span class=\"k\">def</span> <span class=\"nf\">contains_cy_insee</span><span class=\"p\">(</span><span class=\"n\">np</span><span class=\"o\">.</span><span class=\"n\">int64_t</span><span class=\"p\">[:]</span> <span class=\"n\">array_usrs</span><span class=\"p\">,</span> <span class=\"n\">np</span><span class=\"o\">.</span><span class=\"n\">int64_t</span><span class=\"p\">[:]</span><span class=\"n\">array_insee</span> <span class=\"p\">):</span></pre>\n",
       "<pre class='cython code score-59 '>/* Python wrapper */\n",
       "static PyObject *__pyx_pw_46_cython_magic_8e0b9caca71a8ba181fa5296b96333c4_1contains_cy_insee(PyObject *__pyx_self, PyObject *__pyx_args, PyObject *__pyx_kwds); /*proto*/\n",
       "static PyMethodDef __pyx_mdef_46_cython_magic_8e0b9caca71a8ba181fa5296b96333c4_1contains_cy_insee = {\"contains_cy_insee\", (PyCFunction)__pyx_pw_46_cython_magic_8e0b9caca71a8ba181fa5296b96333c4_1contains_cy_insee, METH_VARARGS|METH_KEYWORDS, 0};\n",
       "static PyObject *__pyx_pw_46_cython_magic_8e0b9caca71a8ba181fa5296b96333c4_1contains_cy_insee(PyObject *__pyx_self, PyObject *__pyx_args, PyObject *__pyx_kwds) {\n",
       "  __Pyx_memviewslice __pyx_v_array_usrs = { 0, 0, { 0 }, { 0 }, { 0 } };\n",
       "  __Pyx_memviewslice __pyx_v_array_insee = { 0, 0, { 0 }, { 0 }, { 0 } };\n",
       "  PyObject *__pyx_r = 0;\n",
       "  <span class='refnanny'>__Pyx_RefNannyDeclarations</span>\n",
       "  <span class='refnanny'>__Pyx_RefNannySetupContext</span>(\"contains_cy_insee (wrapper)\", 0);\n",
       "  {\n",
       "    static PyObject **__pyx_pyargnames[] = {&amp;__pyx_n_s_array_usrs,&amp;__pyx_n_s_array_insee,0};\n",
       "    PyObject* values[2] = {0,0};\n",
       "    if (unlikely(__pyx_kwds)) {\n",
       "      Py_ssize_t kw_args;\n",
       "      const Py_ssize_t pos_args = <span class='py_macro_api'>PyTuple_GET_SIZE</span>(__pyx_args);\n",
       "      switch (pos_args) {\n",
       "        case  2: values[1] = <span class='py_macro_api'>PyTuple_GET_ITEM</span>(__pyx_args, 1);\n",
       "        CYTHON_FALLTHROUGH;\n",
       "        case  1: values[0] = <span class='py_macro_api'>PyTuple_GET_ITEM</span>(__pyx_args, 0);\n",
       "        CYTHON_FALLTHROUGH;\n",
       "        case  0: break;\n",
       "        default: goto __pyx_L5_argtuple_error;\n",
       "      }\n",
       "      kw_args = <span class='py_c_api'>PyDict_Size</span>(__pyx_kwds);\n",
       "      switch (pos_args) {\n",
       "        case  0:\n",
       "        if (likely((values[0] = <span class='py_c_api'>PyDict_GetItem</span>(__pyx_kwds, __pyx_n_s_array_usrs)) != 0)) kw_args--;\n",
       "        else goto __pyx_L5_argtuple_error;\n",
       "        CYTHON_FALLTHROUGH;\n",
       "        case  1:\n",
       "        if (likely((values[1] = <span class='py_c_api'>PyDict_GetItem</span>(__pyx_kwds, __pyx_n_s_array_insee)) != 0)) kw_args--;\n",
       "        else {\n",
       "          <span class='pyx_c_api'>__Pyx_RaiseArgtupleInvalid</span>(\"contains_cy_insee\", 1, 2, 2, 1); <span class='error_goto'>__PYX_ERR(0, 22, __pyx_L3_error)</span>\n",
       "        }\n",
       "      }\n",
       "      if (unlikely(kw_args &gt; 0)) {\n",
       "        if (unlikely(<span class='pyx_c_api'>__Pyx_ParseOptionalKeywords</span>(__pyx_kwds, __pyx_pyargnames, 0, values, pos_args, \"contains_cy_insee\") &lt; 0)) <span class='error_goto'>__PYX_ERR(0, 22, __pyx_L3_error)</span>\n",
       "      }\n",
       "    } else if (<span class='py_macro_api'>PyTuple_GET_SIZE</span>(__pyx_args) != 2) {\n",
       "      goto __pyx_L5_argtuple_error;\n",
       "    } else {\n",
       "      values[0] = <span class='py_macro_api'>PyTuple_GET_ITEM</span>(__pyx_args, 0);\n",
       "      values[1] = <span class='py_macro_api'>PyTuple_GET_ITEM</span>(__pyx_args, 1);\n",
       "    }\n",
       "    __pyx_v_array_usrs = __Pyx_PyObject_to_MemoryviewSlice_ds_nn___pyx_t_5numpy_int64_t(values[0]);<span class='error_goto'> if (unlikely(!__pyx_v_array_usrs.memview)) __PYX_ERR(0, 22, __pyx_L3_error)</span>\n",
       "    __pyx_v_array_insee = __Pyx_PyObject_to_MemoryviewSlice_ds_nn___pyx_t_5numpy_int64_t(values[1]);<span class='error_goto'> if (unlikely(!__pyx_v_array_insee.memview)) __PYX_ERR(0, 22, __pyx_L3_error)</span>\n",
       "  }\n",
       "  goto __pyx_L4_argument_unpacking_done;\n",
       "  __pyx_L5_argtuple_error:;\n",
       "  <span class='pyx_c_api'>__Pyx_RaiseArgtupleInvalid</span>(\"contains_cy_insee\", 1, 2, 2, <span class='py_macro_api'>PyTuple_GET_SIZE</span>(__pyx_args)); <span class='error_goto'>__PYX_ERR(0, 22, __pyx_L3_error)</span>\n",
       "  __pyx_L3_error:;\n",
       "  <span class='pyx_c_api'>__Pyx_AddTraceback</span>(\"_cython_magic_8e0b9caca71a8ba181fa5296b96333c4.contains_cy_insee\", __pyx_clineno, __pyx_lineno, __pyx_filename);\n",
       "  <span class='refnanny'>__Pyx_RefNannyFinishContext</span>();\n",
       "  return NULL;\n",
       "  __pyx_L4_argument_unpacking_done:;\n",
       "  __pyx_r = __pyx_pf_46_cython_magic_8e0b9caca71a8ba181fa5296b96333c4_contains_cy_insee(__pyx_self, __pyx_v_array_usrs, __pyx_v_array_insee);\n",
       "\n",
       "  /* function exit code */\n",
       "  <span class='refnanny'>__Pyx_RefNannyFinishContext</span>();\n",
       "  return __pyx_r;\n",
       "}\n",
       "\n",
       "static PyObject *__pyx_pf_46_cython_magic_8e0b9caca71a8ba181fa5296b96333c4_contains_cy_insee(CYTHON_UNUSED PyObject *__pyx_self, __Pyx_memviewslice __pyx_v_array_usrs, __Pyx_memviewslice __pyx_v_array_insee) {\n",
       "  Py_ssize_t __pyx_v_idx;\n",
       "  unsigned int __pyx_v_n;\n",
       "  unsigned int __pyx_v_n_geo;\n",
       "  PyArrayObject *__pyx_v_result = 0;\n",
       "  GEOSGeometry *__pyx_v_geom1;\n",
       "  GEOSGeometry *__pyx_v_geom2;\n",
       "  __pyx_t_5numpy_uintp_t __pyx_v_geos_geom_usrs;\n",
       "  __pyx_t_5numpy_uintp_t __pyx_v_geos_geom_insee;\n",
       "  GEOSContextHandle_t __pyx_v_geos_h;\n",
       "  unsigned int __pyx_v_idx_geos;\n",
       "  __Pyx_LocalBuf_ND __pyx_pybuffernd_result;\n",
       "  __Pyx_Buffer __pyx_pybuffer_result;\n",
       "  PyObject *__pyx_r = NULL;\n",
       "  <span class='refnanny'>__Pyx_RefNannyDeclarations</span>\n",
       "  <span class='refnanny'>__Pyx_RefNannySetupContext</span>(\"contains_cy_insee\", 0);\n",
       "  __pyx_pybuffer_result.pybuffer.buf = NULL;\n",
       "  __pyx_pybuffer_result.refcount = 0;\n",
       "  __pyx_pybuffernd_result.data = NULL;\n",
       "  __pyx_pybuffernd_result.rcbuffer = &amp;__pyx_pybuffer_result;\n",
       "/* … */\n",
       "  /* function exit code */\n",
       "  __pyx_L1_error:;\n",
       "  <span class='pyx_macro_api'>__Pyx_XDECREF</span>(__pyx_t_1);\n",
       "  <span class='pyx_macro_api'>__Pyx_XDECREF</span>(__pyx_t_2);\n",
       "  <span class='pyx_macro_api'>__Pyx_XDECREF</span>(__pyx_t_4);\n",
       "  <span class='pyx_macro_api'>__Pyx_XDECREF</span>(__pyx_t_5);\n",
       "  <span class='pyx_macro_api'>__Pyx_XDECREF</span>(__pyx_t_6);\n",
       "  { PyObject *__pyx_type, *__pyx_value, *__pyx_tb;\n",
       "    __Pyx_PyThreadState_declare\n",
       "    __Pyx_PyThreadState_assign\n",
       "    <span class='pyx_c_api'>__Pyx_ErrFetch</span>(&amp;__pyx_type, &amp;__pyx_value, &amp;__pyx_tb);\n",
       "    <span class='pyx_c_api'>__Pyx_SafeReleaseBuffer</span>(&amp;__pyx_pybuffernd_result.rcbuffer-&gt;pybuffer);\n",
       "  <span class='pyx_c_api'>__Pyx_ErrRestore</span>(__pyx_type, __pyx_value, __pyx_tb);}\n",
       "  <span class='pyx_c_api'>__Pyx_AddTraceback</span>(\"_cython_magic_8e0b9caca71a8ba181fa5296b96333c4.contains_cy_insee\", __pyx_clineno, __pyx_lineno, __pyx_filename);\n",
       "  __pyx_r = NULL;\n",
       "  goto __pyx_L2;\n",
       "  __pyx_L0:;\n",
       "  <span class='pyx_c_api'>__Pyx_SafeReleaseBuffer</span>(&amp;__pyx_pybuffernd_result.rcbuffer-&gt;pybuffer);\n",
       "  __pyx_L2:;\n",
       "  <span class='pyx_macro_api'>__Pyx_XDECREF</span>((PyObject *)__pyx_v_result);\n",
       "  __PYX_XDEC_MEMVIEW(&amp;__pyx_v_array_usrs, 1);\n",
       "  __PYX_XDEC_MEMVIEW(&amp;__pyx_v_array_insee, 1);\n",
       "  <span class='refnanny'>__Pyx_XGIVEREF</span>(__pyx_r);\n",
       "  <span class='refnanny'>__Pyx_RefNannyFinishContext</span>();\n",
       "  return __pyx_r;\n",
       "}\n",
       "/* … */\n",
       "  __pyx_tuple__29 = <span class='py_c_api'>PyTuple_Pack</span>(13, __pyx_n_s_array_usrs, __pyx_n_s_array_insee, __pyx_n_s_idx, __pyx_n_s_n, __pyx_n_s_n_geo, __pyx_n_s_result, __pyx_n_s_geos_handle, __pyx_n_s_geom1, __pyx_n_s_geom2, __pyx_n_s_geos_geom_usrs, __pyx_n_s_geos_geom_insee, __pyx_n_s_geos_h, __pyx_n_s_idx_geos);<span class='error_goto'> if (unlikely(!__pyx_tuple__29)) __PYX_ERR(0, 22, __pyx_L1_error)</span>\n",
       "  <span class='refnanny'>__Pyx_GOTREF</span>(__pyx_tuple__29);\n",
       "  <span class='refnanny'>__Pyx_GIVEREF</span>(__pyx_tuple__29);\n",
       "/* … */\n",
       "  __pyx_t_1 = PyCFunction_NewEx(&amp;__pyx_mdef_46_cython_magic_8e0b9caca71a8ba181fa5296b96333c4_1contains_cy_insee, NULL, __pyx_n_s_cython_magic_8e0b9caca71a8ba181);<span class='error_goto'> if (unlikely(!__pyx_t_1)) __PYX_ERR(0, 22, __pyx_L1_error)</span>\n",
       "  <span class='refnanny'>__Pyx_GOTREF</span>(__pyx_t_1);\n",
       "  if (<span class='py_c_api'>PyDict_SetItem</span>(__pyx_d, __pyx_n_s_contains_cy_insee, __pyx_t_1) &lt; 0) <span class='error_goto'>__PYX_ERR(0, 22, __pyx_L1_error)</span>\n",
       "  <span class='pyx_macro_api'>__Pyx_DECREF</span>(__pyx_t_1); __pyx_t_1 = 0;\n",
       "  __pyx_codeobj__30 = (PyObject*)<span class='pyx_c_api'>__Pyx_PyCode_New</span>(2, 0, 13, 0, CO_OPTIMIZED|CO_NEWLOCALS, __pyx_empty_bytes, __pyx_empty_tuple, __pyx_empty_tuple, __pyx_tuple__29, __pyx_empty_tuple, __pyx_empty_tuple, __pyx_kp_s_home_jlevyabi_cache_ipython_cyt, __pyx_n_s_contains_cy_insee, 22, __pyx_empty_bytes);<span class='error_goto'> if (unlikely(!__pyx_codeobj__30)) __PYX_ERR(0, 22, __pyx_L1_error)</span>\n",
       "</pre><pre class=\"cython line score-0\">&#xA0;<span class=\"\">23</span>: </pre>\n",
       "<pre class=\"cython line score-0\">&#xA0;<span class=\"\">24</span>:     <span class=\"k\">cdef</span> <span class=\"kt\">Py_ssize_t</span> <span class=\"nf\">idx</span></pre>\n",
       "<pre class=\"cython line score-11\" onclick='toggleDiv(this)'>+<span class=\"\">25</span>:     <span class=\"k\">cdef</span> <span class=\"kt\">unsigned</span> <span class=\"kt\">int</span> <span class=\"nf\">n</span> <span class=\"o\">=</span> <span class=\"n\">array_usrs</span><span class=\"o\">.</span><span class=\"n\">size</span></pre>\n",
       "<pre class='cython code score-11 '>  __pyx_t_1 = __pyx_memoryview_fromslice(__pyx_v_array_usrs, 1, (PyObject *(*)(char *)) __pyx_memview_get_nn___pyx_t_5numpy_int64_t, (int (*)(char *, PyObject *)) __pyx_memview_set_nn___pyx_t_5numpy_int64_t, 0);;<span class='error_goto'> if (unlikely(!__pyx_t_1)) __PYX_ERR(0, 25, __pyx_L1_error)</span>\n",
       "  <span class='refnanny'>__Pyx_GOTREF</span>(__pyx_t_1);\n",
       "  __pyx_t_2 = <span class='pyx_c_api'>__Pyx_PyObject_GetAttrStr</span>(__pyx_t_1, __pyx_n_s_size);<span class='error_goto'> if (unlikely(!__pyx_t_2)) __PYX_ERR(0, 25, __pyx_L1_error)</span>\n",
       "  <span class='refnanny'>__Pyx_GOTREF</span>(__pyx_t_2);\n",
       "  <span class='pyx_macro_api'>__Pyx_DECREF</span>(__pyx_t_1); __pyx_t_1 = 0;\n",
       "  __pyx_t_3 = <span class='pyx_c_api'>__Pyx_PyInt_As_unsigned_int</span>(__pyx_t_2); if (unlikely((__pyx_t_3 == (unsigned int)-1) &amp;&amp; <span class='py_c_api'>PyErr_Occurred</span>())) <span class='error_goto'>__PYX_ERR(0, 25, __pyx_L1_error)</span>\n",
       "  <span class='pyx_macro_api'>__Pyx_DECREF</span>(__pyx_t_2); __pyx_t_2 = 0;\n",
       "  __pyx_v_n = __pyx_t_3;\n",
       "</pre><pre class=\"cython line score-11\" onclick='toggleDiv(this)'>+<span class=\"\">26</span>:     <span class=\"k\">cdef</span> <span class=\"kt\">unsigned</span> <span class=\"kt\">int</span> <span class=\"nf\">n_geo</span> <span class=\"o\">=</span> <span class=\"n\">array_insee</span><span class=\"o\">.</span><span class=\"n\">size</span></pre>\n",
       "<pre class='cython code score-11 '>  __pyx_t_2 = __pyx_memoryview_fromslice(__pyx_v_array_insee, 1, (PyObject *(*)(char *)) __pyx_memview_get_nn___pyx_t_5numpy_int64_t, (int (*)(char *, PyObject *)) __pyx_memview_set_nn___pyx_t_5numpy_int64_t, 0);;<span class='error_goto'> if (unlikely(!__pyx_t_2)) __PYX_ERR(0, 26, __pyx_L1_error)</span>\n",
       "  <span class='refnanny'>__Pyx_GOTREF</span>(__pyx_t_2);\n",
       "  __pyx_t_1 = <span class='pyx_c_api'>__Pyx_PyObject_GetAttrStr</span>(__pyx_t_2, __pyx_n_s_size);<span class='error_goto'> if (unlikely(!__pyx_t_1)) __PYX_ERR(0, 26, __pyx_L1_error)</span>\n",
       "  <span class='refnanny'>__Pyx_GOTREF</span>(__pyx_t_1);\n",
       "  <span class='pyx_macro_api'>__Pyx_DECREF</span>(__pyx_t_2); __pyx_t_2 = 0;\n",
       "  __pyx_t_3 = <span class='pyx_c_api'>__Pyx_PyInt_As_unsigned_int</span>(__pyx_t_1); if (unlikely((__pyx_t_3 == (unsigned int)-1) &amp;&amp; <span class='py_c_api'>PyErr_Occurred</span>())) <span class='error_goto'>__PYX_ERR(0, 26, __pyx_L1_error)</span>\n",
       "  <span class='pyx_macro_api'>__Pyx_DECREF</span>(__pyx_t_1); __pyx_t_1 = 0;\n",
       "  __pyx_v_n_geo = __pyx_t_3;\n",
       "</pre><pre class=\"cython line score-45\" onclick='toggleDiv(this)'>+<span class=\"\">27</span>:     <span class=\"k\">cdef</span> <span class=\"kt\">np</span>.<span class=\"kt\">ndarray</span>[<span class=\"kt\">np</span>.<span class=\"nf\">uint8_t</span><span class=\"p\">,</span> <span class=\"nf\">ndim</span><span class=\"o\">=</span><span class=\"mf\">2</span><span class=\"p\">,</span> <span class=\"n\">cast</span><span class=\"o\">=</span><span class=\"bp\">True</span><span class=\"p\">]</span> <span class=\"n\">result</span> <span class=\"o\">=</span> <span class=\"n\">np</span><span class=\"o\">.</span><span class=\"n\">empty</span><span class=\"p\">([</span><span class=\"n\">n</span><span class=\"p\">,</span><span class=\"n\">n_geo</span><span class=\"p\">],</span><span class=\"n\">dtype</span><span class=\"o\">=</span><span class=\"n\">np</span><span class=\"o\">.</span><span class=\"n\">uint8</span><span class=\"p\">)</span></pre>\n",
       "<pre class='cython code score-45 '>  __pyx_t_1 = <span class='pyx_c_api'>__Pyx_GetModuleGlobalName</span>(__pyx_n_s_np);<span class='error_goto'> if (unlikely(!__pyx_t_1)) __PYX_ERR(0, 27, __pyx_L1_error)</span>\n",
       "  <span class='refnanny'>__Pyx_GOTREF</span>(__pyx_t_1);\n",
       "  __pyx_t_2 = <span class='pyx_c_api'>__Pyx_PyObject_GetAttrStr</span>(__pyx_t_1, __pyx_n_s_empty);<span class='error_goto'> if (unlikely(!__pyx_t_2)) __PYX_ERR(0, 27, __pyx_L1_error)</span>\n",
       "  <span class='refnanny'>__Pyx_GOTREF</span>(__pyx_t_2);\n",
       "  <span class='pyx_macro_api'>__Pyx_DECREF</span>(__pyx_t_1); __pyx_t_1 = 0;\n",
       "  __pyx_t_1 = <span class='pyx_c_api'>__Pyx_PyInt_From_unsigned_int</span>(__pyx_v_n);<span class='error_goto'> if (unlikely(!__pyx_t_1)) __PYX_ERR(0, 27, __pyx_L1_error)</span>\n",
       "  <span class='refnanny'>__Pyx_GOTREF</span>(__pyx_t_1);\n",
       "  __pyx_t_4 = <span class='pyx_c_api'>__Pyx_PyInt_From_unsigned_int</span>(__pyx_v_n_geo);<span class='error_goto'> if (unlikely(!__pyx_t_4)) __PYX_ERR(0, 27, __pyx_L1_error)</span>\n",
       "  <span class='refnanny'>__Pyx_GOTREF</span>(__pyx_t_4);\n",
       "  __pyx_t_5 = <span class='py_c_api'>PyList_New</span>(2);<span class='error_goto'> if (unlikely(!__pyx_t_5)) __PYX_ERR(0, 27, __pyx_L1_error)</span>\n",
       "  <span class='refnanny'>__Pyx_GOTREF</span>(__pyx_t_5);\n",
       "  <span class='refnanny'>__Pyx_GIVEREF</span>(__pyx_t_1);\n",
       "  <span class='py_macro_api'>PyList_SET_ITEM</span>(__pyx_t_5, 0, __pyx_t_1);\n",
       "  <span class='refnanny'>__Pyx_GIVEREF</span>(__pyx_t_4);\n",
       "  <span class='py_macro_api'>PyList_SET_ITEM</span>(__pyx_t_5, 1, __pyx_t_4);\n",
       "  __pyx_t_1 = 0;\n",
       "  __pyx_t_4 = 0;\n",
       "  __pyx_t_4 = <span class='py_c_api'>PyTuple_New</span>(1);<span class='error_goto'> if (unlikely(!__pyx_t_4)) __PYX_ERR(0, 27, __pyx_L1_error)</span>\n",
       "  <span class='refnanny'>__Pyx_GOTREF</span>(__pyx_t_4);\n",
       "  <span class='refnanny'>__Pyx_GIVEREF</span>(__pyx_t_5);\n",
       "  <span class='py_macro_api'>PyTuple_SET_ITEM</span>(__pyx_t_4, 0, __pyx_t_5);\n",
       "  __pyx_t_5 = 0;\n",
       "  __pyx_t_5 = <span class='pyx_c_api'>__Pyx_PyDict_NewPresized</span>(1);<span class='error_goto'> if (unlikely(!__pyx_t_5)) __PYX_ERR(0, 27, __pyx_L1_error)</span>\n",
       "  <span class='refnanny'>__Pyx_GOTREF</span>(__pyx_t_5);\n",
       "  __pyx_t_1 = <span class='pyx_c_api'>__Pyx_GetModuleGlobalName</span>(__pyx_n_s_np);<span class='error_goto'> if (unlikely(!__pyx_t_1)) __PYX_ERR(0, 27, __pyx_L1_error)</span>\n",
       "  <span class='refnanny'>__Pyx_GOTREF</span>(__pyx_t_1);\n",
       "  __pyx_t_6 = <span class='pyx_c_api'>__Pyx_PyObject_GetAttrStr</span>(__pyx_t_1, __pyx_n_s_uint8);<span class='error_goto'> if (unlikely(!__pyx_t_6)) __PYX_ERR(0, 27, __pyx_L1_error)</span>\n",
       "  <span class='refnanny'>__Pyx_GOTREF</span>(__pyx_t_6);\n",
       "  <span class='pyx_macro_api'>__Pyx_DECREF</span>(__pyx_t_1); __pyx_t_1 = 0;\n",
       "  if (<span class='py_c_api'>PyDict_SetItem</span>(__pyx_t_5, __pyx_n_s_dtype, __pyx_t_6) &lt; 0) <span class='error_goto'>__PYX_ERR(0, 27, __pyx_L1_error)</span>\n",
       "  <span class='pyx_macro_api'>__Pyx_DECREF</span>(__pyx_t_6); __pyx_t_6 = 0;\n",
       "  __pyx_t_6 = <span class='pyx_c_api'>__Pyx_PyObject_Call</span>(__pyx_t_2, __pyx_t_4, __pyx_t_5);<span class='error_goto'> if (unlikely(!__pyx_t_6)) __PYX_ERR(0, 27, __pyx_L1_error)</span>\n",
       "  <span class='refnanny'>__Pyx_GOTREF</span>(__pyx_t_6);\n",
       "  <span class='pyx_macro_api'>__Pyx_DECREF</span>(__pyx_t_2); __pyx_t_2 = 0;\n",
       "  <span class='pyx_macro_api'>__Pyx_DECREF</span>(__pyx_t_4); __pyx_t_4 = 0;\n",
       "  <span class='pyx_macro_api'>__Pyx_DECREF</span>(__pyx_t_5); __pyx_t_5 = 0;\n",
       "  if (!(likely(((__pyx_t_6) == Py_None) || likely(<span class='pyx_c_api'>__Pyx_TypeTest</span>(__pyx_t_6, __pyx_ptype_5numpy_ndarray))))) <span class='error_goto'>__PYX_ERR(0, 27, __pyx_L1_error)</span>\n",
       "  __pyx_t_7 = ((PyArrayObject *)__pyx_t_6);\n",
       "  {\n",
       "    __Pyx_BufFmt_StackElem __pyx_stack[1];\n",
       "    if (unlikely(<span class='pyx_c_api'>__Pyx_GetBufferAndValidate</span>(&amp;__pyx_pybuffernd_result.rcbuffer-&gt;pybuffer, (PyObject*)__pyx_t_7, &amp;__Pyx_TypeInfo_nn___pyx_t_5numpy_uint8_t, PyBUF_FORMAT| PyBUF_STRIDES, 2, 1, __pyx_stack) == -1)) {\n",
       "      __pyx_v_result = ((PyArrayObject *)Py_None); <span class='pyx_macro_api'>__Pyx_INCREF</span>(Py_None); __pyx_pybuffernd_result.rcbuffer-&gt;pybuffer.buf = NULL;\n",
       "      <span class='error_goto'>__PYX_ERR(0, 27, __pyx_L1_error)</span>\n",
       "    } else {__pyx_pybuffernd_result.diminfo[0].strides = __pyx_pybuffernd_result.rcbuffer-&gt;pybuffer.strides[0]; __pyx_pybuffernd_result.diminfo[0].shape = __pyx_pybuffernd_result.rcbuffer-&gt;pybuffer.shape[0]; __pyx_pybuffernd_result.diminfo[1].strides = __pyx_pybuffernd_result.rcbuffer-&gt;pybuffer.strides[1]; __pyx_pybuffernd_result.diminfo[1].shape = __pyx_pybuffernd_result.rcbuffer-&gt;pybuffer.shape[1];\n",
       "    }\n",
       "  }\n",
       "  __pyx_t_7 = 0;\n",
       "  __pyx_v_result = ((PyArrayObject *)__pyx_t_6);\n",
       "  __pyx_t_6 = 0;\n",
       "</pre><pre class=\"cython line score-0\">&#xA0;<span class=\"\">28</span>: </pre>\n",
       "<pre class=\"cython line score-0\">&#xA0;<span class=\"\">29</span>:     <span class=\"k\">cdef</span> <span class=\"kt\">GEOSContextHandle_t</span> <span class=\"nf\">geos_handle</span></pre>\n",
       "<pre class=\"cython line score-0\">&#xA0;<span class=\"\">30</span>:     <span class=\"k\">cdef</span> <span class=\"kt\">GEOSGeometry</span> *<span class=\"nf\">geom1</span></pre>\n",
       "<pre class=\"cython line score-0\">&#xA0;<span class=\"\">31</span>:     <span class=\"k\">cdef</span> <span class=\"kt\">GEOSGeometry</span> *<span class=\"nf\">geom2</span></pre>\n",
       "<pre class=\"cython line score-0\">&#xA0;<span class=\"\">32</span>:     <span class=\"k\">cdef</span> <span class=\"kt\">np</span>.<span class=\"kt\">uintp_t</span> <span class=\"nf\">geos_geom_usrs</span></pre>\n",
       "<pre class=\"cython line score-0\">&#xA0;<span class=\"\">33</span>:     <span class=\"k\">cdef</span> <span class=\"kt\">np</span>.<span class=\"kt\">uintp_t</span> <span class=\"nf\">geos_geom_insee</span></pre>\n",
       "<pre class=\"cython line score-0\">&#xA0;<span class=\"\">34</span>: </pre>\n",
       "<pre class=\"cython line score-0\" onclick='toggleDiv(this)'>+<span class=\"\">35</span>:     <span class=\"n\">geos_h</span> <span class=\"o\">=</span> <span class=\"n\">get_geos_context_handle</span><span class=\"p\">()</span></pre>\n",
       "<pre class='cython code score-0 '>  __pyx_v_geos_h = __pyx_f_46_cython_magic_8e0b9caca71a8ba181fa5296b96333c4_get_geos_context_handle();\n",
       "</pre><pre class=\"cython line score-0\" onclick='toggleDiv(this)'>+<span class=\"\">36</span>:     <span class=\"k\">for</span> <span class=\"n\">idx</span> <span class=\"ow\">in</span> <span class=\"nb\">xrange</span><span class=\"p\">(</span><span class=\"n\">n</span><span class=\"p\">):</span></pre>\n",
       "<pre class='cython code score-0 '>  __pyx_t_3 = __pyx_v_n;\n",
       "  for (__pyx_t_8 = 0; __pyx_t_8 &lt; __pyx_t_3; __pyx_t_8+=1) {\n",
       "    __pyx_v_idx = __pyx_t_8;\n",
       "</pre><pre class=\"cython line score-0\" onclick='toggleDiv(this)'>+<span class=\"\">37</span>:         <span class=\"k\">for</span> <span class=\"n\">idx_geos</span> <span class=\"ow\">in</span> <span class=\"nb\">xrange</span><span class=\"p\">(</span><span class=\"n\">n_geo</span><span class=\"p\">):</span></pre>\n",
       "<pre class='cython code score-0 '>    __pyx_t_9 = __pyx_v_n_geo;\n",
       "    for (__pyx_t_10 = 0; __pyx_t_10 &lt; __pyx_t_9; __pyx_t_10+=1) {\n",
       "      __pyx_v_idx_geos = __pyx_t_10;\n",
       "</pre><pre class=\"cython line score-0\" onclick='toggleDiv(this)'>+<span class=\"\">38</span>:             <span class=\"n\">geos_geom_usrs</span> <span class=\"o\">=</span> <span class=\"n\">array_usrs</span><span class=\"p\">[</span><span class=\"n\">idx</span><span class=\"p\">]</span></pre>\n",
       "<pre class='cython code score-0 '>      __pyx_t_11 = __pyx_v_idx;\n",
       "      __pyx_v_geos_geom_usrs = (*((__pyx_t_5numpy_int64_t *) ( /* dim=0 */ (__pyx_v_array_usrs.data + __pyx_t_11 * __pyx_v_array_usrs.strides[0]) )));\n",
       "</pre><pre class=\"cython line score-0\" onclick='toggleDiv(this)'>+<span class=\"\">39</span>:             <span class=\"n\">geom2</span> <span class=\"o\">=</span> <span class=\"o\">&lt;</span><span class=\"n\">GEOSGeometry</span> <span class=\"o\">*&gt;</span><span class=\"n\">geos_geom_usrs</span></pre>\n",
       "<pre class='cython code score-0 '>      __pyx_v_geom2 = ((GEOSGeometry *)__pyx_v_geos_geom_usrs);\n",
       "</pre><pre class=\"cython line score-0\" onclick='toggleDiv(this)'>+<span class=\"\">40</span>:             <span class=\"n\">geos_geom_insee</span> <span class=\"o\">=</span> <span class=\"n\">array_insee</span><span class=\"p\">[</span><span class=\"n\">idx_geos</span><span class=\"p\">]</span></pre>\n",
       "<pre class='cython code score-0 '>      __pyx_t_12 = __pyx_v_idx_geos;\n",
       "      __pyx_v_geos_geom_insee = (*((__pyx_t_5numpy_int64_t *) ( /* dim=0 */ (__pyx_v_array_insee.data + __pyx_t_12 * __pyx_v_array_insee.strides[0]) )));\n",
       "</pre><pre class=\"cython line score-0\" onclick='toggleDiv(this)'>+<span class=\"\">41</span>:             <span class=\"n\">geom1</span> <span class=\"o\">=</span> <span class=\"o\">&lt;</span><span class=\"n\">GEOSGeometry</span> <span class=\"o\">*&gt;</span> <span class=\"n\">geos_geom_insee</span></pre>\n",
       "<pre class='cython code score-0 '>      __pyx_v_geom1 = ((GEOSGeometry *)__pyx_v_geos_geom_insee);\n",
       "</pre><pre class=\"cython line score-0\">&#xA0;<span class=\"\">42</span>: </pre>\n",
       "<pre class=\"cython line score-0\">&#xA0;<span class=\"\">43</span>:             <span class=\"c\"># Put the result of whether the point is &quot;contained&quot; by the</span></pre>\n",
       "<pre class=\"cython line score-0\">&#xA0;<span class=\"\">44</span>:             <span class=\"c\"># prepared geometry into the result array. </span></pre>\n",
       "<pre class=\"cython line score-6\" onclick='toggleDiv(this)'>+<span class=\"\">45</span>:             <span class=\"n\">result</span><span class=\"p\">[</span><span class=\"n\">idx</span><span class=\"p\">][</span><span class=\"n\">idx_geos</span><span class=\"p\">]</span> <span class=\"o\">=</span> <span class=\"o\">&lt;</span><span class=\"n\">np</span><span class=\"o\">.</span><span class=\"n\">uint8_t</span><span class=\"o\">&gt;</span> <span class=\"n\">GEOSContains_r</span><span class=\"p\">(</span><span class=\"n\">geos_h</span><span class=\"p\">,</span> <span class=\"n\">geom1</span><span class=\"p\">,</span> <span class=\"n\">geom2</span><span class=\"p\">)</span></pre>\n",
       "<pre class='cython code score-6 '>      __pyx_t_6 = __Pyx_PyInt_From_npy_uint8(((__pyx_t_5numpy_uint8_t)GEOSContains_r(__pyx_v_geos_h, __pyx_v_geom1, __pyx_v_geom2)));<span class='error_goto'> if (unlikely(!__pyx_t_6)) __PYX_ERR(0, 45, __pyx_L1_error)</span>\n",
       "      <span class='refnanny'>__Pyx_GOTREF</span>(__pyx_t_6);\n",
       "      __pyx_t_5 = <span class='pyx_c_api'>__Pyx_GetItemInt</span>(((PyObject *)__pyx_v_result), __pyx_v_idx, Py_ssize_t, 1, PyInt_FromSsize_t, 0, 0, 0);<span class='error_goto'> if (unlikely(!__pyx_t_5)) __PYX_ERR(0, 45, __pyx_L1_error)</span>\n",
       "      <span class='refnanny'>__Pyx_GOTREF</span>(__pyx_t_5);\n",
       "      if (unlikely(<span class='pyx_c_api'>__Pyx_SetItemInt</span>(__pyx_t_5, __pyx_v_idx_geos, __pyx_t_6, unsigned int, 0, __Pyx_PyInt_From_unsigned_int, 0, 0, 0) &lt; 0)) <span class='error_goto'>__PYX_ERR(0, 45, __pyx_L1_error)</span>\n",
       "      <span class='pyx_macro_api'>__Pyx_DECREF</span>(__pyx_t_5); __pyx_t_5 = 0;\n",
       "      <span class='pyx_macro_api'>__Pyx_DECREF</span>(__pyx_t_6); __pyx_t_6 = 0;\n",
       "    }\n",
       "  }\n",
       "</pre><pre class=\"cython line score-0\">&#xA0;<span class=\"\">46</span>:             <span class=\"c\">#GEOSGeom_destroy_r(geos_h, geom2)</span></pre>\n",
       "<pre class=\"cython line score-0\">&#xA0;<span class=\"\">47</span>: </pre>\n",
       "<pre class=\"cython line score-20\" onclick='toggleDiv(this)'>+<span class=\"\">48</span>:     <span class=\"k\">return</span> <span class=\"n\">result</span><span class=\"o\">.</span><span class=\"n\">view</span><span class=\"p\">(</span><span class=\"n\">dtype</span><span class=\"o\">=</span><span class=\"n\">np</span><span class=\"o\">.</span><span class=\"n\">bool</span><span class=\"p\">)</span></pre>\n",
       "<pre class='cython code score-20 '>  <span class='pyx_macro_api'>__Pyx_XDECREF</span>(__pyx_r);\n",
       "  __pyx_t_6 = <span class='pyx_c_api'>__Pyx_PyObject_GetAttrStr</span>(((PyObject *)__pyx_v_result), __pyx_n_s_view);<span class='error_goto'> if (unlikely(!__pyx_t_6)) __PYX_ERR(0, 48, __pyx_L1_error)</span>\n",
       "  <span class='refnanny'>__Pyx_GOTREF</span>(__pyx_t_6);\n",
       "  __pyx_t_5 = <span class='pyx_c_api'>__Pyx_PyDict_NewPresized</span>(1);<span class='error_goto'> if (unlikely(!__pyx_t_5)) __PYX_ERR(0, 48, __pyx_L1_error)</span>\n",
       "  <span class='refnanny'>__Pyx_GOTREF</span>(__pyx_t_5);\n",
       "  __pyx_t_4 = <span class='pyx_c_api'>__Pyx_GetModuleGlobalName</span>(__pyx_n_s_np);<span class='error_goto'> if (unlikely(!__pyx_t_4)) __PYX_ERR(0, 48, __pyx_L1_error)</span>\n",
       "  <span class='refnanny'>__Pyx_GOTREF</span>(__pyx_t_4);\n",
       "  __pyx_t_2 = <span class='pyx_c_api'>__Pyx_PyObject_GetAttrStr</span>(__pyx_t_4, __pyx_n_s_bool);<span class='error_goto'> if (unlikely(!__pyx_t_2)) __PYX_ERR(0, 48, __pyx_L1_error)</span>\n",
       "  <span class='refnanny'>__Pyx_GOTREF</span>(__pyx_t_2);\n",
       "  <span class='pyx_macro_api'>__Pyx_DECREF</span>(__pyx_t_4); __pyx_t_4 = 0;\n",
       "  if (<span class='py_c_api'>PyDict_SetItem</span>(__pyx_t_5, __pyx_n_s_dtype, __pyx_t_2) &lt; 0) <span class='error_goto'>__PYX_ERR(0, 48, __pyx_L1_error)</span>\n",
       "  <span class='pyx_macro_api'>__Pyx_DECREF</span>(__pyx_t_2); __pyx_t_2 = 0;\n",
       "  __pyx_t_2 = <span class='pyx_c_api'>__Pyx_PyObject_Call</span>(__pyx_t_6, __pyx_empty_tuple, __pyx_t_5);<span class='error_goto'> if (unlikely(!__pyx_t_2)) __PYX_ERR(0, 48, __pyx_L1_error)</span>\n",
       "  <span class='refnanny'>__Pyx_GOTREF</span>(__pyx_t_2);\n",
       "  <span class='pyx_macro_api'>__Pyx_DECREF</span>(__pyx_t_6); __pyx_t_6 = 0;\n",
       "  <span class='pyx_macro_api'>__Pyx_DECREF</span>(__pyx_t_5); __pyx_t_5 = 0;\n",
       "  __pyx_r = __pyx_t_2;\n",
       "  __pyx_t_2 = 0;\n",
       "  goto __pyx_L0;\n",
       "</pre></div></body></html>"
      ],
      "text/plain": [
       "<IPython.core.display.HTML object>"
      ]
     },
     "execution_count": 40,
     "metadata": {},
     "output_type": "execute_result"
    }
   ],
   "source": [
    "%%cython -l geos_c -L/home/jlevyabi/seacabo/geoanaconda/anaconda3/lib -I/home/jlevyabi/seacabo/geoanaconda/anaconda3/include -a\n",
    "\n",
    "import cython\n",
    "cimport cpython.array\n",
    "\n",
    "import numpy as np\n",
    "cimport numpy as np\n",
    "\n",
    "cdef extern from \"geos_c.h\":\n",
    "    ctypedef void *GEOSContextHandle_t\n",
    "    ctypedef struct GEOSGeometry\n",
    "    char GEOSContains_r(GEOSContextHandle_t, const GEOSGeometry*, const GEOSGeometry*) nogil\n",
    "    \n",
    "cdef GEOSContextHandle_t get_geos_context_handle():\n",
    "    # Note: This requires that lgeos is defined, so needs to be imported as:\n",
    "    from shapely.geos import lgeos\n",
    "    cdef np.uintp_t handle = lgeos.geos_handle\n",
    "    return <GEOSContextHandle_t>handle\n",
    "\n",
    "\n",
    "@cython.boundscheck(False)  # won't check that index is in bounds of array\n",
    "@cython.wraparound(False) # array[-1] won't work\n",
    "def contains_cy_insee(np.int64_t[:] array_usrs, np.int64_t[:]array_insee ):\n",
    "    \n",
    "    cdef Py_ssize_t idx\n",
    "    cdef unsigned int n = array_usrs.size\n",
    "    cdef unsigned int n_geo = array_insee.size\n",
    "    cdef np.ndarray[np.uint8_t, ndim=2, cast=True] result = np.empty([n,n_geo],dtype=np.uint8)\n",
    "\n",
    "    cdef GEOSContextHandle_t geos_handle\n",
    "    cdef GEOSGeometry *geom1\n",
    "    cdef GEOSGeometry *geom2\n",
    "    cdef np.uintp_t geos_geom_usrs\n",
    "    cdef np.uintp_t geos_geom_insee\n",
    "\n",
    "    geos_h = get_geos_context_handle()\n",
    "    for idx in xrange(n):\n",
    "        for idx_geos in xrange(n_geo):\n",
    "            geos_geom_usrs = array_usrs[idx]\n",
    "            geom2 = <GEOSGeometry *>geos_geom_usrs\n",
    "            geos_geom_insee = array_insee[idx_geos]\n",
    "            geom1 = <GEOSGeometry *> geos_geom_insee\n",
    "            \n",
    "            # Put the result of whether the point is \"contained\" by the\n",
    "            # prepared geometry into the result array. \n",
    "            result[idx][idx_geos] = <np.uint8_t> GEOSContains_r(geos_h, geom1, geom2)\n",
    "            #GEOSGeom_destroy_r(geos_h, geom2)\n",
    "\n",
    "    return result.view(dtype=np.bool)"
   ]
  },
  {
   "cell_type": "code",
   "execution_count": 9,
   "metadata": {},
   "outputs": [],
   "source": [
    "def my_pt2poly(usr_df,country_dic,set_keys):\n",
    "    usr_info=[];prec=2;step=10**(-prec);vals=[-step,0,step]\n",
    "    test=[]\n",
    "    map_prec = lambda x: str(round(x,prec))\n",
    "    for it,usr in tqdmn(usr_df.iterrows()):\n",
    "        us_posx,us_posy=usr.geometry.centroid.bounds[:2]  \n",
    "        usr_geom=usr.geometry._geom\n",
    "        keys=(set([(map_prec(us_posy+yval),map_prec(us_posx+xval))\n",
    "              for xval in vals for yval in vals])).intersection(set_keys)\n",
    "        pre_df_of_concern=[country_dic[key]\n",
    "                       for key in keys if country_dic[key].shape[0]>0]\n",
    "        df_of_concern=[y._geom \n",
    "                       for x in pre_df_of_concern for y in x.geometry]\n",
    "        df_ilocs_concern=[y\n",
    "                       for x in pre_df_of_concern for y in x[\"Unnamed: 0\"]]\n",
    "        if len(df_of_concern)==0:\n",
    "            test.append(None)\n",
    "            continue\n",
    "        #insee_to_check = pd.concat(df_of_concern)\n",
    "        geom_to_check = df_of_concern#np.array([x._geom for x in (insee_to_check.geometry)])\n",
    "        assignments=(contains_cy_insee(np.array([usr_geom]), np.array(geom_to_check)))\n",
    "        to_check=np.where(assignments)\n",
    "        _,poly=to_check\n",
    "        if len(poly)==0:\n",
    "            test.append(None)\n",
    "        else:\n",
    "            test.append(df_ilocs_concern[poly[0]])\n",
    "    return test"
   ]
  },
  {
   "cell_type": "markdown",
   "metadata": {},
   "source": [
    "## Locations to Home "
   ]
  },
  {
   "cell_type": "code",
   "execution_count": 10,
   "metadata": {},
   "outputs": [],
   "source": [
    "uk = '+proj=tmerc +lat_0=49 +lon_0=-2 +k=0.9996012717 \\\n",
    "+x_0=400000 +y_0=-100000 +ellps=airy \\\n",
    "+towgs84=446.448,-125.157,542.06,0.15,0.247,0.842,-20.489 +units=m +no_defs'\n",
    "from pyproj import transform,Proj\n",
    "\n",
    "def proj_arr(points,proj_to):\n",
    "    inproj = Proj(init='epsg:4326')\n",
    "    outproj = Proj(proj_to)\n",
    "    func = lambda x: transform(inproj,outproj,x[1],x[0])\n",
    "    return np.array(list(map(func, points)))\n",
    "\n",
    "def take_most_frequent_thresh(geopandas_usr,min_times=5,min_days=1):\n",
    "    polys_visited=list(geopandas_usr.idINSPIRE)\n",
    "    time_of_visit=[datetime(int(row.year),int(row.month),int(row.fecha),\n",
    "                            int(row.hour),int(row.minu),int(row.sec))\n",
    "                   for it,row in geopandas_usr.iterrows()]\n",
    "    locat_mode=Counter(polys_visited).most_common(1)[0][0]\n",
    "    nb_times=Counter(polys_visited).most_common(1)[0][1]\n",
    "    inter_idx=np.where([x==locat_mode for x in polys_visited])[0].tolist()\n",
    "    time_diff=[time_of_visit[i] for i in inter_idx]\n",
    "    if nb_times>=min_times and (max(time_diff)-min(time_diff)).days>=min_days:\n",
    "        idx_mode=polys_visited.index(locat_mode)\n",
    "        return idx_mode,geopandas_usr.iloc[idx_mode][[\"lat\",\"lon\"]]\n",
    "    else:\n",
    "        return None,None\n",
    "\n",
    "def get_check_in_rate_margin_most_freq(geopandas_usr):\n",
    "    polys_visited=list(geopandas_usr.idINSPIRE)\n",
    "    inter=Counter(polys_visited).most_common(2)\n",
    "    if len(inter)<2:\n",
    "        return None,None,None,None,None\n",
    "    locat_mode,sec_locat_mode=inter\n",
    "    idx_mode,idx_mode_sec=polys_visited.index(locat_mode[0]),polys_visited.index(sec_locat_mode[0])\n",
    "    return (idx_mode,geopandas_usr.iloc[idx_mode][[\"lat\",\"lon\"]],\n",
    "            idx_mode_sec,geopandas_usr.iloc[idx_mode_sec][[\"lat\",\"lon\"]],\n",
    "           ((locat_mode[1]+0.0-sec_locat_mode[1])/(sec_locat_mode[1]+locat_mode[1])))\n",
    "\n",
    "def take_most_frequent_night_thresh(geopandas_usr,start=21,stop=6) :\n",
    "    polys_visited=(geopandas_usr.idINSPIRE)\n",
    "    polys_visited_night=polys_visited[(geopandas_usr.hour>=start)|(geopandas_usr.hour<stop)]\n",
    "    if len(polys_visited_night)==0:\n",
    "        return None,None\n",
    "    locat_mode=Counter(polys_visited_night).most_common(1)[0][0]\n",
    "    idx_mode=list(polys_visited).index(locat_mode)\n",
    "    return idx_mode,geopandas_usr.iloc[idx_mode][[\"lat\",\"lon\"]]\n",
    "\n",
    "def get_distance_matrix(geopandas_usr):\n",
    "    x = np.array(geopandas_usr[[\"lat\",\"lon\"]]).astype(float).tolist()\n",
    "    y=proj_arr(x,uk)\n",
    "    ztree = cKDTree(y)\n",
    "    z = ztree.sparse_distance_matrix(ztree,1e6,p=2).todense()\n",
    "    return z\n",
    "\n",
    "def distance_to_home(geopandas_usr,select_home_loc,args):\n",
    "    idx,loc=select_home_loc(geopandas_usr,*args)\n",
    "    if idx is None:\n",
    "        return None,None,None\n",
    "    mat_dist=get_distance_matrix(geopandas_usr)\n",
    "    return mat_dist[idx,:].tolist()[0],list(geopandas_usr.day),list(geopandas_usr.hour)\n",
    "\n",
    "def go_through_home_candidates(dic_gpd,select_home_loc):\n",
    "    dic_exam={}\n",
    "    for usr,gpd in tqdmn(dic_gpd.items()):\n",
    "        idx,loc=select_home_loc(gpd)\n",
    "        if idx is None:\n",
    "            continue\n",
    "        dic_exam.setdefault(usr,gpd.iloc[idx])\n",
    "    return dic_exam\n",
    "\n",
    "def go_through_geol_users(dic_gpd,select_home_loc,args,outlier_lim=6e4):\n",
    "    dic_per_day={k:np.zeros(24) for k in range(7)}\n",
    "    dic_nb_per_day={k:np.zeros(24) for k in range(7)}\n",
    "    dic_exam={}\n",
    "    loss=[]\n",
    "    for usr,gpd in tqdmn(dic_gpd.items()):\n",
    "        dic_exam.setdefault(usr,[])\n",
    "        dists,days,hours=distance_to_home(gpd,select_home_loc,args)\n",
    "        new_dists=np.array(dists)\n",
    "        if dists is None:\n",
    "            continue\n",
    "        loss.append(1-(np.sum([new_dists<outlier_lim])+0.0)/len(dists) )\n",
    "        dists=new_dists[new_dists<outlier_lim]\n",
    "        for dist,day,hour in zip(dists,days,hours):\n",
    "            dic_exam[usr].append(dist)\n",
    "            dic_per_day[day][hour]+=dist\n",
    "            dic_nb_per_day[day][hour]+=1\n",
    "    dic_day={}\n",
    "    for k,v in dic_per_day.items():\n",
    "        dic_day[k]=(v/dic_nb_per_day[k])/100\n",
    "    return dic_day,dic_exam,loss"
   ]
  },
  {
   "cell_type": "markdown",
   "metadata": {},
   "source": [
    "## Cluster Information Generation"
   ]
  },
  {
   "cell_type": "code",
   "execution_count": 11,
   "metadata": {},
   "outputs": [],
   "source": [
    "def get_cluster_info(dic_clus,df_tweets):\n",
    "    nb_clusters=len(list(dic_clus.keys()))\n",
    "    word2cluster_only_pos={word:cluster_nb for cluster_nb,cluster_words in dic_clus.items() for word in cluster_words}\n",
    "    clust_freq_only_pos=[]\n",
    "    for tweet in tqdm(df_tweets.tweet_text):\n",
    "        clust_freq_only_pos.append((Counter([word2cluster_only_pos[word]\n",
    "                                             for word in tweet.split() if word in word2cluster_only_pos])))\n",
    "    cfd_only_pos=[{k:(v+0.0)/(sum(dic_count.values()))for k,v in dic_count.items()}\n",
    "                  for dic_count in clust_freq_only_pos]\n",
    "    df_tweets[\"cfd_%d\"%nb_clusters]=[np.array(list({clus:(dic_count[clus] if clus in dic_count else 0)\n",
    "                                    for clus in range(len(dic_clus))}.values())) for dic_count in cfd_only_pos]\n",
    "    return (df_tweets)"
   ]
  },
  {
   "cell_type": "markdown",
   "metadata": {
    "heading_collapsed": true
   },
   "source": [
    "## Download data from geolocated users "
   ]
  },
  {
   "cell_type": "markdown",
   "metadata": {
    "hidden": true
   },
   "source": [
    "Data downloaded from users with geolocations with __INSEE information__ (as also contains set of users with __IRIS dataset__)<br>\n",
    "\n",
    "__Geolocated users__ selected from: [/datastore/complexnet/jlevyabi/ml_soc_econ/data_files/UKSOC_rep/all_together_dic.p](http://url)<br>\n",
    "Tweets downloaded according to code in the __appendix__ (also can be found in my PC: [/Users/jacobolevyabitbol/Desktop/PhDMarton/projects/ses_inference_linguistic/python_scripts/get_tweets_from_geolocated_users.py](http://url))\n",
    "\n",
    "_Clean downloaded tweets, remove retweets and merge all individual tweet files_\n",
    "[/datastore/complexnet/jlevyabi/ml_soc_econ/data_files/UKSOC_rep/merge_geolocated_tweets.py](http://url)<br>\n",
    "\n",
    "__Final file__ here: [/datastore/complexnet/jlevyabi/ml_soc_econ/data_files/UKSOC_rep/tweets/all_geolocated_users.csv](http://url)"
   ]
  },
  {
   "cell_type": "markdown",
   "metadata": {
    "heading_collapsed": true
   },
   "source": [
    "## Sting formatting into prediction color"
   ]
  },
  {
   "cell_type": "code",
   "execution_count": 377,
   "metadata": {
    "hidden": true
   },
   "outputs": [],
   "source": [
    "fts_n_grams_bio=[0,mat_n_grams_bio.shape[1]]\n",
    "fts_n_grams_tweets=[mat_n_grams_bio.shape[1],\n",
    "                    mat_n_grams_bio.shape[1]+mat_n_grams_tweet.shape[1]]"
   ]
  },
  {
   "cell_type": "code",
   "execution_count": null,
   "metadata": {
    "hidden": true
   },
   "outputs": [],
   "source": [
    "fts_vocab=len(list(n_grams_bio_vect.vocabulary_)\n",
    "              +list(n_grams_tweet_vect.vocabulary_))\n"
   ]
  },
  {
   "cell_type": "code",
   "execution_count": 437,
   "metadata": {
    "hidden": true
   },
   "outputs": [
    {
     "data": {
      "text/plain": [
       "(1115,)"
      ]
     },
     "execution_count": 437,
     "metadata": {},
     "output_type": "execute_result"
    }
   ],
   "source": [
    "((clf_arrs[best_clf])).feature_importances_.shape"
   ]
  },
  {
   "cell_type": "code",
   "execution_count": 434,
   "metadata": {
    "hidden": true
   },
   "outputs": [
    {
     "data": {
      "text/plain": [
       "(50,)"
      ]
     },
     "execution_count": 434,
     "metadata": {},
     "output_type": "execute_result"
    }
   ],
   "source": [
    "((clf_arrs[best_clf])).estimator_weights_.shape"
   ]
  },
  {
   "cell_type": "code",
   "execution_count": null,
   "metadata": {
    "hidden": true
   },
   "outputs": [],
   "source": [
    "import matplotlib.pyplot as plt\n",
    "def generate_features_weight(features_weights,tweet_vocab_idx,features_vocab,\n",
    "                             features_topics_names,\n",
    "                             nv,tweet_str,cmap_name=\"rainbow\"):\n",
    "    \"\"\"\n",
    "    Input: - Features Weight Matrix: nb_features*nb_classes\n",
    "           - Features Vocabulary Names : [w1,...,wn]\n",
    "           - Features Topics Names: [t1,...,tn]\n",
    "           - Non-Vocabulary Topics\n",
    "    \"\"\"\n",
    "    nb_fts,nb_classes=features_weights.shape\n",
    "    cmap=plt.get_cmap(cmap_name)\n",
    "    cols=[cmap(i) for i in np.linspace(start=0,stop=1,num=nb_classes)]\n",
    "    for word in tweet_str.split():\n",
    "        \n",
    "        \n",
    "    "
   ]
  },
  {
   "cell_type": "code",
   "execution_count": null,
   "metadata": {
    "hidden": true
   },
   "outputs": [],
   "source": [
    "def assign_color_word_class(string,dic_blue,dic_red):\n",
    "    return([{\"color\":\"blue\",\"alpha\":dic_blue[word]} if dic_blue[word]>dic_red[word]\n",
    "     else word:{\"color\":\"red\",\"alpha\":dic_red[word]}\n",
    "     for word in (string.split())])\n"
   ]
  },
  {
   "cell_type": "code",
   "execution_count": null,
   "metadata": {
    "hidden": true
   },
   "outputs": [],
   "source": [
    "test_fts=np.array((ses_text_insee[selected_users][homogeneous_usrs][[\"fts\",]].iloc[3]).values[0][:]).reshape((1,-1))\n",
    "test_txt="
   ]
  },
  {
   "cell_type": "code",
   "execution_count": null,
   "metadata": {
    "hidden": true
   },
   "outputs": [],
   "source": [
    "(clf_arrs[best_clf]).predict_proba(test)"
   ]
  },
  {
   "cell_type": "markdown",
   "metadata": {
    "heading_collapsed": true
   },
   "source": [
    "## Topic Information"
   ]
  },
  {
   "cell_type": "code",
   "execution_count": null,
   "metadata": {
    "hidden": true
   },
   "outputs": [],
   "source": [
    "# d100 topic per cluster information\n",
    "dic_topics={2:\"Music\",\n",
    "4:\"Computer Science\",\n",
    "11:\"English\",\n",
    "12:\"News\",\n",
    "13:\"Games\",\n",
    "14:\"Verbes gerondif -ant\",\n",
    "15: \"Health Medicine\",\n",
    "16: \"Verbs infinitive -er,ir\",\n",
    "17: \"SportSoccer\",\n",
    "18: \"Travels English\",\n",
    "19: \"Catalan - Spanish Independence\",\n",
    "20: \"News Religion-Violence\",\n",
    "21:\"Movies\",\n",
    "23: \"Personal Adjectives\",\n",
    "24: \"Hashtags\",\n",
    "25: \"Substantives\",\n",
    "26: \"Verbs 3rd plural\",\n",
    "27: \"Work More lower\",\n",
    "28: \"Verbs Imparfait\",\n",
    "29: \"Adjective Singular Feminine\",\n",
    "30: \"Substitantives Soutenus\",\n",
    "31:\"Arab\",\n",
    "32:\"Turk\",\n",
    "33:\"French Old Media \",\n",
    "34: \"Arab Names\",\n",
    "35: \"Adjective Plural\",\n",
    "36: \"Verbs 3rd singular\",\n",
    "37: \"Verbs infinitive -er\",\n",
    "38: \"English work\",\n",
    "39: \"American English Media Personalities\",\n",
    "40: \"Modern Music\",\n",
    "41: \"Español\",\n",
    "43: \"International News Middle East Centered\" ,\n",
    "44: \"News/Political Adjective\",\n",
    "45: \"Childish writing\" ,\n",
    "46: \"Porn\",\n",
    "47: \"French Places\",\n",
    "48: \"Non Standard adjectives\",\n",
    "49: \"Verbs 1st 2nd Plural\",\n",
    "50: \"Soccer Players\",\n",
    "51:\"English sport NBA UFC Ligue 1\",\n",
    "52:\"Music related\" ,\n",
    "54:\"Actresses\",\n",
    "55: \"Tech\",\n",
    "56: \"Sport Bike Tennis\",\n",
    "57: \"Feminine Substantif\",\n",
    "58: \"American TV Shows\",\n",
    "59: \"Substantif Feminine Soutenu\",\n",
    "60: \"English Adverbs\",\n",
    "61:\"Verbs 2nd singular\",\n",
    "62:\"Clothes\",\n",
    "63:\"Africa\",\n",
    "64:\"Tourism France\",\n",
    "65: \"English Teens\",\n",
    "66: \"Anime Teen Media Characters\",\n",
    "67: \"French Soccer\",\n",
    "68: \"French Politics\",\n",
    "70: \"Portuguese Italian\",\n",
    "71:\"Food\",\n",
    "72:\"Poor Writing French\",\n",
    "74:\"Critics Adjective soutenus\",\n",
    "75: \"German\",\n",
    "76: \"Soccer Hashtags\",\n",
    "78:\" French Media\",\n",
    "79: \"Poor abbreviations\",\n",
    "81:\"Lyceens\",\n",
    "82:\"English News\",\n",
    "83:\"Poor Onomatopeyas\",\n",
    "85: \"Voitures\",\n",
    "86: \"Poor Verbs\",\n",
    "90: \"Apps Tech\",\n",
    "94:\"High Culture\",\n",
    "95: \"Transportation\",\n",
    "96: \"Arab_other\",\n",
    "97: \"Descriptors\",\n",
    "99: \"Games_other\"}\n",
    "\n",
    "iti=0\n",
    "for j in range(100):\n",
    "    if not(j in dic_topics):\n",
    "        dic_topics[j]=\"Sth\"+str(iti)\n",
    "        iti+=1\n",
    "\n",
    "dic_topics={k:dic_topics[k] for k in range(100)}"
   ]
  }
 ],
 "metadata": {
  "kernelspec": {
   "display_name": "Python 3",
   "language": "python",
   "name": "python3"
  },
  "language_info": {
   "codemirror_mode": {
    "name": "ipython",
    "version": 3
   },
   "file_extension": ".py",
   "mimetype": "text/x-python",
   "name": "python",
   "nbconvert_exporter": "python",
   "pygments_lexer": "ipython3",
   "version": "3.6.0"
  },
  "toc": {
   "base_numbering": 1,
   "nav_menu": {},
   "number_sections": true,
   "sideBar": true,
   "skip_h1_title": false,
   "title_cell": "Table of Contents",
   "title_sidebar": "Contents",
   "toc_cell": false,
   "toc_position": {
    "height": "calc(100% - 180px)",
    "left": "10px",
    "top": "150px",
    "width": "306px"
   },
   "toc_section_display": true,
   "toc_window_display": false
  }
 },
 "nbformat": 4,
 "nbformat_minor": 2
}
